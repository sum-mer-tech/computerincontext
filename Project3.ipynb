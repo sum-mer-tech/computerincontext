{
 "cells": [
  {
   "cell_type": "code",
   "execution_count": 49,
   "id": "e7193ae2-10cc-4930-ba25-226d778cac59",
   "metadata": {},
   "outputs": [],
   "source": [
    "import plotly.io as pio\n",
    "\n",
    "pio.renderers.default = \"vscode+jupyterlab+notebook_connected\""
   ]
  },
  {
   "cell_type": "markdown",
   "id": "e7b1f4cd-ab98-4861-92ba-8f4ac291fc15",
   "metadata": {},
   "source": [
    "# Project 3: Literacy Rate and Life Expectancy"
   ]
  },
  {
   "cell_type": "markdown",
   "id": "4f77a590-5685-451f-bb18-f7f510ef3d0c",
   "metadata": {},
   "source": [
    "## 1. Introduction\n",
    "- **Datasets to be used:**\n",
    "  The following two datasets were extracted from the World Bank's World Development Indicators:\n",
    "\n",
    "  **1. [Literacy Rate Dataset](https://data.worldbank.org/indicator/SE.ADT.LITR.ZS):** Contains literacy rates (total, male, female) for 217 countries from 1974 to 2023. Here, literacy rate refers specifically to the adult literacy rate, which is the percentage of people ages 15 and above who can both read and write with understanding a short, simple statement about their everyday life. In this analysis, literacy rate is used as an indicator of education levels.\n",
    "    \n",
    "  **2. [Life Expectancy Dataset](https://data.worldbank.org/indicator/SP.DYN.LE00.IN?locations=1W):** Includes life expectancy (total, male, female) for the same countries and time period. Similarly, life expectancy in this analysis refers to life expectancy at birth, which indicates the number of years a newborn infant would live if prevailing patterns of mortality at the time of its birth were to remain unchanged throughout its life."
   ]
  },
  {
   "cell_type": "markdown",
   "id": "67625869-96e0-46fb-9189-86f36b82ee4c",
   "metadata": {},
   "source": [
    "- **Analysis question:**\n",
    "  \n",
    "  1. Does higher literacy correlate with longer life expectancy?\n",
    "\n",
    "  2. Does higher literacy reduce the gender gap in life expectancy?"
   ]
  },
  {
   "cell_type": "markdown",
   "id": "84bdacca-dff5-450f-99b0-506d942e4f99",
   "metadata": {},
   "source": [
    "- **Columns that will (likely) be used:**\n",
    "  - From the **Literacy Rate Dataset**:\n",
    "    - `Country Name`  \n",
    "    - `Year`  \n",
    "    - `Literacy Rate - Total`  \n",
    "    - `Literacy Rate - Female`  \n",
    "    - `Literacy Rate - Male`  \n",
    "\n",
    "  - From the **Life Expectancy Dataset**:\n",
    "    - `Country Name`  \n",
    "    - `Year`  \n",
    "    - `Life Expectancy - Total`  \n",
    "    - `Life Expectancy - Female`  \n",
    "    - `Life Expectancy - Male`"
   ]
  },
  {
   "cell_type": "markdown",
   "id": "fc7a5feb-d0e9-4854-9afe-317a61712405",
   "metadata": {},
   "source": [
    "- **Columns to be used to merge/join them:**\n",
    "  - **Literacy Rate Dataset**: `Country Name` and `Year`  \n",
    "  - **Life Expectancy Dataset**: `Country Name` and `Year`"
   ]
  },
  {
   "cell_type": "markdown",
   "id": "3b5392fd-8672-4db7-a146-f3dcd0da6e6e",
   "metadata": {},
   "source": [
    "- **Hypothesis**:\n",
    "  \n",
    "  1. **Countries with higher literacy rates generally have longer life expectancies.** Education promotes healthier lifestyles, such as quitting smoking, exercising regularly, and maintaining a balanced diet, while also improving understanding and access to medical services. \n",
    "\n",
    "  2. **In countries with higher literacy rates, the gap in life expectancy between men and women is smaller.** Higher literacy rates are often associated with greater gender equality. This can lead to more equal access to healthcare and similar living conditions for men and women, potentially reducing the gap in life expectancy between genders."
   ]
  },
  {
   "cell_type": "markdown",
   "id": "0bfd1533-638c-410c-b914-421062d728d7",
   "metadata": {},
   "source": [
    "- **Site URL:** [URL from Publish section]"
   ]
  },
  {
   "cell_type": "markdown",
   "id": "db8eda60-749f-46b2-a7bd-e5d96cb485c4",
   "metadata": {},
   "source": [
    "## 2. Analysisi-1: Does higher literacy correlate with longer life expectancy?"
   ]
  },
  {
   "cell_type": "markdown",
   "id": "13d27fb4-8648-427f-aaea-bc2040985fb1",
   "metadata": {},
   "source": [
    "### Objective\n",
    "To examine the relationship between literacy rate and life expectancy, focusing on whether higher literacy rates are associated with longer life expectancies."
   ]
  },
  {
   "cell_type": "markdown",
   "id": "b2a882d7-6718-4574-bfde-aefc7f2a12a1",
   "metadata": {},
   "source": [
    "### Step 1: Data Loading\n",
    "First, the **Life Expectancy Dataset** and **Literacy Rate Dataset** are loaded into dataframes using pandas."
   ]
  },
  {
   "cell_type": "code",
   "execution_count": 50,
   "id": "5620e2ea-4201-41f3-88ea-7dbb0c077a12",
   "metadata": {},
   "outputs": [],
   "source": [
    "import pandas as pd\n",
    "\n",
    "life_expectancy_df = pd.read_csv(\"C:/Users/natsu/OneDrive/Python/Project3/life_expectancy_all.csv\")\n",
    "literacy_rate_df = pd.read_csv(\"C:/Users/natsu/OneDrive/Python/Project3/literacy_rate_all.csv\")"
   ]
  },
  {
   "cell_type": "markdown",
   "id": "a3b5c468-d5a2-4029-85fe-042a986afdca",
   "metadata": {},
   "source": [
    "### Step 2: Observing the Dataset Columns \n",
    "After loading the datasets, the column names are inspected to understand the structure of the data. This step is essential to identify which columns need to be reshaped or extracted for analysis."
   ]
  },
  {
   "cell_type": "code",
   "execution_count": 51,
   "id": "dd3f639f-5544-4fb7-bd78-bc1035884743",
   "metadata": {},
   "outputs": [
    {
     "data": {
      "text/plain": [
       "Index(['Country Name', 'Country Code',\n",
       "       '1974 [YR1974] - Life expectancy at birth, female (years) [SP.DYN.LE00.FE.IN]',\n",
       "       '1974 [YR1974] - Life expectancy at birth, total (years) [SP.DYN.LE00.IN]',\n",
       "       '1974 [YR1974] - Life expectancy at birth, male (years) [SP.DYN.LE00.MA.IN]',\n",
       "       '1975 [YR1975] - Life expectancy at birth, female (years) [SP.DYN.LE00.FE.IN]',\n",
       "       '1975 [YR1975] - Life expectancy at birth, total (years) [SP.DYN.LE00.IN]',\n",
       "       '1975 [YR1975] - Life expectancy at birth, male (years) [SP.DYN.LE00.MA.IN]',\n",
       "       '1976 [YR1976] - Life expectancy at birth, female (years) [SP.DYN.LE00.FE.IN]',\n",
       "       '1976 [YR1976] - Life expectancy at birth, total (years) [SP.DYN.LE00.IN]',\n",
       "       ...\n",
       "       '2020 [YR2020] - Life expectancy at birth, male (years) [SP.DYN.LE00.MA.IN]',\n",
       "       '2021 [YR2021] - Life expectancy at birth, female (years) [SP.DYN.LE00.FE.IN]',\n",
       "       '2021 [YR2021] - Life expectancy at birth, total (years) [SP.DYN.LE00.IN]',\n",
       "       '2021 [YR2021] - Life expectancy at birth, male (years) [SP.DYN.LE00.MA.IN]',\n",
       "       '2022 [YR2022] - Life expectancy at birth, female (years) [SP.DYN.LE00.FE.IN]',\n",
       "       '2022 [YR2022] - Life expectancy at birth, total (years) [SP.DYN.LE00.IN]',\n",
       "       '2022 [YR2022] - Life expectancy at birth, male (years) [SP.DYN.LE00.MA.IN]',\n",
       "       '2023 [YR2023] - Life expectancy at birth, female (years) [SP.DYN.LE00.FE.IN]',\n",
       "       '2023 [YR2023] - Life expectancy at birth, total (years) [SP.DYN.LE00.IN]',\n",
       "       '2023 [YR2023] - Life expectancy at birth, male (years) [SP.DYN.LE00.MA.IN]'],\n",
       "      dtype='object', length=152)"
      ]
     },
     "execution_count": 51,
     "metadata": {},
     "output_type": "execute_result"
    }
   ],
   "source": [
    "life_expectancy_df.columns"
   ]
  },
  {
   "cell_type": "code",
   "execution_count": 52,
   "id": "06b0bc32-6696-438f-af25-cff947a6bf5e",
   "metadata": {},
   "outputs": [
    {
     "data": {
      "text/plain": [
       "Index(['Country Name', 'Country Code',\n",
       "       '1974 [YR1974] - Literacy rate, adult female (% of females ages 15 and above) [SE.ADT.LITR.FE.ZS]',\n",
       "       '1974 [YR1974] - Literacy rate, adult male (% of males ages 15 and above) [SE.ADT.LITR.MA.ZS]',\n",
       "       '1974 [YR1974] - Literacy rate, adult total (% of people ages 15 and above) [SE.ADT.LITR.ZS]',\n",
       "       '1975 [YR1975] - Literacy rate, adult female (% of females ages 15 and above) [SE.ADT.LITR.FE.ZS]',\n",
       "       '1975 [YR1975] - Literacy rate, adult male (% of males ages 15 and above) [SE.ADT.LITR.MA.ZS]',\n",
       "       '1975 [YR1975] - Literacy rate, adult total (% of people ages 15 and above) [SE.ADT.LITR.ZS]',\n",
       "       '1976 [YR1976] - Literacy rate, adult female (% of females ages 15 and above) [SE.ADT.LITR.FE.ZS]',\n",
       "       '1976 [YR1976] - Literacy rate, adult male (% of males ages 15 and above) [SE.ADT.LITR.MA.ZS]',\n",
       "       ...\n",
       "       '2020 [YR2020] - Literacy rate, adult total (% of people ages 15 and above) [SE.ADT.LITR.ZS]',\n",
       "       '2021 [YR2021] - Literacy rate, adult female (% of females ages 15 and above) [SE.ADT.LITR.FE.ZS]',\n",
       "       '2021 [YR2021] - Literacy rate, adult male (% of males ages 15 and above) [SE.ADT.LITR.MA.ZS]',\n",
       "       '2021 [YR2021] - Literacy rate, adult total (% of people ages 15 and above) [SE.ADT.LITR.ZS]',\n",
       "       '2022 [YR2022] - Literacy rate, adult female (% of females ages 15 and above) [SE.ADT.LITR.FE.ZS]',\n",
       "       '2022 [YR2022] - Literacy rate, adult male (% of males ages 15 and above) [SE.ADT.LITR.MA.ZS]',\n",
       "       '2022 [YR2022] - Literacy rate, adult total (% of people ages 15 and above) [SE.ADT.LITR.ZS]',\n",
       "       '2023 [YR2023] - Literacy rate, adult female (% of females ages 15 and above) [SE.ADT.LITR.FE.ZS]',\n",
       "       '2023 [YR2023] - Literacy rate, adult male (% of males ages 15 and above) [SE.ADT.LITR.MA.ZS]',\n",
       "       '2023 [YR2023] - Literacy rate, adult total (% of people ages 15 and above) [SE.ADT.LITR.ZS]'],\n",
       "      dtype='object', length=152)"
      ]
     },
     "execution_count": 52,
     "metadata": {},
     "output_type": "execute_result"
    }
   ],
   "source": [
    "literacy_rate_df.columns"
   ]
  },
  {
   "cell_type": "markdown",
   "id": "07ed0c38-c30d-4330-9364-17d4cda8ffb2",
   "metadata": {},
   "source": [
    " - The **Life Expectancy Dataset** contains `Country Name`, `Country Code`, and year-specific columns with life expectancy data for `Total`, `Male`, and `Female`.\n",
    " - The **Literacy Rate Dataset** also includes `Country Name`, `Country Code`, and year-specific columns for literacy rates (`Total`, `Male`, and `Female`).\n",
    " - `Country Name` and `Country Code` will later be used as keys for merging the datasets, while the year-specific columns will be reshaped for analysis."
   ]
  },
  {
   "cell_type": "markdown",
   "id": "6640c8e4-e247-4004-8481-a8678f15025c",
   "metadata": {},
   "source": [
    "### Step 3: Reshaping the Data\n",
    "\n",
    "The original datasets are in a wide format, with each year represented as a separate column. This format is not ideal for analysis, as it makes comparisons across years cumbersome. To address this, the data is reshaped into a long format where the year-specific columns are combined into a single `Year` column.  \n",
    "I use `pandas.melt()` for this transformation, ensuring that `Country Name` and `Country Code` remain fixed as identifiers. Additionally, I clean up the `Year` column by extracting the numerical values from the column names (e.g., removing `[YR]`). After reshaping the data, I remove any duplicate rows using `drop_duplicates()` to ensure that there is only one unique value for each combination of `Country Name` and `Year`. This step prevents issues such as duplicated records during the merging process and ensures data consistency.　\n",
    "This standardization and deduplication prepare the data for merging and further analysis.\n",
    "\n",
    "**Code for Life Expectancy Dataset:**"
   ]
  },
  {
   "cell_type": "code",
   "execution_count": 53,
   "id": "5a835587-21ac-4dc5-9fb7-dbed69a4e65f",
   "metadata": {},
   "outputs": [
    {
     "data": {
      "text/html": [
       "<div>\n",
       "<style scoped>\n",
       "    .dataframe tbody tr th:only-of-type {\n",
       "        vertical-align: middle;\n",
       "    }\n",
       "\n",
       "    .dataframe tbody tr th {\n",
       "        vertical-align: top;\n",
       "    }\n",
       "\n",
       "    .dataframe thead th {\n",
       "        text-align: right;\n",
       "    }\n",
       "</style>\n",
       "<table border=\"1\" class=\"dataframe\">\n",
       "  <thead>\n",
       "    <tr style=\"text-align: right;\">\n",
       "      <th></th>\n",
       "      <th>Country Name</th>\n",
       "      <th>Country Code</th>\n",
       "      <th>Year</th>\n",
       "      <th>Life Expectancy - Total</th>\n",
       "    </tr>\n",
       "  </thead>\n",
       "  <tbody>\n",
       "    <tr>\n",
       "      <th>0</th>\n",
       "      <td>Afghanistan</td>\n",
       "      <td>AFG</td>\n",
       "      <td>1974</td>\n",
       "      <td>40.397</td>\n",
       "    </tr>\n",
       "    <tr>\n",
       "      <th>1</th>\n",
       "      <td>Albania</td>\n",
       "      <td>ALB</td>\n",
       "      <td>1974</td>\n",
       "      <td>70.074</td>\n",
       "    </tr>\n",
       "    <tr>\n",
       "      <th>2</th>\n",
       "      <td>Algeria</td>\n",
       "      <td>DZA</td>\n",
       "      <td>1974</td>\n",
       "      <td>46.74</td>\n",
       "    </tr>\n",
       "    <tr>\n",
       "      <th>3</th>\n",
       "      <td>American Samoa</td>\n",
       "      <td>ASM</td>\n",
       "      <td>1974</td>\n",
       "      <td>..</td>\n",
       "    </tr>\n",
       "    <tr>\n",
       "      <th>4</th>\n",
       "      <td>Andorra</td>\n",
       "      <td>AND</td>\n",
       "      <td>1974</td>\n",
       "      <td>..</td>\n",
       "    </tr>\n",
       "  </tbody>\n",
       "</table>\n",
       "</div>"
      ],
      "text/plain": [
       "     Country Name Country Code  Year Life Expectancy - Total\n",
       "0     Afghanistan          AFG  1974                  40.397\n",
       "1         Albania          ALB  1974                  70.074\n",
       "2         Algeria          DZA  1974                   46.74\n",
       "3  American Samoa          ASM  1974                      ..\n",
       "4         Andorra          AND  1974                      .."
      ]
     },
     "execution_count": 53,
     "metadata": {},
     "output_type": "execute_result"
    }
   ],
   "source": [
    "total_life_expectancy_long = life_expectancy_df.melt(\n",
    "    id_vars=['Country Name', 'Country Code'],\n",
    "    var_name='Year',\n",
    "    value_name='Life Expectancy - Total'\n",
    ")\n",
    "\n",
    "total_life_expectancy_long['Year'] = total_life_expectancy_long['Year'].str.extract(r'\\[YR(\\d+)\\]').astype(int)\n",
    "\n",
    "total_life_expectancy_long = total_life_expectancy_long.drop_duplicates(subset=['Country Name', 'Year'])\n",
    "\n",
    "total_life_expectancy_long.head()"
   ]
  },
  {
   "cell_type": "markdown",
   "id": "d47f3a41-7aaa-4634-8c69-bfbf803b4088",
   "metadata": {},
   "source": [
    "**Code for Literacy Rate Dataset:**"
   ]
  },
  {
   "cell_type": "code",
   "execution_count": 54,
   "id": "d3cf30f2-c323-4a2e-a54f-eee9e2cb7ecb",
   "metadata": {},
   "outputs": [
    {
     "data": {
      "text/html": [
       "<div>\n",
       "<style scoped>\n",
       "    .dataframe tbody tr th:only-of-type {\n",
       "        vertical-align: middle;\n",
       "    }\n",
       "\n",
       "    .dataframe tbody tr th {\n",
       "        vertical-align: top;\n",
       "    }\n",
       "\n",
       "    .dataframe thead th {\n",
       "        text-align: right;\n",
       "    }\n",
       "</style>\n",
       "<table border=\"1\" class=\"dataframe\">\n",
       "  <thead>\n",
       "    <tr style=\"text-align: right;\">\n",
       "      <th></th>\n",
       "      <th>Country Name</th>\n",
       "      <th>Country Code</th>\n",
       "      <th>Year</th>\n",
       "      <th>Literacy Rate - Total</th>\n",
       "    </tr>\n",
       "  </thead>\n",
       "  <tbody>\n",
       "    <tr>\n",
       "      <th>0</th>\n",
       "      <td>Afghanistan</td>\n",
       "      <td>AFG</td>\n",
       "      <td>1974</td>\n",
       "      <td>..</td>\n",
       "    </tr>\n",
       "    <tr>\n",
       "      <th>1</th>\n",
       "      <td>Albania</td>\n",
       "      <td>ALB</td>\n",
       "      <td>1974</td>\n",
       "      <td>..</td>\n",
       "    </tr>\n",
       "    <tr>\n",
       "      <th>2</th>\n",
       "      <td>Algeria</td>\n",
       "      <td>DZA</td>\n",
       "      <td>1974</td>\n",
       "      <td>..</td>\n",
       "    </tr>\n",
       "    <tr>\n",
       "      <th>3</th>\n",
       "      <td>American Samoa</td>\n",
       "      <td>ASM</td>\n",
       "      <td>1974</td>\n",
       "      <td>..</td>\n",
       "    </tr>\n",
       "    <tr>\n",
       "      <th>4</th>\n",
       "      <td>Andorra</td>\n",
       "      <td>AND</td>\n",
       "      <td>1974</td>\n",
       "      <td>..</td>\n",
       "    </tr>\n",
       "  </tbody>\n",
       "</table>\n",
       "</div>"
      ],
      "text/plain": [
       "     Country Name Country Code  Year Literacy Rate - Total\n",
       "0     Afghanistan          AFG  1974                    ..\n",
       "1         Albania          ALB  1974                    ..\n",
       "2         Algeria          DZA  1974                    ..\n",
       "3  American Samoa          ASM  1974                    ..\n",
       "4         Andorra          AND  1974                    .."
      ]
     },
     "execution_count": 54,
     "metadata": {},
     "output_type": "execute_result"
    }
   ],
   "source": [
    "total_literacy_rate_long = literacy_rate_df.melt(\n",
    "    id_vars=['Country Name', 'Country Code'],\n",
    "    var_name='Year',\n",
    "    value_name='Literacy Rate - Total'\n",
    ")\n",
    "\n",
    "total_literacy_rate_long['Year'] = total_literacy_rate_long['Year'].str.extract(r'\\[YR(\\d+)\\]').astype(int)\n",
    "\n",
    "total_literacy_rate_long = total_literacy_rate_long.drop_duplicates(subset=['Country Name', 'Year'])\n",
    "\n",
    "total_literacy_rate_long.head()"
   ]
  },
  {
   "cell_type": "markdown",
   "id": "10df58cc-d090-46d8-b159-8f3a24ef0674",
   "metadata": {},
   "source": [
    "### Step 4: Merging the Datasets and Handling Missing Values\n",
    "The reshaped datasets are merged on `Country Name`, `Country Code`, and `Year` to align the literacy rate and life expectancy data."
   ]
  },
  {
   "cell_type": "code",
   "execution_count": 55,
   "id": "4414f99c-8ab6-4a96-b0fe-bf2861d33caa",
   "metadata": {},
   "outputs": [
    {
     "data": {
      "text/html": [
       "<div>\n",
       "<style scoped>\n",
       "    .dataframe tbody tr th:only-of-type {\n",
       "        vertical-align: middle;\n",
       "    }\n",
       "\n",
       "    .dataframe tbody tr th {\n",
       "        vertical-align: top;\n",
       "    }\n",
       "\n",
       "    .dataframe thead th {\n",
       "        text-align: right;\n",
       "    }\n",
       "</style>\n",
       "<table border=\"1\" class=\"dataframe\">\n",
       "  <thead>\n",
       "    <tr style=\"text-align: right;\">\n",
       "      <th></th>\n",
       "      <th>Country Name</th>\n",
       "      <th>Country Code</th>\n",
       "      <th>Year</th>\n",
       "      <th>Life Expectancy - Total</th>\n",
       "      <th>Literacy Rate - Total</th>\n",
       "    </tr>\n",
       "  </thead>\n",
       "  <tbody>\n",
       "    <tr>\n",
       "      <th>0</th>\n",
       "      <td>Afghanistan</td>\n",
       "      <td>AFG</td>\n",
       "      <td>1974</td>\n",
       "      <td>40.397</td>\n",
       "      <td>..</td>\n",
       "    </tr>\n",
       "    <tr>\n",
       "      <th>1</th>\n",
       "      <td>Albania</td>\n",
       "      <td>ALB</td>\n",
       "      <td>1974</td>\n",
       "      <td>70.074</td>\n",
       "      <td>..</td>\n",
       "    </tr>\n",
       "    <tr>\n",
       "      <th>2</th>\n",
       "      <td>Algeria</td>\n",
       "      <td>DZA</td>\n",
       "      <td>1974</td>\n",
       "      <td>46.74</td>\n",
       "      <td>..</td>\n",
       "    </tr>\n",
       "    <tr>\n",
       "      <th>3</th>\n",
       "      <td>American Samoa</td>\n",
       "      <td>ASM</td>\n",
       "      <td>1974</td>\n",
       "      <td>..</td>\n",
       "      <td>..</td>\n",
       "    </tr>\n",
       "    <tr>\n",
       "      <th>4</th>\n",
       "      <td>Andorra</td>\n",
       "      <td>AND</td>\n",
       "      <td>1974</td>\n",
       "      <td>..</td>\n",
       "      <td>..</td>\n",
       "    </tr>\n",
       "  </tbody>\n",
       "</table>\n",
       "</div>"
      ],
      "text/plain": [
       "     Country Name Country Code  Year Life Expectancy - Total  \\\n",
       "0     Afghanistan          AFG  1974                  40.397   \n",
       "1         Albania          ALB  1974                  70.074   \n",
       "2         Algeria          DZA  1974                   46.74   \n",
       "3  American Samoa          ASM  1974                      ..   \n",
       "4         Andorra          AND  1974                      ..   \n",
       "\n",
       "  Literacy Rate - Total  \n",
       "0                    ..  \n",
       "1                    ..  \n",
       "2                    ..  \n",
       "3                    ..  \n",
       "4                    ..  "
      ]
     },
     "execution_count": 55,
     "metadata": {},
     "output_type": "execute_result"
    }
   ],
   "source": [
    "merged_total = pd.merge(\n",
    "    total_life_expectancy_long,\n",
    "    total_literacy_rate_long,\n",
    "    on=['Country Name', 'Country Code', 'Year'],\n",
    "    how='inner'\n",
    ")\n",
    "\n",
    "merged_total.head()"
   ]
  },
  {
   "cell_type": "markdown",
   "id": "16f358b4-25cb-46a9-b920-b252599635a8",
   "metadata": {},
   "source": [
    "As shown in the tabel above, the dataset contains many missing values (`..`) in the `Literacy Rate - Total` and `Life Expectancy - Total` columns. To ensure accurate analysis and clean visualizations, these missing values are replaced with `NaN` using the `numpy` library (`import numpy as np`). Rows with missing data are then removed to focus only on complete and reliable observations.\n",
    "\n",
    "Using `numpy`, a fundamental library for numerical operations in Python, allows me to handle missing values (`NaN`) effectively and prepare the dataset for analysis."
   ]
  },
  {
   "cell_type": "code",
   "execution_count": 56,
   "id": "f3cce7a9-c69a-4ec5-a8e5-371df9e42106",
   "metadata": {},
   "outputs": [
    {
     "data": {
      "text/html": [
       "<div>\n",
       "<style scoped>\n",
       "    .dataframe tbody tr th:only-of-type {\n",
       "        vertical-align: middle;\n",
       "    }\n",
       "\n",
       "    .dataframe tbody tr th {\n",
       "        vertical-align: top;\n",
       "    }\n",
       "\n",
       "    .dataframe thead th {\n",
       "        text-align: right;\n",
       "    }\n",
       "</style>\n",
       "<table border=\"1\" class=\"dataframe\">\n",
       "  <thead>\n",
       "    <tr style=\"text-align: right;\">\n",
       "      <th></th>\n",
       "      <th>Country Name</th>\n",
       "      <th>Country Code</th>\n",
       "      <th>Year</th>\n",
       "      <th>Life Expectancy - Total</th>\n",
       "      <th>Literacy Rate - Total</th>\n",
       "    </tr>\n",
       "  </thead>\n",
       "  <tbody>\n",
       "    <tr>\n",
       "      <th>251</th>\n",
       "      <td>Burkina Faso</td>\n",
       "      <td>BFA</td>\n",
       "      <td>1975</td>\n",
       "      <td>43.676</td>\n",
       "      <td>3.0</td>\n",
       "    </tr>\n",
       "    <tr>\n",
       "      <th>258</th>\n",
       "      <td>Central African Republic</td>\n",
       "      <td>CAF</td>\n",
       "      <td>1975</td>\n",
       "      <td>49.223</td>\n",
       "      <td>8.0</td>\n",
       "    </tr>\n",
       "    <tr>\n",
       "      <th>327</th>\n",
       "      <td>Kuwait</td>\n",
       "      <td>KWT</td>\n",
       "      <td>1975</td>\n",
       "      <td>70.350</td>\n",
       "      <td>48.0</td>\n",
       "    </tr>\n",
       "    <tr>\n",
       "      <th>419</th>\n",
       "      <td>Turkiye</td>\n",
       "      <td>TUR</td>\n",
       "      <td>1975</td>\n",
       "      <td>63.048</td>\n",
       "      <td>45.0</td>\n",
       "    </tr>\n",
       "    <tr>\n",
       "      <th>425</th>\n",
       "      <td>United Arab Emirates</td>\n",
       "      <td>ARE</td>\n",
       "      <td>1975</td>\n",
       "      <td>68.035</td>\n",
       "      <td>38.0</td>\n",
       "    </tr>\n",
       "  </tbody>\n",
       "</table>\n",
       "</div>"
      ],
      "text/plain": [
       "                 Country Name Country Code  Year  Life Expectancy - Total  \\\n",
       "251              Burkina Faso          BFA  1975                   43.676   \n",
       "258  Central African Republic          CAF  1975                   49.223   \n",
       "327                    Kuwait          KWT  1975                   70.350   \n",
       "419                   Turkiye          TUR  1975                   63.048   \n",
       "425      United Arab Emirates          ARE  1975                   68.035   \n",
       "\n",
       "     Literacy Rate - Total  \n",
       "251                    3.0  \n",
       "258                    8.0  \n",
       "327                   48.0  \n",
       "419                   45.0  \n",
       "425                   38.0  "
      ]
     },
     "execution_count": 56,
     "metadata": {},
     "output_type": "execute_result"
    }
   ],
   "source": [
    "import numpy as np\n",
    "\n",
    "merged_total['Literacy Rate - Total'] = pd.to_numeric(merged_total['Literacy Rate - Total'], errors='coerce')\n",
    "merged_total['Life Expectancy - Total'] = pd.to_numeric(merged_total['Life Expectancy - Total'], errors='coerce')\n",
    "\n",
    "merged_total.dropna(subset=['Literacy Rate - Total', 'Life Expectancy - Total'], inplace=True)\n",
    "\n",
    "merged_total.head()"
   ]
  },
  {
   "cell_type": "markdown",
   "id": "8ec68755-cf4d-42a8-94f3-03d4649ca7fb",
   "metadata": {},
   "source": [
    "### Step 5: Visualizing the Relationship\n",
    "\n",
    "To explore the relationship between literacy rate and life expectancy, I create a scatter plot using Plotly. The X-axis represents the literacy rate, while the Y-axis represents life expectancy. Each data point corresponds to a country in a specific year. To make the visualization more informative, I color-code the points by `Country Name` and include additional details such as the year and country name in tooltips. This visualization helps identify trends, clusters, or outliers that can provide insights into the relationship between education levels (measured via literacy rate) and health outcomes (measured via life expectancy)."
   ]
  },
  {
   "cell_type": "code",
   "execution_count": 57,
   "id": "2f00f14d-1d70-4f25-8937-1b83f399d52e",
   "metadata": {},
   "outputs": [
    {
     "data": {
      "text/html": [
       "        <script type=\"text/javascript\">\n",
       "        window.PlotlyConfig = {MathJaxConfig: 'local'};\n",
       "        if (window.MathJax && window.MathJax.Hub && window.MathJax.Hub.Config) {window.MathJax.Hub.Config({SVG: {font: \"STIX-Web\"}});}\n",
       "        if (typeof require !== 'undefined') {\n",
       "        require.undef(\"plotly\");\n",
       "        requirejs.config({\n",
       "            paths: {\n",
       "                'plotly': ['https://cdn.plot.ly/plotly-2.32.0.min']\n",
       "            }\n",
       "        });\n",
       "        require(['plotly'], function(Plotly) {\n",
       "            window._Plotly = Plotly;\n",
       "        });\n",
       "        }\n",
       "        </script>\n",
       "        "
      ]
     },
     "metadata": {},
     "output_type": "display_data"
    },
    {
     "data": {
      "application/vnd.plotly.v1+json": {
       "config": {
        "plotlyServerURL": "https://plot.ly"
       },
       "data": [
        {
         "customdata": [
          [
           "Burkina Faso",
           1975
          ],
          [
           "Burkina Faso",
           1991
          ],
          [
           "Burkina Faso",
           1996
          ],
          [
           "Burkina Faso",
           2003
          ],
          [
           "Burkina Faso",
           2005
          ],
          [
           "Burkina Faso",
           2006
          ],
          [
           "Burkina Faso",
           2007
          ],
          [
           "Burkina Faso",
           2014
          ],
          [
           "Burkina Faso",
           2018
          ],
          [
           "Burkina Faso",
           2019
          ],
          [
           "Burkina Faso",
           2021
          ],
          [
           "Burkina Faso",
           2022
          ]
         ],
         "hovertemplate": "Country Name=%{customdata[0]}<br>Literacy Rate (%)=%{x}<br>Life Expectancy (Years)=%{y}<br>Year=%{customdata[1]}<extra></extra>",
         "legendgroup": "Burkina Faso",
         "marker": {
          "color": "#636efa",
          "symbol": "circle"
         },
         "mode": "markers",
         "name": "Burkina Faso",
         "showlegend": true,
         "type": "scattergl",
         "x": [
          3,
          8,
          8,
          15,
          17,
          16,
          21,
          26,
          31,
          25,
          31.0312004089355,
          29.1200008392334
         ],
         "xaxis": "x",
         "y": [
          43.676,
          50.439,
          50.823,
          53.172,
          54.617,
          55.158,
          55.777,
          59.884,
          61.706,
          61.822,
          60.99,
          61.505
         ],
         "yaxis": "y"
        },
        {
         "customdata": [
          [
           "Central African Republic",
           1975
          ],
          [
           "Central African Republic",
           1988
          ],
          [
           "Central African Republic",
           2000
          ],
          [
           "Central African Republic",
           2010
          ],
          [
           "Central African Republic",
           2018
          ],
          [
           "Central African Republic",
           2019
          ],
          [
           "Central African Republic",
           2020
          ]
         ],
         "hovertemplate": "Country Name=%{customdata[0]}<br>Literacy Rate (%)=%{x}<br>Life Expectancy (Years)=%{y}<br>Year=%{customdata[1]}<extra></extra>",
         "legendgroup": "Central African Republic",
         "marker": {
          "color": "#EF553B",
          "symbol": "circle"
         },
         "mode": "markers",
         "name": "Central African Republic",
         "showlegend": true,
         "type": "scattergl",
         "x": [
          8,
          20,
          35,
          24.355489730835,
          26,
          27.1308307647705,
          26.2000007629395
         ],
         "xaxis": "x",
         "y": [
          49.223,
          52.2,
          46.587,
          50.534,
          56.587,
          57.106,
          56.757
         ],
         "yaxis": "y"
        },
        {
         "customdata": [
          [
           "Kuwait",
           1975
          ],
          [
           "Kuwait",
           1980
          ],
          [
           "Kuwait",
           1985
          ],
          [
           "Kuwait",
           1995
          ],
          [
           "Kuwait",
           2005
          ],
          [
           "Kuwait",
           2006
          ],
          [
           "Kuwait",
           2007
          ],
          [
           "Kuwait",
           2008
          ],
          [
           "Kuwait",
           2010
          ],
          [
           "Kuwait",
           2012
          ],
          [
           "Kuwait",
           2013
          ],
          [
           "Kuwait",
           2015
          ],
          [
           "Kuwait",
           2017
          ],
          [
           "Kuwait",
           2018
          ],
          [
           "Kuwait",
           2020
          ]
         ],
         "hovertemplate": "Country Name=%{customdata[0]}<br>Literacy Rate (%)=%{x}<br>Life Expectancy (Years)=%{y}<br>Year=%{customdata[1]}<extra></extra>",
         "legendgroup": "Kuwait",
         "marker": {
          "color": "#00cc96",
          "symbol": "circle"
         },
         "mode": "markers",
         "name": "Kuwait",
         "showlegend": true,
         "type": "scattergl",
         "x": [
          48,
          59,
          69,
          74,
          91,
          91,
          92,
          92,
          93,
          95,
          94,
          94,
          95,
          95,
          95
         ],
         "xaxis": "x",
         "y": [
          70.35,
          72.379,
          75.2,
          77.84,
          79.187,
          79.282,
          79.302,
          79.36,
          80.105,
          81.072,
          81.542,
          82.004,
          82.303,
          82.281,
          80.023
         ],
         "yaxis": "y"
        },
        {
         "customdata": [
          [
           "Turkiye",
           1975
          ],
          [
           "Turkiye",
           1980
          ],
          [
           "Turkiye",
           1985
          ],
          [
           "Turkiye",
           1990
          ],
          [
           "Turkiye",
           2004
          ],
          [
           "Turkiye",
           2005
          ],
          [
           "Turkiye",
           2006
          ],
          [
           "Turkiye",
           2007
          ],
          [
           "Turkiye",
           2009
          ],
          [
           "Turkiye",
           2010
          ],
          [
           "Turkiye",
           2011
          ],
          [
           "Turkiye",
           2012
          ],
          [
           "Turkiye",
           2013
          ],
          [
           "Turkiye",
           2014
          ],
          [
           "Turkiye",
           2015
          ],
          [
           "Turkiye",
           2016
          ],
          [
           "Turkiye",
           2017
          ],
          [
           "Turkiye",
           2019
          ]
         ],
         "hovertemplate": "Country Name=%{customdata[0]}<br>Literacy Rate (%)=%{x}<br>Life Expectancy (Years)=%{y}<br>Year=%{customdata[1]}<extra></extra>",
         "legendgroup": "Turkiye",
         "marker": {
          "color": "#ab63fa",
          "symbol": "circle"
         },
         "mode": "markers",
         "name": "Turkiye",
         "showlegend": true,
         "type": "scattergl",
         "x": [
          45,
          50,
          64,
          69,
          80,
          81,
          80,
          81,
          85,
          88,
          90,
          92,
          92,
          92,
          93,
          93,
          93,
          94
         ],
         "xaxis": "x",
         "y": [
          63.048,
          66.207,
          68.923,
          71.41,
          76.564,
          76.867,
          77.124,
          77.442,
          77.988,
          78.221,
          78.144,
          78.838,
          79.398,
          79.623,
          79.787,
          79.894,
          80.293,
          80.953
         ],
         "yaxis": "y"
        },
        {
         "customdata": [
          [
           "United Arab Emirates",
           1975
          ],
          [
           "United Arab Emirates",
           1985
          ],
          [
           "United Arab Emirates",
           2005
          ],
          [
           "United Arab Emirates",
           2019
          ],
          [
           "United Arab Emirates",
           2021
          ],
          [
           "United Arab Emirates",
           2022
          ]
         ],
         "hovertemplate": "Country Name=%{customdata[0]}<br>Literacy Rate (%)=%{x}<br>Life Expectancy (Years)=%{y}<br>Year=%{customdata[1]}<extra></extra>",
         "legendgroup": "United Arab Emirates",
         "marker": {
          "color": "#FFA15A",
          "symbol": "circle"
         },
         "mode": "markers",
         "name": "United Arab Emirates",
         "showlegend": true,
         "type": "scattergl",
         "x": [
          38,
          69,
          91,
          97,
          97,
          98
         ],
         "xaxis": "x",
         "y": [
          68.035,
          73.64,
          79.033,
          81.907,
          80.937,
          81.412
         ],
         "yaxis": "y"
        },
        {
         "customdata": [
          [
           "Uruguay",
           1975
          ],
          [
           "Uruguay",
           1985
          ],
          [
           "Uruguay",
           1996
          ],
          [
           "Uruguay",
           2006
          ],
          [
           "Uruguay",
           2007
          ],
          [
           "Uruguay",
           2008
          ],
          [
           "Uruguay",
           2009
          ],
          [
           "Uruguay",
           2010
          ],
          [
           "Uruguay",
           2011
          ],
          [
           "Uruguay",
           2012
          ],
          [
           "Uruguay",
           2013
          ],
          [
           "Uruguay",
           2014
          ],
          [
           "Uruguay",
           2015
          ],
          [
           "Uruguay",
           2016
          ],
          [
           "Uruguay",
           2017
          ],
          [
           "Uruguay",
           2018
          ],
          [
           "Uruguay",
           2019
          ],
          [
           "Uruguay",
           2022
          ]
         ],
         "hovertemplate": "Country Name=%{customdata[0]}<br>Literacy Rate (%)=%{x}<br>Life Expectancy (Years)=%{y}<br>Year=%{customdata[1]}<extra></extra>",
         "legendgroup": "Uruguay",
         "marker": {
          "color": "#19d3f3",
          "symbol": "circle"
         },
         "mode": "markers",
         "name": "Uruguay",
         "showlegend": true,
         "type": "scattergl",
         "x": [
          94,
          96,
          97,
          98,
          98,
          98,
          99,
          98,
          99,
          99,
          99,
          99,
          99,
          99,
          99,
          99,
          99,
          99
         ],
         "xaxis": "x",
         "y": [
          73.15,
          76.047,
          78.526,
          80.488,
          80.58,
          80.675,
          80.776,
          80.897,
          81.032,
          81.165,
          81.28,
          81.36,
          81.386,
          81.356,
          81.316,
          81.283,
          81.296,
          81.685
         ],
         "yaxis": "y"
        },
        {
         "customdata": [
          [
           "Bolivia",
           1976
          ],
          [
           "Bolivia",
           1992
          ],
          [
           "Bolivia",
           2001
          ],
          [
           "Bolivia",
           2007
          ],
          [
           "Bolivia",
           2008
          ],
          [
           "Bolivia",
           2009
          ],
          [
           "Bolivia",
           2011
          ],
          [
           "Bolivia",
           2012
          ],
          [
           "Bolivia",
           2015
          ],
          [
           "Bolivia",
           2020
          ]
         ],
         "hovertemplate": "Country Name=%{customdata[0]}<br>Literacy Rate (%)=%{x}<br>Life Expectancy (Years)=%{y}<br>Year=%{customdata[1]}<extra></extra>",
         "legendgroup": "Bolivia",
         "marker": {
          "color": "#FF6692",
          "symbol": "circle"
         },
         "mode": "markers",
         "name": "Bolivia",
         "showlegend": true,
         "type": "scattergl",
         "x": [
          51,
          72,
          81,
          86,
          87,
          87,
          88,
          92,
          89,
          91
         ],
         "xaxis": "x",
         "y": [
          50.807,
          59.093,
          64.99,
          67.354,
          67.857,
          68.358,
          69.088,
          69.312,
          69.911,
          67.841
         ],
         "yaxis": "y"
        },
        {
         "customdata": [
          [
           "Cameroon",
           1976
          ],
          [
           "Cameroon",
           2000
          ],
          [
           "Cameroon",
           2007
          ],
          [
           "Cameroon",
           2010
          ],
          [
           "Cameroon",
           2018
          ],
          [
           "Cameroon",
           2020
          ]
         ],
         "hovertemplate": "Country Name=%{customdata[0]}<br>Literacy Rate (%)=%{x}<br>Life Expectancy (Years)=%{y}<br>Year=%{customdata[1]}<extra></extra>",
         "legendgroup": "Cameroon",
         "marker": {
          "color": "#B6E880",
          "symbol": "circle"
         },
         "mode": "markers",
         "name": "Cameroon",
         "showlegend": true,
         "type": "scattergl",
         "x": [
          29,
          59,
          63,
          65,
          66.1617736816406,
          73.120002746582
         ],
         "xaxis": "x",
         "y": [
          51.251,
          54.562,
          56.469,
          57.971,
          62.783,
          62.633
         ],
         "yaxis": "y"
        },
        {
         "customdata": [
          [
           "Egypt, Arab Rep.",
           1976
          ],
          [
           "Egypt, Arab Rep.",
           1986
          ],
          [
           "Egypt, Arab Rep.",
           1996
          ],
          [
           "Egypt, Arab Rep.",
           2005
          ],
          [
           "Egypt, Arab Rep.",
           2006
          ],
          [
           "Egypt, Arab Rep.",
           2010
          ],
          [
           "Egypt, Arab Rep.",
           2012
          ],
          [
           "Egypt, Arab Rep.",
           2013
          ],
          [
           "Egypt, Arab Rep.",
           2017
          ],
          [
           "Egypt, Arab Rep.",
           2022
          ]
         ],
         "hovertemplate": "Country Name=%{customdata[0]}<br>Literacy Rate (%)=%{x}<br>Life Expectancy (Years)=%{y}<br>Year=%{customdata[1]}<extra></extra>",
         "legendgroup": "Egypt, Arab Rep.",
         "marker": {
          "color": "#FF97FF",
          "symbol": "circle"
         },
         "mode": "markers",
         "name": "Egypt, Arab Rep.",
         "showlegend": true,
         "type": "scattergl",
         "x": [
          22,
          31,
          44,
          56,
          58,
          64,
          66,
          63,
          66,
          68.9499969482422
         ],
         "xaxis": "x",
         "y": [
          55.575,
          63.084,
          68.751,
          71.226,
          71.49,
          72.318,
          72.745,
          72.82,
          73.974,
          72.557
         ],
         "yaxis": "y"
        },
        {
         "customdata": [
          [
           "Eswatini",
           1976
          ],
          [
           "Eswatini",
           1986
          ],
          [
           "Eswatini",
           2000
          ],
          [
           "Eswatini",
           2010
          ],
          [
           "Eswatini",
           2020
          ],
          [
           "Eswatini",
           2022
          ]
         ],
         "hovertemplate": "Country Name=%{customdata[0]}<br>Literacy Rate (%)=%{x}<br>Life Expectancy (Years)=%{y}<br>Year=%{customdata[1]}<extra></extra>",
         "legendgroup": "Eswatini",
         "marker": {
          "color": "#FECB52",
          "symbol": "circle"
         },
         "mode": "markers",
         "name": "Eswatini",
         "showlegend": true,
         "type": "scattergl",
         "x": [
          54,
          65,
          80,
          82.4475479125977,
          89.4700012207031,
          90.4126586914062
         ],
         "xaxis": "x",
         "y": [
          56.139,
          63.093,
          49.317,
          48.306,
          63.678,
          60.599
         ],
         "yaxis": "y"
        },
        {
         "customdata": [
          [
           "Iran, Islamic Rep.",
           1976
          ],
          [
           "Iran, Islamic Rep.",
           1986
          ],
          [
           "Iran, Islamic Rep.",
           1991
          ],
          [
           "Iran, Islamic Rep.",
           1996
          ],
          [
           "Iran, Islamic Rep.",
           2002
          ],
          [
           "Iran, Islamic Rep.",
           2005
          ],
          [
           "Iran, Islamic Rep.",
           2006
          ],
          [
           "Iran, Islamic Rep.",
           2008
          ],
          [
           "Iran, Islamic Rep.",
           2012
          ],
          [
           "Iran, Islamic Rep.",
           2013
          ],
          [
           "Iran, Islamic Rep.",
           2014
          ],
          [
           "Iran, Islamic Rep.",
           2016
          ],
          [
           "Iran, Islamic Rep.",
           2022
          ]
         ],
         "hovertemplate": "Country Name=%{customdata[0]}<br>Literacy Rate (%)=%{x}<br>Life Expectancy (Years)=%{y}<br>Year=%{customdata[1]}<extra></extra>",
         "legendgroup": "Iran, Islamic Rep.",
         "marker": {
          "color": "#636efa",
          "symbol": "circle"
         },
         "mode": "markers",
         "name": "Iran, Islamic Rep.",
         "showlegend": true,
         "type": "scattergl",
         "x": [
          24,
          41,
          56,
          66,
          70,
          77,
          77,
          78,
          78,
          80,
          80,
          81,
          84.870002746582
         ],
         "xaxis": "x",
         "y": [
          56.281,
          65.937,
          68.596,
          70.748,
          72.923,
          74.356,
          74.918,
          74.918,
          76.958,
          77.211,
          77.361,
          78.336,
          77.453
         ],
         "yaxis": "y"
        },
        {
         "customdata": [
          [
           "Mali",
           1976
          ],
          [
           "Mali",
           1998
          ],
          [
           "Mali",
           2003
          ],
          [
           "Mali",
           2006
          ],
          [
           "Mali",
           2010
          ],
          [
           "Mali",
           2011
          ],
          [
           "Mali",
           2015
          ],
          [
           "Mali",
           2018
          ],
          [
           "Mali",
           2020
          ]
         ],
         "hovertemplate": "Country Name=%{customdata[0]}<br>Literacy Rate (%)=%{x}<br>Life Expectancy (Years)=%{y}<br>Year=%{customdata[1]}<extra></extra>",
         "legendgroup": "Mali",
         "marker": {
          "color": "#EF553B",
          "symbol": "circle"
         },
         "mode": "markers",
         "name": "Mali",
         "showlegend": true,
         "type": "scattergl",
         "x": [
          6,
          12,
          16,
          18,
          20,
          19,
          22,
          26,
          22
         ],
         "xaxis": "x",
         "y": [
          38.325,
          49.348,
          53.579,
          55.487,
          57.328,
          57.723,
          59.468,
          60.694,
          59.94
         ],
         "yaxis": "y"
        },
        {
         "customdata": [
          [
           "New Caledonia",
           1976
          ],
          [
           "New Caledonia",
           1989
          ],
          [
           "New Caledonia",
           1996
          ],
          [
           "New Caledonia",
           2006
          ]
         ],
         "hovertemplate": "Country Name=%{customdata[0]}<br>Literacy Rate (%)=%{x}<br>Life Expectancy (Years)=%{y}<br>Year=%{customdata[1]}<extra></extra>",
         "legendgroup": "New Caledonia",
         "marker": {
          "color": "#00cc96",
          "symbol": "circle"
         },
         "mode": "markers",
         "name": "New Caledonia",
         "showlegend": true,
         "type": "scattergl",
         "x": [
          90,
          92,
          95,
          96.9000015258789
         ],
         "xaxis": "x",
         "y": [
          69,
          71.8,
          74.2,
          79.2
         ],
         "yaxis": "y"
        },
        {
         "customdata": [
          [
           "Tonga",
           1976
          ],
          [
           "Tonga",
           1996
          ],
          [
           "Tonga",
           2006
          ],
          [
           "Tonga",
           2011
          ],
          [
           "Tonga",
           2019
          ],
          [
           "Tonga",
           2021
          ]
         ],
         "hovertemplate": "Country Name=%{customdata[0]}<br>Literacy Rate (%)=%{x}<br>Life Expectancy (Years)=%{y}<br>Year=%{customdata[1]}<extra></extra>",
         "legendgroup": "Tonga",
         "marker": {
          "color": "#ab63fa",
          "symbol": "circle"
         },
         "mode": "markers",
         "name": "Tonga",
         "showlegend": true,
         "type": "scattergl",
         "x": [
          100,
          99,
          99,
          99,
          97.5791702270508,
          99.5
         ],
         "xaxis": "x",
         "y": [
          69.532,
          72.328,
          73.13,
          73.424,
          73.669,
          73.719
         ],
         "yaxis": "y"
        },
        {
         "customdata": [
          [
           "Maldives",
           1977
          ],
          [
           "Maldives",
           1985
          ],
          [
           "Maldives",
           1990
          ],
          [
           "Maldives",
           1995
          ],
          [
           "Maldives",
           2000
          ],
          [
           "Maldives",
           2006
          ],
          [
           "Maldives",
           2014
          ],
          [
           "Maldives",
           2016
          ],
          [
           "Maldives",
           2017
          ],
          [
           "Maldives",
           2019
          ],
          [
           "Maldives",
           2021
          ]
         ],
         "hovertemplate": "Country Name=%{customdata[0]}<br>Literacy Rate (%)=%{x}<br>Life Expectancy (Years)=%{y}<br>Year=%{customdata[1]}<extra></extra>",
         "legendgroup": "Maldives",
         "marker": {
          "color": "#FFA15A",
          "symbol": "circle"
         },
         "mode": "markers",
         "name": "Maldives",
         "showlegend": true,
         "type": "scattergl",
         "x": [
          82,
          92,
          96,
          96,
          96,
          98,
          99,
          98,
          94.9146194458008,
          98.2551879882812,
          98.4100036621094
         ],
         "xaxis": "x",
         "y": [
          53.021,
          60.403,
          64.307,
          68.435,
          71.763,
          76.652,
          80.406,
          80.814,
          81.058,
          81.162,
          81.019
         ],
         "yaxis": "y"
        },
        {
         "customdata": [
          [
           "Poland",
           1978
          ],
          [
           "Poland",
           1988
          ],
          [
           "Poland",
           2021
          ]
         ],
         "hovertemplate": "Country Name=%{customdata[0]}<br>Literacy Rate (%)=%{x}<br>Life Expectancy (Years)=%{y}<br>Year=%{customdata[1]}<extra></extra>",
         "legendgroup": "Poland",
         "marker": {
          "color": "#19d3f3",
          "symbol": "circle"
         },
         "mode": "markers",
         "name": "Poland",
         "showlegend": true,
         "type": "scattergl",
         "x": [
          98,
          99,
          99.8000030517578
         ],
         "xaxis": "x",
         "y": [
          74.5,
          75.67,
          79.6
         ],
         "yaxis": "y"
        },
        {
         "customdata": [
          [
           "Rwanda",
           1978
          ],
          [
           "Rwanda",
           2000
          ],
          [
           "Rwanda",
           2010
          ],
          [
           "Rwanda",
           2012
          ],
          [
           "Rwanda",
           2014
          ],
          [
           "Rwanda",
           2018
          ],
          [
           "Rwanda",
           2020
          ],
          [
           "Rwanda",
           2022
          ]
         ],
         "hovertemplate": "Country Name=%{customdata[0]}<br>Literacy Rate (%)=%{x}<br>Life Expectancy (Years)=%{y}<br>Year=%{customdata[1]}<extra></extra>",
         "legendgroup": "Rwanda",
         "marker": {
          "color": "#FF6692",
          "symbol": "circle"
         },
         "mode": "markers",
         "name": "Rwanda",
         "showlegend": true,
         "type": "scattergl",
         "x": [
          27,
          60,
          61.5486106872559,
          65,
          66,
          69,
          77.8100891113281,
          77
         ],
         "xaxis": "x",
         "y": [
          46.347,
          48.281,
          64.181,
          65.873,
          66.906,
          68.266,
          68.996,
          69.244
         ],
         "yaxis": "y"
        },
        {
         "customdata": [
          [
           "Afghanistan",
           1979
          ],
          [
           "Afghanistan",
           2011
          ],
          [
           "Afghanistan",
           2015
          ],
          [
           "Afghanistan",
           2021
          ],
          [
           "Afghanistan",
           2022
          ]
         ],
         "hovertemplate": "Country Name=%{customdata[0]}<br>Literacy Rate (%)=%{x}<br>Life Expectancy (Years)=%{y}<br>Year=%{customdata[1]}<extra></extra>",
         "legendgroup": "Afghanistan",
         "marker": {
          "color": "#B6E880",
          "symbol": "circle"
         },
         "mode": "markers",
         "name": "Afghanistan",
         "showlegend": true,
         "type": "scattergl",
         "x": [
          5,
          17,
          17.0862407684326,
          23,
          26.5965595245361
         ],
         "xaxis": "x",
         "y": [
          41.143,
          62.993,
          64.576,
          65.279,
          66.213
         ],
         "yaxis": "y"
        },
        {
         "customdata": [
          [
           "Benin",
           1979
          ],
          [
           "Benin",
           1992
          ],
          [
           "Benin",
           2002
          ],
          [
           "Benin",
           2006
          ],
          [
           "Benin",
           2012
          ],
          [
           "Benin",
           2017
          ],
          [
           "Benin",
           2021
          ],
          [
           "Benin",
           2022
          ]
         ],
         "hovertemplate": "Country Name=%{customdata[0]}<br>Literacy Rate (%)=%{x}<br>Life Expectancy (Years)=%{y}<br>Year=%{customdata[1]}<extra></extra>",
         "legendgroup": "Benin",
         "marker": {
          "color": "#FF97FF",
          "symbol": "circle"
         },
         "mode": "markers",
         "name": "Benin",
         "showlegend": true,
         "type": "scattergl",
         "x": [
          10,
          17,
          23,
          18.4429092407227,
          22.093879699707,
          28.5498504638672,
          33.1344985961914,
          36.4000015258789
         ],
         "xaxis": "x",
         "y": [
          49.58,
          56.761,
          58.002,
          58.836,
          59.775,
          61.199,
          61.445,
          61.676
         ],
         "yaxis": "y"
        },
        {
         "customdata": [
          [
           "Burundi",
           1979
          ],
          [
           "Burundi",
           1990
          ],
          [
           "Burundi",
           2000
          ],
          [
           "Burundi",
           2008
          ],
          [
           "Burundi",
           2014
          ],
          [
           "Burundi",
           2016
          ],
          [
           "Burundi",
           2017
          ],
          [
           "Burundi",
           2022
          ]
         ],
         "hovertemplate": "Country Name=%{customdata[0]}<br>Literacy Rate (%)=%{x}<br>Life Expectancy (Years)=%{y}<br>Year=%{customdata[1]}<extra></extra>",
         "legendgroup": "Burundi",
         "marker": {
          "color": "#FECB52",
          "symbol": "circle"
         },
         "mode": "markers",
         "name": "Burundi",
         "showlegend": true,
         "type": "scattergl",
         "x": [
          12,
          28,
          52,
          43,
          55,
          59.4406814575195,
          61,
          69.4400024414062
         ],
         "xaxis": "x",
         "y": [
          45.981,
          46.711,
          49.768,
          57.407,
          61.346,
          62.458,
          63.302,
          63.868
         ],
         "yaxis": "y"
        },
        {
         "customdata": [
          [
           "Guinea-Bissau",
           1979
          ],
          [
           "Guinea-Bissau",
           2000
          ],
          [
           "Guinea-Bissau",
           2014
          ],
          [
           "Guinea-Bissau",
           2019
          ],
          [
           "Guinea-Bissau",
           2022
          ]
         ],
         "hovertemplate": "Country Name=%{customdata[0]}<br>Literacy Rate (%)=%{x}<br>Life Expectancy (Years)=%{y}<br>Year=%{customdata[1]}<extra></extra>",
         "legendgroup": "Guinea-Bissau",
         "marker": {
          "color": "#636efa",
          "symbol": "circle"
         },
         "mode": "markers",
         "name": "Guinea-Bissau",
         "showlegend": true,
         "type": "scattergl",
         "x": [
          9,
          27,
          30.7685108184814,
          40.3379783630371,
          41
         ],
         "xaxis": "x",
         "y": [
          45.391,
          52.561,
          60.679,
          62.872,
          61.929
         ],
         "yaxis": "y"
        },
        {
         "customdata": [
          [
           "Jordan",
           1979
          ],
          [
           "Jordan",
           2003
          ],
          [
           "Jordan",
           2005
          ],
          [
           "Jordan",
           2007
          ],
          [
           "Jordan",
           2010
          ],
          [
           "Jordan",
           2011
          ],
          [
           "Jordan",
           2012
          ],
          [
           "Jordan",
           2018
          ]
         ],
         "hovertemplate": "Country Name=%{customdata[0]}<br>Literacy Rate (%)=%{x}<br>Life Expectancy (Years)=%{y}<br>Year=%{customdata[1]}<extra></extra>",
         "legendgroup": "Jordan",
         "marker": {
          "color": "#EF553B",
          "symbol": "circle"
         },
         "mode": "markers",
         "name": "Jordan",
         "showlegend": true,
         "type": "scattergl",
         "x": [
          52,
          85,
          87,
          89,
          89,
          94,
          97,
          94.1569595336914
         ],
         "xaxis": "x",
         "y": [
          66.978,
          74.393,
          74.781,
          75.29,
          76.128,
          76.378,
          76.605,
          78.172
         ],
         "yaxis": "y"
        },
        {
         "customdata": [
          [
           "Vanuatu",
           1979
          ],
          [
           "Vanuatu",
           1984
          ],
          [
           "Vanuatu",
           1994
          ],
          [
           "Vanuatu",
           2004
          ],
          [
           "Vanuatu",
           2014
          ],
          [
           "Vanuatu",
           2021
          ]
         ],
         "hovertemplate": "Country Name=%{customdata[0]}<br>Literacy Rate (%)=%{x}<br>Life Expectancy (Years)=%{y}<br>Year=%{customdata[1]}<extra></extra>",
         "legendgroup": "Vanuatu",
         "marker": {
          "color": "#00cc96",
          "symbol": "circle"
         },
         "mode": "markers",
         "name": "Vanuatu",
         "showlegend": true,
         "type": "scattergl",
         "x": [
          48,
          53.7000007629395,
          65.5999984741211,
          76.1999969482422,
          83.1999969482422,
          88.4000015258789
         ],
         "xaxis": "x",
         "y": [
          62.453,
          67.209,
          70.749,
          71.872,
          71.892,
          72.945
         ],
         "yaxis": "y"
        },
        {
         "customdata": [
          [
           "Viet Nam",
           1979
          ],
          [
           "Viet Nam",
           1989
          ],
          [
           "Viet Nam",
           1999
          ],
          [
           "Viet Nam",
           2000
          ],
          [
           "Viet Nam",
           2009
          ],
          [
           "Viet Nam",
           2019
          ],
          [
           "Viet Nam",
           2022
          ]
         ],
         "hovertemplate": "Country Name=%{customdata[0]}<br>Literacy Rate (%)=%{x}<br>Life Expectancy (Years)=%{y}<br>Year=%{customdata[1]}<extra></extra>",
         "legendgroup": "Viet Nam",
         "marker": {
          "color": "#ab63fa",
          "symbol": "circle"
         },
         "mode": "markers",
         "name": "Viet Nam",
         "showlegend": true,
         "type": "scattergl",
         "x": [
          78,
          83,
          87,
          87,
          91,
          95,
          95
         ],
         "xaxis": "x",
         "y": [
          70.337,
          73.523,
          77.023,
          77.114,
          78.266,
          78.888,
          79.29
         ],
         "yaxis": "y"
        },
        {
         "customdata": [
          [
           "Argentina",
           1980
          ],
          [
           "Argentina",
           1991
          ],
          [
           "Argentina",
           2001
          ]
         ],
         "hovertemplate": "Country Name=%{customdata[0]}<br>Literacy Rate (%)=%{x}<br>Life Expectancy (Years)=%{y}<br>Year=%{customdata[1]}<extra></extra>",
         "legendgroup": "Argentina",
         "marker": {
          "color": "#FFA15A",
          "symbol": "circle"
         },
         "mode": "markers",
         "name": "Argentina",
         "showlegend": true,
         "type": "scattergl",
         "x": [
          94,
          96,
          97
         ],
         "xaxis": "x",
         "y": [
          72.549,
          75.635,
          77.59
         ],
         "yaxis": "y"
        },
        {
         "customdata": [
          [
           "Barbados",
           1980
          ]
         ],
         "hovertemplate": "Country Name=%{customdata[0]}<br>Literacy Rate (%)=%{x}<br>Life Expectancy (Years)=%{y}<br>Year=%{customdata[1]}<extra></extra>",
         "legendgroup": "Barbados",
         "marker": {
          "color": "#19d3f3",
          "symbol": "circle"
         },
         "mode": "markers",
         "name": "Barbados",
         "showlegend": true,
         "type": "scattergl",
         "x": [
          99.5
         ],
         "xaxis": "x",
         "y": [
          74.281
         ],
         "yaxis": "y"
        },
        {
         "customdata": [
          [
           "Brazil",
           1980
          ],
          [
           "Brazil",
           2000
          ],
          [
           "Brazil",
           2004
          ],
          [
           "Brazil",
           2006
          ],
          [
           "Brazil",
           2007
          ],
          [
           "Brazil",
           2008
          ],
          [
           "Brazil",
           2009
          ],
          [
           "Brazil",
           2010
          ],
          [
           "Brazil",
           2011
          ],
          [
           "Brazil",
           2012
          ],
          [
           "Brazil",
           2013
          ],
          [
           "Brazil",
           2014
          ],
          [
           "Brazil",
           2015
          ],
          [
           "Brazil",
           2016
          ],
          [
           "Brazil",
           2017
          ],
          [
           "Brazil",
           2018
          ],
          [
           "Brazil",
           2022
          ]
         ],
         "hovertemplate": "Country Name=%{customdata[0]}<br>Literacy Rate (%)=%{x}<br>Life Expectancy (Years)=%{y}<br>Year=%{customdata[1]}<extra></extra>",
         "legendgroup": "Brazil",
         "marker": {
          "color": "#FF6692",
          "symbol": "circle"
         },
         "mode": "markers",
         "name": "Brazil",
         "showlegend": true,
         "type": "scattergl",
         "x": [
          73,
          87,
          89,
          90,
          90,
          90,
          90,
          91,
          92,
          92,
          92,
          92,
          92,
          93,
          93,
          93,
          94.9199981689453
         ],
         "xaxis": "x",
         "y": [
          64.179,
          73.431,
          74.916,
          75.665,
          75.88,
          76.134,
          76.299,
          76.592,
          76.651,
          76.869,
          77.12,
          77.432,
          77.572,
          77.848,
          78.032,
          78.266,
          76.596
         ],
         "yaxis": "y"
        },
        {
         "customdata": [
          [
           "Comoros",
           1980
          ],
          [
           "Comoros",
           2000
          ],
          [
           "Comoros",
           2012
          ],
          [
           "Comoros",
           2022
          ]
         ],
         "hovertemplate": "Country Name=%{customdata[0]}<br>Literacy Rate (%)=%{x}<br>Life Expectancy (Years)=%{y}<br>Year=%{customdata[1]}<extra></extra>",
         "legendgroup": "Comoros",
         "marker": {
          "color": "#B6E880",
          "symbol": "circle"
         },
         "mode": "markers",
         "name": "Comoros",
         "showlegend": true,
         "type": "scattergl",
         "x": [
          40,
          63,
          42.6372909545898,
          56.8699989318848
         ],
         "xaxis": "x",
         "y": [
          52.595,
          60.373,
          63.801,
          66.061
         ],
         "yaxis": "y"
        },
        {
         "customdata": [
          [
           "Grenada",
           1980
          ]
         ],
         "hovertemplate": "Country Name=%{customdata[0]}<br>Literacy Rate (%)=%{x}<br>Life Expectancy (Years)=%{y}<br>Year=%{customdata[1]}<extra></extra>",
         "legendgroup": "Grenada",
         "marker": {
          "color": "#FF97FF",
          "symbol": "circle"
         },
         "mode": "markers",
         "name": "Grenada",
         "showlegend": true,
         "type": "scattergl",
         "x": [
          98.3000030517578
         ],
         "xaxis": "x",
         "y": [
          70.375
         ],
         "yaxis": "y"
        },
        {
         "customdata": [
          [
           "Guam",
           1980
          ],
          [
           "Guam",
           1990
          ],
          [
           "Guam",
           2000
          ]
         ],
         "hovertemplate": "Country Name=%{customdata[0]}<br>Literacy Rate (%)=%{x}<br>Life Expectancy (Years)=%{y}<br>Year=%{customdata[1]}<extra></extra>",
         "legendgroup": "Guam",
         "marker": {
          "color": "#FECB52",
          "symbol": "circle"
         },
         "mode": "markers",
         "name": "Guam",
         "showlegend": true,
         "type": "scattergl",
         "x": [
          96,
          99,
          99.5699996948242
         ],
         "xaxis": "x",
         "y": [
          73.721,
          75.818,
          77.398
         ],
         "yaxis": "y"
        },
        {
         "customdata": [
          [
           "Hungary",
           1980
          ],
          [
           "Hungary",
           1990
          ],
          [
           "Hungary",
           2021
          ]
         ],
         "hovertemplate": "Country Name=%{customdata[0]}<br>Literacy Rate (%)=%{x}<br>Life Expectancy (Years)=%{y}<br>Year=%{customdata[1]}<extra></extra>",
         "legendgroup": "Hungary",
         "marker": {
          "color": "#636efa",
          "symbol": "circle"
         },
         "mode": "markers",
         "name": "Hungary",
         "showlegend": true,
         "type": "scattergl",
         "x": [
          98,
          98.8000030517578,
          99.0999984741211
         ],
         "xaxis": "x",
         "y": [
          72.77,
          73.7,
          77.8
         ],
         "yaxis": "y"
        },
        {
         "customdata": [
          [
           "Indonesia",
           1980
          ],
          [
           "Indonesia",
           1990
          ],
          [
           "Indonesia",
           2004
          ],
          [
           "Indonesia",
           2006
          ],
          [
           "Indonesia",
           2008
          ],
          [
           "Indonesia",
           2009
          ],
          [
           "Indonesia",
           2011
          ],
          [
           "Indonesia",
           2014
          ],
          [
           "Indonesia",
           2015
          ],
          [
           "Indonesia",
           2016
          ],
          [
           "Indonesia",
           2018
          ],
          [
           "Indonesia",
           2020
          ]
         ],
         "hovertemplate": "Country Name=%{customdata[0]}<br>Literacy Rate (%)=%{x}<br>Life Expectancy (Years)=%{y}<br>Year=%{customdata[1]}<extra></extra>",
         "legendgroup": "Indonesia",
         "marker": {
          "color": "#EF553B",
          "symbol": "circle"
         },
         "mode": "markers",
         "name": "Indonesia",
         "showlegend": true,
         "type": "scattergl",
         "x": [
          58,
          75,
          87,
          89,
          89,
          90,
          90,
          93,
          93,
          94,
          94,
          95
         ],
         "xaxis": "x",
         "y": [
          60.609,
          64.792,
          67.113,
          69.812,
          69.939,
          70.417,
          70.571,
          71.466,
          71.629,
          71.751,
          72.403,
          70.982
         ],
         "yaxis": "y"
        },
        {
         "customdata": [
          [
           "Malaysia",
           1980
          ],
          [
           "Malaysia",
           1991
          ],
          [
           "Malaysia",
           2010
          ],
          [
           "Malaysia",
           2016
          ],
          [
           "Malaysia",
           2017
          ],
          [
           "Malaysia",
           2018
          ],
          [
           "Malaysia",
           2019
          ],
          [
           "Malaysia",
           2022
          ]
         ],
         "hovertemplate": "Country Name=%{customdata[0]}<br>Literacy Rate (%)=%{x}<br>Life Expectancy (Years)=%{y}<br>Year=%{customdata[1]}<extra></extra>",
         "legendgroup": "Malaysia",
         "marker": {
          "color": "#00cc96",
          "symbol": "circle"
         },
         "mode": "markers",
         "name": "Malaysia",
         "showlegend": true,
         "type": "scattergl",
         "x": [
          61,
          77,
          91,
          93,
          94,
          94,
          94,
          95
         ],
         "xaxis": "x",
         "y": [
          70.323,
          73.671,
          77.124,
          77.938,
          78.139,
          78.267,
          78.306,
          78.799
         ],
         "yaxis": "y"
        },
        {
         "customdata": [
          [
           "Mexico",
           1980
          ],
          [
           "Mexico",
           1990
          ],
          [
           "Mexico",
           2000
          ],
          [
           "Mexico",
           2002
          ],
          [
           "Mexico",
           2004
          ],
          [
           "Mexico",
           2005
          ],
          [
           "Mexico",
           2006
          ],
          [
           "Mexico",
           2007
          ],
          [
           "Mexico",
           2008
          ],
          [
           "Mexico",
           2009
          ],
          [
           "Mexico",
           2010
          ],
          [
           "Mexico",
           2011
          ],
          [
           "Mexico",
           2012
          ],
          [
           "Mexico",
           2013
          ],
          [
           "Mexico",
           2014
          ],
          [
           "Mexico",
           2015
          ],
          [
           "Mexico",
           2016
          ],
          [
           "Mexico",
           2017
          ],
          [
           "Mexico",
           2018
          ],
          [
           "Mexico",
           2020
          ]
         ],
         "hovertemplate": "Country Name=%{customdata[0]}<br>Literacy Rate (%)=%{x}<br>Life Expectancy (Years)=%{y}<br>Year=%{customdata[1]}<extra></extra>",
         "legendgroup": "Mexico",
         "marker": {
          "color": "#ab63fa",
          "symbol": "circle"
         },
         "mode": "markers",
         "name": "Mexico",
         "showlegend": true,
         "type": "scattergl",
         "x": [
          80,
          85,
          89,
          89,
          90,
          90,
          90,
          91,
          91,
          92,
          92,
          92,
          93,
          93,
          94,
          93,
          94,
          94,
          95,
          94
         ],
         "xaxis": "x",
         "y": [
          68.576,
          73.647,
          76.512,
          76.826,
          76.983,
          76.986,
          76.981,
          76.956,
          76.952,
          76.993,
          77.117,
          77.311,
          77.535,
          77.706,
          77.782,
          77.692,
          77.486,
          77.303,
          77.286,
          74.314
         ],
         "yaxis": "y"
        },
        {
         "customdata": [
          [
           "Mozambique",
           1980
          ],
          [
           "Mozambique",
           1997
          ],
          [
           "Mozambique",
           2003
          ],
          [
           "Mozambique",
           2009
          ],
          [
           "Mozambique",
           2015
          ],
          [
           "Mozambique",
           2017
          ],
          [
           "Mozambique",
           2020
          ]
         ],
         "hovertemplate": "Country Name=%{customdata[0]}<br>Literacy Rate (%)=%{x}<br>Life Expectancy (Years)=%{y}<br>Year=%{customdata[1]}<extra></extra>",
         "legendgroup": "Mozambique",
         "marker": {
          "color": "#FFA15A",
          "symbol": "circle"
         },
         "mode": "markers",
         "name": "Mozambique",
         "showlegend": true,
         "type": "scattergl",
         "x": [
          12,
          25,
          33,
          36,
          43,
          50,
          49
         ],
         "xaxis": "x",
         "y": [
          44.153,
          48.999,
          52.305,
          55.282,
          60.44,
          62.221,
          64.16
         ],
         "yaxis": "y"
        },
        {
         "customdata": [
          [
           "Panama",
           1980
          ],
          [
           "Panama",
           1990
          ],
          [
           "Panama",
           2000
          ],
          [
           "Panama",
           2010
          ],
          [
           "Panama",
           2018
          ],
          [
           "Panama",
           2019
          ]
         ],
         "hovertemplate": "Country Name=%{customdata[0]}<br>Literacy Rate (%)=%{x}<br>Life Expectancy (Years)=%{y}<br>Year=%{customdata[1]}<extra></extra>",
         "legendgroup": "Panama",
         "marker": {
          "color": "#19d3f3",
          "symbol": "circle"
         },
         "mode": "markers",
         "name": "Panama",
         "showlegend": true,
         "type": "scattergl",
         "x": [
          88,
          88,
          91,
          93,
          95,
          95
         ],
         "xaxis": "x",
         "y": [
          71.665,
          74.57,
          77.062,
          79.733,
          81.024,
          80.954
         ],
         "yaxis": "y"
        },
        {
         "customdata": [
          [
           "Philippines",
           1980
          ],
          [
           "Philippines",
           1990
          ],
          [
           "Philippines",
           1994
          ],
          [
           "Philippines",
           2000
          ],
          [
           "Philippines",
           2003
          ],
          [
           "Philippines",
           2008
          ],
          [
           "Philippines",
           2013
          ],
          [
           "Philippines",
           2015
          ],
          [
           "Philippines",
           2019
          ],
          [
           "Philippines",
           2020
          ],
          [
           "Philippines",
           2022
          ]
         ],
         "hovertemplate": "Country Name=%{customdata[0]}<br>Literacy Rate (%)=%{x}<br>Life Expectancy (Years)=%{y}<br>Year=%{customdata[1]}<extra></extra>",
         "legendgroup": "Philippines",
         "marker": {
          "color": "#FF6692",
          "symbol": "circle"
         },
         "mode": "markers",
         "name": "Philippines",
         "showlegend": true,
         "type": "scattergl",
         "x": [
          83,
          93,
          95,
          93,
          94,
          96,
          97,
          98,
          97,
          99,
          97.0015029907227
         ],
         "xaxis": "x",
         "y": [
          64.362,
          67.759,
          69.719,
          71.244,
          71.693,
          72.238,
          72.472,
          73.016,
          73.742,
          73.997,
          74.174
         ],
         "yaxis": "y"
        },
        {
         "customdata": [
          [
           "Puerto Rico",
           1980
          ],
          [
           "Puerto Rico",
           1990
          ],
          [
           "Puerto Rico",
           2010
          ],
          [
           "Puerto Rico",
           2017
          ],
          [
           "Puerto Rico",
           2021
          ]
         ],
         "hovertemplate": "Country Name=%{customdata[0]}<br>Literacy Rate (%)=%{x}<br>Life Expectancy (Years)=%{y}<br>Year=%{customdata[1]}<extra></extra>",
         "legendgroup": "Puerto Rico",
         "marker": {
          "color": "#B6E880",
          "symbol": "circle"
         },
         "mode": "markers",
         "name": "Puerto Rico",
         "showlegend": true,
         "type": "scattergl",
         "x": [
          86,
          90,
          93,
          92,
          92.4000015258789
         ],
         "xaxis": "x",
         "y": [
          77.38,
          78.244,
          82.06,
          83.145,
          84.522
         ],
         "yaxis": "y"
        },
        {
         "customdata": [
          [
           "Singapore",
           1980
          ],
          [
           "Singapore",
           1990
          ],
          [
           "Singapore",
           2000
          ],
          [
           "Singapore",
           2010
          ],
          [
           "Singapore",
           2011
          ],
          [
           "Singapore",
           2012
          ],
          [
           "Singapore",
           2013
          ],
          [
           "Singapore",
           2014
          ],
          [
           "Singapore",
           2015
          ],
          [
           "Singapore",
           2016
          ],
          [
           "Singapore",
           2017
          ],
          [
           "Singapore",
           2018
          ],
          [
           "Singapore",
           2019
          ],
          [
           "Singapore",
           2020
          ],
          [
           "Singapore",
           2021
          ]
         ],
         "hovertemplate": "Country Name=%{customdata[0]}<br>Literacy Rate (%)=%{x}<br>Life Expectancy (Years)=%{y}<br>Year=%{customdata[1]}<extra></extra>",
         "legendgroup": "Singapore",
         "marker": {
          "color": "#FF97FF",
          "symbol": "circle"
         },
         "mode": "markers",
         "name": "Singapore",
         "showlegend": true,
         "type": "scattergl",
         "x": [
          74,
          83,
          89,
          94,
          94,
          94,
          95,
          95,
          95,
          95,
          96,
          96,
          96,
          96,
          96
         ],
         "xaxis": "x",
         "y": [
          74.7,
          77.6,
          80,
          84,
          84.1,
          84.3,
          84.5,
          84.8,
          85.1,
          85.1,
          85.4,
          85.5,
          85.9,
          85.9,
          85.5
         ],
         "yaxis": "y"
        },
        {
         "customdata": [
          [
           "South Africa",
           1980
          ],
          [
           "South Africa",
           1996
          ],
          [
           "South Africa",
           2007
          ],
          [
           "South Africa",
           2009
          ],
          [
           "South Africa",
           2010
          ],
          [
           "South Africa",
           2011
          ],
          [
           "South Africa",
           2012
          ],
          [
           "South Africa",
           2014
          ],
          [
           "South Africa",
           2015
          ],
          [
           "South Africa",
           2016
          ],
          [
           "South Africa",
           2017
          ],
          [
           "South Africa",
           2019
          ],
          [
           "South Africa",
           2021
          ]
         ],
         "hovertemplate": "Country Name=%{customdata[0]}<br>Literacy Rate (%)=%{x}<br>Life Expectancy (Years)=%{y}<br>Year=%{customdata[1]}<extra></extra>",
         "legendgroup": "South Africa",
         "marker": {
          "color": "#FECB52",
          "symbol": "circle"
         },
         "mode": "markers",
         "name": "South Africa",
         "showlegend": true,
         "type": "scattergl",
         "x": [
          75,
          81,
          87,
          92,
          92,
          92,
          93,
          93,
          93,
          91.9364700317383,
          86,
          95,
          89
         ],
         "xaxis": "x",
         "y": [
          63.224,
          64.721,
          56.852,
          59.722,
          61.266,
          63.111,
          64.449,
          66.259,
          66.781,
          67.794,
          68.43,
          69.107,
          64.999
         ],
         "yaxis": "y"
        },
        {
         "customdata": [
          [
           "St. Vincent and the Grenadines",
           1980
          ]
         ],
         "hovertemplate": "Country Name=%{customdata[0]}<br>Literacy Rate (%)=%{x}<br>Life Expectancy (Years)=%{y}<br>Year=%{customdata[1]}<extra></extra>",
         "legendgroup": "St. Vincent and the Grenadines",
         "marker": {
          "color": "#636efa",
          "symbol": "circle"
         },
         "mode": "markers",
         "name": "St. Vincent and the Grenadines",
         "showlegend": true,
         "type": "scattergl",
         "x": [
          96.9000015258789
         ],
         "xaxis": "x",
         "y": [
          71.839
         ],
         "yaxis": "y"
        },
        {
         "customdata": [
          [
           "Thailand",
           1980
          ],
          [
           "Thailand",
           2000
          ],
          [
           "Thailand",
           2005
          ],
          [
           "Thailand",
           2010
          ],
          [
           "Thailand",
           2013
          ],
          [
           "Thailand",
           2015
          ],
          [
           "Thailand",
           2016
          ],
          [
           "Thailand",
           2018
          ],
          [
           "Thailand",
           2019
          ],
          [
           "Thailand",
           2021
          ],
          [
           "Thailand",
           2022
          ]
         ],
         "hovertemplate": "Country Name=%{customdata[0]}<br>Literacy Rate (%)=%{x}<br>Life Expectancy (Years)=%{y}<br>Year=%{customdata[1]}<extra></extra>",
         "legendgroup": "Thailand",
         "marker": {
          "color": "#EF553B",
          "symbol": "circle"
         },
         "mode": "markers",
         "name": "Thailand",
         "showlegend": true,
         "type": "scattergl",
         "x": [
          84,
          91,
          92,
          96,
          92,
          91,
          92.681022644043,
          92,
          90.1832962036133,
          92.8000030517578,
          91.4859619140625
         ],
         "xaxis": "x",
         "y": [
          68.042,
          76.432,
          77.758,
          80.358,
          81.365,
          82.03,
          82.588,
          83.149,
          83.433,
          83.041,
          83.929
         ],
         "yaxis": "y"
        },
        {
         "customdata": [
          [
           "Trinidad and Tobago",
           1980
          ],
          [
           "Trinidad and Tobago",
           1990
          ],
          [
           "Trinidad and Tobago",
           2000
          ],
          [
           "Trinidad and Tobago",
           2022
          ]
         ],
         "hovertemplate": "Country Name=%{customdata[0]}<br>Literacy Rate (%)=%{x}<br>Life Expectancy (Years)=%{y}<br>Year=%{customdata[1]}<extra></extra>",
         "legendgroup": "Trinidad and Tobago",
         "marker": {
          "color": "#00cc96",
          "symbol": "circle"
         },
         "mode": "markers",
         "name": "Trinidad and Tobago",
         "showlegend": true,
         "type": "scattergl",
         "x": [
          93,
          96,
          97.0999984741211,
          93.8321380615234
         ],
         "xaxis": "x",
         "y": [
          69.908,
          70.401,
          71.761,
          78.153
         ],
         "yaxis": "y"
        },
        {
         "customdata": [
          [
           "Bahrain",
           1981
          ],
          [
           "Bahrain",
           1991
          ],
          [
           "Bahrain",
           2001
          ],
          [
           "Bahrain",
           2011
          ],
          [
           "Bahrain",
           2022
          ]
         ],
         "hovertemplate": "Country Name=%{customdata[0]}<br>Literacy Rate (%)=%{x}<br>Life Expectancy (Years)=%{y}<br>Year=%{customdata[1]}<extra></extra>",
         "legendgroup": "Bahrain",
         "marker": {
          "color": "#ab63fa",
          "symbol": "circle"
         },
         "mode": "markers",
         "name": "Bahrain",
         "showlegend": true,
         "type": "scattergl",
         "x": [
          59,
          77,
          84,
          90.6999969482422,
          96
         ],
         "xaxis": "x",
         "y": [
          72.362,
          73.599,
          77.669,
          80.109,
          80.497
         ],
         "yaxis": "y"
        },
        {
         "customdata": [
          [
           "Bangladesh",
           1981
          ],
          [
           "Bangladesh",
           1991
          ],
          [
           "Bangladesh",
           2001
          ],
          [
           "Bangladesh",
           2007
          ],
          [
           "Bangladesh",
           2011
          ],
          [
           "Bangladesh",
           2012
          ],
          [
           "Bangladesh",
           2013
          ],
          [
           "Bangladesh",
           2014
          ],
          [
           "Bangladesh",
           2015
          ],
          [
           "Bangladesh",
           2016
          ],
          [
           "Bangladesh",
           2017
          ],
          [
           "Bangladesh",
           2018
          ],
          [
           "Bangladesh",
           2019
          ],
          [
           "Bangladesh",
           2020
          ],
          [
           "Bangladesh",
           2021
          ]
         ],
         "hovertemplate": "Country Name=%{customdata[0]}<br>Literacy Rate (%)=%{x}<br>Life Expectancy (Years)=%{y}<br>Year=%{customdata[1]}<extra></extra>",
         "legendgroup": "Bangladesh",
         "marker": {
          "color": "#FFA15A",
          "symbol": "circle"
         },
         "mode": "markers",
         "name": "Bangladesh",
         "showlegend": true,
         "type": "scattergl",
         "x": [
          18,
          26,
          41,
          43.7408485412598,
          55,
          54,
          58,
          58,
          62,
          70,
          70,
          71,
          72,
          72,
          74
         ],
         "xaxis": "x",
         "y": [
          51.083,
          53.07,
          66.66,
          68.213,
          70.467,
          71.831,
          72.54,
          72.42,
          72.739,
          73.325,
          73.95,
          74.346,
          75.09,
          73.957,
          74.267
         ],
         "yaxis": "y"
        },
        {
         "customdata": [
          [
           "Brunei Darussalam",
           1981
          ],
          [
           "Brunei Darussalam",
           1991
          ],
          [
           "Brunei Darussalam",
           2001
          ],
          [
           "Brunei Darussalam",
           2011
          ],
          [
           "Brunei Darussalam",
           2021
          ]
         ],
         "hovertemplate": "Country Name=%{customdata[0]}<br>Literacy Rate (%)=%{x}<br>Life Expectancy (Years)=%{y}<br>Year=%{customdata[1]}<extra></extra>",
         "legendgroup": "Brunei Darussalam",
         "marker": {
          "color": "#19d3f3",
          "symbol": "circle"
         },
         "mode": "markers",
         "name": "Brunei Darussalam",
         "showlegend": true,
         "type": "scattergl",
         "x": [
          69,
          82,
          90,
          95,
          96.8600006103516
         ],
         "xaxis": "x",
         "y": [
          70.934,
          74.086,
          76.7,
          77.126,
          76.881
         ],
         "yaxis": "y"
        },
        {
         "customdata": [
          [
           "Dominican Republic",
           1981
          ],
          [
           "Dominican Republic",
           2002
          ],
          [
           "Dominican Republic",
           2007
          ],
          [
           "Dominican Republic",
           2010
          ],
          [
           "Dominican Republic",
           2011
          ],
          [
           "Dominican Republic",
           2012
          ],
          [
           "Dominican Republic",
           2013
          ],
          [
           "Dominican Republic",
           2014
          ],
          [
           "Dominican Republic",
           2015
          ],
          [
           "Dominican Republic",
           2016
          ],
          [
           "Dominican Republic",
           2019
          ],
          [
           "Dominican Republic",
           2022
          ]
         ],
         "hovertemplate": "Country Name=%{customdata[0]}<br>Literacy Rate (%)=%{x}<br>Life Expectancy (Years)=%{y}<br>Year=%{customdata[1]}<extra></extra>",
         "legendgroup": "Dominican Republic",
         "marker": {
          "color": "#FF6692",
          "symbol": "circle"
         },
         "mode": "markers",
         "name": "Dominican Republic",
         "showlegend": true,
         "type": "scattergl",
         "x": [
          73,
          87,
          88,
          90,
          90,
          90,
          91,
          92,
          92,
          94,
          87.372673034668,
          95.5999984741211
         ],
         "xaxis": "x",
         "y": [
          64.484,
          72.694,
          74.281,
          75.66,
          75.856,
          76.166,
          76.322,
          76.396,
          76.377,
          76.304,
          76.965,
          77.536
         ],
         "yaxis": "y"
        },
        {
         "customdata": [
          [
           "Greece",
           1981
          ],
          [
           "Greece",
           1991
          ],
          [
           "Greece",
           2001
          ],
          [
           "Greece",
           2009
          ]
         ],
         "hovertemplate": "Country Name=%{customdata[0]}<br>Literacy Rate (%)=%{x}<br>Life Expectancy (Years)=%{y}<br>Year=%{customdata[1]}<extra></extra>",
         "legendgroup": "Greece",
         "marker": {
          "color": "#B6E880",
          "symbol": "circle"
         },
         "mode": "markers",
         "name": "Greece",
         "showlegend": true,
         "type": "scattergl",
         "x": [
          85,
          89,
          94,
          92
         ],
         "xaxis": "x",
         "y": [
          77.648,
          79.8,
          81,
          82.8
         ],
         "yaxis": "y"
        },
        {
         "customdata": [
          [
           "India",
           1981
          ],
          [
           "India",
           1991
          ],
          [
           "India",
           2001
          ],
          [
           "India",
           2006
          ],
          [
           "India",
           2011
          ],
          [
           "India",
           2022
          ]
         ],
         "hovertemplate": "Country Name=%{customdata[0]}<br>Literacy Rate (%)=%{x}<br>Life Expectancy (Years)=%{y}<br>Year=%{customdata[1]}<extra></extra>",
         "legendgroup": "India",
         "marker": {
          "color": "#FF97FF",
          "symbol": "circle"
         },
         "mode": "markers",
         "name": "India",
         "showlegend": true,
         "type": "scattergl",
         "x": [
          26,
          34,
          48,
          51,
          59,
          69
         ],
         "xaxis": "x",
         "y": [
          54.397,
          59.956,
          64.131,
          66.891,
          69.106,
          69.384
         ],
         "yaxis": "y"
        },
        {
         "customdata": [
          [
           "Italy",
           1981
          ],
          [
           "Italy",
           2001
          ],
          [
           "Italy",
           2011
          ],
          [
           "Italy",
           2019
          ]
         ],
         "hovertemplate": "Country Name=%{customdata[0]}<br>Literacy Rate (%)=%{x}<br>Life Expectancy (Years)=%{y}<br>Year=%{customdata[1]}<extra></extra>",
         "legendgroup": "Italy",
         "marker": {
          "color": "#FECB52",
          "symbol": "circle"
         },
         "mode": "markers",
         "name": "Italy",
         "showlegend": true,
         "type": "scattergl",
         "x": [
          96,
          98,
          99,
          99
         ],
         "xaxis": "x",
         "y": [
          77.76,
          83.2,
          84.8,
          85.7
         ],
         "yaxis": "y"
        },
        {
         "customdata": [
          [
           "Macao SAR, China",
           1981
          ],
          [
           "Macao SAR, China",
           2001
          ],
          [
           "Macao SAR, China",
           2006
          ],
          [
           "Macao SAR, China",
           2011
          ],
          [
           "Macao SAR, China",
           2016
          ],
          [
           "Macao SAR, China",
           2021
          ]
         ],
         "hovertemplate": "Country Name=%{customdata[0]}<br>Literacy Rate (%)=%{x}<br>Life Expectancy (Years)=%{y}<br>Year=%{customdata[1]}<extra></extra>",
         "legendgroup": "Macao SAR, China",
         "marker": {
          "color": "#636efa",
          "symbol": "circle"
         },
         "mode": "markers",
         "name": "Macao SAR, China",
         "showlegend": true,
         "type": "scattergl",
         "x": [
          86,
          88,
          91,
          94,
          95,
          95.879997253418
         ],
         "xaxis": "x",
         "y": [
          75.915,
          83.955,
          85.163,
          86.292,
          87.018,
          87.948
         ],
         "yaxis": "y"
        },
        {
         "customdata": [
          [
           "Montenegro",
           1981
          ],
          [
           "Montenegro",
           1991
          ],
          [
           "Montenegro",
           2003
          ],
          [
           "Montenegro",
           2011
          ],
          [
           "Montenegro",
           2018
          ],
          [
           "Montenegro",
           2021
          ]
         ],
         "hovertemplate": "Country Name=%{customdata[0]}<br>Literacy Rate (%)=%{x}<br>Life Expectancy (Years)=%{y}<br>Year=%{customdata[1]}<extra></extra>",
         "legendgroup": "Montenegro",
         "marker": {
          "color": "#EF553B",
          "symbol": "circle"
         },
         "mode": "markers",
         "name": "Montenegro",
         "showlegend": true,
         "type": "scattergl",
         "x": [
          83,
          98,
          96,
          98,
          97.9482269287109,
          98.5400009155273
         ],
         "xaxis": "x",
         "y": [
          74.525,
          81.516,
          76.841,
          78.8,
          79.3,
          77
         ],
         "yaxis": "y"
        },
        {
         "customdata": [
          [
           "Nepal",
           1981
          ],
          [
           "Nepal",
           1991
          ],
          [
           "Nepal",
           2001
          ],
          [
           "Nepal",
           2011
          ],
          [
           "Nepal",
           2016
          ],
          [
           "Nepal",
           2019
          ],
          [
           "Nepal",
           2021
          ]
         ],
         "hovertemplate": "Country Name=%{customdata[0]}<br>Literacy Rate (%)=%{x}<br>Life Expectancy (Years)=%{y}<br>Year=%{customdata[1]}<extra></extra>",
         "legendgroup": "Nepal",
         "marker": {
          "color": "#00cc96",
          "symbol": "circle"
         },
         "mode": "markers",
         "name": "Nepal",
         "showlegend": true,
         "type": "scattergl",
         "x": [
          9,
          17,
          35,
          49,
          55.7490501403809,
          59.4137191772461,
          63.3300018310547
         ],
         "xaxis": "x",
         "y": [
          48.407,
          55.967,
          64.952,
          69.094,
          70.515,
          71.351,
          70.362
         ],
         "yaxis": "y"
        },
        {
         "customdata": [
          [
           "Pakistan",
           1981
          ],
          [
           "Pakistan",
           1998
          ],
          [
           "Pakistan",
           2005
          ],
          [
           "Pakistan",
           2006
          ],
          [
           "Pakistan",
           2007
          ],
          [
           "Pakistan",
           2008
          ],
          [
           "Pakistan",
           2009
          ],
          [
           "Pakistan",
           2010
          ],
          [
           "Pakistan",
           2011
          ],
          [
           "Pakistan",
           2012
          ],
          [
           "Pakistan",
           2013
          ],
          [
           "Pakistan",
           2014
          ],
          [
           "Pakistan",
           2017
          ],
          [
           "Pakistan",
           2018
          ],
          [
           "Pakistan",
           2019
          ]
         ],
         "hovertemplate": "Country Name=%{customdata[0]}<br>Literacy Rate (%)=%{x}<br>Life Expectancy (Years)=%{y}<br>Year=%{customdata[1]}<extra></extra>",
         "legendgroup": "Pakistan",
         "marker": {
          "color": "#ab63fa",
          "symbol": "circle"
         },
         "mode": "markers",
         "name": "Pakistan",
         "showlegend": true,
         "type": "scattergl",
         "x": [
          15,
          29,
          35,
          40,
          38,
          40,
          40,
          41,
          42,
          43,
          42,
          44,
          46,
          45,
          46
         ],
         "xaxis": "x",
         "y": [
          59.301,
          62.112,
          63.967,
          65.653,
          66.103,
          66.5,
          66.531,
          66.889,
          67.066,
          67.194,
          67.616,
          67.718,
          68.816,
          68.959,
          69.096
         ],
         "yaxis": "y"
        },
        {
         "customdata": [
          [
           "Peru",
           1981
          ],
          [
           "Peru",
           1993
          ],
          [
           "Peru",
           2004
          ],
          [
           "Peru",
           2005
          ],
          [
           "Peru",
           2006
          ],
          [
           "Peru",
           2007
          ],
          [
           "Peru",
           2012
          ],
          [
           "Peru",
           2014
          ],
          [
           "Peru",
           2015
          ],
          [
           "Peru",
           2016
          ],
          [
           "Peru",
           2017
          ],
          [
           "Peru",
           2018
          ],
          [
           "Peru",
           2020
          ]
         ],
         "hovertemplate": "Country Name=%{customdata[0]}<br>Literacy Rate (%)=%{x}<br>Life Expectancy (Years)=%{y}<br>Year=%{customdata[1]}<extra></extra>",
         "legendgroup": "Peru",
         "marker": {
          "color": "#FFA15A",
          "symbol": "circle"
         },
         "mode": "markers",
         "name": "Peru",
         "showlegend": true,
         "type": "scattergl",
         "x": [
          74,
          82,
          82,
          82,
          83,
          85,
          91,
          90,
          91,
          91,
          91,
          92,
          92
         ],
         "xaxis": "x",
         "y": [
          62.208,
          69.361,
          74.737,
          75.015,
          75.209,
          75.296,
          76.683,
          77.432,
          77.743,
          77.953,
          78.1,
          78.293,
          76.816
         ],
         "yaxis": "y"
        },
        {
         "customdata": [
          [
           "Portugal",
           1981
          ],
          [
           "Portugal",
           1991
          ],
          [
           "Portugal",
           2011
          ],
          [
           "Portugal",
           2021
          ]
         ],
         "hovertemplate": "Country Name=%{customdata[0]}<br>Literacy Rate (%)=%{x}<br>Life Expectancy (Years)=%{y}<br>Year=%{customdata[1]}<extra></extra>",
         "legendgroup": "Portugal",
         "marker": {
          "color": "#19d3f3",
          "symbol": "circle"
         },
         "mode": "markers",
         "name": "Portugal",
         "showlegend": true,
         "type": "scattergl",
         "x": [
          75,
          85,
          93,
          95.9199981689453
         ],
         "xaxis": "x",
         "y": [
          75.2,
          77.6,
          83.8,
          84.4
         ],
         "yaxis": "y"
        },
        {
         "customdata": [
          [
           "Sao Tome and Principe",
           1981
          ],
          [
           "Sao Tome and Principe",
           1991
          ],
          [
           "Sao Tome and Principe",
           2001
          ],
          [
           "Sao Tome and Principe",
           2008
          ],
          [
           "Sao Tome and Principe",
           2012
          ],
          [
           "Sao Tome and Principe",
           2019
          ],
          [
           "Sao Tome and Principe",
           2022
          ]
         ],
         "hovertemplate": "Country Name=%{customdata[0]}<br>Literacy Rate (%)=%{x}<br>Life Expectancy (Years)=%{y}<br>Year=%{customdata[1]}<extra></extra>",
         "legendgroup": "Sao Tome and Principe",
         "marker": {
          "color": "#FF6692",
          "symbol": "circle"
         },
         "mode": "markers",
         "name": "Sao Tome and Principe",
         "showlegend": true,
         "type": "scattergl",
         "x": [
          42,
          62,
          78,
          60.0830307006836,
          85,
          82.7525329589844,
          91.0699996948242
         ],
         "xaxis": "x",
         "y": [
          61.091,
          63.571,
          63.739,
          67.496,
          68.601,
          71.62,
          71.938
         ],
         "yaxis": "y"
        },
        {
         "customdata": [
          [
           "Spain",
           1981
          ],
          [
           "Spain",
           1991
          ],
          [
           "Spain",
           2004
          ],
          [
           "Spain",
           2005
          ],
          [
           "Spain",
           2006
          ],
          [
           "Spain",
           2007
          ],
          [
           "Spain",
           2008
          ],
          [
           "Spain",
           2009
          ],
          [
           "Spain",
           2010
          ],
          [
           "Spain",
           2011
          ],
          [
           "Spain",
           2012
          ],
          [
           "Spain",
           2013
          ],
          [
           "Spain",
           2014
          ],
          [
           "Spain",
           2015
          ],
          [
           "Spain",
           2016
          ],
          [
           "Spain",
           2018
          ],
          [
           "Spain",
           2020
          ]
         ],
         "hovertemplate": "Country Name=%{customdata[0]}<br>Literacy Rate (%)=%{x}<br>Life Expectancy (Years)=%{y}<br>Year=%{customdata[1]}<extra></extra>",
         "legendgroup": "Spain",
         "marker": {
          "color": "#B6E880",
          "symbol": "circle"
         },
         "mode": "markers",
         "name": "Spain",
         "showlegend": true,
         "type": "scattergl",
         "x": [
          90,
          95,
          96,
          97,
          97,
          97,
          97,
          97,
          97,
          97,
          97,
          97,
          97,
          98,
          98,
          98,
          98
         ],
         "xaxis": "x",
         "y": [
          78.74,
          80.7,
          83.2,
          83.5,
          84.1,
          84.1,
          84.3,
          84.6,
          84.7,
          85.6,
          85.5,
          86.1,
          86.2,
          85.7,
          86.3,
          86.3,
          85.2
         ],
         "yaxis": "y"
        },
        {
         "customdata": [
          [
           "Sri Lanka",
           1981
          ],
          [
           "Sri Lanka",
           2001
          ],
          [
           "Sri Lanka",
           2006
          ],
          [
           "Sri Lanka",
           2008
          ],
          [
           "Sri Lanka",
           2010
          ],
          [
           "Sri Lanka",
           2016
          ],
          [
           "Sri Lanka",
           2017
          ],
          [
           "Sri Lanka",
           2018
          ],
          [
           "Sri Lanka",
           2019
          ],
          [
           "Sri Lanka",
           2020
          ],
          [
           "Sri Lanka",
           2021
          ],
          [
           "Sri Lanka",
           2022
          ]
         ],
         "hovertemplate": "Country Name=%{customdata[0]}<br>Literacy Rate (%)=%{x}<br>Life Expectancy (Years)=%{y}<br>Year=%{customdata[1]}<extra></extra>",
         "legendgroup": "Sri Lanka",
         "marker": {
          "color": "#FF97FF",
          "symbol": "circle"
         },
         "mode": "markers",
         "name": "Sri Lanka",
         "showlegend": true,
         "type": "scattergl",
         "x": [
          82,
          89,
          89,
          89,
          90,
          91,
          91,
          91,
          92,
          92,
          92,
          92
         ],
         "xaxis": "x",
         "y": [
          72.525,
          75.608,
          77.11,
          77.5,
          77.596,
          79.355,
          79.317,
          79.493,
          79.743,
          80.111,
          79.502,
          80.23
         ],
         "yaxis": "y"
        },
        {
         "customdata": [
          [
           "Syrian Arab Republic",
           1981
          ],
          [
           "Syrian Arab Republic",
           2002
          ],
          [
           "Syrian Arab Republic",
           2004
          ],
          [
           "Syrian Arab Republic",
           2014
          ],
          [
           "Syrian Arab Republic",
           2021
          ]
         ],
         "hovertemplate": "Country Name=%{customdata[0]}<br>Literacy Rate (%)=%{x}<br>Life Expectancy (Years)=%{y}<br>Year=%{customdata[1]}<extra></extra>",
         "legendgroup": "Syrian Arab Republic",
         "marker": {
          "color": "#FECB52",
          "symbol": "circle"
         },
         "mode": "markers",
         "name": "Syrian Arab Republic",
         "showlegend": true,
         "type": "scattergl",
         "x": [
          37,
          74,
          74,
          80.9000015258789,
          92
         ],
         "xaxis": "x",
         "y": [
          66.802,
          74.356,
          74.752,
          68.945,
          75.175
         ],
         "yaxis": "y"
        },
        {
         "customdata": [
          [
           "Venezuela, RB",
           1981
          ],
          [
           "Venezuela, RB",
           1990
          ],
          [
           "Venezuela, RB",
           2001
          ],
          [
           "Venezuela, RB",
           2007
          ],
          [
           "Venezuela, RB",
           2009
          ],
          [
           "Venezuela, RB",
           2011
          ],
          [
           "Venezuela, RB",
           2015
          ],
          [
           "Venezuela, RB",
           2016
          ],
          [
           "Venezuela, RB",
           2022
          ]
         ],
         "hovertemplate": "Country Name=%{customdata[0]}<br>Literacy Rate (%)=%{x}<br>Life Expectancy (Years)=%{y}<br>Year=%{customdata[1]}<extra></extra>",
         "legendgroup": "Venezuela, RB",
         "marker": {
          "color": "#636efa",
          "symbol": "circle"
         },
         "mode": "markers",
         "name": "Venezuela, RB",
         "showlegend": true,
         "type": "scattergl",
         "x": [
          83,
          89,
          93,
          95,
          95,
          95,
          97,
          97,
          97.7300033569336
         ],
         "xaxis": "x",
         "y": [
          71.932,
          73.857,
          75.226,
          77.287,
          76.959,
          77.1,
          77.218,
          76.742,
          75.655
         ],
         "yaxis": "y"
        },
        {
         "customdata": [
          [
           "Chile",
           1982
          ],
          [
           "Chile",
           1992
          ],
          [
           "Chile",
           2002
          ],
          [
           "Chile",
           2011
          ],
          [
           "Chile",
           2013
          ],
          [
           "Chile",
           2015
          ],
          [
           "Chile",
           2017
          ],
          [
           "Chile",
           2022
          ]
         ],
         "hovertemplate": "Country Name=%{customdata[0]}<br>Literacy Rate (%)=%{x}<br>Life Expectancy (Years)=%{y}<br>Year=%{customdata[1]}<extra></extra>",
         "legendgroup": "Chile",
         "marker": {
          "color": "#EF553B",
          "symbol": "circle"
         },
         "mode": "markers",
         "name": "Chile",
         "showlegend": true,
         "type": "scattergl",
         "x": [
          91,
          94,
          96,
          97,
          96,
          97,
          96,
          97.120002746582
         ],
         "xaxis": "x",
         "y": [
          73.575,
          77.068,
          80.582,
          81.684,
          82.034,
          82.384,
          82.601,
          81.877
         ],
         "yaxis": "y"
        },
        {
         "customdata": [
          [
           "China",
           1982
          ],
          [
           "China",
           1990
          ],
          [
           "China",
           2000
          ],
          [
           "China",
           2010
          ],
          [
           "China",
           2020
          ]
         ],
         "hovertemplate": "Country Name=%{customdata[0]}<br>Literacy Rate (%)=%{x}<br>Life Expectancy (Years)=%{y}<br>Year=%{customdata[1]}<extra></extra>",
         "legendgroup": "China",
         "marker": {
          "color": "#00cc96",
          "symbol": "circle"
         },
         "mode": "markers",
         "name": "China",
         "showlegend": true,
         "type": "scattergl",
         "x": [
          51,
          68,
          87,
          93,
          95
         ],
         "xaxis": "x",
         "y": [
          67.807,
          70.424,
          74.189,
          78.326,
          81.058
         ],
         "yaxis": "y"
        },
        {
         "customdata": [
          [
           "Ecuador",
           1982
          ],
          [
           "Ecuador",
           1990
          ],
          [
           "Ecuador",
           2001
          ],
          [
           "Ecuador",
           2007
          ],
          [
           "Ecuador",
           2008
          ],
          [
           "Ecuador",
           2009
          ],
          [
           "Ecuador",
           2010
          ],
          [
           "Ecuador",
           2011
          ],
          [
           "Ecuador",
           2012
          ],
          [
           "Ecuador",
           2013
          ],
          [
           "Ecuador",
           2014
          ],
          [
           "Ecuador",
           2015
          ],
          [
           "Ecuador",
           2016
          ],
          [
           "Ecuador",
           2017
          ],
          [
           "Ecuador",
           2020
          ],
          [
           "Ecuador",
           2021
          ],
          [
           "Ecuador",
           2022
          ]
         ],
         "hovertemplate": "Country Name=%{customdata[0]}<br>Literacy Rate (%)=%{x}<br>Life Expectancy (Years)=%{y}<br>Year=%{customdata[1]}<extra></extra>",
         "legendgroup": "Ecuador",
         "marker": {
          "color": "#ab63fa",
          "symbol": "circle"
         },
         "mode": "markers",
         "name": "Ecuador",
         "showlegend": true,
         "type": "scattergl",
         "x": [
          80,
          86,
          90,
          91,
          91,
          91,
          90,
          90,
          91,
          92,
          93,
          93,
          93,
          92,
          92,
          94,
          93
         ],
         "xaxis": "x",
         "y": [
          66.402,
          72.512,
          76.329,
          77.947,
          78.116,
          78.308,
          78.488,
          78.675,
          78.842,
          78.997,
          79.124,
          79.209,
          79.137,
          79.395,
          76.056,
          77.462,
          80.481
         ],
         "yaxis": "y"
        },
        {
         "customdata": [
          [
           "Haiti",
           1982
          ],
          [
           "Haiti",
           2003
          ],
          [
           "Haiti",
           2006
          ],
          [
           "Haiti",
           2016
          ],
          [
           "Haiti",
           2017
          ]
         ],
         "hovertemplate": "Country Name=%{customdata[0]}<br>Literacy Rate (%)=%{x}<br>Life Expectancy (Years)=%{y}<br>Year=%{customdata[1]}<extra></extra>",
         "legendgroup": "Haiti",
         "marker": {
          "color": "#FFA15A",
          "symbol": "circle"
         },
         "mode": "markers",
         "name": "Haiti",
         "showlegend": true,
         "type": "scattergl",
         "x": [
          33,
          55,
          44.5994491577148,
          58.3005218505859,
          63.8743209838867
         ],
         "xaxis": "x",
         "y": [
          51.722,
          61.463,
          63.06,
          66.235,
          66.732
         ],
         "yaxis": "y"
        },
        {
         "customdata": [
          [
           "Morocco",
           1982
          ],
          [
           "Morocco",
           1994
          ],
          [
           "Morocco",
           2004
          ],
          [
           "Morocco",
           2008
          ],
          [
           "Morocco",
           2009
          ],
          [
           "Morocco",
           2011
          ],
          [
           "Morocco",
           2012
          ],
          [
           "Morocco",
           2014
          ],
          [
           "Morocco",
           2022
          ]
         ],
         "hovertemplate": "Country Name=%{customdata[0]}<br>Literacy Rate (%)=%{x}<br>Life Expectancy (Years)=%{y}<br>Year=%{customdata[1]}<extra></extra>",
         "legendgroup": "Morocco",
         "marker": {
          "color": "#19d3f3",
          "symbol": "circle"
         },
         "mode": "markers",
         "name": "Morocco",
         "showlegend": true,
         "type": "scattergl",
         "x": [
          18,
          29,
          40,
          43,
          44,
          58,
          59,
          53,
          69.0800018310547
         ],
         "xaxis": "x",
         "y": [
          58.207,
          65.986,
          69.869,
          71.757,
          72.142,
          73.023,
          73.525,
          74.39,
          77.177
         ],
         "yaxis": "y"
        },
        {
         "customdata": [
          [
           "Paraguay",
           1982
          ],
          [
           "Paraguay",
           1992
          ],
          [
           "Paraguay",
           2007
          ],
          [
           "Paraguay",
           2008
          ],
          [
           "Paraguay",
           2009
          ],
          [
           "Paraguay",
           2010
          ],
          [
           "Paraguay",
           2012
          ],
          [
           "Paraguay",
           2013
          ],
          [
           "Paraguay",
           2014
          ],
          [
           "Paraguay",
           2015
          ],
          [
           "Paraguay",
           2016
          ],
          [
           "Paraguay",
           2018
          ],
          [
           "Paraguay",
           2019
          ],
          [
           "Paraguay",
           2020
          ]
         ],
         "hovertemplate": "Country Name=%{customdata[0]}<br>Literacy Rate (%)=%{x}<br>Life Expectancy (Years)=%{y}<br>Year=%{customdata[1]}<extra></extra>",
         "legendgroup": "Paraguay",
         "marker": {
          "color": "#FF6692",
          "symbol": "circle"
         },
         "mode": "markers",
         "name": "Paraguay",
         "showlegend": true,
         "type": "scattergl",
         "x": [
          76,
          89,
          93,
          92,
          93,
          93,
          94,
          94,
          94,
          95,
          94,
          94,
          93,
          94
         ],
         "xaxis": "x",
         "y": [
          66.993,
          70.422,
          74.101,
          74.316,
          74.499,
          74.766,
          75.248,
          75.49,
          75.668,
          75.997,
          76.413,
          76.342,
          76.441,
          76.156
         ],
         "yaxis": "y"
        },
        {
         "customdata": [
          [
           "Zimbabwe",
           1982
          ],
          [
           "Zimbabwe",
           1992
          ],
          [
           "Zimbabwe",
           2011
          ],
          [
           "Zimbabwe",
           2014
          ],
          [
           "Zimbabwe",
           2019
          ],
          [
           "Zimbabwe",
           2022
          ]
         ],
         "hovertemplate": "Country Name=%{customdata[0]}<br>Literacy Rate (%)=%{x}<br>Life Expectancy (Years)=%{y}<br>Year=%{customdata[1]}<extra></extra>",
         "legendgroup": "Zimbabwe",
         "marker": {
          "color": "#B6E880",
          "symbol": "circle"
         },
         "mode": "markers",
         "name": "Zimbabwe",
         "showlegend": true,
         "type": "scattergl",
         "x": [
          72,
          79,
          80.0656585693359,
          88.2838287353516,
          93.3581237792969,
          91.1999969482422
         ],
         "xaxis": "x",
         "y": [
          62.193,
          59.28,
          55.438,
          60.844,
          63.661,
          62.094
         ],
         "yaxis": "y"
        },
        {
         "customdata": [
          [
           "Israel",
           1983
          ]
         ],
         "hovertemplate": "Country Name=%{customdata[0]}<br>Literacy Rate (%)=%{x}<br>Life Expectancy (Years)=%{y}<br>Year=%{customdata[1]}<extra></extra>",
         "legendgroup": "Israel",
         "marker": {
          "color": "#FF97FF",
          "symbol": "circle"
         },
         "mode": "markers",
         "name": "Israel",
         "showlegend": true,
         "type": "scattergl",
         "x": [
          89
         ],
         "xaxis": "x",
         "y": [
          76.2
         ],
         "yaxis": "y"
        },
        {
         "customdata": [
          [
           "Myanmar",
           1983
          ],
          [
           "Myanmar",
           2000
          ],
          [
           "Myanmar",
           2016
          ],
          [
           "Myanmar",
           2019
          ]
         ],
         "hovertemplate": "Country Name=%{customdata[0]}<br>Literacy Rate (%)=%{x}<br>Life Expectancy (Years)=%{y}<br>Year=%{customdata[1]}<extra></extra>",
         "legendgroup": "Myanmar",
         "marker": {
          "color": "#FECB52",
          "symbol": "circle"
         },
         "mode": "markers",
         "name": "Myanmar",
         "showlegend": true,
         "type": "scattergl",
         "x": [
          72,
          86,
          71.8469924926758,
          86
         ],
         "xaxis": "x",
         "y": [
          57.597,
          63.338,
          68.838,
          69.799
         ],
         "yaxis": "y"
        },
        {
         "customdata": [
          [
           "Congo, Rep.",
           1984
          ],
          [
           "Congo, Rep.",
           2005
          ],
          [
           "Congo, Rep.",
           2011
          ],
          [
           "Congo, Rep.",
           2021
          ]
         ],
         "hovertemplate": "Country Name=%{customdata[0]}<br>Literacy Rate (%)=%{x}<br>Life Expectancy (Years)=%{y}<br>Year=%{customdata[1]}<extra></extra>",
         "legendgroup": "Congo, Rep.",
         "marker": {
          "color": "#636efa",
          "symbol": "circle"
         },
         "mode": "markers",
         "name": "Congo, Rep.",
         "showlegend": true,
         "type": "scattergl",
         "x": [
          49,
          67,
          72.8770599365234,
          75.370002746582
         ],
         "xaxis": "x",
         "y": [
          60.369,
          58.747,
          63.135,
          64.935
         ],
         "yaxis": "y"
        },
        {
         "customdata": [
          [
           "Costa Rica",
           1984
          ],
          [
           "Costa Rica",
           2000
          ],
          [
           "Costa Rica",
           2011
          ],
          [
           "Costa Rica",
           2018
          ],
          [
           "Costa Rica",
           2021
          ]
         ],
         "hovertemplate": "Country Name=%{customdata[0]}<br>Literacy Rate (%)=%{x}<br>Life Expectancy (Years)=%{y}<br>Year=%{customdata[1]}<extra></extra>",
         "legendgroup": "Costa Rica",
         "marker": {
          "color": "#EF553B",
          "symbol": "circle"
         },
         "mode": "markers",
         "name": "Costa Rica",
         "showlegend": true,
         "type": "scattergl",
         "x": [
          93,
          95,
          98,
          94.118766784668,
          98.0999984741211
         ],
         "xaxis": "x",
         "y": [
          76.935,
          80.038,
          81.711,
          82.083,
          79.811
         ],
         "yaxis": "y"
        },
        {
         "customdata": [
          [
           "Liberia",
           1984
          ],
          [
           "Liberia",
           2007
          ],
          [
           "Liberia",
           2017
          ]
         ],
         "hovertemplate": "Country Name=%{customdata[0]}<br>Literacy Rate (%)=%{x}<br>Life Expectancy (Years)=%{y}<br>Year=%{customdata[1]}<extra></extra>",
         "legendgroup": "Liberia",
         "marker": {
          "color": "#00cc96",
          "symbol": "circle"
         },
         "mode": "markers",
         "name": "Liberia",
         "showlegend": true,
         "type": "scattergl",
         "x": [
          19,
          27.0349102020264,
          34.0922584533691
         ],
         "xaxis": "x",
         "y": [
          46.898,
          59.692,
          61.694
         ],
         "yaxis": "y"
        },
        {
         "customdata": [
          [
           "Libya",
           1984
          ],
          [
           "Libya",
           1994
          ]
         ],
         "hovertemplate": "Country Name=%{customdata[0]}<br>Literacy Rate (%)=%{x}<br>Life Expectancy (Years)=%{y}<br>Year=%{customdata[1]}<extra></extra>",
         "legendgroup": "Libya",
         "marker": {
          "color": "#ab63fa",
          "symbol": "circle"
         },
         "mode": "markers",
         "name": "Libya",
         "showlegend": true,
         "type": "scattergl",
         "x": [
          42,
          63.7000007629395
         ],
         "xaxis": "x",
         "y": [
          69.542,
          73.06
         ],
         "yaxis": "y"
        },
        {
         "customdata": [
          [
           "Tunisia",
           1984
          ],
          [
           "Tunisia",
           2004
          ],
          [
           "Tunisia",
           2007
          ],
          [
           "Tunisia",
           2008
          ],
          [
           "Tunisia",
           2010
          ],
          [
           "Tunisia",
           2011
          ],
          [
           "Tunisia",
           2012
          ],
          [
           "Tunisia",
           2014
          ],
          [
           "Tunisia",
           2018
          ],
          [
           "Tunisia",
           2019
          ],
          [
           "Tunisia",
           2022
          ]
         ],
         "hovertemplate": "Country Name=%{customdata[0]}<br>Literacy Rate (%)=%{x}<br>Life Expectancy (Years)=%{y}<br>Year=%{customdata[1]}<extra></extra>",
         "legendgroup": "Tunisia",
         "marker": {
          "color": "#FFA15A",
          "symbol": "circle"
         },
         "mode": "markers",
         "name": "Tunisia",
         "showlegend": true,
         "type": "scattergl",
         "x": [
          36,
          65,
          69,
          69,
          71,
          72,
          72,
          72,
          71.5483627319336,
          74,
          78.2611312866211
         ],
         "xaxis": "x",
         "y": [
          69.076,
          77.29,
          78.052,
          78.131,
          78.56,
          78.667,
          78.663,
          78.774,
          79.323,
          79.379,
          77.408
         ],
         "yaxis": "y"
        },
        {
         "customdata": [
          [
           "Malta",
           1985
          ],
          [
           "Malta",
           1995
          ],
          [
           "Malta",
           2005
          ],
          [
           "Malta",
           2011
          ],
          [
           "Malta",
           2021
          ]
         ],
         "hovertemplate": "Country Name=%{customdata[0]}<br>Literacy Rate (%)=%{x}<br>Life Expectancy (Years)=%{y}<br>Year=%{customdata[1]}<extra></extra>",
         "legendgroup": "Malta",
         "marker": {
          "color": "#19d3f3",
          "symbol": "circle"
         },
         "mode": "markers",
         "name": "Malta",
         "showlegend": true,
         "type": "scattergl",
         "x": [
          87,
          89,
          94,
          95,
          96.4199981689453
         ],
         "xaxis": "x",
         "y": [
          75.891,
          79.8,
          81.4,
          83,
          84.3
         ],
         "yaxis": "y"
        },
        {
         "customdata": [
          [
           "Qatar",
           1986
          ],
          [
           "Qatar",
           1997
          ],
          [
           "Qatar",
           2004
          ],
          [
           "Qatar",
           2007
          ],
          [
           "Qatar",
           2008
          ],
          [
           "Qatar",
           2009
          ],
          [
           "Qatar",
           2010
          ],
          [
           "Qatar",
           2011
          ],
          [
           "Qatar",
           2012
          ],
          [
           "Qatar",
           2013
          ],
          [
           "Qatar",
           2014
          ]
         ],
         "hovertemplate": "Country Name=%{customdata[0]}<br>Literacy Rate (%)=%{x}<br>Life Expectancy (Years)=%{y}<br>Year=%{customdata[1]}<extra></extra>",
         "legendgroup": "Qatar",
         "marker": {
          "color": "#FF6692",
          "symbol": "circle"
         },
         "mode": "markers",
         "name": "Qatar",
         "showlegend": true,
         "type": "scattergl",
         "x": [
          72,
          81,
          89,
          90,
          93,
          93,
          95,
          96,
          96,
          97,
          98
         ],
         "xaxis": "x",
         "y": [
          73.991,
          76.305,
          77.736,
          79.734,
          79.94,
          80.232,
          80.492,
          80.538,
          80.679,
          81.243,
          81.415
         ],
         "yaxis": "y"
        },
        {
         "customdata": [
          [
           "Algeria",
           1987
          ],
          [
           "Algeria",
           2002
          ],
          [
           "Algeria",
           2006
          ],
          [
           "Algeria",
           2008
          ],
          [
           "Algeria",
           2018
          ],
          [
           "Algeria",
           2019
          ]
         ],
         "hovertemplate": "Country Name=%{customdata[0]}<br>Literacy Rate (%)=%{x}<br>Life Expectancy (Years)=%{y}<br>Year=%{customdata[1]}<extra></extra>",
         "legendgroup": "Algeria",
         "marker": {
          "color": "#B6E880",
          "symbol": "circle"
         },
         "mode": "markers",
         "name": "Algeria",
         "showlegend": true,
         "type": "scattergl",
         "x": [
          36,
          60,
          64,
          68,
          75.3229675292969,
          74.2101974487305
         ],
         "xaxis": "x",
         "y": [
          67.239,
          72.559,
          73.379,
          74.071,
          77.205,
          77.76
         ],
         "yaxis": "y"
        },
        {
         "customdata": [
          [
           "Malawi",
           1987
          ],
          [
           "Malawi",
           1998
          ],
          [
           "Malawi",
           2010
          ],
          [
           "Malawi",
           2014
          ],
          [
           "Malawi",
           2015
          ],
          [
           "Malawi",
           2020
          ],
          [
           "Malawi",
           2022
          ]
         ],
         "hovertemplate": "Country Name=%{customdata[0]}<br>Literacy Rate (%)=%{x}<br>Life Expectancy (Years)=%{y}<br>Year=%{customdata[1]}<extra></extra>",
         "legendgroup": "Malawi",
         "marker": {
          "color": "#FF97FF",
          "symbol": "circle"
         },
         "mode": "markers",
         "name": "Malawi",
         "showlegend": true,
         "type": "scattergl",
         "x": [
          34,
          54,
          51.2519683837891,
          55.130989074707,
          55.2041091918945,
          62.6842613220215,
          65.0899963378906
         ],
         "xaxis": "x",
         "y": [
          45.838,
          44.925,
          58.41,
          64.34,
          64.659,
          67.597,
          66.326
         ],
         "yaxis": "y"
        },
        {
         "customdata": [
          [
           "Seychelles",
           1987
          ],
          [
           "Seychelles",
           1994
          ],
          [
           "Seychelles",
           2002
          ],
          [
           "Seychelles",
           2010
          ],
          [
           "Seychelles",
           2020
          ]
         ],
         "hovertemplate": "Country Name=%{customdata[0]}<br>Literacy Rate (%)=%{x}<br>Life Expectancy (Years)=%{y}<br>Year=%{customdata[1]}<extra></extra>",
         "legendgroup": "Seychelles",
         "marker": {
          "color": "#FECB52",
          "symbol": "circle"
         },
         "mode": "markers",
         "name": "Seychelles",
         "showlegend": true,
         "type": "scattergl",
         "x": [
          85,
          89,
          92,
          94,
          96.6999969482422
         ],
         "xaxis": "x",
         "y": [
          73,
          75.8,
          75.8,
          77.5,
          82
         ],
         "yaxis": "y"
        },
        {
         "customdata": [
          [
           "Cote d'Ivoire",
           1988
          ],
          [
           "Cote d'Ivoire",
           1998
          ],
          [
           "Cote d'Ivoire",
           2000
          ],
          [
           "Cote d'Ivoire",
           2012
          ],
          [
           "Cote d'Ivoire",
           2014
          ],
          [
           "Cote d'Ivoire",
           2016
          ],
          [
           "Cote d'Ivoire",
           2019
          ],
          [
           "Cote d'Ivoire",
           2021
          ]
         ],
         "hovertemplate": "Country Name=%{customdata[0]}<br>Literacy Rate (%)=%{x}<br>Life Expectancy (Years)=%{y}<br>Year=%{customdata[1]}<extra></extra>",
         "legendgroup": "Cote d'Ivoire",
         "marker": {
          "color": "#636efa",
          "symbol": "circle"
         },
         "mode": "markers",
         "name": "Cote d'Ivoire",
         "showlegend": true,
         "type": "scattergl",
         "x": [
          23,
          28,
          39,
          30.4617195129395,
          37,
          40.7476615905762,
          87,
          40.2550888061523
         ],
         "xaxis": "x",
         "y": [
          55.272,
          52.973,
          52.346,
          57.339,
          58.263,
          59.069,
          60.59,
          59.941
         ],
         "yaxis": "y"
        },
        {
         "customdata": [
          [
           "Senegal",
           1988
          ],
          [
           "Senegal",
           2002
          ],
          [
           "Senegal",
           2006
          ],
          [
           "Senegal",
           2009
          ],
          [
           "Senegal",
           2011
          ],
          [
           "Senegal",
           2013
          ],
          [
           "Senegal",
           2015
          ],
          [
           "Senegal",
           2016
          ],
          [
           "Senegal",
           2017
          ],
          [
           "Senegal",
           2018
          ],
          [
           "Senegal",
           2019
          ],
          [
           "Senegal",
           2022
          ]
         ],
         "hovertemplate": "Country Name=%{customdata[0]}<br>Literacy Rate (%)=%{x}<br>Life Expectancy (Years)=%{y}<br>Year=%{customdata[1]}<extra></extra>",
         "legendgroup": "Senegal",
         "marker": {
          "color": "#EF553B",
          "symbol": "circle"
         },
         "mode": "markers",
         "name": "Senegal",
         "showlegend": true,
         "type": "scattergl",
         "x": [
          18,
          29,
          33,
          37,
          40,
          34,
          35.1685104370117,
          37.6722793579102,
          40,
          40.578800201416,
          38.5151901245117,
          47.0800018310547
         ],
         "xaxis": "x",
         "y": [
          57.937,
          59.251,
          62.979,
          65.524,
          67.174,
          68.236,
          69.085,
          69.787,
          70.066,
          70.258,
          70.954,
          70.2
         ],
         "yaxis": "y"
        },
        {
         "customdata": [
          [
           "Tanzania",
           1988
          ],
          [
           "Tanzania",
           2002
          ],
          [
           "Tanzania",
           2010
          ],
          [
           "Tanzania",
           2012
          ],
          [
           "Tanzania",
           2015
          ],
          [
           "Tanzania",
           2022
          ]
         ],
         "hovertemplate": "Country Name=%{customdata[0]}<br>Literacy Rate (%)=%{x}<br>Life Expectancy (Years)=%{y}<br>Year=%{customdata[1]}<extra></extra>",
         "legendgroup": "Tanzania",
         "marker": {
          "color": "#00cc96",
          "symbol": "circle"
         },
         "mode": "markers",
         "name": "Tanzania",
         "showlegend": true,
         "type": "scattergl",
         "x": [
          48,
          62,
          60.7526206970215,
          73,
          73,
          78.6999969482422
         ],
         "xaxis": "x",
         "y": [
          54.051,
          55.086,
          61.914,
          64.218,
          67.029,
          68.93
         ],
         "yaxis": "y"
        },
        {
         "customdata": [
          [
           "Armenia",
           1989
          ],
          [
           "Armenia",
           2001
          ],
          [
           "Armenia",
           2011
          ],
          [
           "Armenia",
           2016
          ],
          [
           "Armenia",
           2017
          ],
          [
           "Armenia",
           2020
          ]
         ],
         "hovertemplate": "Country Name=%{customdata[0]}<br>Literacy Rate (%)=%{x}<br>Life Expectancy (Years)=%{y}<br>Year=%{customdata[1]}<extra></extra>",
         "legendgroup": "Armenia",
         "marker": {
          "color": "#ab63fa",
          "symbol": "circle"
         },
         "mode": "markers",
         "name": "Armenia",
         "showlegend": true,
         "type": "scattergl",
         "x": [
          98,
          99,
          100,
          100,
          100,
          100
         ],
         "xaxis": "x",
         "y": [
          71.877,
          74.587,
          77.713,
          79.203,
          79.381,
          76.996
         ],
         "yaxis": "y"
        },
        {
         "customdata": [
          [
           "Belarus",
           1989
          ],
          [
           "Belarus",
           1999
          ],
          [
           "Belarus",
           2009
          ],
          [
           "Belarus",
           2019
          ]
         ],
         "hovertemplate": "Country Name=%{customdata[0]}<br>Literacy Rate (%)=%{x}<br>Life Expectancy (Years)=%{y}<br>Year=%{customdata[1]}<extra></extra>",
         "legendgroup": "Belarus",
         "marker": {
          "color": "#FFA15A",
          "symbol": "circle"
         },
         "mode": "markers",
         "name": "Belarus",
         "showlegend": true,
         "type": "scattergl",
         "x": [
          97,
          99,
          99,
          100
         ],
         "xaxis": "x",
         "y": [
          76.4,
          73.9,
          76.4,
          79.4
         ],
         "yaxis": "y"
        },
        {
         "customdata": [
          [
           "Estonia",
           1989
          ],
          [
           "Estonia",
           2000
          ],
          [
           "Estonia",
           2011
          ],
          [
           "Estonia",
           2021
          ]
         ],
         "hovertemplate": "Country Name=%{customdata[0]}<br>Literacy Rate (%)=%{x}<br>Life Expectancy (Years)=%{y}<br>Year=%{customdata[1]}<extra></extra>",
         "legendgroup": "Estonia",
         "marker": {
          "color": "#19d3f3",
          "symbol": "circle"
         },
         "mode": "markers",
         "name": "Estonia",
         "showlegend": true,
         "type": "scattergl",
         "x": [
          100,
          100,
          100,
          99.879997253418
         ],
         "xaxis": "x",
         "y": [
          74.7,
          76,
          81.3,
          81.4
         ],
         "yaxis": "y"
        },
        {
         "customdata": [
          [
           "Kazakhstan",
           1989
          ],
          [
           "Kazakhstan",
           1999
          ],
          [
           "Kazakhstan",
           2009
          ],
          [
           "Kazakhstan",
           2010
          ],
          [
           "Kazakhstan",
           2020
          ]
         ],
         "hovertemplate": "Country Name=%{customdata[0]}<br>Literacy Rate (%)=%{x}<br>Life Expectancy (Years)=%{y}<br>Year=%{customdata[1]}<extra></extra>",
         "legendgroup": "Kazakhstan",
         "marker": {
          "color": "#FF6692",
          "symbol": "circle"
         },
         "mode": "markers",
         "name": "Kazakhstan",
         "showlegend": true,
         "type": "scattergl",
         "x": [
          96,
          99,
          100,
          99.7389907836914,
          99.8000030517578
         ],
         "xaxis": "x",
         "y": [
          72.9,
          70.9,
          73.25,
          73.41,
          75.53
         ],
         "yaxis": "y"
        },
        {
         "customdata": [
          [
           "Latvia",
           1989
          ],
          [
           "Latvia",
           2000
          ],
          [
           "Latvia",
           2011
          ],
          [
           "Latvia",
           2021
          ]
         ],
         "hovertemplate": "Country Name=%{customdata[0]}<br>Literacy Rate (%)=%{x}<br>Life Expectancy (Years)=%{y}<br>Year=%{customdata[1]}<extra></extra>",
         "legendgroup": "Latvia",
         "marker": {
          "color": "#B6E880",
          "symbol": "circle"
         },
         "mode": "markers",
         "name": "Latvia",
         "showlegend": true,
         "type": "scattergl",
         "x": [
          99,
          100,
          100,
          99.9100036621094
         ],
         "xaxis": "x",
         "y": [
          75.18,
          76,
          78.8,
          78
         ],
         "yaxis": "y"
        },
        {
         "customdata": [
          [
           "Lithuania",
           1989
          ],
          [
           "Lithuania",
           2001
          ],
          [
           "Lithuania",
           2011
          ],
          [
           "Lithuania",
           2021
          ]
         ],
         "hovertemplate": "Country Name=%{customdata[0]}<br>Literacy Rate (%)=%{x}<br>Life Expectancy (Years)=%{y}<br>Year=%{customdata[1]}<extra></extra>",
         "legendgroup": "Lithuania",
         "marker": {
          "color": "#FF97FF",
          "symbol": "circle"
         },
         "mode": "markers",
         "name": "Lithuania",
         "showlegend": true,
         "type": "scattergl",
         "x": [
          98,
          100,
          100,
          99.8499984741211
         ],
         "xaxis": "x",
         "y": [
          76.24,
          77.6,
          79.3,
          78.8
         ],
         "yaxis": "y"
        },
        {
         "customdata": [
          [
           "Moldova",
           1989
          ],
          [
           "Moldova",
           2000
          ],
          [
           "Moldova",
           2014
          ],
          [
           "Moldova",
           2021
          ]
         ],
         "hovertemplate": "Country Name=%{customdata[0]}<br>Literacy Rate (%)=%{x}<br>Life Expectancy (Years)=%{y}<br>Year=%{customdata[1]}<extra></extra>",
         "legendgroup": "Moldova",
         "marker": {
          "color": "#FECB52",
          "symbol": "circle"
         },
         "mode": "markers",
         "name": "Moldova",
         "showlegend": true,
         "type": "scattergl",
         "x": [
          94,
          95,
          99,
          99.5
         ],
         "xaxis": "x",
         "y": [
          72.121,
          70.035,
          73.524,
          73.547
         ],
         "yaxis": "y"
        },
        {
         "customdata": [
          [
           "Russian Federation",
           1989
          ],
          [
           "Russian Federation",
           2002
          ],
          [
           "Russian Federation",
           2010
          ],
          [
           "Russian Federation",
           2021
          ]
         ],
         "hovertemplate": "Country Name=%{customdata[0]}<br>Literacy Rate (%)=%{x}<br>Life Expectancy (Years)=%{y}<br>Year=%{customdata[1]}<extra></extra>",
         "legendgroup": "Russian Federation",
         "marker": {
          "color": "#636efa",
          "symbol": "circle"
         },
         "mode": "markers",
         "name": "Russian Federation",
         "showlegend": true,
         "type": "scattergl",
         "x": [
          97,
          99,
          100,
          100
         ],
         "xaxis": "x",
         "y": [
          74.35,
          71.9,
          74.88,
          74.51
         ],
         "yaxis": "y"
        },
        {
         "customdata": [
          [
           "Tajikistan",
           1989
          ],
          [
           "Tajikistan",
           2000
          ],
          [
           "Tajikistan",
           2010
          ],
          [
           "Tajikistan",
           2017
          ]
         ],
         "hovertemplate": "Country Name=%{customdata[0]}<br>Literacy Rate (%)=%{x}<br>Life Expectancy (Years)=%{y}<br>Year=%{customdata[1]}<extra></extra>",
         "legendgroup": "Tajikistan",
         "marker": {
          "color": "#EF553B",
          "symbol": "circle"
         },
         "mode": "markers",
         "name": "Tajikistan",
         "showlegend": true,
         "type": "scattergl",
         "x": [
          97,
          99,
          99.5999984741211,
          94.6219482421875
         ],
         "xaxis": "x",
         "y": [
          64.533,
          65.956,
          70.353,
          72.34
         ],
         "yaxis": "y"
        },
        {
         "customdata": [
          [
           "Cabo Verde",
           1990
          ],
          [
           "Cabo Verde",
           2000
          ],
          [
           "Cabo Verde",
           2012
          ],
          [
           "Cabo Verde",
           2015
          ],
          [
           "Cabo Verde",
           2022
          ]
         ],
         "hovertemplate": "Country Name=%{customdata[0]}<br>Literacy Rate (%)=%{x}<br>Life Expectancy (Years)=%{y}<br>Year=%{customdata[1]}<extra></extra>",
         "legendgroup": "Cabo Verde",
         "marker": {
          "color": "#00cc96",
          "symbol": "circle"
         },
         "mode": "markers",
         "name": "Cabo Verde",
         "showlegend": true,
         "type": "scattergl",
         "x": [
          53,
          69.4445571899414,
          80,
          82,
          87.6100006103516
         ],
         "xaxis": "x",
         "y": [
          66.578,
          71.74,
          78.162,
          79.037,
          79.011
         ],
         "yaxis": "y"
        },
        {
         "customdata": [
          [
           "Mauritius",
           1990
          ],
          [
           "Mauritius",
           2000
          ],
          [
           "Mauritius",
           2011
          ],
          [
           "Mauritius",
           2012
          ],
          [
           "Mauritius",
           2013
          ],
          [
           "Mauritius",
           2014
          ],
          [
           "Mauritius",
           2015
          ],
          [
           "Mauritius",
           2016
          ],
          [
           "Mauritius",
           2021
          ]
         ],
         "hovertemplate": "Country Name=%{customdata[0]}<br>Literacy Rate (%)=%{x}<br>Life Expectancy (Years)=%{y}<br>Year=%{customdata[1]}<extra></extra>",
         "legendgroup": "Mauritius",
         "marker": {
          "color": "#ab63fa",
          "symbol": "circle"
         },
         "mode": "markers",
         "name": "Mauritius",
         "showlegend": true,
         "type": "scattergl",
         "x": [
          75,
          81,
          87,
          89,
          89,
          90,
          91,
          91,
          90.4599990844727
         ],
         "xaxis": "x",
         "y": [
          73.4,
          75.3,
          76.97,
          77.5,
          77.5,
          77.58,
          77.79,
          77.76,
          77.24
         ],
         "yaxis": "y"
        },
        {
         "customdata": [
          [
           "Zambia",
           1990
          ],
          [
           "Zambia",
           1999
          ],
          [
           "Zambia",
           2002
          ],
          [
           "Zambia",
           2007
          ],
          [
           "Zambia",
           2010
          ],
          [
           "Zambia",
           2018
          ],
          [
           "Zambia",
           2020
          ]
         ],
         "hovertemplate": "Country Name=%{customdata[0]}<br>Literacy Rate (%)=%{x}<br>Life Expectancy (Years)=%{y}<br>Year=%{customdata[1]}<extra></extra>",
         "legendgroup": "Zambia",
         "marker": {
          "color": "#FFA15A",
          "symbol": "circle"
         },
         "mode": "markers",
         "name": "Zambia",
         "showlegend": true,
         "type": "scattergl",
         "x": [
          57,
          60,
          62,
          51.7869682312012,
          78,
          62.1824989318848,
          84.3000030517578
         ],
         "xaxis": "x",
         "y": [
          49.293,
          45.777,
          48.05,
          53.869,
          58.533,
          64.916,
          65.043
         ],
         "yaxis": "y"
        },
        {
         "customdata": [
          [
           "Belize",
           1991
          ],
          [
           "Belize",
           2001
          ],
          [
           "Belize",
           2015
          ]
         ],
         "hovertemplate": "Country Name=%{customdata[0]}<br>Literacy Rate (%)=%{x}<br>Life Expectancy (Years)=%{y}<br>Year=%{customdata[1]}<extra></extra>",
         "legendgroup": "Belize",
         "marker": {
          "color": "#19d3f3",
          "symbol": "circle"
         },
         "mode": "markers",
         "name": "Belize",
         "showlegend": true,
         "type": "scattergl",
         "x": [
          70,
          81.3000030517578,
          91.6316070556641
         ],
         "xaxis": "x",
         "y": [
          71.906,
          70.95,
          76.486
         ],
         "yaxis": "y"
        },
        {
         "customdata": [
          [
           "Bosnia and Herzegovina",
           1991
          ],
          [
           "Bosnia and Herzegovina",
           2000
          ],
          [
           "Bosnia and Herzegovina",
           2011
          ],
          [
           "Bosnia and Herzegovina",
           2013
          ],
          [
           "Bosnia and Herzegovina",
           2022
          ]
         ],
         "hovertemplate": "Country Name=%{customdata[0]}<br>Literacy Rate (%)=%{x}<br>Life Expectancy (Years)=%{y}<br>Year=%{customdata[1]}<extra></extra>",
         "legendgroup": "Bosnia and Herzegovina",
         "marker": {
          "color": "#FF6692",
          "symbol": "circle"
         },
         "mode": "markers",
         "name": "Bosnia and Herzegovina",
         "showlegend": true,
         "type": "scattergl",
         "x": [
          82,
          94,
          96.8037109375,
          95,
          97.0999984741211
         ],
         "xaxis": "x",
         "y": [
          75.314,
          77.311,
          79.382,
          78.624,
          77.498
         ],
         "yaxis": "y"
        },
        {
         "customdata": [
          [
           "Botswana",
           1991
          ],
          [
           "Botswana",
           2003
          ],
          [
           "Botswana",
           2013
          ]
         ],
         "hovertemplate": "Country Name=%{customdata[0]}<br>Literacy Rate (%)=%{x}<br>Life Expectancy (Years)=%{y}<br>Year=%{customdata[1]}<extra></extra>",
         "legendgroup": "Botswana",
         "marker": {
          "color": "#B6E880",
          "symbol": "circle"
         },
         "mode": "markers",
         "name": "Botswana",
         "showlegend": true,
         "type": "scattergl",
         "x": [
          71,
          82,
          87.4512100219727
         ],
         "xaxis": "x",
         "y": [
          63.018,
          52.648,
          64.637
         ],
         "yaxis": "y"
        },
        {
         "customdata": [
          [
           "Croatia",
           1991
          ],
          [
           "Croatia",
           2001
          ],
          [
           "Croatia",
           2021
          ]
         ],
         "hovertemplate": "Country Name=%{customdata[0]}<br>Literacy Rate (%)=%{x}<br>Life Expectancy (Years)=%{y}<br>Year=%{customdata[1]}<extra></extra>",
         "legendgroup": "Croatia",
         "marker": {
          "color": "#FF97FF",
          "symbol": "circle"
         },
         "mode": "markers",
         "name": "Croatia",
         "showlegend": true,
         "type": "scattergl",
         "x": [
          95,
          97,
          99.2399978637695
         ],
         "xaxis": "x",
         "y": [
          75.95,
          78.17,
          79.6
         ],
         "yaxis": "y"
        },
        {
         "customdata": [
          [
           "Namibia",
           1991
          ],
          [
           "Namibia",
           2001
          ],
          [
           "Namibia",
           2007
          ],
          [
           "Namibia",
           2011
          ],
          [
           "Namibia",
           2021
          ]
         ],
         "hovertemplate": "Country Name=%{customdata[0]}<br>Literacy Rate (%)=%{x}<br>Life Expectancy (Years)=%{y}<br>Year=%{customdata[1]}<extra></extra>",
         "legendgroup": "Namibia",
         "marker": {
          "color": "#FECB52",
          "symbol": "circle"
         },
         "mode": "markers",
         "name": "Namibia",
         "showlegend": true,
         "type": "scattergl",
         "x": [
          74,
          84,
          78.3509826660156,
          88,
          92.3300018310547
         ],
         "xaxis": "x",
         "y": [
          64.933,
          53.042,
          56.201,
          59.502,
          62.985
         ],
         "yaxis": "y"
        },
        {
         "customdata": [
          [
           "Nigeria",
           1991
          ],
          [
           "Nigeria",
           2003
          ],
          [
           "Nigeria",
           2006
          ],
          [
           "Nigeria",
           2008
          ],
          [
           "Nigeria",
           2016
          ],
          [
           "Nigeria",
           2018
          ],
          [
           "Nigeria",
           2021
          ]
         ],
         "hovertemplate": "Country Name=%{customdata[0]}<br>Literacy Rate (%)=%{x}<br>Life Expectancy (Years)=%{y}<br>Year=%{customdata[1]}<extra></extra>",
         "legendgroup": "Nigeria",
         "marker": {
          "color": "#636efa",
          "symbol": "circle"
         },
         "mode": "markers",
         "name": "Nigeria",
         "showlegend": true,
         "type": "scattergl",
         "x": [
          44,
          43,
          64,
          41.3867607116699,
          49.0559501647949,
          52.6564788818359,
          53.25244140625
         ],
         "xaxis": "x",
         "y": [
          47.27,
          49.54,
          50.575,
          50.773,
          52.229,
          52.77,
          53.07
         ],
         "yaxis": "y"
        },
        {
         "customdata": [
          [
           "Samoa",
           1991
          ],
          [
           "Samoa",
           2011
          ],
          [
           "Samoa",
           2019
          ],
          [
           "Samoa",
           2021
          ]
         ],
         "hovertemplate": "Country Name=%{customdata[0]}<br>Literacy Rate (%)=%{x}<br>Life Expectancy (Years)=%{y}<br>Year=%{customdata[1]}<extra></extra>",
         "legendgroup": "Samoa",
         "marker": {
          "color": "#EF553B",
          "symbol": "circle"
         },
         "mode": "markers",
         "name": "Samoa",
         "showlegend": true,
         "type": "scattergl",
         "x": [
          97,
          99,
          97.6584167480469,
          99.3000030517578
         ],
         "xaxis": "x",
         "y": [
          71.2,
          74.983,
          74.805,
          75.503
         ],
         "yaxis": "y"
        },
        {
         "customdata": [
          [
           "Slovenia",
           1991
          ],
          [
           "Slovenia",
           2001
          ]
         ],
         "hovertemplate": "Country Name=%{customdata[0]}<br>Literacy Rate (%)=%{x}<br>Life Expectancy (Years)=%{y}<br>Year=%{customdata[1]}<extra></extra>",
         "legendgroup": "Slovenia",
         "marker": {
          "color": "#00cc96",
          "symbol": "circle"
         },
         "mode": "markers",
         "name": "Slovenia",
         "showlegend": true,
         "type": "scattergl",
         "x": [
          99,
          99.5999984741211
         ],
         "xaxis": "x",
         "y": [
          77.4,
          79.6
         ],
         "yaxis": "y"
        },
        {
         "customdata": [
          [
           "Uganda",
           1991
          ],
          [
           "Uganda",
           2002
          ],
          [
           "Uganda",
           2006
          ],
          [
           "Uganda",
           2010
          ],
          [
           "Uganda",
           2012
          ],
          [
           "Uganda",
           2016
          ],
          [
           "Uganda",
           2022
          ]
         ],
         "hovertemplate": "Country Name=%{customdata[0]}<br>Literacy Rate (%)=%{x}<br>Life Expectancy (Years)=%{y}<br>Year=%{customdata[1]}<extra></extra>",
         "legendgroup": "Uganda",
         "marker": {
          "color": "#ab63fa",
          "symbol": "circle"
         },
         "mode": "markers",
         "name": "Uganda",
         "showlegend": true,
         "type": "scattergl",
         "x": [
          45,
          59,
          62,
          65,
          62,
          60.9974403381348,
          76.5299987792969
         ],
         "xaxis": "x",
         "y": [
          48.789,
          51.578,
          55.885,
          58.768,
          60.76,
          63.809,
          65.703
         ],
         "yaxis": "y"
        },
        {
         "customdata": [
          [
           "Cyprus",
           1992
          ],
          [
           "Cyprus",
           2001
          ],
          [
           "Cyprus",
           2011
          ],
          [
           "Cyprus",
           2021
          ]
         ],
         "hovertemplate": "Country Name=%{customdata[0]}<br>Literacy Rate (%)=%{x}<br>Life Expectancy (Years)=%{y}<br>Year=%{customdata[1]}<extra></extra>",
         "legendgroup": "Cyprus",
         "marker": {
          "color": "#FFA15A",
          "symbol": "circle"
         },
         "mode": "markers",
         "name": "Cyprus",
         "showlegend": true,
         "type": "scattergl",
         "x": [
          91,
          95,
          98,
          99.1500015258789
         ],
         "xaxis": "x",
         "y": [
          76.139,
          79.02,
          82.336,
          83.204
         ],
         "yaxis": "y"
        },
        {
         "customdata": [
          [
           "El Salvador",
           1992
          ],
          [
           "El Salvador",
           2006
          ],
          [
           "El Salvador",
           2007
          ],
          [
           "El Salvador",
           2008
          ],
          [
           "El Salvador",
           2009
          ],
          [
           "El Salvador",
           2010
          ],
          [
           "El Salvador",
           2011
          ],
          [
           "El Salvador",
           2013
          ],
          [
           "El Salvador",
           2015
          ],
          [
           "El Salvador",
           2016
          ],
          [
           "El Salvador",
           2017
          ],
          [
           "El Salvador",
           2018
          ],
          [
           "El Salvador",
           2019
          ],
          [
           "El Salvador",
           2020
          ]
         ],
         "hovertemplate": "Country Name=%{customdata[0]}<br>Literacy Rate (%)=%{x}<br>Life Expectancy (Years)=%{y}<br>Year=%{customdata[1]}<extra></extra>",
         "legendgroup": "El Salvador",
         "marker": {
          "color": "#19d3f3",
          "symbol": "circle"
         },
         "mode": "markers",
         "name": "El Salvador",
         "showlegend": true,
         "type": "scattergl",
         "x": [
          71,
          81,
          80,
          81,
          82,
          82,
          83,
          85,
          86,
          86,
          87,
          87,
          87,
          89
         ],
         "xaxis": "x",
         "y": [
          69.713,
          75.401,
          75.677,
          75.92,
          75.961,
          76.213,
          76.189,
          76.158,
          76.572,
          77.075,
          77.494,
          77.488,
          76.776,
          75.413
         ],
         "yaxis": "y"
        },
        {
         "customdata": [
          [
           "Romania",
           1992
          ],
          [
           "Romania",
           2002
          ],
          [
           "Romania",
           2011
          ],
          [
           "Romania",
           2021
          ]
         ],
         "hovertemplate": "Country Name=%{customdata[0]}<br>Literacy Rate (%)=%{x}<br>Life Expectancy (Years)=%{y}<br>Year=%{customdata[1]}<extra></extra>",
         "legendgroup": "Romania",
         "marker": {
          "color": "#FF6692",
          "symbol": "circle"
         },
         "mode": "markers",
         "name": "Romania",
         "showlegend": true,
         "type": "scattergl",
         "x": [
          95,
          96,
          98,
          99
         ],
         "xaxis": "x",
         "y": [
          73.17,
          74.8,
          78.2,
          76.6
         ],
         "yaxis": "y"
        },
        {
         "customdata": [
          [
           "Saudi Arabia",
           1992
          ],
          [
           "Saudi Arabia",
           2000
          ],
          [
           "Saudi Arabia",
           2004
          ],
          [
           "Saudi Arabia",
           2013
          ],
          [
           "Saudi Arabia",
           2017
          ],
          [
           "Saudi Arabia",
           2020
          ]
         ],
         "hovertemplate": "Country Name=%{customdata[0]}<br>Literacy Rate (%)=%{x}<br>Life Expectancy (Years)=%{y}<br>Year=%{customdata[1]}<extra></extra>",
         "legendgroup": "Saudi Arabia",
         "marker": {
          "color": "#B6E880",
          "symbol": "circle"
         },
         "mode": "markers",
         "name": "Saudi Arabia",
         "showlegend": true,
         "type": "scattergl",
         "x": [
          57,
          69,
          76,
          91,
          93,
          96
         ],
         "xaxis": "x",
         "y": [
          71.876,
          74.394,
          75.953,
          78.254,
          78.796,
          77.992
         ],
         "yaxis": "y"
        },
        {
         "customdata": [
          [
           "Chad",
           1993
          ],
          [
           "Chad",
           2000
          ],
          [
           "Chad",
           2004
          ],
          [
           "Chad",
           2015
          ],
          [
           "Chad",
           2016
          ],
          [
           "Chad",
           2019
          ],
          [
           "Chad",
           2022
          ]
         ],
         "hovertemplate": "Country Name=%{customdata[0]}<br>Literacy Rate (%)=%{x}<br>Life Expectancy (Years)=%{y}<br>Year=%{customdata[1]}<extra></extra>",
         "legendgroup": "Chad",
         "marker": {
          "color": "#FF97FF",
          "symbol": "circle"
         },
         "mode": "markers",
         "name": "Chad",
         "showlegend": true,
         "type": "scattergl",
         "x": [
          5,
          13,
          18,
          13.9334096908569,
          14,
          18.6425495147705,
          18.8700008392334
         ],
         "xaxis": "x",
         "y": [
          47.438,
          48.557,
          49.313,
          53.132,
          53.317,
          54.908,
          54.769
         ],
         "yaxis": "y"
        },
        {
         "customdata": [
          [
           "Colombia",
           1993
          ],
          [
           "Colombia",
           1996
          ],
          [
           "Colombia",
           2004
          ],
          [
           "Colombia",
           2005
          ],
          [
           "Colombia",
           2006
          ],
          [
           "Colombia",
           2007
          ],
          [
           "Colombia",
           2008
          ],
          [
           "Colombia",
           2009
          ],
          [
           "Colombia",
           2010
          ],
          [
           "Colombia",
           2011
          ],
          [
           "Colombia",
           2014
          ],
          [
           "Colombia",
           2015
          ],
          [
           "Colombia",
           2016
          ],
          [
           "Colombia",
           2018
          ],
          [
           "Colombia",
           2019
          ],
          [
           "Colombia",
           2020
          ]
         ],
         "hovertemplate": "Country Name=%{customdata[0]}<br>Literacy Rate (%)=%{x}<br>Life Expectancy (Years)=%{y}<br>Year=%{customdata[1]}<extra></extra>",
         "legendgroup": "Colombia",
         "marker": {
          "color": "#FECB52",
          "symbol": "circle"
         },
         "mode": "markers",
         "name": "Colombia",
         "showlegend": true,
         "type": "scattergl",
         "x": [
          91,
          91,
          93,
          93,
          92,
          93,
          93,
          93,
          93,
          94,
          94,
          94,
          95,
          95,
          95,
          96
         ],
         "xaxis": "x",
         "y": [
          73.757,
          74.5,
          76.495,
          76.766,
          77.075,
          77.391,
          77.731,
          78.054,
          78.301,
          78.548,
          79.139,
          79.292,
          79.44,
          79.66,
          79.721,
          78.136
         ],
         "yaxis": "y"
        },
        {
         "customdata": [
          [
           "Gabon",
           1993
          ],
          [
           "Gabon",
           2012
          ],
          [
           "Gabon",
           2021
          ],
          [
           "Gabon",
           2022
          ]
         ],
         "hovertemplate": "Country Name=%{customdata[0]}<br>Literacy Rate (%)=%{x}<br>Life Expectancy (Years)=%{y}<br>Year=%{customdata[1]}<extra></extra>",
         "legendgroup": "Gabon",
         "marker": {
          "color": "#636efa",
          "symbol": "circle"
         },
         "mode": "markers",
         "name": "Gabon",
         "showlegend": true,
         "type": "scattergl",
         "x": [
          65,
          79.8789672851562,
          87.0662002563477,
          85.0400009155273
         ],
         "xaxis": "x",
         "y": [
          61.88,
          66.759,
          68.494,
          68.359
         ],
         "yaxis": "y"
        },
        {
         "customdata": [
          [
           "Ethiopia",
           1994
          ],
          [
           "Ethiopia",
           2004
          ],
          [
           "Ethiopia",
           2005
          ],
          [
           "Ethiopia",
           2007
          ],
          [
           "Ethiopia",
           2016
          ],
          [
           "Ethiopia",
           2017
          ],
          [
           "Ethiopia",
           2019
          ]
         ],
         "hovertemplate": "Country Name=%{customdata[0]}<br>Literacy Rate (%)=%{x}<br>Life Expectancy (Years)=%{y}<br>Year=%{customdata[1]}<extra></extra>",
         "legendgroup": "Ethiopia",
         "marker": {
          "color": "#EF553B",
          "symbol": "circle"
         },
         "mode": "markers",
         "name": "Ethiopia",
         "showlegend": true,
         "type": "scattergl",
         "x": [
          19,
          22.7999992370605,
          17.9771995544434,
          29,
          34.4190406799316,
          44.4233818054199,
          40.3826713562012
         ],
         "xaxis": "x",
         "y": [
          49.1,
          54.249,
          55.338,
          58.062,
          67.341,
          67.533,
          68.795
         ],
         "yaxis": "y"
        },
        {
         "customdata": [
          [
           "Guatemala",
           1994
          ],
          [
           "Guatemala",
           2002
          ],
          [
           "Guatemala",
           2012
          ],
          [
           "Guatemala",
           2013
          ],
          [
           "Guatemala",
           2014
          ],
          [
           "Guatemala",
           2015
          ],
          [
           "Guatemala",
           2018
          ],
          [
           "Guatemala",
           2022
          ]
         ],
         "hovertemplate": "Country Name=%{customdata[0]}<br>Literacy Rate (%)=%{x}<br>Life Expectancy (Years)=%{y}<br>Year=%{customdata[1]}<extra></extra>",
         "legendgroup": "Guatemala",
         "marker": {
          "color": "#00cc96",
          "symbol": "circle"
         },
         "mode": "markers",
         "name": "Guatemala",
         "showlegend": true,
         "type": "scattergl",
         "x": [
          57,
          63,
          72,
          72,
          76,
          75.1361923217773,
          77,
          78.6087493896484
         ],
         "xaxis": "x",
         "y": [
          67.24,
          72.042,
          74.731,
          74.927,
          75.1,
          75.178,
          75.571,
          71.754
         ],
         "yaxis": "y"
        },
        {
         "customdata": [
          [
           "North Macedonia",
           1994
          ],
          [
           "North Macedonia",
           2002
          ],
          [
           "North Macedonia",
           2012
          ],
          [
           "North Macedonia",
           2018
          ]
         ],
         "hovertemplate": "Country Name=%{customdata[0]}<br>Literacy Rate (%)=%{x}<br>Life Expectancy (Years)=%{y}<br>Year=%{customdata[1]}<extra></extra>",
         "legendgroup": "North Macedonia",
         "marker": {
          "color": "#ab63fa",
          "symbol": "circle"
         },
         "mode": "markers",
         "name": "North Macedonia",
         "showlegend": true,
         "type": "scattergl",
         "x": [
          91,
          94,
          96.4000015258789,
          97.7797393798828
         ],
         "xaxis": "x",
         "y": [
          74.1,
          75.6,
          76.9,
          78.8
         ],
         "yaxis": "y"
        },
        {
         "customdata": [
          [
           "Yemen, Rep.",
           1994
          ],
          [
           "Yemen, Rep.",
           2004
          ]
         ],
         "hovertemplate": "Country Name=%{customdata[0]}<br>Literacy Rate (%)=%{x}<br>Life Expectancy (Years)=%{y}<br>Year=%{customdata[1]}<extra></extra>",
         "legendgroup": "Yemen, Rep.",
         "marker": {
          "color": "#FFA15A",
          "symbol": "circle"
         },
         "mode": "markers",
         "name": "Yemen, Rep.",
         "showlegend": true,
         "type": "scattergl",
         "x": [
          17,
          35
         ],
         "xaxis": "x",
         "y": [
          61.876,
          66.849
         ],
         "yaxis": "y"
        },
        {
         "customdata": [
          [
           "Lao PDR",
           1995
          ],
          [
           "Lao PDR",
           2000
          ],
          [
           "Lao PDR",
           2001
          ],
          [
           "Lao PDR",
           2005
          ],
          [
           "Lao PDR",
           2011
          ],
          [
           "Lao PDR",
           2015
          ],
          [
           "Lao PDR",
           2022
          ]
         ],
         "hovertemplate": "Country Name=%{customdata[0]}<br>Literacy Rate (%)=%{x}<br>Life Expectancy (Years)=%{y}<br>Year=%{customdata[1]}<extra></extra>",
         "legendgroup": "Lao PDR",
         "marker": {
          "color": "#19d3f3",
          "symbol": "circle"
         },
         "mode": "markers",
         "name": "Lao PDR",
         "showlegend": true,
         "type": "scattergl",
         "x": [
          48,
          58,
          61,
          63,
          49.7230796813965,
          79,
          83.370002746582
         ],
         "xaxis": "x",
         "y": [
          57.857,
          59.941,
          60.755,
          63.149,
          66.591,
          68.724,
          71.164
         ],
         "yaxis": "y"
        },
        {
         "customdata": [
          [
           "Turkmenistan",
           1995
          ],
          [
           "Turkmenistan",
           2005
          ],
          [
           "Turkmenistan",
           2019
          ]
         ],
         "hovertemplate": "Country Name=%{customdata[0]}<br>Literacy Rate (%)=%{x}<br>Life Expectancy (Years)=%{y}<br>Year=%{customdata[1]}<extra></extra>",
         "legendgroup": "Turkmenistan",
         "marker": {
          "color": "#FF6692",
          "symbol": "circle"
         },
         "mode": "markers",
         "name": "Turkmenistan",
         "showlegend": true,
         "type": "scattergl",
         "x": [
          98,
          99.1999969482422,
          99.6492919921875
         ],
         "xaxis": "x",
         "y": [
          67.39,
          69.636,
          72.464
         ],
         "yaxis": "y"
        },
        {
         "customdata": [
          [
           "Guinea",
           1996
          ],
          [
           "Guinea",
           2003
          ],
          [
           "Guinea",
           2010
          ],
          [
           "Guinea",
           2014
          ],
          [
           "Guinea",
           2016
          ],
          [
           "Guinea",
           2018
          ],
          [
           "Guinea",
           2021
          ]
         ],
         "hovertemplate": "Country Name=%{customdata[0]}<br>Literacy Rate (%)=%{x}<br>Life Expectancy (Years)=%{y}<br>Year=%{customdata[1]}<extra></extra>",
         "legendgroup": "Guinea",
         "marker": {
          "color": "#B6E880",
          "symbol": "circle"
         },
         "mode": "markers",
         "name": "Guinea",
         "showlegend": true,
         "type": "scattergl",
         "x": [
          10,
          18,
          12,
          22,
          23.9352493286133,
          28,
          31.2700004577637
         ],
         "xaxis": "x",
         "y": [
          51.173,
          54.085,
          57.842,
          59.248,
          59.69,
          60.298,
          60.099
         ],
         "yaxis": "y"
        },
        {
         "customdata": [
          [
           "West Bank and Gaza",
           1997
          ],
          [
           "West Bank and Gaza",
           2004
          ],
          [
           "West Bank and Gaza",
           2006
          ],
          [
           "West Bank and Gaza",
           2007
          ],
          [
           "West Bank and Gaza",
           2008
          ],
          [
           "West Bank and Gaza",
           2009
          ],
          [
           "West Bank and Gaza",
           2010
          ],
          [
           "West Bank and Gaza",
           2011
          ],
          [
           "West Bank and Gaza",
           2012
          ],
          [
           "West Bank and Gaza",
           2013
          ],
          [
           "West Bank and Gaza",
           2014
          ],
          [
           "West Bank and Gaza",
           2015
          ],
          [
           "West Bank and Gaza",
           2016
          ],
          [
           "West Bank and Gaza",
           2017
          ],
          [
           "West Bank and Gaza",
           2018
          ],
          [
           "West Bank and Gaza",
           2019
          ],
          [
           "West Bank and Gaza",
           2020
          ],
          [
           "West Bank and Gaza",
           2022
          ]
         ],
         "hovertemplate": "Country Name=%{customdata[0]}<br>Literacy Rate (%)=%{x}<br>Life Expectancy (Years)=%{y}<br>Year=%{customdata[1]}<extra></extra>",
         "legendgroup": "West Bank and Gaza",
         "marker": {
          "color": "#FF97FF",
          "symbol": "circle"
         },
         "mode": "markers",
         "name": "West Bank and Gaza",
         "showlegend": true,
         "type": "scattergl",
         "x": [
          80,
          89,
          90,
          90,
          91,
          91,
          92,
          92,
          93,
          94,
          94,
          95,
          95,
          95,
          96,
          96,
          96,
          97
         ],
         "xaxis": "x",
         "y": [
          71.838,
          73.595,
          74.143,
          74.388,
          74.522,
          74.735,
          75.091,
          75.384,
          75.664,
          75.955,
          75.519,
          76.443,
          76.685,
          76.935,
          77.137,
          77.338,
          76.683,
          75.948
         ],
         "yaxis": "y"
        },
        {
         "customdata": [
          [
           "Cambodia",
           1998
          ],
          [
           "Cambodia",
           2004
          ],
          [
           "Cambodia",
           2008
          ],
          [
           "Cambodia",
           2009
          ],
          [
           "Cambodia",
           2014
          ],
          [
           "Cambodia",
           2015
          ],
          [
           "Cambodia",
           2021
          ],
          [
           "Cambodia",
           2022
          ]
         ],
         "hovertemplate": "Country Name=%{customdata[0]}<br>Literacy Rate (%)=%{x}<br>Life Expectancy (Years)=%{y}<br>Year=%{customdata[1]}<extra></extra>",
         "legendgroup": "Cambodia",
         "marker": {
          "color": "#FECB52",
          "symbol": "circle"
         },
         "mode": "markers",
         "name": "Cambodia",
         "showlegend": true,
         "type": "scattergl",
         "x": [
          57,
          64,
          70,
          69,
          72,
          75,
          63.6409111022949,
          79.6500015258789
         ],
         "xaxis": "x",
         "y": [
          58.909,
          65.46,
          68.479,
          69.575,
          71.881,
          72.02,
          72.291,
          72.622
         ],
         "yaxis": "y"
        },
        {
         "customdata": [
          [
           "Azerbaijan",
           1999
          ],
          [
           "Azerbaijan",
           2007
          ],
          [
           "Azerbaijan",
           2009
          ],
          [
           "Azerbaijan",
           2010
          ],
          [
           "Azerbaijan",
           2011
          ],
          [
           "Azerbaijan",
           2012
          ],
          [
           "Azerbaijan",
           2013
          ],
          [
           "Azerbaijan",
           2014
          ],
          [
           "Azerbaijan",
           2015
          ],
          [
           "Azerbaijan",
           2016
          ],
          [
           "Azerbaijan",
           2017
          ],
          [
           "Azerbaijan",
           2019
          ]
         ],
         "hovertemplate": "Country Name=%{customdata[0]}<br>Literacy Rate (%)=%{x}<br>Life Expectancy (Years)=%{y}<br>Year=%{customdata[1]}<extra></extra>",
         "legendgroup": "Azerbaijan",
         "marker": {
          "color": "#636efa",
          "symbol": "circle"
         },
         "mode": "markers",
         "name": "Azerbaijan",
         "showlegend": true,
         "type": "scattergl",
         "x": [
          98,
          99,
          100,
          100,
          100,
          100,
          100,
          100,
          100,
          100,
          100,
          100
         ],
         "xaxis": "x",
         "y": [
          68.172,
          72.025,
          72.777,
          72.821,
          73.344,
          73.833,
          74.277,
          74.384,
          74.788,
          75.587,
          75.467,
          75.832
         ],
         "yaxis": "y"
        },
        {
         "customdata": [
          [
           "Jamaica",
           1999
          ],
          [
           "Jamaica",
           2022
          ]
         ],
         "hovertemplate": "Country Name=%{customdata[0]}<br>Literacy Rate (%)=%{x}<br>Life Expectancy (Years)=%{y}<br>Year=%{customdata[1]}<extra></extra>",
         "legendgroup": "Jamaica",
         "marker": {
          "color": "#EF553B",
          "symbol": "circle"
         },
         "mode": "markers",
         "name": "Jamaica",
         "showlegend": true,
         "type": "scattergl",
         "x": [
          86,
          90.8148727416992
         ],
         "xaxis": "x",
         "y": [
          72.807,
          72.737
         ],
         "yaxis": "y"
        },
        {
         "customdata": [
          [
           "Kyrgyz Republic",
           1999
          ],
          [
           "Kyrgyz Republic",
           2009
          ],
          [
           "Kyrgyz Republic",
           2019
          ]
         ],
         "hovertemplate": "Country Name=%{customdata[0]}<br>Literacy Rate (%)=%{x}<br>Life Expectancy (Years)=%{y}<br>Year=%{customdata[1]}<extra></extra>",
         "legendgroup": "Kyrgyz Republic",
         "marker": {
          "color": "#00cc96",
          "symbol": "circle"
         },
         "mode": "markers",
         "name": "Kyrgyz Republic",
         "showlegend": true,
         "type": "scattergl",
         "x": [
          98,
          99,
          99.5
         ],
         "xaxis": "x",
         "y": [
          72.6,
          73.2,
          75.8
         ],
         "yaxis": "y"
        },
        {
         "customdata": [
          [
           "Solomon Islands",
           1999
          ]
         ],
         "hovertemplate": "Country Name=%{customdata[0]}<br>Literacy Rate (%)=%{x}<br>Life Expectancy (Years)=%{y}<br>Year=%{customdata[1]}<extra></extra>",
         "legendgroup": "Solomon Islands",
         "marker": {
          "color": "#ab63fa",
          "symbol": "circle"
         },
         "mode": "markers",
         "name": "Solomon Islands",
         "showlegend": true,
         "type": "scattergl",
         "x": [
          69
         ],
         "xaxis": "x",
         "y": [
          69.685
         ],
         "yaxis": "y"
        },
        {
         "customdata": [
          [
           "Aruba",
           2000
          ],
          [
           "Aruba",
           2010
          ],
          [
           "Aruba",
           2020
          ]
         ],
         "hovertemplate": "Country Name=%{customdata[0]}<br>Literacy Rate (%)=%{x}<br>Life Expectancy (Years)=%{y}<br>Year=%{customdata[1]}<extra></extra>",
         "legendgroup": "Aruba",
         "marker": {
          "color": "#FFA15A",
          "symbol": "circle"
         },
         "mode": "markers",
         "name": "Aruba",
         "showlegend": true,
         "type": "scattergl",
         "x": [
          97,
          97,
          98
         ],
         "xaxis": "x",
         "y": [
          76.477,
          78.612,
          78.445
         ],
         "yaxis": "y"
        },
        {
         "customdata": [
          [
           "Equatorial Guinea",
           2000
          ],
          [
           "Equatorial Guinea",
           2010
          ]
         ],
         "hovertemplate": "Country Name=%{customdata[0]}<br>Literacy Rate (%)=%{x}<br>Life Expectancy (Years)=%{y}<br>Year=%{customdata[1]}<extra></extra>",
         "legendgroup": "Equatorial Guinea",
         "marker": {
          "color": "#19d3f3",
          "symbol": "circle"
         },
         "mode": "markers",
         "name": "Equatorial Guinea",
         "showlegend": true,
         "type": "scattergl",
         "x": [
          82,
          90.6760787963867
         ],
         "xaxis": "x",
         "y": [
          54.936,
          59.583
         ],
         "yaxis": "y"
        },
        {
         "customdata": [
          [
           "Gambia, The",
           2000
          ],
          [
           "Gambia, The",
           2013
          ],
          [
           "Gambia, The",
           2015
          ],
          [
           "Gambia, The",
           2018
          ],
          [
           "Gambia, The",
           2021
          ],
          [
           "Gambia, The",
           2022
          ]
         ],
         "hovertemplate": "Country Name=%{customdata[0]}<br>Literacy Rate (%)=%{x}<br>Life Expectancy (Years)=%{y}<br>Year=%{customdata[1]}<extra></extra>",
         "legendgroup": "Gambia, The",
         "marker": {
          "color": "#FF6692",
          "symbol": "circle"
         },
         "mode": "markers",
         "name": "Gambia, The",
         "showlegend": true,
         "type": "scattergl",
         "x": [
          25,
          33.5753517150879,
          42,
          43.3483581542969,
          40.4522895812988,
          52.25
         ],
         "xaxis": "x",
         "y": [
          59.017,
          63.082,
          63.583,
          64.251,
          63.529,
          64.344
         ],
         "yaxis": "y"
        },
        {
         "customdata": [
          [
           "Ghana",
           2000
          ],
          [
           "Ghana",
           2010
          ],
          [
           "Ghana",
           2017
          ],
          [
           "Ghana",
           2020
          ]
         ],
         "hovertemplate": "Country Name=%{customdata[0]}<br>Literacy Rate (%)=%{x}<br>Life Expectancy (Years)=%{y}<br>Year=%{customdata[1]}<extra></extra>",
         "legendgroup": "Ghana",
         "marker": {
          "color": "#B6E880",
          "symbol": "circle"
         },
         "mode": "markers",
         "name": "Ghana",
         "showlegend": true,
         "type": "scattergl",
         "x": [
          50,
          65,
          56.0202102661133,
          76.1900024414062
         ],
         "xaxis": "x",
         "y": [
          59.289,
          62.485,
          65.922,
          66.385
         ],
         "yaxis": "y"
        },
        {
         "customdata": [
          [
           "Iraq",
           2000
          ],
          [
           "Iraq",
           2012
          ],
          [
           "Iraq",
           2014
          ],
          [
           "Iraq",
           2016
          ],
          [
           "Iraq",
           2017
          ],
          [
           "Iraq",
           2018
          ]
         ],
         "hovertemplate": "Country Name=%{customdata[0]}<br>Literacy Rate (%)=%{x}<br>Life Expectancy (Years)=%{y}<br>Year=%{customdata[1]}<extra></extra>",
         "legendgroup": "Iraq",
         "marker": {
          "color": "#FF97FF",
          "symbol": "circle"
         },
         "mode": "markers",
         "name": "Iraq",
         "showlegend": true,
         "type": "scattergl",
         "x": [
          64,
          69,
          75,
          77,
          80,
          76.2786636352539
         ],
         "xaxis": "x",
         "y": [
          69.849,
          70.518,
          71.175,
          72.38,
          73.235,
          73.293
         ],
         "yaxis": "y"
        },
        {
         "customdata": [
          [
           "Kenya",
           2000
          ],
          [
           "Kenya",
           2007
          ],
          [
           "Kenya",
           2014
          ],
          [
           "Kenya",
           2022
          ]
         ],
         "hovertemplate": "Country Name=%{customdata[0]}<br>Literacy Rate (%)=%{x}<br>Life Expectancy (Years)=%{y}<br>Year=%{customdata[1]}<extra></extra>",
         "legendgroup": "Kenya",
         "marker": {
          "color": "#FECB52",
          "symbol": "circle"
         },
         "mode": "markers",
         "name": "Kenya",
         "showlegend": true,
         "type": "scattergl",
         "x": [
          78,
          66.8631210327148,
          74.0063171386719,
          80.2699966430664
         ],
         "xaxis": "x",
         "y": [
          55.597,
          60.211,
          63.979,
          64.686
         ],
         "yaxis": "y"
        },
        {
         "customdata": [
          [
           "Lesotho",
           2000
          ],
          [
           "Lesotho",
           2009
          ],
          [
           "Lesotho",
           2014
          ],
          [
           "Lesotho",
           2018
          ],
          [
           "Lesotho",
           2022
          ]
         ],
         "hovertemplate": "Country Name=%{customdata[0]}<br>Literacy Rate (%)=%{x}<br>Life Expectancy (Years)=%{y}<br>Year=%{customdata[1]}<extra></extra>",
         "legendgroup": "Lesotho",
         "marker": {
          "color": "#636efa",
          "symbol": "circle"
         },
         "mode": "markers",
         "name": "Lesotho",
         "showlegend": true,
         "type": "scattergl",
         "x": [
          92,
          84.9639587402344,
          84.9348907470703,
          91.7942276000977,
          89.7600021362305
         ],
         "xaxis": "x",
         "y": [
          50.916,
          46.107,
          52.807,
          56.591,
          55.923
         ],
         "yaxis": "y"
        },
        {
         "customdata": [
          [
           "Madagascar",
           2000
          ],
          [
           "Madagascar",
           2005
          ],
          [
           "Madagascar",
           2009
          ],
          [
           "Madagascar",
           2012
          ],
          [
           "Madagascar",
           2018
          ],
          [
           "Madagascar",
           2021
          ],
          [
           "Madagascar",
           2022
          ]
         ],
         "hovertemplate": "Country Name=%{customdata[0]}<br>Literacy Rate (%)=%{x}<br>Life Expectancy (Years)=%{y}<br>Year=%{customdata[1]}<extra></extra>",
         "legendgroup": "Madagascar",
         "marker": {
          "color": "#EF553B",
          "symbol": "circle"
         },
         "mode": "markers",
         "name": "Madagascar",
         "showlegend": true,
         "type": "scattergl",
         "x": [
          65,
          55,
          61.6414108276367,
          68,
          75,
          71.7537612915039,
          76.0299987792969
         ],
         "xaxis": "x",
         "y": [
          58.919,
          61.884,
          64.416,
          65.476,
          67.432,
          66.87,
          67.617
         ],
         "yaxis": "y"
        },
        {
         "customdata": [
          [
           "Mauritania",
           2000
          ],
          [
           "Mauritania",
           2007
          ],
          [
           "Mauritania",
           2013
          ],
          [
           "Mauritania",
           2015
          ],
          [
           "Mauritania",
           2020
          ],
          [
           "Mauritania",
           2021
          ]
         ],
         "hovertemplate": "Country Name=%{customdata[0]}<br>Literacy Rate (%)=%{x}<br>Life Expectancy (Years)=%{y}<br>Year=%{customdata[1]}<extra></extra>",
         "legendgroup": "Mauritania",
         "marker": {
          "color": "#00cc96",
          "symbol": "circle"
         },
         "mode": "markers",
         "name": "Mauritania",
         "showlegend": true,
         "type": "scattergl",
         "x": [
          43,
          35.3484306335449,
          57,
          57.4347305297852,
          51.8120994567871,
          62.1699981689453
         ],
         "xaxis": "x",
         "y": [
          62.608,
          63.942,
          65.682,
          66.276,
          66.335,
          66.098
         ],
         "yaxis": "y"
        },
        {
         "customdata": [
          [
           "Mongolia",
           2000
          ],
          [
           "Mongolia",
           2010
          ],
          [
           "Mongolia",
           2018
          ],
          [
           "Mongolia",
           2020
          ]
         ],
         "hovertemplate": "Country Name=%{customdata[0]}<br>Literacy Rate (%)=%{x}<br>Life Expectancy (Years)=%{y}<br>Year=%{customdata[1]}<extra></extra>",
         "legendgroup": "Mongolia",
         "marker": {
          "color": "#ab63fa",
          "symbol": "circle"
         },
         "mode": "markers",
         "name": "Mongolia",
         "showlegend": true,
         "type": "scattergl",
         "x": [
          98,
          98,
          97.9979705810547,
          99
         ],
         "xaxis": "x",
         "y": [
          65.86,
          71.843,
          75.829,
          77.02
         ],
         "yaxis": "y"
        },
        {
         "customdata": [
          [
           "Papua New Guinea",
           2000
          ],
          [
           "Papua New Guinea",
           2010
          ],
          [
           "Papua New Guinea",
           2017
          ]
         ],
         "hovertemplate": "Country Name=%{customdata[0]}<br>Literacy Rate (%)=%{x}<br>Life Expectancy (Years)=%{y}<br>Year=%{customdata[1]}<extra></extra>",
         "legendgroup": "Papua New Guinea",
         "marker": {
          "color": "#FFA15A",
          "symbol": "circle"
         },
         "mode": "markers",
         "name": "Papua New Guinea",
         "showlegend": true,
         "type": "scattergl",
         "x": [
          51,
          57.9000015258789,
          61.5507888793945
         ],
         "xaxis": "x",
         "y": [
          63.785,
          65.268,
          68.078
         ],
         "yaxis": "y"
        },
        {
         "customdata": [
          [
           "Sudan",
           2000
          ],
          [
           "Sudan",
           2008
          ],
          [
           "Sudan",
           2018
          ]
         ],
         "hovertemplate": "Country Name=%{customdata[0]}<br>Literacy Rate (%)=%{x}<br>Life Expectancy (Years)=%{y}<br>Year=%{customdata[1]}<extra></extra>",
         "legendgroup": "Sudan",
         "marker": {
          "color": "#19d3f3",
          "symbol": "circle"
         },
         "mode": "markers",
         "name": "Sudan",
         "showlegend": true,
         "type": "scattergl",
         "x": [
          52,
          47,
          56.0632286071777
         ],
         "xaxis": "x",
         "y": [
          61.271,
          63.96,
          68.233
         ],
         "yaxis": "y"
        },
        {
         "customdata": [
          [
           "Togo",
           2000
          ],
          [
           "Togo",
           2006
          ],
          [
           "Togo",
           2009
          ],
          [
           "Togo",
           2011
          ],
          [
           "Togo",
           2015
          ],
          [
           "Togo",
           2019
          ]
         ],
         "hovertemplate": "Country Name=%{customdata[0]}<br>Literacy Rate (%)=%{x}<br>Life Expectancy (Years)=%{y}<br>Year=%{customdata[1]}<extra></extra>",
         "legendgroup": "Togo",
         "marker": {
          "color": "#FF6692",
          "symbol": "circle"
         },
         "mode": "markers",
         "name": "Togo",
         "showlegend": true,
         "type": "scattergl",
         "x": [
          38,
          44,
          44,
          48,
          51,
          55
         ],
         "xaxis": "x",
         "y": [
          55.811,
          56.568,
          57.304,
          57.986,
          59.6,
          61.443
         ],
         "yaxis": "y"
        },
        {
         "customdata": [
          [
           "Uzbekistan",
           2000
          ],
          [
           "Uzbekistan",
           2013
          ],
          [
           "Uzbekistan",
           2014
          ],
          [
           "Uzbekistan",
           2015
          ],
          [
           "Uzbekistan",
           2016
          ],
          [
           "Uzbekistan",
           2018
          ],
          [
           "Uzbekistan",
           2019
          ],
          [
           "Uzbekistan",
           2021
          ],
          [
           "Uzbekistan",
           2022
          ]
         ],
         "hovertemplate": "Country Name=%{customdata[0]}<br>Literacy Rate (%)=%{x}<br>Life Expectancy (Years)=%{y}<br>Year=%{customdata[1]}<extra></extra>",
         "legendgroup": "Uzbekistan",
         "marker": {
          "color": "#B6E880",
          "symbol": "circle"
         },
         "mode": "markers",
         "name": "Uzbekistan",
         "showlegend": true,
         "type": "scattergl",
         "x": [
          98,
          100,
          100,
          100,
          100,
          100,
          100,
          100,
          100
         ],
         "xaxis": "x",
         "y": [
          68.76,
          72.841,
          73.13,
          73.324,
          73.505,
          73.815,
          73.883,
          73.39,
          74.293
         ],
         "yaxis": "y"
        },
        {
         "customdata": [
          [
           "Albania",
           2001
          ],
          [
           "Albania",
           2008
          ],
          [
           "Albania",
           2011
          ],
          [
           "Albania",
           2012
          ],
          [
           "Albania",
           2017
          ],
          [
           "Albania",
           2022
          ]
         ],
         "hovertemplate": "Country Name=%{customdata[0]}<br>Literacy Rate (%)=%{x}<br>Life Expectancy (Years)=%{y}<br>Year=%{customdata[1]}<extra></extra>",
         "legendgroup": "Albania",
         "marker": {
          "color": "#FF97FF",
          "symbol": "circle"
         },
         "mode": "markers",
         "name": "Albania",
         "showlegend": true,
         "type": "scattergl",
         "x": [
          98,
          95,
          96,
          96,
          99.0490417480469,
          98.3000030517578
         ],
         "xaxis": "x",
         "y": [
          78.618,
          80.429,
          80.798,
          80.703,
          81.504,
          79.472
         ],
         "yaxis": "y"
        },
        {
         "customdata": [
          [
           "Angola",
           2001
          ],
          [
           "Angola",
           2014
          ],
          [
           "Angola",
           2015
          ],
          [
           "Angola",
           2022
          ]
         ],
         "hovertemplate": "Country Name=%{customdata[0]}<br>Literacy Rate (%)=%{x}<br>Life Expectancy (Years)=%{y}<br>Year=%{customdata[1]}<extra></extra>",
         "legendgroup": "Angola",
         "marker": {
          "color": "#FECB52",
          "symbol": "circle"
         },
         "mode": "markers",
         "name": "Angola",
         "showlegend": true,
         "type": "scattergl",
         "x": [
          54,
          53,
          51.9259796142578,
          62.5
         ],
         "xaxis": "x",
         "y": [
          49.606,
          62.472,
          63.094,
          64.541
         ],
         "yaxis": "y"
        },
        {
         "customdata": [
          [
           "Antigua and Barbuda",
           2001
          ]
         ],
         "hovertemplate": "Country Name=%{customdata[0]}<br>Literacy Rate (%)=%{x}<br>Life Expectancy (Years)=%{y}<br>Year=%{customdata[1]}<extra></extra>",
         "legendgroup": "Antigua and Barbuda",
         "marker": {
          "color": "#636efa",
          "symbol": "circle"
         },
         "mode": "markers",
         "name": "Antigua and Barbuda",
         "showlegend": true,
         "type": "scattergl",
         "x": [
          99
         ],
         "xaxis": "x",
         "y": [
          78.136
         ],
         "yaxis": "y"
        },
        {
         "customdata": [
          [
           "Bulgaria",
           2001
          ],
          [
           "Bulgaria",
           2011
          ],
          [
           "Bulgaria",
           2021
          ]
         ],
         "hovertemplate": "Country Name=%{customdata[0]}<br>Literacy Rate (%)=%{x}<br>Life Expectancy (Years)=%{y}<br>Year=%{customdata[1]}<extra></extra>",
         "legendgroup": "Bulgaria",
         "marker": {
          "color": "#EF553B",
          "symbol": "circle"
         },
         "mode": "markers",
         "name": "Bulgaria",
         "showlegend": true,
         "type": "scattergl",
         "x": [
          98,
          98,
          98.1699981689453
         ],
         "xaxis": "x",
         "y": [
          75.2,
          77.8,
          75.1
         ],
         "yaxis": "y"
        },
        {
         "customdata": [
          [
           "Congo, Dem. Rep.",
           2001
          ],
          [
           "Congo, Dem. Rep.",
           2007
          ],
          [
           "Congo, Dem. Rep.",
           2012
          ],
          [
           "Congo, Dem. Rep.",
           2016
          ],
          [
           "Congo, Dem. Rep.",
           2018
          ],
          [
           "Congo, Dem. Rep.",
           2022
          ]
         ],
         "hovertemplate": "Country Name=%{customdata[0]}<br>Literacy Rate (%)=%{x}<br>Life Expectancy (Years)=%{y}<br>Year=%{customdata[1]}<extra></extra>",
         "legendgroup": "Congo, Dem. Rep.",
         "marker": {
          "color": "#00cc96",
          "symbol": "circle"
         },
         "mode": "markers",
         "name": "Congo, Dem. Rep.",
         "showlegend": true,
         "type": "scattergl",
         "x": [
          54,
          46.1042518615723,
          63,
          66,
          61.600341796875,
          71.7300033569336
         ],
         "xaxis": "x",
         "y": [
          54.055,
          56.352,
          58.81,
          60.904,
          61.767,
          62.05
         ],
         "yaxis": "y"
        },
        {
         "customdata": [
          [
           "Honduras",
           2001
          ],
          [
           "Honduras",
           2007
          ],
          [
           "Honduras",
           2010
          ],
          [
           "Honduras",
           2011
          ],
          [
           "Honduras",
           2012
          ],
          [
           "Honduras",
           2013
          ],
          [
           "Honduras",
           2014
          ],
          [
           "Honduras",
           2015
          ],
          [
           "Honduras",
           2016
          ],
          [
           "Honduras",
           2018
          ],
          [
           "Honduras",
           2019
          ]
         ],
         "hovertemplate": "Country Name=%{customdata[0]}<br>Literacy Rate (%)=%{x}<br>Life Expectancy (Years)=%{y}<br>Year=%{customdata[1]}<extra></extra>",
         "legendgroup": "Honduras",
         "marker": {
          "color": "#ab63fa",
          "symbol": "circle"
         },
         "mode": "markers",
         "name": "Honduras",
         "showlegend": true,
         "type": "scattergl",
         "x": [
          80,
          83,
          85,
          85,
          85,
          85,
          87,
          88,
          89,
          87,
          89
         ],
         "xaxis": "x",
         "y": [
          71.284,
          72.368,
          73.278,
          73.776,
          74.169,
          74.497,
          74.632,
          74.991,
          75.078,
          75.318,
          75.37
         ],
         "yaxis": "y"
        },
        {
         "customdata": [
          [
           "Nicaragua",
           2001
          ],
          [
           "Nicaragua",
           2005
          ],
          [
           "Nicaragua",
           2015
          ]
         ],
         "hovertemplate": "Country Name=%{customdata[0]}<br>Literacy Rate (%)=%{x}<br>Life Expectancy (Years)=%{y}<br>Year=%{customdata[1]}<extra></extra>",
         "legendgroup": "Nicaragua",
         "marker": {
          "color": "#FFA15A",
          "symbol": "circle"
         },
         "mode": "markers",
         "name": "Nicaragua",
         "showlegend": true,
         "type": "scattergl",
         "x": [
          77,
          78,
          82.7793502807617
         ],
         "xaxis": "x",
         "y": [
          70.163,
          70.937,
          75.925
         ],
         "yaxis": "y"
        },
        {
         "customdata": [
          [
           "Niger",
           2001
          ],
          [
           "Niger",
           2005
          ],
          [
           "Niger",
           2012
          ],
          [
           "Niger",
           2022
          ]
         ],
         "hovertemplate": "Country Name=%{customdata[0]}<br>Literacy Rate (%)=%{x}<br>Life Expectancy (Years)=%{y}<br>Year=%{customdata[1]}<extra></extra>",
         "legendgroup": "Niger",
         "marker": {
          "color": "#19d3f3",
          "symbol": "circle"
         },
         "mode": "markers",
         "name": "Niger",
         "showlegend": true,
         "type": "scattergl",
         "x": [
          9,
          15,
          23,
          29.7000007629395
         ],
         "xaxis": "x",
         "y": [
          50.197,
          54.042,
          60.252,
          63.401
         ],
         "yaxis": "y"
        },
        {
         "customdata": [
          [
           "Timor-Leste",
           2001
          ],
          [
           "Timor-Leste",
           2007
          ],
          [
           "Timor-Leste",
           2010
          ],
          [
           "Timor-Leste",
           2016
          ],
          [
           "Timor-Leste",
           2020
          ]
         ],
         "hovertemplate": "Country Name=%{customdata[0]}<br>Literacy Rate (%)=%{x}<br>Life Expectancy (Years)=%{y}<br>Year=%{customdata[1]}<extra></extra>",
         "legendgroup": "Timor-Leste",
         "marker": {
          "color": "#FF6692",
          "symbol": "circle"
         },
         "mode": "markers",
         "name": "Timor-Leste",
         "showlegend": true,
         "type": "scattergl",
         "x": [
          30,
          43,
          53,
          59.6047592163086,
          66.5
         ],
         "xaxis": "x",
         "y": [
          60.978,
          65.402,
          66.989,
          69.167,
          70.279
         ],
         "yaxis": "y"
        },
        {
         "customdata": [
          [
           "Ukraine",
           2001
          ],
          [
           "Ukraine",
           2012
          ],
          [
           "Ukraine",
           2021
          ]
         ],
         "hovertemplate": "Country Name=%{customdata[0]}<br>Literacy Rate (%)=%{x}<br>Life Expectancy (Years)=%{y}<br>Year=%{customdata[1]}<extra></extra>",
         "legendgroup": "Ukraine",
         "marker": {
          "color": "#B6E880",
          "symbol": "circle"
         },
         "mode": "markers",
         "name": "Ukraine",
         "showlegend": true,
         "type": "scattergl",
         "x": [
          99,
          99.9581985473633,
          100
         ],
         "xaxis": "x",
         "y": [
          73.63,
          76.02,
          74.36
         ],
         "yaxis": "y"
        },
        {
         "customdata": [
          [
           "Cuba",
           2002
          ],
          [
           "Cuba",
           2012
          ],
          [
           "Cuba",
           2019
          ],
          [
           "Cuba",
           2021
          ]
         ],
         "hovertemplate": "Country Name=%{customdata[0]}<br>Literacy Rate (%)=%{x}<br>Life Expectancy (Years)=%{y}<br>Year=%{customdata[1]}<extra></extra>",
         "legendgroup": "Cuba",
         "marker": {
          "color": "#FF97FF",
          "symbol": "circle"
         },
         "mode": "markers",
         "name": "Cuba",
         "showlegend": true,
         "type": "scattergl",
         "x": [
          100,
          100,
          96.3534317016602,
          99.7171478271484
         ],
         "xaxis": "x",
         "y": [
          79.022,
          80.122,
          80.075,
          76.359
         ],
         "yaxis": "y"
        },
        {
         "customdata": [
          [
           "Eritrea",
           2002
          ],
          [
           "Eritrea",
           2008
          ],
          [
           "Eritrea",
           2018
          ]
         ],
         "hovertemplate": "Country Name=%{customdata[0]}<br>Literacy Rate (%)=%{x}<br>Life Expectancy (Years)=%{y}<br>Year=%{customdata[1]}<extra></extra>",
         "legendgroup": "Eritrea",
         "marker": {
          "color": "#FECB52",
          "symbol": "circle"
         },
         "mode": "markers",
         "name": "Eritrea",
         "showlegend": true,
         "type": "scattergl",
         "x": [
          40,
          55,
          68.9461898803711
         ],
         "xaxis": "x",
         "y": [
          60.449,
          64.188,
          69.115
         ],
         "yaxis": "y"
        },
        {
         "customdata": [
          [
           "Georgia",
           2002
          ],
          [
           "Georgia",
           2014
          ],
          [
           "Georgia",
           2017
          ],
          [
           "Georgia",
           2018
          ],
          [
           "Georgia",
           2022
          ]
         ],
         "hovertemplate": "Country Name=%{customdata[0]}<br>Literacy Rate (%)=%{x}<br>Life Expectancy (Years)=%{y}<br>Year=%{customdata[1]}<extra></extra>",
         "legendgroup": "Georgia",
         "marker": {
          "color": "#636efa",
          "symbol": "circle"
         },
         "mode": "markers",
         "name": "Georgia",
         "showlegend": true,
         "type": "scattergl",
         "x": [
          100,
          100,
          99,
          99.6481781005859,
          100
         ],
         "xaxis": "x",
         "y": [
          74.339,
          77.934,
          78.224,
          78.153,
          76.461
         ],
         "yaxis": "y"
        },
        {
         "customdata": [
          [
           "Oman",
           2003
          ],
          [
           "Oman",
           2008
          ],
          [
           "Oman",
           2010
          ],
          [
           "Oman",
           2015
          ],
          [
           "Oman",
           2017
          ],
          [
           "Oman",
           2018
          ],
          [
           "Oman",
           2022
          ]
         ],
         "hovertemplate": "Country Name=%{customdata[0]}<br>Literacy Rate (%)=%{x}<br>Life Expectancy (Years)=%{y}<br>Year=%{customdata[1]}<extra></extra>",
         "legendgroup": "Oman",
         "marker": {
          "color": "#EF553B",
          "symbol": "circle"
         },
         "mode": "markers",
         "name": "Oman",
         "showlegend": true,
         "type": "scattergl",
         "x": [
          74,
          81,
          82,
          86,
          92,
          93,
          95
         ],
         "xaxis": "x",
         "y": [
          77.238,
          77.736,
          78.498,
          79.543,
          79.839,
          79.898,
          76.046
         ],
         "yaxis": "y"
        },
        {
         "customdata": [
          [
           "Serbia",
           2003
          ],
          [
           "Serbia",
           2011
          ],
          [
           "Serbia",
           2016
          ],
          [
           "Serbia",
           2019
          ]
         ],
         "hovertemplate": "Country Name=%{customdata[0]}<br>Literacy Rate (%)=%{x}<br>Life Expectancy (Years)=%{y}<br>Year=%{customdata[1]}<extra></extra>",
         "legendgroup": "Serbia",
         "marker": {
          "color": "#00cc96",
          "symbol": "circle"
         },
         "mode": "markers",
         "name": "Serbia",
         "showlegend": true,
         "type": "scattergl",
         "x": [
          94,
          97,
          98,
          99
         ],
         "xaxis": "x",
         "y": [
          75.1,
          77.2,
          78.3,
          78.6
         ],
         "yaxis": "y"
        },
        {
         "customdata": [
          [
           "Sierra Leone",
           2004
          ],
          [
           "Sierra Leone",
           2013
          ],
          [
           "Sierra Leone",
           2017
          ],
          [
           "Sierra Leone",
           2019
          ],
          [
           "Sierra Leone",
           2022
          ]
         ],
         "hovertemplate": "Country Name=%{customdata[0]}<br>Literacy Rate (%)=%{x}<br>Life Expectancy (Years)=%{y}<br>Year=%{customdata[1]}<extra></extra>",
         "legendgroup": "Sierra Leone",
         "marker": {
          "color": "#ab63fa",
          "symbol": "circle"
         },
         "mode": "markers",
         "name": "Sierra Leone",
         "showlegend": true,
         "type": "scattergl",
         "x": [
          24,
          24.8566799163818,
          36.2379913330078,
          33.942211151123,
          41.310001373291
         ],
         "xaxis": "x",
         "y": [
          48.235,
          57.26,
          59.794,
          61.554,
          61.693
         ],
         "yaxis": "y"
        },
        {
         "customdata": [
          [
           "Suriname",
           2004
          ],
          [
           "Suriname",
           2008
          ],
          [
           "Suriname",
           2010
          ],
          [
           "Suriname",
           2012
          ],
          [
           "Suriname",
           2021
          ]
         ],
         "hovertemplate": "Country Name=%{customdata[0]}<br>Literacy Rate (%)=%{x}<br>Life Expectancy (Years)=%{y}<br>Year=%{customdata[1]}<extra></extra>",
         "legendgroup": "Suriname",
         "marker": {
          "color": "#FFA15A",
          "symbol": "circle"
         },
         "mode": "markers",
         "name": "Suriname",
         "showlegend": true,
         "type": "scattergl",
         "x": [
          87,
          94,
          94,
          91,
          93.4000015258789
         ],
         "xaxis": "x",
         "y": [
          69.832,
          72.271,
          73.587,
          73.346,
          73.551
         ],
         "yaxis": "y"
        },
        {
         "customdata": [
          [
           "Bhutan",
           2005
          ],
          [
           "Bhutan",
           2012
          ],
          [
           "Bhutan",
           2017
          ],
          [
           "Bhutan",
           2022
          ]
         ],
         "hovertemplate": "Country Name=%{customdata[0]}<br>Literacy Rate (%)=%{x}<br>Life Expectancy (Years)=%{y}<br>Year=%{customdata[1]}<extra></extra>",
         "legendgroup": "Bhutan",
         "marker": {
          "color": "#19d3f3",
          "symbol": "circle"
         },
         "mode": "markers",
         "name": "Bhutan",
         "showlegend": true,
         "type": "scattergl",
         "x": [
          39,
          45,
          57,
          63.9000015258789
         ],
         "xaxis": "x",
         "y": [
          67.463,
          71.091,
          72.576,
          74.152
         ],
         "yaxis": "y"
        },
        {
         "customdata": [
          [
           "Lebanon",
           2007
          ],
          [
           "Lebanon",
           2009
          ],
          [
           "Lebanon",
           2018
          ]
         ],
         "hovertemplate": "Country Name=%{customdata[0]}<br>Literacy Rate (%)=%{x}<br>Life Expectancy (Years)=%{y}<br>Year=%{customdata[1]}<extra></extra>",
         "legendgroup": "Lebanon",
         "marker": {
          "color": "#FF6692",
          "symbol": "circle"
         },
         "mode": "markers",
         "name": "Lebanon",
         "showlegend": true,
         "type": "scattergl",
         "x": [
          86,
          88,
          90
         ],
         "xaxis": "x",
         "y": [
          79.242,
          79.701,
          81.455
         ],
         "yaxis": "y"
        },
        {
         "customdata": [
          [
           "Korea, Dem. People's Rep.",
           2008
          ],
          [
           "Korea, Dem. People's Rep.",
           2018
          ]
         ],
         "hovertemplate": "Country Name=%{customdata[0]}<br>Literacy Rate (%)=%{x}<br>Life Expectancy (Years)=%{y}<br>Year=%{customdata[1]}<extra></extra>",
         "legendgroup": "Korea, Dem. People's Rep.",
         "marker": {
          "color": "#B6E880",
          "symbol": "circle"
         },
         "mode": "markers",
         "name": "Korea, Dem. People's Rep.",
         "showlegend": true,
         "type": "scattergl",
         "x": [
          100,
          99.9976119995117
         ],
         "xaxis": "x",
         "y": [
          72.252,
          75.632
         ],
         "yaxis": "y"
        },
        {
         "customdata": [
          [
           "Korea, Rep.",
           2008
          ],
          [
           "Korea, Rep.",
           2018
          ]
         ],
         "hovertemplate": "Country Name=%{customdata[0]}<br>Literacy Rate (%)=%{x}<br>Life Expectancy (Years)=%{y}<br>Year=%{customdata[1]}<extra></extra>",
         "legendgroup": "Korea, Rep.",
         "marker": {
          "color": "#FF97FF",
          "symbol": "circle"
         },
         "mode": "markers",
         "name": "Korea, Rep.",
         "showlegend": true,
         "type": "scattergl",
         "x": [
          98,
          98.4000015258789
         ],
         "xaxis": "x",
         "y": [
          83,
          85.7
         ],
         "yaxis": "y"
        },
        {
         "customdata": [
          [
           "South Sudan",
           2008
          ],
          [
           "South Sudan",
           2018
          ]
         ],
         "hovertemplate": "Country Name=%{customdata[0]}<br>Literacy Rate (%)=%{x}<br>Life Expectancy (Years)=%{y}<br>Year=%{customdata[1]}<extra></extra>",
         "legendgroup": "South Sudan",
         "marker": {
          "color": "#FECB52",
          "symbol": "circle"
         },
         "mode": "markers",
         "name": "South Sudan",
         "showlegend": true,
         "type": "scattergl",
         "x": [
          19,
          28.8642597198486
         ],
         "xaxis": "x",
         "y": [
          54.523,
          57.35
         ],
         "yaxis": "y"
        },
        {
         "customdata": [
          [
           "Guyana",
           2009
          ],
          [
           "Guyana",
           2014
          ],
          [
           "Guyana",
           2020
          ],
          [
           "Guyana",
           2022
          ]
         ],
         "hovertemplate": "Country Name=%{customdata[0]}<br>Literacy Rate (%)=%{x}<br>Life Expectancy (Years)=%{y}<br>Year=%{customdata[1]}<extra></extra>",
         "legendgroup": "Guyana",
         "marker": {
          "color": "#636efa",
          "symbol": "circle"
         },
         "mode": "markers",
         "name": "Guyana",
         "showlegend": true,
         "type": "scattergl",
         "x": [
          87.2519836425781,
          85.0346069335938,
          86.8998336791992,
          89.6600036621094
         ],
         "xaxis": "x",
         "y": [
          70.022,
          71.316,
          72.118,
          69.399
         ],
         "yaxis": "y"
        },
        {
         "customdata": [
          [
           "Marshall Islands",
           2011
          ]
         ],
         "hovertemplate": "Country Name=%{customdata[0]}<br>Literacy Rate (%)=%{x}<br>Life Expectancy (Years)=%{y}<br>Year=%{customdata[1]}<extra></extra>",
         "legendgroup": "Marshall Islands",
         "marker": {
          "color": "#EF553B",
          "symbol": "circle"
         },
         "mode": "markers",
         "name": "Marshall Islands",
         "showlegend": true,
         "type": "scattergl",
         "x": [
          98
         ],
         "xaxis": "x",
         "y": [
          65.178
         ],
         "yaxis": "y"
        },
        {
         "customdata": [
          [
           "Kiribati",
           2018
          ]
         ],
         "hovertemplate": "Country Name=%{customdata[0]}<br>Literacy Rate (%)=%{x}<br>Life Expectancy (Years)=%{y}<br>Year=%{customdata[1]}<extra></extra>",
         "legendgroup": "Kiribati",
         "marker": {
          "color": "#00cc96",
          "symbol": "circle"
         },
         "mode": "markers",
         "name": "Kiribati",
         "showlegend": true,
         "type": "scattergl",
         "x": [
          98.6115112304688
         ],
         "xaxis": "x",
         "y": [
          68.521
         ],
         "yaxis": "y"
        },
        {
         "customdata": [
          [
           "Fiji",
           2021
          ]
         ],
         "hovertemplate": "Country Name=%{customdata[0]}<br>Literacy Rate (%)=%{x}<br>Life Expectancy (Years)=%{y}<br>Year=%{customdata[1]}<extra></extra>",
         "legendgroup": "Fiji",
         "marker": {
          "color": "#ab63fa",
          "symbol": "circle"
         },
         "mode": "markers",
         "name": "Fiji",
         "showlegend": true,
         "type": "scattergl",
         "x": [
          92.4281463623047
         ],
         "xaxis": "x",
         "y": [
          68.877
         ],
         "yaxis": "y"
        },
        {
         "customdata": [
          [
           "Somalia",
           2022
          ]
         ],
         "hovertemplate": "Country Name=%{customdata[0]}<br>Literacy Rate (%)=%{x}<br>Life Expectancy (Years)=%{y}<br>Year=%{customdata[1]}<extra></extra>",
         "legendgroup": "Somalia",
         "marker": {
          "color": "#FFA15A",
          "symbol": "circle"
         },
         "mode": "markers",
         "name": "Somalia",
         "showlegend": true,
         "type": "scattergl",
         "x": [
          44
         ],
         "xaxis": "x",
         "y": [
          58.233
         ],
         "yaxis": "y"
        }
       ],
       "layout": {
        "legend": {
         "title": {
          "text": "Country Name"
         },
         "tracegroupgap": 0
        },
        "template": {
         "data": {
          "bar": [
           {
            "error_x": {
             "color": "#2a3f5f"
            },
            "error_y": {
             "color": "#2a3f5f"
            },
            "marker": {
             "line": {
              "color": "#E5ECF6",
              "width": 0.5
             },
             "pattern": {
              "fillmode": "overlay",
              "size": 10,
              "solidity": 0.2
             }
            },
            "type": "bar"
           }
          ],
          "barpolar": [
           {
            "marker": {
             "line": {
              "color": "#E5ECF6",
              "width": 0.5
             },
             "pattern": {
              "fillmode": "overlay",
              "size": 10,
              "solidity": 0.2
             }
            },
            "type": "barpolar"
           }
          ],
          "carpet": [
           {
            "aaxis": {
             "endlinecolor": "#2a3f5f",
             "gridcolor": "white",
             "linecolor": "white",
             "minorgridcolor": "white",
             "startlinecolor": "#2a3f5f"
            },
            "baxis": {
             "endlinecolor": "#2a3f5f",
             "gridcolor": "white",
             "linecolor": "white",
             "minorgridcolor": "white",
             "startlinecolor": "#2a3f5f"
            },
            "type": "carpet"
           }
          ],
          "choropleth": [
           {
            "colorbar": {
             "outlinewidth": 0,
             "ticks": ""
            },
            "type": "choropleth"
           }
          ],
          "contour": [
           {
            "colorbar": {
             "outlinewidth": 0,
             "ticks": ""
            },
            "colorscale": [
             [
              0,
              "#0d0887"
             ],
             [
              0.1111111111111111,
              "#46039f"
             ],
             [
              0.2222222222222222,
              "#7201a8"
             ],
             [
              0.3333333333333333,
              "#9c179e"
             ],
             [
              0.4444444444444444,
              "#bd3786"
             ],
             [
              0.5555555555555556,
              "#d8576b"
             ],
             [
              0.6666666666666666,
              "#ed7953"
             ],
             [
              0.7777777777777778,
              "#fb9f3a"
             ],
             [
              0.8888888888888888,
              "#fdca26"
             ],
             [
              1,
              "#f0f921"
             ]
            ],
            "type": "contour"
           }
          ],
          "contourcarpet": [
           {
            "colorbar": {
             "outlinewidth": 0,
             "ticks": ""
            },
            "type": "contourcarpet"
           }
          ],
          "heatmap": [
           {
            "colorbar": {
             "outlinewidth": 0,
             "ticks": ""
            },
            "colorscale": [
             [
              0,
              "#0d0887"
             ],
             [
              0.1111111111111111,
              "#46039f"
             ],
             [
              0.2222222222222222,
              "#7201a8"
             ],
             [
              0.3333333333333333,
              "#9c179e"
             ],
             [
              0.4444444444444444,
              "#bd3786"
             ],
             [
              0.5555555555555556,
              "#d8576b"
             ],
             [
              0.6666666666666666,
              "#ed7953"
             ],
             [
              0.7777777777777778,
              "#fb9f3a"
             ],
             [
              0.8888888888888888,
              "#fdca26"
             ],
             [
              1,
              "#f0f921"
             ]
            ],
            "type": "heatmap"
           }
          ],
          "heatmapgl": [
           {
            "colorbar": {
             "outlinewidth": 0,
             "ticks": ""
            },
            "colorscale": [
             [
              0,
              "#0d0887"
             ],
             [
              0.1111111111111111,
              "#46039f"
             ],
             [
              0.2222222222222222,
              "#7201a8"
             ],
             [
              0.3333333333333333,
              "#9c179e"
             ],
             [
              0.4444444444444444,
              "#bd3786"
             ],
             [
              0.5555555555555556,
              "#d8576b"
             ],
             [
              0.6666666666666666,
              "#ed7953"
             ],
             [
              0.7777777777777778,
              "#fb9f3a"
             ],
             [
              0.8888888888888888,
              "#fdca26"
             ],
             [
              1,
              "#f0f921"
             ]
            ],
            "type": "heatmapgl"
           }
          ],
          "histogram": [
           {
            "marker": {
             "pattern": {
              "fillmode": "overlay",
              "size": 10,
              "solidity": 0.2
             }
            },
            "type": "histogram"
           }
          ],
          "histogram2d": [
           {
            "colorbar": {
             "outlinewidth": 0,
             "ticks": ""
            },
            "colorscale": [
             [
              0,
              "#0d0887"
             ],
             [
              0.1111111111111111,
              "#46039f"
             ],
             [
              0.2222222222222222,
              "#7201a8"
             ],
             [
              0.3333333333333333,
              "#9c179e"
             ],
             [
              0.4444444444444444,
              "#bd3786"
             ],
             [
              0.5555555555555556,
              "#d8576b"
             ],
             [
              0.6666666666666666,
              "#ed7953"
             ],
             [
              0.7777777777777778,
              "#fb9f3a"
             ],
             [
              0.8888888888888888,
              "#fdca26"
             ],
             [
              1,
              "#f0f921"
             ]
            ],
            "type": "histogram2d"
           }
          ],
          "histogram2dcontour": [
           {
            "colorbar": {
             "outlinewidth": 0,
             "ticks": ""
            },
            "colorscale": [
             [
              0,
              "#0d0887"
             ],
             [
              0.1111111111111111,
              "#46039f"
             ],
             [
              0.2222222222222222,
              "#7201a8"
             ],
             [
              0.3333333333333333,
              "#9c179e"
             ],
             [
              0.4444444444444444,
              "#bd3786"
             ],
             [
              0.5555555555555556,
              "#d8576b"
             ],
             [
              0.6666666666666666,
              "#ed7953"
             ],
             [
              0.7777777777777778,
              "#fb9f3a"
             ],
             [
              0.8888888888888888,
              "#fdca26"
             ],
             [
              1,
              "#f0f921"
             ]
            ],
            "type": "histogram2dcontour"
           }
          ],
          "mesh3d": [
           {
            "colorbar": {
             "outlinewidth": 0,
             "ticks": ""
            },
            "type": "mesh3d"
           }
          ],
          "parcoords": [
           {
            "line": {
             "colorbar": {
              "outlinewidth": 0,
              "ticks": ""
             }
            },
            "type": "parcoords"
           }
          ],
          "pie": [
           {
            "automargin": true,
            "type": "pie"
           }
          ],
          "scatter": [
           {
            "fillpattern": {
             "fillmode": "overlay",
             "size": 10,
             "solidity": 0.2
            },
            "type": "scatter"
           }
          ],
          "scatter3d": [
           {
            "line": {
             "colorbar": {
              "outlinewidth": 0,
              "ticks": ""
             }
            },
            "marker": {
             "colorbar": {
              "outlinewidth": 0,
              "ticks": ""
             }
            },
            "type": "scatter3d"
           }
          ],
          "scattercarpet": [
           {
            "marker": {
             "colorbar": {
              "outlinewidth": 0,
              "ticks": ""
             }
            },
            "type": "scattercarpet"
           }
          ],
          "scattergeo": [
           {
            "marker": {
             "colorbar": {
              "outlinewidth": 0,
              "ticks": ""
             }
            },
            "type": "scattergeo"
           }
          ],
          "scattergl": [
           {
            "marker": {
             "colorbar": {
              "outlinewidth": 0,
              "ticks": ""
             }
            },
            "type": "scattergl"
           }
          ],
          "scattermapbox": [
           {
            "marker": {
             "colorbar": {
              "outlinewidth": 0,
              "ticks": ""
             }
            },
            "type": "scattermapbox"
           }
          ],
          "scatterpolar": [
           {
            "marker": {
             "colorbar": {
              "outlinewidth": 0,
              "ticks": ""
             }
            },
            "type": "scatterpolar"
           }
          ],
          "scatterpolargl": [
           {
            "marker": {
             "colorbar": {
              "outlinewidth": 0,
              "ticks": ""
             }
            },
            "type": "scatterpolargl"
           }
          ],
          "scatterternary": [
           {
            "marker": {
             "colorbar": {
              "outlinewidth": 0,
              "ticks": ""
             }
            },
            "type": "scatterternary"
           }
          ],
          "surface": [
           {
            "colorbar": {
             "outlinewidth": 0,
             "ticks": ""
            },
            "colorscale": [
             [
              0,
              "#0d0887"
             ],
             [
              0.1111111111111111,
              "#46039f"
             ],
             [
              0.2222222222222222,
              "#7201a8"
             ],
             [
              0.3333333333333333,
              "#9c179e"
             ],
             [
              0.4444444444444444,
              "#bd3786"
             ],
             [
              0.5555555555555556,
              "#d8576b"
             ],
             [
              0.6666666666666666,
              "#ed7953"
             ],
             [
              0.7777777777777778,
              "#fb9f3a"
             ],
             [
              0.8888888888888888,
              "#fdca26"
             ],
             [
              1,
              "#f0f921"
             ]
            ],
            "type": "surface"
           }
          ],
          "table": [
           {
            "cells": {
             "fill": {
              "color": "#EBF0F8"
             },
             "line": {
              "color": "white"
             }
            },
            "header": {
             "fill": {
              "color": "#C8D4E3"
             },
             "line": {
              "color": "white"
             }
            },
            "type": "table"
           }
          ]
         },
         "layout": {
          "annotationdefaults": {
           "arrowcolor": "#2a3f5f",
           "arrowhead": 0,
           "arrowwidth": 1
          },
          "autotypenumbers": "strict",
          "coloraxis": {
           "colorbar": {
            "outlinewidth": 0,
            "ticks": ""
           }
          },
          "colorscale": {
           "diverging": [
            [
             0,
             "#8e0152"
            ],
            [
             0.1,
             "#c51b7d"
            ],
            [
             0.2,
             "#de77ae"
            ],
            [
             0.3,
             "#f1b6da"
            ],
            [
             0.4,
             "#fde0ef"
            ],
            [
             0.5,
             "#f7f7f7"
            ],
            [
             0.6,
             "#e6f5d0"
            ],
            [
             0.7,
             "#b8e186"
            ],
            [
             0.8,
             "#7fbc41"
            ],
            [
             0.9,
             "#4d9221"
            ],
            [
             1,
             "#276419"
            ]
           ],
           "sequential": [
            [
             0,
             "#0d0887"
            ],
            [
             0.1111111111111111,
             "#46039f"
            ],
            [
             0.2222222222222222,
             "#7201a8"
            ],
            [
             0.3333333333333333,
             "#9c179e"
            ],
            [
             0.4444444444444444,
             "#bd3786"
            ],
            [
             0.5555555555555556,
             "#d8576b"
            ],
            [
             0.6666666666666666,
             "#ed7953"
            ],
            [
             0.7777777777777778,
             "#fb9f3a"
            ],
            [
             0.8888888888888888,
             "#fdca26"
            ],
            [
             1,
             "#f0f921"
            ]
           ],
           "sequentialminus": [
            [
             0,
             "#0d0887"
            ],
            [
             0.1111111111111111,
             "#46039f"
            ],
            [
             0.2222222222222222,
             "#7201a8"
            ],
            [
             0.3333333333333333,
             "#9c179e"
            ],
            [
             0.4444444444444444,
             "#bd3786"
            ],
            [
             0.5555555555555556,
             "#d8576b"
            ],
            [
             0.6666666666666666,
             "#ed7953"
            ],
            [
             0.7777777777777778,
             "#fb9f3a"
            ],
            [
             0.8888888888888888,
             "#fdca26"
            ],
            [
             1,
             "#f0f921"
            ]
           ]
          },
          "colorway": [
           "#636efa",
           "#EF553B",
           "#00cc96",
           "#ab63fa",
           "#FFA15A",
           "#19d3f3",
           "#FF6692",
           "#B6E880",
           "#FF97FF",
           "#FECB52"
          ],
          "font": {
           "color": "#2a3f5f"
          },
          "geo": {
           "bgcolor": "white",
           "lakecolor": "white",
           "landcolor": "#E5ECF6",
           "showlakes": true,
           "showland": true,
           "subunitcolor": "white"
          },
          "hoverlabel": {
           "align": "left"
          },
          "hovermode": "closest",
          "mapbox": {
           "style": "light"
          },
          "paper_bgcolor": "white",
          "plot_bgcolor": "#E5ECF6",
          "polar": {
           "angularaxis": {
            "gridcolor": "white",
            "linecolor": "white",
            "ticks": ""
           },
           "bgcolor": "#E5ECF6",
           "radialaxis": {
            "gridcolor": "white",
            "linecolor": "white",
            "ticks": ""
           }
          },
          "scene": {
           "xaxis": {
            "backgroundcolor": "#E5ECF6",
            "gridcolor": "white",
            "gridwidth": 2,
            "linecolor": "white",
            "showbackground": true,
            "ticks": "",
            "zerolinecolor": "white"
           },
           "yaxis": {
            "backgroundcolor": "#E5ECF6",
            "gridcolor": "white",
            "gridwidth": 2,
            "linecolor": "white",
            "showbackground": true,
            "ticks": "",
            "zerolinecolor": "white"
           },
           "zaxis": {
            "backgroundcolor": "#E5ECF6",
            "gridcolor": "white",
            "gridwidth": 2,
            "linecolor": "white",
            "showbackground": true,
            "ticks": "",
            "zerolinecolor": "white"
           }
          },
          "shapedefaults": {
           "line": {
            "color": "#2a3f5f"
           }
          },
          "ternary": {
           "aaxis": {
            "gridcolor": "white",
            "linecolor": "white",
            "ticks": ""
           },
           "baxis": {
            "gridcolor": "white",
            "linecolor": "white",
            "ticks": ""
           },
           "bgcolor": "#E5ECF6",
           "caxis": {
            "gridcolor": "white",
            "linecolor": "white",
            "ticks": ""
           }
          },
          "title": {
           "x": 0.05
          },
          "xaxis": {
           "automargin": true,
           "gridcolor": "white",
           "linecolor": "white",
           "ticks": "",
           "title": {
            "standoff": 15
           },
           "zerolinecolor": "white",
           "zerolinewidth": 2
          },
          "yaxis": {
           "automargin": true,
           "gridcolor": "white",
           "linecolor": "white",
           "ticks": "",
           "title": {
            "standoff": 15
           },
           "zerolinecolor": "white",
           "zerolinewidth": 2
          }
         }
        },
        "title": {
         "text": "Literacy Rate vs Life Expectancy (Total)"
        },
        "xaxis": {
         "anchor": "y",
         "domain": [
          0,
          1
         ],
         "tickformat": ".1f",
         "title": {
          "text": "Literacy Rate (%)"
         }
        },
        "yaxis": {
         "anchor": "x",
         "domain": [
          0,
          1
         ],
         "tickformat": ".1f",
         "title": {
          "text": "Life Expectancy (Years)"
         }
        }
       }
      },
      "text/html": [
       "<div>                            <div id=\"b7581f37-d768-4231-93c1-a9de0278486b\" class=\"plotly-graph-div\" style=\"height:525px; width:100%;\"></div>            <script type=\"text/javascript\">                require([\"plotly\"], function(Plotly) {                    window.PLOTLYENV=window.PLOTLYENV || {};                                    if (document.getElementById(\"b7581f37-d768-4231-93c1-a9de0278486b\")) {                    Plotly.newPlot(                        \"b7581f37-d768-4231-93c1-a9de0278486b\",                        [{\"customdata\":[[\"Burkina Faso\",1975],[\"Burkina Faso\",1991],[\"Burkina Faso\",1996],[\"Burkina Faso\",2003],[\"Burkina Faso\",2005],[\"Burkina Faso\",2006],[\"Burkina Faso\",2007],[\"Burkina Faso\",2014],[\"Burkina Faso\",2018],[\"Burkina Faso\",2019],[\"Burkina Faso\",2021],[\"Burkina Faso\",2022]],\"hovertemplate\":\"Country Name=%{customdata[0]}\\u003cbr\\u003eLiteracy Rate (%)=%{x}\\u003cbr\\u003eLife Expectancy (Years)=%{y}\\u003cbr\\u003eYear=%{customdata[1]}\\u003cextra\\u003e\\u003c\\u002fextra\\u003e\",\"legendgroup\":\"Burkina Faso\",\"marker\":{\"color\":\"#636efa\",\"symbol\":\"circle\"},\"mode\":\"markers\",\"name\":\"Burkina Faso\",\"showlegend\":true,\"x\":[3.0,8.0,8.0,15.0,17.0,16.0,21.0,26.0,31.0,25.0,31.0312004089355,29.1200008392334],\"xaxis\":\"x\",\"y\":[43.676,50.439,50.823,53.172,54.617,55.158,55.777,59.884,61.706,61.822,60.99,61.505],\"yaxis\":\"y\",\"type\":\"scattergl\"},{\"customdata\":[[\"Central African Republic\",1975],[\"Central African Republic\",1988],[\"Central African Republic\",2000],[\"Central African Republic\",2010],[\"Central African Republic\",2018],[\"Central African Republic\",2019],[\"Central African Republic\",2020]],\"hovertemplate\":\"Country Name=%{customdata[0]}\\u003cbr\\u003eLiteracy Rate (%)=%{x}\\u003cbr\\u003eLife Expectancy (Years)=%{y}\\u003cbr\\u003eYear=%{customdata[1]}\\u003cextra\\u003e\\u003c\\u002fextra\\u003e\",\"legendgroup\":\"Central African Republic\",\"marker\":{\"color\":\"#EF553B\",\"symbol\":\"circle\"},\"mode\":\"markers\",\"name\":\"Central African Republic\",\"showlegend\":true,\"x\":[8.0,20.0,35.0,24.355489730835,26.0,27.1308307647705,26.2000007629395],\"xaxis\":\"x\",\"y\":[49.223,52.2,46.587,50.534,56.587,57.106,56.757],\"yaxis\":\"y\",\"type\":\"scattergl\"},{\"customdata\":[[\"Kuwait\",1975],[\"Kuwait\",1980],[\"Kuwait\",1985],[\"Kuwait\",1995],[\"Kuwait\",2005],[\"Kuwait\",2006],[\"Kuwait\",2007],[\"Kuwait\",2008],[\"Kuwait\",2010],[\"Kuwait\",2012],[\"Kuwait\",2013],[\"Kuwait\",2015],[\"Kuwait\",2017],[\"Kuwait\",2018],[\"Kuwait\",2020]],\"hovertemplate\":\"Country Name=%{customdata[0]}\\u003cbr\\u003eLiteracy Rate (%)=%{x}\\u003cbr\\u003eLife Expectancy (Years)=%{y}\\u003cbr\\u003eYear=%{customdata[1]}\\u003cextra\\u003e\\u003c\\u002fextra\\u003e\",\"legendgroup\":\"Kuwait\",\"marker\":{\"color\":\"#00cc96\",\"symbol\":\"circle\"},\"mode\":\"markers\",\"name\":\"Kuwait\",\"showlegend\":true,\"x\":[48.0,59.0,69.0,74.0,91.0,91.0,92.0,92.0,93.0,95.0,94.0,94.0,95.0,95.0,95.0],\"xaxis\":\"x\",\"y\":[70.35,72.379,75.2,77.84,79.187,79.282,79.302,79.36,80.105,81.072,81.542,82.004,82.303,82.281,80.023],\"yaxis\":\"y\",\"type\":\"scattergl\"},{\"customdata\":[[\"Turkiye\",1975],[\"Turkiye\",1980],[\"Turkiye\",1985],[\"Turkiye\",1990],[\"Turkiye\",2004],[\"Turkiye\",2005],[\"Turkiye\",2006],[\"Turkiye\",2007],[\"Turkiye\",2009],[\"Turkiye\",2010],[\"Turkiye\",2011],[\"Turkiye\",2012],[\"Turkiye\",2013],[\"Turkiye\",2014],[\"Turkiye\",2015],[\"Turkiye\",2016],[\"Turkiye\",2017],[\"Turkiye\",2019]],\"hovertemplate\":\"Country Name=%{customdata[0]}\\u003cbr\\u003eLiteracy Rate (%)=%{x}\\u003cbr\\u003eLife Expectancy (Years)=%{y}\\u003cbr\\u003eYear=%{customdata[1]}\\u003cextra\\u003e\\u003c\\u002fextra\\u003e\",\"legendgroup\":\"Turkiye\",\"marker\":{\"color\":\"#ab63fa\",\"symbol\":\"circle\"},\"mode\":\"markers\",\"name\":\"Turkiye\",\"showlegend\":true,\"x\":[45.0,50.0,64.0,69.0,80.0,81.0,80.0,81.0,85.0,88.0,90.0,92.0,92.0,92.0,93.0,93.0,93.0,94.0],\"xaxis\":\"x\",\"y\":[63.048,66.207,68.923,71.41,76.564,76.867,77.124,77.442,77.988,78.221,78.144,78.838,79.398,79.623,79.787,79.894,80.293,80.953],\"yaxis\":\"y\",\"type\":\"scattergl\"},{\"customdata\":[[\"United Arab Emirates\",1975],[\"United Arab Emirates\",1985],[\"United Arab Emirates\",2005],[\"United Arab Emirates\",2019],[\"United Arab Emirates\",2021],[\"United Arab Emirates\",2022]],\"hovertemplate\":\"Country Name=%{customdata[0]}\\u003cbr\\u003eLiteracy Rate (%)=%{x}\\u003cbr\\u003eLife Expectancy (Years)=%{y}\\u003cbr\\u003eYear=%{customdata[1]}\\u003cextra\\u003e\\u003c\\u002fextra\\u003e\",\"legendgroup\":\"United Arab Emirates\",\"marker\":{\"color\":\"#FFA15A\",\"symbol\":\"circle\"},\"mode\":\"markers\",\"name\":\"United Arab Emirates\",\"showlegend\":true,\"x\":[38.0,69.0,91.0,97.0,97.0,98.0],\"xaxis\":\"x\",\"y\":[68.035,73.64,79.033,81.907,80.937,81.412],\"yaxis\":\"y\",\"type\":\"scattergl\"},{\"customdata\":[[\"Uruguay\",1975],[\"Uruguay\",1985],[\"Uruguay\",1996],[\"Uruguay\",2006],[\"Uruguay\",2007],[\"Uruguay\",2008],[\"Uruguay\",2009],[\"Uruguay\",2010],[\"Uruguay\",2011],[\"Uruguay\",2012],[\"Uruguay\",2013],[\"Uruguay\",2014],[\"Uruguay\",2015],[\"Uruguay\",2016],[\"Uruguay\",2017],[\"Uruguay\",2018],[\"Uruguay\",2019],[\"Uruguay\",2022]],\"hovertemplate\":\"Country Name=%{customdata[0]}\\u003cbr\\u003eLiteracy Rate (%)=%{x}\\u003cbr\\u003eLife Expectancy (Years)=%{y}\\u003cbr\\u003eYear=%{customdata[1]}\\u003cextra\\u003e\\u003c\\u002fextra\\u003e\",\"legendgroup\":\"Uruguay\",\"marker\":{\"color\":\"#19d3f3\",\"symbol\":\"circle\"},\"mode\":\"markers\",\"name\":\"Uruguay\",\"showlegend\":true,\"x\":[94.0,96.0,97.0,98.0,98.0,98.0,99.0,98.0,99.0,99.0,99.0,99.0,99.0,99.0,99.0,99.0,99.0,99.0],\"xaxis\":\"x\",\"y\":[73.15,76.047,78.526,80.488,80.58,80.675,80.776,80.897,81.032,81.165,81.28,81.36,81.386,81.356,81.316,81.283,81.296,81.685],\"yaxis\":\"y\",\"type\":\"scattergl\"},{\"customdata\":[[\"Bolivia\",1976],[\"Bolivia\",1992],[\"Bolivia\",2001],[\"Bolivia\",2007],[\"Bolivia\",2008],[\"Bolivia\",2009],[\"Bolivia\",2011],[\"Bolivia\",2012],[\"Bolivia\",2015],[\"Bolivia\",2020]],\"hovertemplate\":\"Country Name=%{customdata[0]}\\u003cbr\\u003eLiteracy Rate (%)=%{x}\\u003cbr\\u003eLife Expectancy (Years)=%{y}\\u003cbr\\u003eYear=%{customdata[1]}\\u003cextra\\u003e\\u003c\\u002fextra\\u003e\",\"legendgroup\":\"Bolivia\",\"marker\":{\"color\":\"#FF6692\",\"symbol\":\"circle\"},\"mode\":\"markers\",\"name\":\"Bolivia\",\"showlegend\":true,\"x\":[51.0,72.0,81.0,86.0,87.0,87.0,88.0,92.0,89.0,91.0],\"xaxis\":\"x\",\"y\":[50.807,59.093,64.99,67.354,67.857,68.358,69.088,69.312,69.911,67.841],\"yaxis\":\"y\",\"type\":\"scattergl\"},{\"customdata\":[[\"Cameroon\",1976],[\"Cameroon\",2000],[\"Cameroon\",2007],[\"Cameroon\",2010],[\"Cameroon\",2018],[\"Cameroon\",2020]],\"hovertemplate\":\"Country Name=%{customdata[0]}\\u003cbr\\u003eLiteracy Rate (%)=%{x}\\u003cbr\\u003eLife Expectancy (Years)=%{y}\\u003cbr\\u003eYear=%{customdata[1]}\\u003cextra\\u003e\\u003c\\u002fextra\\u003e\",\"legendgroup\":\"Cameroon\",\"marker\":{\"color\":\"#B6E880\",\"symbol\":\"circle\"},\"mode\":\"markers\",\"name\":\"Cameroon\",\"showlegend\":true,\"x\":[29.0,59.0,63.0,65.0,66.1617736816406,73.120002746582],\"xaxis\":\"x\",\"y\":[51.251,54.562,56.469,57.971,62.783,62.633],\"yaxis\":\"y\",\"type\":\"scattergl\"},{\"customdata\":[[\"Egypt, Arab Rep.\",1976],[\"Egypt, Arab Rep.\",1986],[\"Egypt, Arab Rep.\",1996],[\"Egypt, Arab Rep.\",2005],[\"Egypt, Arab Rep.\",2006],[\"Egypt, Arab Rep.\",2010],[\"Egypt, Arab Rep.\",2012],[\"Egypt, Arab Rep.\",2013],[\"Egypt, Arab Rep.\",2017],[\"Egypt, Arab Rep.\",2022]],\"hovertemplate\":\"Country Name=%{customdata[0]}\\u003cbr\\u003eLiteracy Rate (%)=%{x}\\u003cbr\\u003eLife Expectancy (Years)=%{y}\\u003cbr\\u003eYear=%{customdata[1]}\\u003cextra\\u003e\\u003c\\u002fextra\\u003e\",\"legendgroup\":\"Egypt, Arab Rep.\",\"marker\":{\"color\":\"#FF97FF\",\"symbol\":\"circle\"},\"mode\":\"markers\",\"name\":\"Egypt, Arab Rep.\",\"showlegend\":true,\"x\":[22.0,31.0,44.0,56.0,58.0,64.0,66.0,63.0,66.0,68.9499969482422],\"xaxis\":\"x\",\"y\":[55.575,63.084,68.751,71.226,71.49,72.318,72.745,72.82,73.974,72.557],\"yaxis\":\"y\",\"type\":\"scattergl\"},{\"customdata\":[[\"Eswatini\",1976],[\"Eswatini\",1986],[\"Eswatini\",2000],[\"Eswatini\",2010],[\"Eswatini\",2020],[\"Eswatini\",2022]],\"hovertemplate\":\"Country Name=%{customdata[0]}\\u003cbr\\u003eLiteracy Rate (%)=%{x}\\u003cbr\\u003eLife Expectancy (Years)=%{y}\\u003cbr\\u003eYear=%{customdata[1]}\\u003cextra\\u003e\\u003c\\u002fextra\\u003e\",\"legendgroup\":\"Eswatini\",\"marker\":{\"color\":\"#FECB52\",\"symbol\":\"circle\"},\"mode\":\"markers\",\"name\":\"Eswatini\",\"showlegend\":true,\"x\":[54.0,65.0,80.0,82.4475479125977,89.4700012207031,90.4126586914062],\"xaxis\":\"x\",\"y\":[56.139,63.093,49.317,48.306,63.678,60.599],\"yaxis\":\"y\",\"type\":\"scattergl\"},{\"customdata\":[[\"Iran, Islamic Rep.\",1976],[\"Iran, Islamic Rep.\",1986],[\"Iran, Islamic Rep.\",1991],[\"Iran, Islamic Rep.\",1996],[\"Iran, Islamic Rep.\",2002],[\"Iran, Islamic Rep.\",2005],[\"Iran, Islamic Rep.\",2006],[\"Iran, Islamic Rep.\",2008],[\"Iran, Islamic Rep.\",2012],[\"Iran, Islamic Rep.\",2013],[\"Iran, Islamic Rep.\",2014],[\"Iran, Islamic Rep.\",2016],[\"Iran, Islamic Rep.\",2022]],\"hovertemplate\":\"Country Name=%{customdata[0]}\\u003cbr\\u003eLiteracy Rate (%)=%{x}\\u003cbr\\u003eLife Expectancy (Years)=%{y}\\u003cbr\\u003eYear=%{customdata[1]}\\u003cextra\\u003e\\u003c\\u002fextra\\u003e\",\"legendgroup\":\"Iran, Islamic Rep.\",\"marker\":{\"color\":\"#636efa\",\"symbol\":\"circle\"},\"mode\":\"markers\",\"name\":\"Iran, Islamic Rep.\",\"showlegend\":true,\"x\":[24.0,41.0,56.0,66.0,70.0,77.0,77.0,78.0,78.0,80.0,80.0,81.0,84.870002746582],\"xaxis\":\"x\",\"y\":[56.281,65.937,68.596,70.748,72.923,74.356,74.918,74.918,76.958,77.211,77.361,78.336,77.453],\"yaxis\":\"y\",\"type\":\"scattergl\"},{\"customdata\":[[\"Mali\",1976],[\"Mali\",1998],[\"Mali\",2003],[\"Mali\",2006],[\"Mali\",2010],[\"Mali\",2011],[\"Mali\",2015],[\"Mali\",2018],[\"Mali\",2020]],\"hovertemplate\":\"Country Name=%{customdata[0]}\\u003cbr\\u003eLiteracy Rate (%)=%{x}\\u003cbr\\u003eLife Expectancy (Years)=%{y}\\u003cbr\\u003eYear=%{customdata[1]}\\u003cextra\\u003e\\u003c\\u002fextra\\u003e\",\"legendgroup\":\"Mali\",\"marker\":{\"color\":\"#EF553B\",\"symbol\":\"circle\"},\"mode\":\"markers\",\"name\":\"Mali\",\"showlegend\":true,\"x\":[6.0,12.0,16.0,18.0,20.0,19.0,22.0,26.0,22.0],\"xaxis\":\"x\",\"y\":[38.325,49.348,53.579,55.487,57.328,57.723,59.468,60.694,59.94],\"yaxis\":\"y\",\"type\":\"scattergl\"},{\"customdata\":[[\"New Caledonia\",1976],[\"New Caledonia\",1989],[\"New Caledonia\",1996],[\"New Caledonia\",2006]],\"hovertemplate\":\"Country Name=%{customdata[0]}\\u003cbr\\u003eLiteracy Rate (%)=%{x}\\u003cbr\\u003eLife Expectancy (Years)=%{y}\\u003cbr\\u003eYear=%{customdata[1]}\\u003cextra\\u003e\\u003c\\u002fextra\\u003e\",\"legendgroup\":\"New Caledonia\",\"marker\":{\"color\":\"#00cc96\",\"symbol\":\"circle\"},\"mode\":\"markers\",\"name\":\"New Caledonia\",\"showlegend\":true,\"x\":[90.0,92.0,95.0,96.9000015258789],\"xaxis\":\"x\",\"y\":[69.0,71.8,74.2,79.2],\"yaxis\":\"y\",\"type\":\"scattergl\"},{\"customdata\":[[\"Tonga\",1976],[\"Tonga\",1996],[\"Tonga\",2006],[\"Tonga\",2011],[\"Tonga\",2019],[\"Tonga\",2021]],\"hovertemplate\":\"Country Name=%{customdata[0]}\\u003cbr\\u003eLiteracy Rate (%)=%{x}\\u003cbr\\u003eLife Expectancy (Years)=%{y}\\u003cbr\\u003eYear=%{customdata[1]}\\u003cextra\\u003e\\u003c\\u002fextra\\u003e\",\"legendgroup\":\"Tonga\",\"marker\":{\"color\":\"#ab63fa\",\"symbol\":\"circle\"},\"mode\":\"markers\",\"name\":\"Tonga\",\"showlegend\":true,\"x\":[100.0,99.0,99.0,99.0,97.5791702270508,99.5],\"xaxis\":\"x\",\"y\":[69.532,72.328,73.13,73.424,73.669,73.719],\"yaxis\":\"y\",\"type\":\"scattergl\"},{\"customdata\":[[\"Maldives\",1977],[\"Maldives\",1985],[\"Maldives\",1990],[\"Maldives\",1995],[\"Maldives\",2000],[\"Maldives\",2006],[\"Maldives\",2014],[\"Maldives\",2016],[\"Maldives\",2017],[\"Maldives\",2019],[\"Maldives\",2021]],\"hovertemplate\":\"Country Name=%{customdata[0]}\\u003cbr\\u003eLiteracy Rate (%)=%{x}\\u003cbr\\u003eLife Expectancy (Years)=%{y}\\u003cbr\\u003eYear=%{customdata[1]}\\u003cextra\\u003e\\u003c\\u002fextra\\u003e\",\"legendgroup\":\"Maldives\",\"marker\":{\"color\":\"#FFA15A\",\"symbol\":\"circle\"},\"mode\":\"markers\",\"name\":\"Maldives\",\"showlegend\":true,\"x\":[82.0,92.0,96.0,96.0,96.0,98.0,99.0,98.0,94.9146194458008,98.2551879882812,98.4100036621094],\"xaxis\":\"x\",\"y\":[53.021,60.403,64.307,68.435,71.763,76.652,80.406,80.814,81.058,81.162,81.019],\"yaxis\":\"y\",\"type\":\"scattergl\"},{\"customdata\":[[\"Poland\",1978],[\"Poland\",1988],[\"Poland\",2021]],\"hovertemplate\":\"Country Name=%{customdata[0]}\\u003cbr\\u003eLiteracy Rate (%)=%{x}\\u003cbr\\u003eLife Expectancy (Years)=%{y}\\u003cbr\\u003eYear=%{customdata[1]}\\u003cextra\\u003e\\u003c\\u002fextra\\u003e\",\"legendgroup\":\"Poland\",\"marker\":{\"color\":\"#19d3f3\",\"symbol\":\"circle\"},\"mode\":\"markers\",\"name\":\"Poland\",\"showlegend\":true,\"x\":[98.0,99.0,99.8000030517578],\"xaxis\":\"x\",\"y\":[74.5,75.67,79.6],\"yaxis\":\"y\",\"type\":\"scattergl\"},{\"customdata\":[[\"Rwanda\",1978],[\"Rwanda\",2000],[\"Rwanda\",2010],[\"Rwanda\",2012],[\"Rwanda\",2014],[\"Rwanda\",2018],[\"Rwanda\",2020],[\"Rwanda\",2022]],\"hovertemplate\":\"Country Name=%{customdata[0]}\\u003cbr\\u003eLiteracy Rate (%)=%{x}\\u003cbr\\u003eLife Expectancy (Years)=%{y}\\u003cbr\\u003eYear=%{customdata[1]}\\u003cextra\\u003e\\u003c\\u002fextra\\u003e\",\"legendgroup\":\"Rwanda\",\"marker\":{\"color\":\"#FF6692\",\"symbol\":\"circle\"},\"mode\":\"markers\",\"name\":\"Rwanda\",\"showlegend\":true,\"x\":[27.0,60.0,61.5486106872559,65.0,66.0,69.0,77.8100891113281,77.0],\"xaxis\":\"x\",\"y\":[46.347,48.281,64.181,65.873,66.906,68.266,68.996,69.244],\"yaxis\":\"y\",\"type\":\"scattergl\"},{\"customdata\":[[\"Afghanistan\",1979],[\"Afghanistan\",2011],[\"Afghanistan\",2015],[\"Afghanistan\",2021],[\"Afghanistan\",2022]],\"hovertemplate\":\"Country Name=%{customdata[0]}\\u003cbr\\u003eLiteracy Rate (%)=%{x}\\u003cbr\\u003eLife Expectancy (Years)=%{y}\\u003cbr\\u003eYear=%{customdata[1]}\\u003cextra\\u003e\\u003c\\u002fextra\\u003e\",\"legendgroup\":\"Afghanistan\",\"marker\":{\"color\":\"#B6E880\",\"symbol\":\"circle\"},\"mode\":\"markers\",\"name\":\"Afghanistan\",\"showlegend\":true,\"x\":[5.0,17.0,17.0862407684326,23.0,26.5965595245361],\"xaxis\":\"x\",\"y\":[41.143,62.993,64.576,65.279,66.213],\"yaxis\":\"y\",\"type\":\"scattergl\"},{\"customdata\":[[\"Benin\",1979],[\"Benin\",1992],[\"Benin\",2002],[\"Benin\",2006],[\"Benin\",2012],[\"Benin\",2017],[\"Benin\",2021],[\"Benin\",2022]],\"hovertemplate\":\"Country Name=%{customdata[0]}\\u003cbr\\u003eLiteracy Rate (%)=%{x}\\u003cbr\\u003eLife Expectancy (Years)=%{y}\\u003cbr\\u003eYear=%{customdata[1]}\\u003cextra\\u003e\\u003c\\u002fextra\\u003e\",\"legendgroup\":\"Benin\",\"marker\":{\"color\":\"#FF97FF\",\"symbol\":\"circle\"},\"mode\":\"markers\",\"name\":\"Benin\",\"showlegend\":true,\"x\":[10.0,17.0,23.0,18.4429092407227,22.093879699707,28.5498504638672,33.1344985961914,36.4000015258789],\"xaxis\":\"x\",\"y\":[49.58,56.761,58.002,58.836,59.775,61.199,61.445,61.676],\"yaxis\":\"y\",\"type\":\"scattergl\"},{\"customdata\":[[\"Burundi\",1979],[\"Burundi\",1990],[\"Burundi\",2000],[\"Burundi\",2008],[\"Burundi\",2014],[\"Burundi\",2016],[\"Burundi\",2017],[\"Burundi\",2022]],\"hovertemplate\":\"Country Name=%{customdata[0]}\\u003cbr\\u003eLiteracy Rate (%)=%{x}\\u003cbr\\u003eLife Expectancy (Years)=%{y}\\u003cbr\\u003eYear=%{customdata[1]}\\u003cextra\\u003e\\u003c\\u002fextra\\u003e\",\"legendgroup\":\"Burundi\",\"marker\":{\"color\":\"#FECB52\",\"symbol\":\"circle\"},\"mode\":\"markers\",\"name\":\"Burundi\",\"showlegend\":true,\"x\":[12.0,28.0,52.0,43.0,55.0,59.4406814575195,61.0,69.4400024414062],\"xaxis\":\"x\",\"y\":[45.981,46.711,49.768,57.407,61.346,62.458,63.302,63.868],\"yaxis\":\"y\",\"type\":\"scattergl\"},{\"customdata\":[[\"Guinea-Bissau\",1979],[\"Guinea-Bissau\",2000],[\"Guinea-Bissau\",2014],[\"Guinea-Bissau\",2019],[\"Guinea-Bissau\",2022]],\"hovertemplate\":\"Country Name=%{customdata[0]}\\u003cbr\\u003eLiteracy Rate (%)=%{x}\\u003cbr\\u003eLife Expectancy (Years)=%{y}\\u003cbr\\u003eYear=%{customdata[1]}\\u003cextra\\u003e\\u003c\\u002fextra\\u003e\",\"legendgroup\":\"Guinea-Bissau\",\"marker\":{\"color\":\"#636efa\",\"symbol\":\"circle\"},\"mode\":\"markers\",\"name\":\"Guinea-Bissau\",\"showlegend\":true,\"x\":[9.0,27.0,30.7685108184814,40.3379783630371,41.0],\"xaxis\":\"x\",\"y\":[45.391,52.561,60.679,62.872,61.929],\"yaxis\":\"y\",\"type\":\"scattergl\"},{\"customdata\":[[\"Jordan\",1979],[\"Jordan\",2003],[\"Jordan\",2005],[\"Jordan\",2007],[\"Jordan\",2010],[\"Jordan\",2011],[\"Jordan\",2012],[\"Jordan\",2018]],\"hovertemplate\":\"Country Name=%{customdata[0]}\\u003cbr\\u003eLiteracy Rate (%)=%{x}\\u003cbr\\u003eLife Expectancy (Years)=%{y}\\u003cbr\\u003eYear=%{customdata[1]}\\u003cextra\\u003e\\u003c\\u002fextra\\u003e\",\"legendgroup\":\"Jordan\",\"marker\":{\"color\":\"#EF553B\",\"symbol\":\"circle\"},\"mode\":\"markers\",\"name\":\"Jordan\",\"showlegend\":true,\"x\":[52.0,85.0,87.0,89.0,89.0,94.0,97.0,94.1569595336914],\"xaxis\":\"x\",\"y\":[66.978,74.393,74.781,75.29,76.128,76.378,76.605,78.172],\"yaxis\":\"y\",\"type\":\"scattergl\"},{\"customdata\":[[\"Vanuatu\",1979],[\"Vanuatu\",1984],[\"Vanuatu\",1994],[\"Vanuatu\",2004],[\"Vanuatu\",2014],[\"Vanuatu\",2021]],\"hovertemplate\":\"Country Name=%{customdata[0]}\\u003cbr\\u003eLiteracy Rate (%)=%{x}\\u003cbr\\u003eLife Expectancy (Years)=%{y}\\u003cbr\\u003eYear=%{customdata[1]}\\u003cextra\\u003e\\u003c\\u002fextra\\u003e\",\"legendgroup\":\"Vanuatu\",\"marker\":{\"color\":\"#00cc96\",\"symbol\":\"circle\"},\"mode\":\"markers\",\"name\":\"Vanuatu\",\"showlegend\":true,\"x\":[48.0,53.7000007629395,65.5999984741211,76.1999969482422,83.1999969482422,88.4000015258789],\"xaxis\":\"x\",\"y\":[62.453,67.209,70.749,71.872,71.892,72.945],\"yaxis\":\"y\",\"type\":\"scattergl\"},{\"customdata\":[[\"Viet Nam\",1979],[\"Viet Nam\",1989],[\"Viet Nam\",1999],[\"Viet Nam\",2000],[\"Viet Nam\",2009],[\"Viet Nam\",2019],[\"Viet Nam\",2022]],\"hovertemplate\":\"Country Name=%{customdata[0]}\\u003cbr\\u003eLiteracy Rate (%)=%{x}\\u003cbr\\u003eLife Expectancy (Years)=%{y}\\u003cbr\\u003eYear=%{customdata[1]}\\u003cextra\\u003e\\u003c\\u002fextra\\u003e\",\"legendgroup\":\"Viet Nam\",\"marker\":{\"color\":\"#ab63fa\",\"symbol\":\"circle\"},\"mode\":\"markers\",\"name\":\"Viet Nam\",\"showlegend\":true,\"x\":[78.0,83.0,87.0,87.0,91.0,95.0,95.0],\"xaxis\":\"x\",\"y\":[70.337,73.523,77.023,77.114,78.266,78.888,79.29],\"yaxis\":\"y\",\"type\":\"scattergl\"},{\"customdata\":[[\"Argentina\",1980],[\"Argentina\",1991],[\"Argentina\",2001]],\"hovertemplate\":\"Country Name=%{customdata[0]}\\u003cbr\\u003eLiteracy Rate (%)=%{x}\\u003cbr\\u003eLife Expectancy (Years)=%{y}\\u003cbr\\u003eYear=%{customdata[1]}\\u003cextra\\u003e\\u003c\\u002fextra\\u003e\",\"legendgroup\":\"Argentina\",\"marker\":{\"color\":\"#FFA15A\",\"symbol\":\"circle\"},\"mode\":\"markers\",\"name\":\"Argentina\",\"showlegend\":true,\"x\":[94.0,96.0,97.0],\"xaxis\":\"x\",\"y\":[72.549,75.635,77.59],\"yaxis\":\"y\",\"type\":\"scattergl\"},{\"customdata\":[[\"Barbados\",1980]],\"hovertemplate\":\"Country Name=%{customdata[0]}\\u003cbr\\u003eLiteracy Rate (%)=%{x}\\u003cbr\\u003eLife Expectancy (Years)=%{y}\\u003cbr\\u003eYear=%{customdata[1]}\\u003cextra\\u003e\\u003c\\u002fextra\\u003e\",\"legendgroup\":\"Barbados\",\"marker\":{\"color\":\"#19d3f3\",\"symbol\":\"circle\"},\"mode\":\"markers\",\"name\":\"Barbados\",\"showlegend\":true,\"x\":[99.5],\"xaxis\":\"x\",\"y\":[74.281],\"yaxis\":\"y\",\"type\":\"scattergl\"},{\"customdata\":[[\"Brazil\",1980],[\"Brazil\",2000],[\"Brazil\",2004],[\"Brazil\",2006],[\"Brazil\",2007],[\"Brazil\",2008],[\"Brazil\",2009],[\"Brazil\",2010],[\"Brazil\",2011],[\"Brazil\",2012],[\"Brazil\",2013],[\"Brazil\",2014],[\"Brazil\",2015],[\"Brazil\",2016],[\"Brazil\",2017],[\"Brazil\",2018],[\"Brazil\",2022]],\"hovertemplate\":\"Country Name=%{customdata[0]}\\u003cbr\\u003eLiteracy Rate (%)=%{x}\\u003cbr\\u003eLife Expectancy (Years)=%{y}\\u003cbr\\u003eYear=%{customdata[1]}\\u003cextra\\u003e\\u003c\\u002fextra\\u003e\",\"legendgroup\":\"Brazil\",\"marker\":{\"color\":\"#FF6692\",\"symbol\":\"circle\"},\"mode\":\"markers\",\"name\":\"Brazil\",\"showlegend\":true,\"x\":[73.0,87.0,89.0,90.0,90.0,90.0,90.0,91.0,92.0,92.0,92.0,92.0,92.0,93.0,93.0,93.0,94.9199981689453],\"xaxis\":\"x\",\"y\":[64.179,73.431,74.916,75.665,75.88,76.134,76.299,76.592,76.651,76.869,77.12,77.432,77.572,77.848,78.032,78.266,76.596],\"yaxis\":\"y\",\"type\":\"scattergl\"},{\"customdata\":[[\"Comoros\",1980],[\"Comoros\",2000],[\"Comoros\",2012],[\"Comoros\",2022]],\"hovertemplate\":\"Country Name=%{customdata[0]}\\u003cbr\\u003eLiteracy Rate (%)=%{x}\\u003cbr\\u003eLife Expectancy (Years)=%{y}\\u003cbr\\u003eYear=%{customdata[1]}\\u003cextra\\u003e\\u003c\\u002fextra\\u003e\",\"legendgroup\":\"Comoros\",\"marker\":{\"color\":\"#B6E880\",\"symbol\":\"circle\"},\"mode\":\"markers\",\"name\":\"Comoros\",\"showlegend\":true,\"x\":[40.0,63.0,42.6372909545898,56.8699989318848],\"xaxis\":\"x\",\"y\":[52.595,60.373,63.801,66.061],\"yaxis\":\"y\",\"type\":\"scattergl\"},{\"customdata\":[[\"Grenada\",1980]],\"hovertemplate\":\"Country Name=%{customdata[0]}\\u003cbr\\u003eLiteracy Rate (%)=%{x}\\u003cbr\\u003eLife Expectancy (Years)=%{y}\\u003cbr\\u003eYear=%{customdata[1]}\\u003cextra\\u003e\\u003c\\u002fextra\\u003e\",\"legendgroup\":\"Grenada\",\"marker\":{\"color\":\"#FF97FF\",\"symbol\":\"circle\"},\"mode\":\"markers\",\"name\":\"Grenada\",\"showlegend\":true,\"x\":[98.3000030517578],\"xaxis\":\"x\",\"y\":[70.375],\"yaxis\":\"y\",\"type\":\"scattergl\"},{\"customdata\":[[\"Guam\",1980],[\"Guam\",1990],[\"Guam\",2000]],\"hovertemplate\":\"Country Name=%{customdata[0]}\\u003cbr\\u003eLiteracy Rate (%)=%{x}\\u003cbr\\u003eLife Expectancy (Years)=%{y}\\u003cbr\\u003eYear=%{customdata[1]}\\u003cextra\\u003e\\u003c\\u002fextra\\u003e\",\"legendgroup\":\"Guam\",\"marker\":{\"color\":\"#FECB52\",\"symbol\":\"circle\"},\"mode\":\"markers\",\"name\":\"Guam\",\"showlegend\":true,\"x\":[96.0,99.0,99.5699996948242],\"xaxis\":\"x\",\"y\":[73.721,75.818,77.398],\"yaxis\":\"y\",\"type\":\"scattergl\"},{\"customdata\":[[\"Hungary\",1980],[\"Hungary\",1990],[\"Hungary\",2021]],\"hovertemplate\":\"Country Name=%{customdata[0]}\\u003cbr\\u003eLiteracy Rate (%)=%{x}\\u003cbr\\u003eLife Expectancy (Years)=%{y}\\u003cbr\\u003eYear=%{customdata[1]}\\u003cextra\\u003e\\u003c\\u002fextra\\u003e\",\"legendgroup\":\"Hungary\",\"marker\":{\"color\":\"#636efa\",\"symbol\":\"circle\"},\"mode\":\"markers\",\"name\":\"Hungary\",\"showlegend\":true,\"x\":[98.0,98.8000030517578,99.0999984741211],\"xaxis\":\"x\",\"y\":[72.77,73.7,77.8],\"yaxis\":\"y\",\"type\":\"scattergl\"},{\"customdata\":[[\"Indonesia\",1980],[\"Indonesia\",1990],[\"Indonesia\",2004],[\"Indonesia\",2006],[\"Indonesia\",2008],[\"Indonesia\",2009],[\"Indonesia\",2011],[\"Indonesia\",2014],[\"Indonesia\",2015],[\"Indonesia\",2016],[\"Indonesia\",2018],[\"Indonesia\",2020]],\"hovertemplate\":\"Country Name=%{customdata[0]}\\u003cbr\\u003eLiteracy Rate (%)=%{x}\\u003cbr\\u003eLife Expectancy (Years)=%{y}\\u003cbr\\u003eYear=%{customdata[1]}\\u003cextra\\u003e\\u003c\\u002fextra\\u003e\",\"legendgroup\":\"Indonesia\",\"marker\":{\"color\":\"#EF553B\",\"symbol\":\"circle\"},\"mode\":\"markers\",\"name\":\"Indonesia\",\"showlegend\":true,\"x\":[58.0,75.0,87.0,89.0,89.0,90.0,90.0,93.0,93.0,94.0,94.0,95.0],\"xaxis\":\"x\",\"y\":[60.609,64.792,67.113,69.812,69.939,70.417,70.571,71.466,71.629,71.751,72.403,70.982],\"yaxis\":\"y\",\"type\":\"scattergl\"},{\"customdata\":[[\"Malaysia\",1980],[\"Malaysia\",1991],[\"Malaysia\",2010],[\"Malaysia\",2016],[\"Malaysia\",2017],[\"Malaysia\",2018],[\"Malaysia\",2019],[\"Malaysia\",2022]],\"hovertemplate\":\"Country Name=%{customdata[0]}\\u003cbr\\u003eLiteracy Rate (%)=%{x}\\u003cbr\\u003eLife Expectancy (Years)=%{y}\\u003cbr\\u003eYear=%{customdata[1]}\\u003cextra\\u003e\\u003c\\u002fextra\\u003e\",\"legendgroup\":\"Malaysia\",\"marker\":{\"color\":\"#00cc96\",\"symbol\":\"circle\"},\"mode\":\"markers\",\"name\":\"Malaysia\",\"showlegend\":true,\"x\":[61.0,77.0,91.0,93.0,94.0,94.0,94.0,95.0],\"xaxis\":\"x\",\"y\":[70.323,73.671,77.124,77.938,78.139,78.267,78.306,78.799],\"yaxis\":\"y\",\"type\":\"scattergl\"},{\"customdata\":[[\"Mexico\",1980],[\"Mexico\",1990],[\"Mexico\",2000],[\"Mexico\",2002],[\"Mexico\",2004],[\"Mexico\",2005],[\"Mexico\",2006],[\"Mexico\",2007],[\"Mexico\",2008],[\"Mexico\",2009],[\"Mexico\",2010],[\"Mexico\",2011],[\"Mexico\",2012],[\"Mexico\",2013],[\"Mexico\",2014],[\"Mexico\",2015],[\"Mexico\",2016],[\"Mexico\",2017],[\"Mexico\",2018],[\"Mexico\",2020]],\"hovertemplate\":\"Country Name=%{customdata[0]}\\u003cbr\\u003eLiteracy Rate (%)=%{x}\\u003cbr\\u003eLife Expectancy (Years)=%{y}\\u003cbr\\u003eYear=%{customdata[1]}\\u003cextra\\u003e\\u003c\\u002fextra\\u003e\",\"legendgroup\":\"Mexico\",\"marker\":{\"color\":\"#ab63fa\",\"symbol\":\"circle\"},\"mode\":\"markers\",\"name\":\"Mexico\",\"showlegend\":true,\"x\":[80.0,85.0,89.0,89.0,90.0,90.0,90.0,91.0,91.0,92.0,92.0,92.0,93.0,93.0,94.0,93.0,94.0,94.0,95.0,94.0],\"xaxis\":\"x\",\"y\":[68.576,73.647,76.512,76.826,76.983,76.986,76.981,76.956,76.952,76.993,77.117,77.311,77.535,77.706,77.782,77.692,77.486,77.303,77.286,74.314],\"yaxis\":\"y\",\"type\":\"scattergl\"},{\"customdata\":[[\"Mozambique\",1980],[\"Mozambique\",1997],[\"Mozambique\",2003],[\"Mozambique\",2009],[\"Mozambique\",2015],[\"Mozambique\",2017],[\"Mozambique\",2020]],\"hovertemplate\":\"Country Name=%{customdata[0]}\\u003cbr\\u003eLiteracy Rate (%)=%{x}\\u003cbr\\u003eLife Expectancy (Years)=%{y}\\u003cbr\\u003eYear=%{customdata[1]}\\u003cextra\\u003e\\u003c\\u002fextra\\u003e\",\"legendgroup\":\"Mozambique\",\"marker\":{\"color\":\"#FFA15A\",\"symbol\":\"circle\"},\"mode\":\"markers\",\"name\":\"Mozambique\",\"showlegend\":true,\"x\":[12.0,25.0,33.0,36.0,43.0,50.0,49.0],\"xaxis\":\"x\",\"y\":[44.153,48.999,52.305,55.282,60.44,62.221,64.16],\"yaxis\":\"y\",\"type\":\"scattergl\"},{\"customdata\":[[\"Panama\",1980],[\"Panama\",1990],[\"Panama\",2000],[\"Panama\",2010],[\"Panama\",2018],[\"Panama\",2019]],\"hovertemplate\":\"Country Name=%{customdata[0]}\\u003cbr\\u003eLiteracy Rate (%)=%{x}\\u003cbr\\u003eLife Expectancy (Years)=%{y}\\u003cbr\\u003eYear=%{customdata[1]}\\u003cextra\\u003e\\u003c\\u002fextra\\u003e\",\"legendgroup\":\"Panama\",\"marker\":{\"color\":\"#19d3f3\",\"symbol\":\"circle\"},\"mode\":\"markers\",\"name\":\"Panama\",\"showlegend\":true,\"x\":[88.0,88.0,91.0,93.0,95.0,95.0],\"xaxis\":\"x\",\"y\":[71.665,74.57,77.062,79.733,81.024,80.954],\"yaxis\":\"y\",\"type\":\"scattergl\"},{\"customdata\":[[\"Philippines\",1980],[\"Philippines\",1990],[\"Philippines\",1994],[\"Philippines\",2000],[\"Philippines\",2003],[\"Philippines\",2008],[\"Philippines\",2013],[\"Philippines\",2015],[\"Philippines\",2019],[\"Philippines\",2020],[\"Philippines\",2022]],\"hovertemplate\":\"Country Name=%{customdata[0]}\\u003cbr\\u003eLiteracy Rate (%)=%{x}\\u003cbr\\u003eLife Expectancy (Years)=%{y}\\u003cbr\\u003eYear=%{customdata[1]}\\u003cextra\\u003e\\u003c\\u002fextra\\u003e\",\"legendgroup\":\"Philippines\",\"marker\":{\"color\":\"#FF6692\",\"symbol\":\"circle\"},\"mode\":\"markers\",\"name\":\"Philippines\",\"showlegend\":true,\"x\":[83.0,93.0,95.0,93.0,94.0,96.0,97.0,98.0,97.0,99.0,97.0015029907227],\"xaxis\":\"x\",\"y\":[64.362,67.759,69.719,71.244,71.693,72.238,72.472,73.016,73.742,73.997,74.174],\"yaxis\":\"y\",\"type\":\"scattergl\"},{\"customdata\":[[\"Puerto Rico\",1980],[\"Puerto Rico\",1990],[\"Puerto Rico\",2010],[\"Puerto Rico\",2017],[\"Puerto Rico\",2021]],\"hovertemplate\":\"Country Name=%{customdata[0]}\\u003cbr\\u003eLiteracy Rate (%)=%{x}\\u003cbr\\u003eLife Expectancy (Years)=%{y}\\u003cbr\\u003eYear=%{customdata[1]}\\u003cextra\\u003e\\u003c\\u002fextra\\u003e\",\"legendgroup\":\"Puerto Rico\",\"marker\":{\"color\":\"#B6E880\",\"symbol\":\"circle\"},\"mode\":\"markers\",\"name\":\"Puerto Rico\",\"showlegend\":true,\"x\":[86.0,90.0,93.0,92.0,92.4000015258789],\"xaxis\":\"x\",\"y\":[77.38,78.244,82.06,83.145,84.522],\"yaxis\":\"y\",\"type\":\"scattergl\"},{\"customdata\":[[\"Singapore\",1980],[\"Singapore\",1990],[\"Singapore\",2000],[\"Singapore\",2010],[\"Singapore\",2011],[\"Singapore\",2012],[\"Singapore\",2013],[\"Singapore\",2014],[\"Singapore\",2015],[\"Singapore\",2016],[\"Singapore\",2017],[\"Singapore\",2018],[\"Singapore\",2019],[\"Singapore\",2020],[\"Singapore\",2021]],\"hovertemplate\":\"Country Name=%{customdata[0]}\\u003cbr\\u003eLiteracy Rate (%)=%{x}\\u003cbr\\u003eLife Expectancy (Years)=%{y}\\u003cbr\\u003eYear=%{customdata[1]}\\u003cextra\\u003e\\u003c\\u002fextra\\u003e\",\"legendgroup\":\"Singapore\",\"marker\":{\"color\":\"#FF97FF\",\"symbol\":\"circle\"},\"mode\":\"markers\",\"name\":\"Singapore\",\"showlegend\":true,\"x\":[74.0,83.0,89.0,94.0,94.0,94.0,95.0,95.0,95.0,95.0,96.0,96.0,96.0,96.0,96.0],\"xaxis\":\"x\",\"y\":[74.7,77.6,80.0,84.0,84.1,84.3,84.5,84.8,85.1,85.1,85.4,85.5,85.9,85.9,85.5],\"yaxis\":\"y\",\"type\":\"scattergl\"},{\"customdata\":[[\"South Africa\",1980],[\"South Africa\",1996],[\"South Africa\",2007],[\"South Africa\",2009],[\"South Africa\",2010],[\"South Africa\",2011],[\"South Africa\",2012],[\"South Africa\",2014],[\"South Africa\",2015],[\"South Africa\",2016],[\"South Africa\",2017],[\"South Africa\",2019],[\"South Africa\",2021]],\"hovertemplate\":\"Country Name=%{customdata[0]}\\u003cbr\\u003eLiteracy Rate (%)=%{x}\\u003cbr\\u003eLife Expectancy (Years)=%{y}\\u003cbr\\u003eYear=%{customdata[1]}\\u003cextra\\u003e\\u003c\\u002fextra\\u003e\",\"legendgroup\":\"South Africa\",\"marker\":{\"color\":\"#FECB52\",\"symbol\":\"circle\"},\"mode\":\"markers\",\"name\":\"South Africa\",\"showlegend\":true,\"x\":[75.0,81.0,87.0,92.0,92.0,92.0,93.0,93.0,93.0,91.9364700317383,86.0,95.0,89.0],\"xaxis\":\"x\",\"y\":[63.224,64.721,56.852,59.722,61.266,63.111,64.449,66.259,66.781,67.794,68.43,69.107,64.999],\"yaxis\":\"y\",\"type\":\"scattergl\"},{\"customdata\":[[\"St. Vincent and the Grenadines\",1980]],\"hovertemplate\":\"Country Name=%{customdata[0]}\\u003cbr\\u003eLiteracy Rate (%)=%{x}\\u003cbr\\u003eLife Expectancy (Years)=%{y}\\u003cbr\\u003eYear=%{customdata[1]}\\u003cextra\\u003e\\u003c\\u002fextra\\u003e\",\"legendgroup\":\"St. Vincent and the Grenadines\",\"marker\":{\"color\":\"#636efa\",\"symbol\":\"circle\"},\"mode\":\"markers\",\"name\":\"St. Vincent and the Grenadines\",\"showlegend\":true,\"x\":[96.9000015258789],\"xaxis\":\"x\",\"y\":[71.839],\"yaxis\":\"y\",\"type\":\"scattergl\"},{\"customdata\":[[\"Thailand\",1980],[\"Thailand\",2000],[\"Thailand\",2005],[\"Thailand\",2010],[\"Thailand\",2013],[\"Thailand\",2015],[\"Thailand\",2016],[\"Thailand\",2018],[\"Thailand\",2019],[\"Thailand\",2021],[\"Thailand\",2022]],\"hovertemplate\":\"Country Name=%{customdata[0]}\\u003cbr\\u003eLiteracy Rate (%)=%{x}\\u003cbr\\u003eLife Expectancy (Years)=%{y}\\u003cbr\\u003eYear=%{customdata[1]}\\u003cextra\\u003e\\u003c\\u002fextra\\u003e\",\"legendgroup\":\"Thailand\",\"marker\":{\"color\":\"#EF553B\",\"symbol\":\"circle\"},\"mode\":\"markers\",\"name\":\"Thailand\",\"showlegend\":true,\"x\":[84.0,91.0,92.0,96.0,92.0,91.0,92.681022644043,92.0,90.1832962036133,92.8000030517578,91.4859619140625],\"xaxis\":\"x\",\"y\":[68.042,76.432,77.758,80.358,81.365,82.03,82.588,83.149,83.433,83.041,83.929],\"yaxis\":\"y\",\"type\":\"scattergl\"},{\"customdata\":[[\"Trinidad and Tobago\",1980],[\"Trinidad and Tobago\",1990],[\"Trinidad and Tobago\",2000],[\"Trinidad and Tobago\",2022]],\"hovertemplate\":\"Country Name=%{customdata[0]}\\u003cbr\\u003eLiteracy Rate (%)=%{x}\\u003cbr\\u003eLife Expectancy (Years)=%{y}\\u003cbr\\u003eYear=%{customdata[1]}\\u003cextra\\u003e\\u003c\\u002fextra\\u003e\",\"legendgroup\":\"Trinidad and Tobago\",\"marker\":{\"color\":\"#00cc96\",\"symbol\":\"circle\"},\"mode\":\"markers\",\"name\":\"Trinidad and Tobago\",\"showlegend\":true,\"x\":[93.0,96.0,97.0999984741211,93.8321380615234],\"xaxis\":\"x\",\"y\":[69.908,70.401,71.761,78.153],\"yaxis\":\"y\",\"type\":\"scattergl\"},{\"customdata\":[[\"Bahrain\",1981],[\"Bahrain\",1991],[\"Bahrain\",2001],[\"Bahrain\",2011],[\"Bahrain\",2022]],\"hovertemplate\":\"Country Name=%{customdata[0]}\\u003cbr\\u003eLiteracy Rate (%)=%{x}\\u003cbr\\u003eLife Expectancy (Years)=%{y}\\u003cbr\\u003eYear=%{customdata[1]}\\u003cextra\\u003e\\u003c\\u002fextra\\u003e\",\"legendgroup\":\"Bahrain\",\"marker\":{\"color\":\"#ab63fa\",\"symbol\":\"circle\"},\"mode\":\"markers\",\"name\":\"Bahrain\",\"showlegend\":true,\"x\":[59.0,77.0,84.0,90.6999969482422,96.0],\"xaxis\":\"x\",\"y\":[72.362,73.599,77.669,80.109,80.497],\"yaxis\":\"y\",\"type\":\"scattergl\"},{\"customdata\":[[\"Bangladesh\",1981],[\"Bangladesh\",1991],[\"Bangladesh\",2001],[\"Bangladesh\",2007],[\"Bangladesh\",2011],[\"Bangladesh\",2012],[\"Bangladesh\",2013],[\"Bangladesh\",2014],[\"Bangladesh\",2015],[\"Bangladesh\",2016],[\"Bangladesh\",2017],[\"Bangladesh\",2018],[\"Bangladesh\",2019],[\"Bangladesh\",2020],[\"Bangladesh\",2021]],\"hovertemplate\":\"Country Name=%{customdata[0]}\\u003cbr\\u003eLiteracy Rate (%)=%{x}\\u003cbr\\u003eLife Expectancy (Years)=%{y}\\u003cbr\\u003eYear=%{customdata[1]}\\u003cextra\\u003e\\u003c\\u002fextra\\u003e\",\"legendgroup\":\"Bangladesh\",\"marker\":{\"color\":\"#FFA15A\",\"symbol\":\"circle\"},\"mode\":\"markers\",\"name\":\"Bangladesh\",\"showlegend\":true,\"x\":[18.0,26.0,41.0,43.7408485412598,55.0,54.0,58.0,58.0,62.0,70.0,70.0,71.0,72.0,72.0,74.0],\"xaxis\":\"x\",\"y\":[51.083,53.07,66.66,68.213,70.467,71.831,72.54,72.42,72.739,73.325,73.95,74.346,75.09,73.957,74.267],\"yaxis\":\"y\",\"type\":\"scattergl\"},{\"customdata\":[[\"Brunei Darussalam\",1981],[\"Brunei Darussalam\",1991],[\"Brunei Darussalam\",2001],[\"Brunei Darussalam\",2011],[\"Brunei Darussalam\",2021]],\"hovertemplate\":\"Country Name=%{customdata[0]}\\u003cbr\\u003eLiteracy Rate (%)=%{x}\\u003cbr\\u003eLife Expectancy (Years)=%{y}\\u003cbr\\u003eYear=%{customdata[1]}\\u003cextra\\u003e\\u003c\\u002fextra\\u003e\",\"legendgroup\":\"Brunei Darussalam\",\"marker\":{\"color\":\"#19d3f3\",\"symbol\":\"circle\"},\"mode\":\"markers\",\"name\":\"Brunei Darussalam\",\"showlegend\":true,\"x\":[69.0,82.0,90.0,95.0,96.8600006103516],\"xaxis\":\"x\",\"y\":[70.934,74.086,76.7,77.126,76.881],\"yaxis\":\"y\",\"type\":\"scattergl\"},{\"customdata\":[[\"Dominican Republic\",1981],[\"Dominican Republic\",2002],[\"Dominican Republic\",2007],[\"Dominican Republic\",2010],[\"Dominican Republic\",2011],[\"Dominican Republic\",2012],[\"Dominican Republic\",2013],[\"Dominican Republic\",2014],[\"Dominican Republic\",2015],[\"Dominican Republic\",2016],[\"Dominican Republic\",2019],[\"Dominican Republic\",2022]],\"hovertemplate\":\"Country Name=%{customdata[0]}\\u003cbr\\u003eLiteracy Rate (%)=%{x}\\u003cbr\\u003eLife Expectancy (Years)=%{y}\\u003cbr\\u003eYear=%{customdata[1]}\\u003cextra\\u003e\\u003c\\u002fextra\\u003e\",\"legendgroup\":\"Dominican Republic\",\"marker\":{\"color\":\"#FF6692\",\"symbol\":\"circle\"},\"mode\":\"markers\",\"name\":\"Dominican Republic\",\"showlegend\":true,\"x\":[73.0,87.0,88.0,90.0,90.0,90.0,91.0,92.0,92.0,94.0,87.372673034668,95.5999984741211],\"xaxis\":\"x\",\"y\":[64.484,72.694,74.281,75.66,75.856,76.166,76.322,76.396,76.377,76.304,76.965,77.536],\"yaxis\":\"y\",\"type\":\"scattergl\"},{\"customdata\":[[\"Greece\",1981],[\"Greece\",1991],[\"Greece\",2001],[\"Greece\",2009]],\"hovertemplate\":\"Country Name=%{customdata[0]}\\u003cbr\\u003eLiteracy Rate (%)=%{x}\\u003cbr\\u003eLife Expectancy (Years)=%{y}\\u003cbr\\u003eYear=%{customdata[1]}\\u003cextra\\u003e\\u003c\\u002fextra\\u003e\",\"legendgroup\":\"Greece\",\"marker\":{\"color\":\"#B6E880\",\"symbol\":\"circle\"},\"mode\":\"markers\",\"name\":\"Greece\",\"showlegend\":true,\"x\":[85.0,89.0,94.0,92.0],\"xaxis\":\"x\",\"y\":[77.648,79.8,81.0,82.8],\"yaxis\":\"y\",\"type\":\"scattergl\"},{\"customdata\":[[\"India\",1981],[\"India\",1991],[\"India\",2001],[\"India\",2006],[\"India\",2011],[\"India\",2022]],\"hovertemplate\":\"Country Name=%{customdata[0]}\\u003cbr\\u003eLiteracy Rate (%)=%{x}\\u003cbr\\u003eLife Expectancy (Years)=%{y}\\u003cbr\\u003eYear=%{customdata[1]}\\u003cextra\\u003e\\u003c\\u002fextra\\u003e\",\"legendgroup\":\"India\",\"marker\":{\"color\":\"#FF97FF\",\"symbol\":\"circle\"},\"mode\":\"markers\",\"name\":\"India\",\"showlegend\":true,\"x\":[26.0,34.0,48.0,51.0,59.0,69.0],\"xaxis\":\"x\",\"y\":[54.397,59.956,64.131,66.891,69.106,69.384],\"yaxis\":\"y\",\"type\":\"scattergl\"},{\"customdata\":[[\"Italy\",1981],[\"Italy\",2001],[\"Italy\",2011],[\"Italy\",2019]],\"hovertemplate\":\"Country Name=%{customdata[0]}\\u003cbr\\u003eLiteracy Rate (%)=%{x}\\u003cbr\\u003eLife Expectancy (Years)=%{y}\\u003cbr\\u003eYear=%{customdata[1]}\\u003cextra\\u003e\\u003c\\u002fextra\\u003e\",\"legendgroup\":\"Italy\",\"marker\":{\"color\":\"#FECB52\",\"symbol\":\"circle\"},\"mode\":\"markers\",\"name\":\"Italy\",\"showlegend\":true,\"x\":[96.0,98.0,99.0,99.0],\"xaxis\":\"x\",\"y\":[77.76,83.2,84.8,85.7],\"yaxis\":\"y\",\"type\":\"scattergl\"},{\"customdata\":[[\"Macao SAR, China\",1981],[\"Macao SAR, China\",2001],[\"Macao SAR, China\",2006],[\"Macao SAR, China\",2011],[\"Macao SAR, China\",2016],[\"Macao SAR, China\",2021]],\"hovertemplate\":\"Country Name=%{customdata[0]}\\u003cbr\\u003eLiteracy Rate (%)=%{x}\\u003cbr\\u003eLife Expectancy (Years)=%{y}\\u003cbr\\u003eYear=%{customdata[1]}\\u003cextra\\u003e\\u003c\\u002fextra\\u003e\",\"legendgroup\":\"Macao SAR, China\",\"marker\":{\"color\":\"#636efa\",\"symbol\":\"circle\"},\"mode\":\"markers\",\"name\":\"Macao SAR, China\",\"showlegend\":true,\"x\":[86.0,88.0,91.0,94.0,95.0,95.879997253418],\"xaxis\":\"x\",\"y\":[75.915,83.955,85.163,86.292,87.018,87.948],\"yaxis\":\"y\",\"type\":\"scattergl\"},{\"customdata\":[[\"Montenegro\",1981],[\"Montenegro\",1991],[\"Montenegro\",2003],[\"Montenegro\",2011],[\"Montenegro\",2018],[\"Montenegro\",2021]],\"hovertemplate\":\"Country Name=%{customdata[0]}\\u003cbr\\u003eLiteracy Rate (%)=%{x}\\u003cbr\\u003eLife Expectancy (Years)=%{y}\\u003cbr\\u003eYear=%{customdata[1]}\\u003cextra\\u003e\\u003c\\u002fextra\\u003e\",\"legendgroup\":\"Montenegro\",\"marker\":{\"color\":\"#EF553B\",\"symbol\":\"circle\"},\"mode\":\"markers\",\"name\":\"Montenegro\",\"showlegend\":true,\"x\":[83.0,98.0,96.0,98.0,97.9482269287109,98.5400009155273],\"xaxis\":\"x\",\"y\":[74.525,81.516,76.841,78.8,79.3,77.0],\"yaxis\":\"y\",\"type\":\"scattergl\"},{\"customdata\":[[\"Nepal\",1981],[\"Nepal\",1991],[\"Nepal\",2001],[\"Nepal\",2011],[\"Nepal\",2016],[\"Nepal\",2019],[\"Nepal\",2021]],\"hovertemplate\":\"Country Name=%{customdata[0]}\\u003cbr\\u003eLiteracy Rate (%)=%{x}\\u003cbr\\u003eLife Expectancy (Years)=%{y}\\u003cbr\\u003eYear=%{customdata[1]}\\u003cextra\\u003e\\u003c\\u002fextra\\u003e\",\"legendgroup\":\"Nepal\",\"marker\":{\"color\":\"#00cc96\",\"symbol\":\"circle\"},\"mode\":\"markers\",\"name\":\"Nepal\",\"showlegend\":true,\"x\":[9.0,17.0,35.0,49.0,55.7490501403809,59.4137191772461,63.3300018310547],\"xaxis\":\"x\",\"y\":[48.407,55.967,64.952,69.094,70.515,71.351,70.362],\"yaxis\":\"y\",\"type\":\"scattergl\"},{\"customdata\":[[\"Pakistan\",1981],[\"Pakistan\",1998],[\"Pakistan\",2005],[\"Pakistan\",2006],[\"Pakistan\",2007],[\"Pakistan\",2008],[\"Pakistan\",2009],[\"Pakistan\",2010],[\"Pakistan\",2011],[\"Pakistan\",2012],[\"Pakistan\",2013],[\"Pakistan\",2014],[\"Pakistan\",2017],[\"Pakistan\",2018],[\"Pakistan\",2019]],\"hovertemplate\":\"Country Name=%{customdata[0]}\\u003cbr\\u003eLiteracy Rate (%)=%{x}\\u003cbr\\u003eLife Expectancy (Years)=%{y}\\u003cbr\\u003eYear=%{customdata[1]}\\u003cextra\\u003e\\u003c\\u002fextra\\u003e\",\"legendgroup\":\"Pakistan\",\"marker\":{\"color\":\"#ab63fa\",\"symbol\":\"circle\"},\"mode\":\"markers\",\"name\":\"Pakistan\",\"showlegend\":true,\"x\":[15.0,29.0,35.0,40.0,38.0,40.0,40.0,41.0,42.0,43.0,42.0,44.0,46.0,45.0,46.0],\"xaxis\":\"x\",\"y\":[59.301,62.112,63.967,65.653,66.103,66.5,66.531,66.889,67.066,67.194,67.616,67.718,68.816,68.959,69.096],\"yaxis\":\"y\",\"type\":\"scattergl\"},{\"customdata\":[[\"Peru\",1981],[\"Peru\",1993],[\"Peru\",2004],[\"Peru\",2005],[\"Peru\",2006],[\"Peru\",2007],[\"Peru\",2012],[\"Peru\",2014],[\"Peru\",2015],[\"Peru\",2016],[\"Peru\",2017],[\"Peru\",2018],[\"Peru\",2020]],\"hovertemplate\":\"Country Name=%{customdata[0]}\\u003cbr\\u003eLiteracy Rate (%)=%{x}\\u003cbr\\u003eLife Expectancy (Years)=%{y}\\u003cbr\\u003eYear=%{customdata[1]}\\u003cextra\\u003e\\u003c\\u002fextra\\u003e\",\"legendgroup\":\"Peru\",\"marker\":{\"color\":\"#FFA15A\",\"symbol\":\"circle\"},\"mode\":\"markers\",\"name\":\"Peru\",\"showlegend\":true,\"x\":[74.0,82.0,82.0,82.0,83.0,85.0,91.0,90.0,91.0,91.0,91.0,92.0,92.0],\"xaxis\":\"x\",\"y\":[62.208,69.361,74.737,75.015,75.209,75.296,76.683,77.432,77.743,77.953,78.1,78.293,76.816],\"yaxis\":\"y\",\"type\":\"scattergl\"},{\"customdata\":[[\"Portugal\",1981],[\"Portugal\",1991],[\"Portugal\",2011],[\"Portugal\",2021]],\"hovertemplate\":\"Country Name=%{customdata[0]}\\u003cbr\\u003eLiteracy Rate (%)=%{x}\\u003cbr\\u003eLife Expectancy (Years)=%{y}\\u003cbr\\u003eYear=%{customdata[1]}\\u003cextra\\u003e\\u003c\\u002fextra\\u003e\",\"legendgroup\":\"Portugal\",\"marker\":{\"color\":\"#19d3f3\",\"symbol\":\"circle\"},\"mode\":\"markers\",\"name\":\"Portugal\",\"showlegend\":true,\"x\":[75.0,85.0,93.0,95.9199981689453],\"xaxis\":\"x\",\"y\":[75.2,77.6,83.8,84.4],\"yaxis\":\"y\",\"type\":\"scattergl\"},{\"customdata\":[[\"Sao Tome and Principe\",1981],[\"Sao Tome and Principe\",1991],[\"Sao Tome and Principe\",2001],[\"Sao Tome and Principe\",2008],[\"Sao Tome and Principe\",2012],[\"Sao Tome and Principe\",2019],[\"Sao Tome and Principe\",2022]],\"hovertemplate\":\"Country Name=%{customdata[0]}\\u003cbr\\u003eLiteracy Rate (%)=%{x}\\u003cbr\\u003eLife Expectancy (Years)=%{y}\\u003cbr\\u003eYear=%{customdata[1]}\\u003cextra\\u003e\\u003c\\u002fextra\\u003e\",\"legendgroup\":\"Sao Tome and Principe\",\"marker\":{\"color\":\"#FF6692\",\"symbol\":\"circle\"},\"mode\":\"markers\",\"name\":\"Sao Tome and Principe\",\"showlegend\":true,\"x\":[42.0,62.0,78.0,60.0830307006836,85.0,82.7525329589844,91.0699996948242],\"xaxis\":\"x\",\"y\":[61.091,63.571,63.739,67.496,68.601,71.62,71.938],\"yaxis\":\"y\",\"type\":\"scattergl\"},{\"customdata\":[[\"Spain\",1981],[\"Spain\",1991],[\"Spain\",2004],[\"Spain\",2005],[\"Spain\",2006],[\"Spain\",2007],[\"Spain\",2008],[\"Spain\",2009],[\"Spain\",2010],[\"Spain\",2011],[\"Spain\",2012],[\"Spain\",2013],[\"Spain\",2014],[\"Spain\",2015],[\"Spain\",2016],[\"Spain\",2018],[\"Spain\",2020]],\"hovertemplate\":\"Country Name=%{customdata[0]}\\u003cbr\\u003eLiteracy Rate (%)=%{x}\\u003cbr\\u003eLife Expectancy (Years)=%{y}\\u003cbr\\u003eYear=%{customdata[1]}\\u003cextra\\u003e\\u003c\\u002fextra\\u003e\",\"legendgroup\":\"Spain\",\"marker\":{\"color\":\"#B6E880\",\"symbol\":\"circle\"},\"mode\":\"markers\",\"name\":\"Spain\",\"showlegend\":true,\"x\":[90.0,95.0,96.0,97.0,97.0,97.0,97.0,97.0,97.0,97.0,97.0,97.0,97.0,98.0,98.0,98.0,98.0],\"xaxis\":\"x\",\"y\":[78.74,80.7,83.2,83.5,84.1,84.1,84.3,84.6,84.7,85.6,85.5,86.1,86.2,85.7,86.3,86.3,85.2],\"yaxis\":\"y\",\"type\":\"scattergl\"},{\"customdata\":[[\"Sri Lanka\",1981],[\"Sri Lanka\",2001],[\"Sri Lanka\",2006],[\"Sri Lanka\",2008],[\"Sri Lanka\",2010],[\"Sri Lanka\",2016],[\"Sri Lanka\",2017],[\"Sri Lanka\",2018],[\"Sri Lanka\",2019],[\"Sri Lanka\",2020],[\"Sri Lanka\",2021],[\"Sri Lanka\",2022]],\"hovertemplate\":\"Country Name=%{customdata[0]}\\u003cbr\\u003eLiteracy Rate (%)=%{x}\\u003cbr\\u003eLife Expectancy (Years)=%{y}\\u003cbr\\u003eYear=%{customdata[1]}\\u003cextra\\u003e\\u003c\\u002fextra\\u003e\",\"legendgroup\":\"Sri Lanka\",\"marker\":{\"color\":\"#FF97FF\",\"symbol\":\"circle\"},\"mode\":\"markers\",\"name\":\"Sri Lanka\",\"showlegend\":true,\"x\":[82.0,89.0,89.0,89.0,90.0,91.0,91.0,91.0,92.0,92.0,92.0,92.0],\"xaxis\":\"x\",\"y\":[72.525,75.608,77.11,77.5,77.596,79.355,79.317,79.493,79.743,80.111,79.502,80.23],\"yaxis\":\"y\",\"type\":\"scattergl\"},{\"customdata\":[[\"Syrian Arab Republic\",1981],[\"Syrian Arab Republic\",2002],[\"Syrian Arab Republic\",2004],[\"Syrian Arab Republic\",2014],[\"Syrian Arab Republic\",2021]],\"hovertemplate\":\"Country Name=%{customdata[0]}\\u003cbr\\u003eLiteracy Rate (%)=%{x}\\u003cbr\\u003eLife Expectancy (Years)=%{y}\\u003cbr\\u003eYear=%{customdata[1]}\\u003cextra\\u003e\\u003c\\u002fextra\\u003e\",\"legendgroup\":\"Syrian Arab Republic\",\"marker\":{\"color\":\"#FECB52\",\"symbol\":\"circle\"},\"mode\":\"markers\",\"name\":\"Syrian Arab Republic\",\"showlegend\":true,\"x\":[37.0,74.0,74.0,80.9000015258789,92.0],\"xaxis\":\"x\",\"y\":[66.802,74.356,74.752,68.945,75.175],\"yaxis\":\"y\",\"type\":\"scattergl\"},{\"customdata\":[[\"Venezuela, RB\",1981],[\"Venezuela, RB\",1990],[\"Venezuela, RB\",2001],[\"Venezuela, RB\",2007],[\"Venezuela, RB\",2009],[\"Venezuela, RB\",2011],[\"Venezuela, RB\",2015],[\"Venezuela, RB\",2016],[\"Venezuela, RB\",2022]],\"hovertemplate\":\"Country Name=%{customdata[0]}\\u003cbr\\u003eLiteracy Rate (%)=%{x}\\u003cbr\\u003eLife Expectancy (Years)=%{y}\\u003cbr\\u003eYear=%{customdata[1]}\\u003cextra\\u003e\\u003c\\u002fextra\\u003e\",\"legendgroup\":\"Venezuela, RB\",\"marker\":{\"color\":\"#636efa\",\"symbol\":\"circle\"},\"mode\":\"markers\",\"name\":\"Venezuela, RB\",\"showlegend\":true,\"x\":[83.0,89.0,93.0,95.0,95.0,95.0,97.0,97.0,97.7300033569336],\"xaxis\":\"x\",\"y\":[71.932,73.857,75.226,77.287,76.959,77.1,77.218,76.742,75.655],\"yaxis\":\"y\",\"type\":\"scattergl\"},{\"customdata\":[[\"Chile\",1982],[\"Chile\",1992],[\"Chile\",2002],[\"Chile\",2011],[\"Chile\",2013],[\"Chile\",2015],[\"Chile\",2017],[\"Chile\",2022]],\"hovertemplate\":\"Country Name=%{customdata[0]}\\u003cbr\\u003eLiteracy Rate (%)=%{x}\\u003cbr\\u003eLife Expectancy (Years)=%{y}\\u003cbr\\u003eYear=%{customdata[1]}\\u003cextra\\u003e\\u003c\\u002fextra\\u003e\",\"legendgroup\":\"Chile\",\"marker\":{\"color\":\"#EF553B\",\"symbol\":\"circle\"},\"mode\":\"markers\",\"name\":\"Chile\",\"showlegend\":true,\"x\":[91.0,94.0,96.0,97.0,96.0,97.0,96.0,97.120002746582],\"xaxis\":\"x\",\"y\":[73.575,77.068,80.582,81.684,82.034,82.384,82.601,81.877],\"yaxis\":\"y\",\"type\":\"scattergl\"},{\"customdata\":[[\"China\",1982],[\"China\",1990],[\"China\",2000],[\"China\",2010],[\"China\",2020]],\"hovertemplate\":\"Country Name=%{customdata[0]}\\u003cbr\\u003eLiteracy Rate (%)=%{x}\\u003cbr\\u003eLife Expectancy (Years)=%{y}\\u003cbr\\u003eYear=%{customdata[1]}\\u003cextra\\u003e\\u003c\\u002fextra\\u003e\",\"legendgroup\":\"China\",\"marker\":{\"color\":\"#00cc96\",\"symbol\":\"circle\"},\"mode\":\"markers\",\"name\":\"China\",\"showlegend\":true,\"x\":[51.0,68.0,87.0,93.0,95.0],\"xaxis\":\"x\",\"y\":[67.807,70.424,74.189,78.326,81.058],\"yaxis\":\"y\",\"type\":\"scattergl\"},{\"customdata\":[[\"Ecuador\",1982],[\"Ecuador\",1990],[\"Ecuador\",2001],[\"Ecuador\",2007],[\"Ecuador\",2008],[\"Ecuador\",2009],[\"Ecuador\",2010],[\"Ecuador\",2011],[\"Ecuador\",2012],[\"Ecuador\",2013],[\"Ecuador\",2014],[\"Ecuador\",2015],[\"Ecuador\",2016],[\"Ecuador\",2017],[\"Ecuador\",2020],[\"Ecuador\",2021],[\"Ecuador\",2022]],\"hovertemplate\":\"Country Name=%{customdata[0]}\\u003cbr\\u003eLiteracy Rate (%)=%{x}\\u003cbr\\u003eLife Expectancy (Years)=%{y}\\u003cbr\\u003eYear=%{customdata[1]}\\u003cextra\\u003e\\u003c\\u002fextra\\u003e\",\"legendgroup\":\"Ecuador\",\"marker\":{\"color\":\"#ab63fa\",\"symbol\":\"circle\"},\"mode\":\"markers\",\"name\":\"Ecuador\",\"showlegend\":true,\"x\":[80.0,86.0,90.0,91.0,91.0,91.0,90.0,90.0,91.0,92.0,93.0,93.0,93.0,92.0,92.0,94.0,93.0],\"xaxis\":\"x\",\"y\":[66.402,72.512,76.329,77.947,78.116,78.308,78.488,78.675,78.842,78.997,79.124,79.209,79.137,79.395,76.056,77.462,80.481],\"yaxis\":\"y\",\"type\":\"scattergl\"},{\"customdata\":[[\"Haiti\",1982],[\"Haiti\",2003],[\"Haiti\",2006],[\"Haiti\",2016],[\"Haiti\",2017]],\"hovertemplate\":\"Country Name=%{customdata[0]}\\u003cbr\\u003eLiteracy Rate (%)=%{x}\\u003cbr\\u003eLife Expectancy (Years)=%{y}\\u003cbr\\u003eYear=%{customdata[1]}\\u003cextra\\u003e\\u003c\\u002fextra\\u003e\",\"legendgroup\":\"Haiti\",\"marker\":{\"color\":\"#FFA15A\",\"symbol\":\"circle\"},\"mode\":\"markers\",\"name\":\"Haiti\",\"showlegend\":true,\"x\":[33.0,55.0,44.5994491577148,58.3005218505859,63.8743209838867],\"xaxis\":\"x\",\"y\":[51.722,61.463,63.06,66.235,66.732],\"yaxis\":\"y\",\"type\":\"scattergl\"},{\"customdata\":[[\"Morocco\",1982],[\"Morocco\",1994],[\"Morocco\",2004],[\"Morocco\",2008],[\"Morocco\",2009],[\"Morocco\",2011],[\"Morocco\",2012],[\"Morocco\",2014],[\"Morocco\",2022]],\"hovertemplate\":\"Country Name=%{customdata[0]}\\u003cbr\\u003eLiteracy Rate (%)=%{x}\\u003cbr\\u003eLife Expectancy (Years)=%{y}\\u003cbr\\u003eYear=%{customdata[1]}\\u003cextra\\u003e\\u003c\\u002fextra\\u003e\",\"legendgroup\":\"Morocco\",\"marker\":{\"color\":\"#19d3f3\",\"symbol\":\"circle\"},\"mode\":\"markers\",\"name\":\"Morocco\",\"showlegend\":true,\"x\":[18.0,29.0,40.0,43.0,44.0,58.0,59.0,53.0,69.0800018310547],\"xaxis\":\"x\",\"y\":[58.207,65.986,69.869,71.757,72.142,73.023,73.525,74.39,77.177],\"yaxis\":\"y\",\"type\":\"scattergl\"},{\"customdata\":[[\"Paraguay\",1982],[\"Paraguay\",1992],[\"Paraguay\",2007],[\"Paraguay\",2008],[\"Paraguay\",2009],[\"Paraguay\",2010],[\"Paraguay\",2012],[\"Paraguay\",2013],[\"Paraguay\",2014],[\"Paraguay\",2015],[\"Paraguay\",2016],[\"Paraguay\",2018],[\"Paraguay\",2019],[\"Paraguay\",2020]],\"hovertemplate\":\"Country Name=%{customdata[0]}\\u003cbr\\u003eLiteracy Rate (%)=%{x}\\u003cbr\\u003eLife Expectancy (Years)=%{y}\\u003cbr\\u003eYear=%{customdata[1]}\\u003cextra\\u003e\\u003c\\u002fextra\\u003e\",\"legendgroup\":\"Paraguay\",\"marker\":{\"color\":\"#FF6692\",\"symbol\":\"circle\"},\"mode\":\"markers\",\"name\":\"Paraguay\",\"showlegend\":true,\"x\":[76.0,89.0,93.0,92.0,93.0,93.0,94.0,94.0,94.0,95.0,94.0,94.0,93.0,94.0],\"xaxis\":\"x\",\"y\":[66.993,70.422,74.101,74.316,74.499,74.766,75.248,75.49,75.668,75.997,76.413,76.342,76.441,76.156],\"yaxis\":\"y\",\"type\":\"scattergl\"},{\"customdata\":[[\"Zimbabwe\",1982],[\"Zimbabwe\",1992],[\"Zimbabwe\",2011],[\"Zimbabwe\",2014],[\"Zimbabwe\",2019],[\"Zimbabwe\",2022]],\"hovertemplate\":\"Country Name=%{customdata[0]}\\u003cbr\\u003eLiteracy Rate (%)=%{x}\\u003cbr\\u003eLife Expectancy (Years)=%{y}\\u003cbr\\u003eYear=%{customdata[1]}\\u003cextra\\u003e\\u003c\\u002fextra\\u003e\",\"legendgroup\":\"Zimbabwe\",\"marker\":{\"color\":\"#B6E880\",\"symbol\":\"circle\"},\"mode\":\"markers\",\"name\":\"Zimbabwe\",\"showlegend\":true,\"x\":[72.0,79.0,80.0656585693359,88.2838287353516,93.3581237792969,91.1999969482422],\"xaxis\":\"x\",\"y\":[62.193,59.28,55.438,60.844,63.661,62.094],\"yaxis\":\"y\",\"type\":\"scattergl\"},{\"customdata\":[[\"Israel\",1983]],\"hovertemplate\":\"Country Name=%{customdata[0]}\\u003cbr\\u003eLiteracy Rate (%)=%{x}\\u003cbr\\u003eLife Expectancy (Years)=%{y}\\u003cbr\\u003eYear=%{customdata[1]}\\u003cextra\\u003e\\u003c\\u002fextra\\u003e\",\"legendgroup\":\"Israel\",\"marker\":{\"color\":\"#FF97FF\",\"symbol\":\"circle\"},\"mode\":\"markers\",\"name\":\"Israel\",\"showlegend\":true,\"x\":[89.0],\"xaxis\":\"x\",\"y\":[76.2],\"yaxis\":\"y\",\"type\":\"scattergl\"},{\"customdata\":[[\"Myanmar\",1983],[\"Myanmar\",2000],[\"Myanmar\",2016],[\"Myanmar\",2019]],\"hovertemplate\":\"Country Name=%{customdata[0]}\\u003cbr\\u003eLiteracy Rate (%)=%{x}\\u003cbr\\u003eLife Expectancy (Years)=%{y}\\u003cbr\\u003eYear=%{customdata[1]}\\u003cextra\\u003e\\u003c\\u002fextra\\u003e\",\"legendgroup\":\"Myanmar\",\"marker\":{\"color\":\"#FECB52\",\"symbol\":\"circle\"},\"mode\":\"markers\",\"name\":\"Myanmar\",\"showlegend\":true,\"x\":[72.0,86.0,71.8469924926758,86.0],\"xaxis\":\"x\",\"y\":[57.597,63.338,68.838,69.799],\"yaxis\":\"y\",\"type\":\"scattergl\"},{\"customdata\":[[\"Congo, Rep.\",1984],[\"Congo, Rep.\",2005],[\"Congo, Rep.\",2011],[\"Congo, Rep.\",2021]],\"hovertemplate\":\"Country Name=%{customdata[0]}\\u003cbr\\u003eLiteracy Rate (%)=%{x}\\u003cbr\\u003eLife Expectancy (Years)=%{y}\\u003cbr\\u003eYear=%{customdata[1]}\\u003cextra\\u003e\\u003c\\u002fextra\\u003e\",\"legendgroup\":\"Congo, Rep.\",\"marker\":{\"color\":\"#636efa\",\"symbol\":\"circle\"},\"mode\":\"markers\",\"name\":\"Congo, Rep.\",\"showlegend\":true,\"x\":[49.0,67.0,72.8770599365234,75.370002746582],\"xaxis\":\"x\",\"y\":[60.369,58.747,63.135,64.935],\"yaxis\":\"y\",\"type\":\"scattergl\"},{\"customdata\":[[\"Costa Rica\",1984],[\"Costa Rica\",2000],[\"Costa Rica\",2011],[\"Costa Rica\",2018],[\"Costa Rica\",2021]],\"hovertemplate\":\"Country Name=%{customdata[0]}\\u003cbr\\u003eLiteracy Rate (%)=%{x}\\u003cbr\\u003eLife Expectancy (Years)=%{y}\\u003cbr\\u003eYear=%{customdata[1]}\\u003cextra\\u003e\\u003c\\u002fextra\\u003e\",\"legendgroup\":\"Costa Rica\",\"marker\":{\"color\":\"#EF553B\",\"symbol\":\"circle\"},\"mode\":\"markers\",\"name\":\"Costa Rica\",\"showlegend\":true,\"x\":[93.0,95.0,98.0,94.118766784668,98.0999984741211],\"xaxis\":\"x\",\"y\":[76.935,80.038,81.711,82.083,79.811],\"yaxis\":\"y\",\"type\":\"scattergl\"},{\"customdata\":[[\"Liberia\",1984],[\"Liberia\",2007],[\"Liberia\",2017]],\"hovertemplate\":\"Country Name=%{customdata[0]}\\u003cbr\\u003eLiteracy Rate (%)=%{x}\\u003cbr\\u003eLife Expectancy (Years)=%{y}\\u003cbr\\u003eYear=%{customdata[1]}\\u003cextra\\u003e\\u003c\\u002fextra\\u003e\",\"legendgroup\":\"Liberia\",\"marker\":{\"color\":\"#00cc96\",\"symbol\":\"circle\"},\"mode\":\"markers\",\"name\":\"Liberia\",\"showlegend\":true,\"x\":[19.0,27.0349102020264,34.0922584533691],\"xaxis\":\"x\",\"y\":[46.898,59.692,61.694],\"yaxis\":\"y\",\"type\":\"scattergl\"},{\"customdata\":[[\"Libya\",1984],[\"Libya\",1994]],\"hovertemplate\":\"Country Name=%{customdata[0]}\\u003cbr\\u003eLiteracy Rate (%)=%{x}\\u003cbr\\u003eLife Expectancy (Years)=%{y}\\u003cbr\\u003eYear=%{customdata[1]}\\u003cextra\\u003e\\u003c\\u002fextra\\u003e\",\"legendgroup\":\"Libya\",\"marker\":{\"color\":\"#ab63fa\",\"symbol\":\"circle\"},\"mode\":\"markers\",\"name\":\"Libya\",\"showlegend\":true,\"x\":[42.0,63.7000007629395],\"xaxis\":\"x\",\"y\":[69.542,73.06],\"yaxis\":\"y\",\"type\":\"scattergl\"},{\"customdata\":[[\"Tunisia\",1984],[\"Tunisia\",2004],[\"Tunisia\",2007],[\"Tunisia\",2008],[\"Tunisia\",2010],[\"Tunisia\",2011],[\"Tunisia\",2012],[\"Tunisia\",2014],[\"Tunisia\",2018],[\"Tunisia\",2019],[\"Tunisia\",2022]],\"hovertemplate\":\"Country Name=%{customdata[0]}\\u003cbr\\u003eLiteracy Rate (%)=%{x}\\u003cbr\\u003eLife Expectancy (Years)=%{y}\\u003cbr\\u003eYear=%{customdata[1]}\\u003cextra\\u003e\\u003c\\u002fextra\\u003e\",\"legendgroup\":\"Tunisia\",\"marker\":{\"color\":\"#FFA15A\",\"symbol\":\"circle\"},\"mode\":\"markers\",\"name\":\"Tunisia\",\"showlegend\":true,\"x\":[36.0,65.0,69.0,69.0,71.0,72.0,72.0,72.0,71.5483627319336,74.0,78.2611312866211],\"xaxis\":\"x\",\"y\":[69.076,77.29,78.052,78.131,78.56,78.667,78.663,78.774,79.323,79.379,77.408],\"yaxis\":\"y\",\"type\":\"scattergl\"},{\"customdata\":[[\"Malta\",1985],[\"Malta\",1995],[\"Malta\",2005],[\"Malta\",2011],[\"Malta\",2021]],\"hovertemplate\":\"Country Name=%{customdata[0]}\\u003cbr\\u003eLiteracy Rate (%)=%{x}\\u003cbr\\u003eLife Expectancy (Years)=%{y}\\u003cbr\\u003eYear=%{customdata[1]}\\u003cextra\\u003e\\u003c\\u002fextra\\u003e\",\"legendgroup\":\"Malta\",\"marker\":{\"color\":\"#19d3f3\",\"symbol\":\"circle\"},\"mode\":\"markers\",\"name\":\"Malta\",\"showlegend\":true,\"x\":[87.0,89.0,94.0,95.0,96.4199981689453],\"xaxis\":\"x\",\"y\":[75.891,79.8,81.4,83.0,84.3],\"yaxis\":\"y\",\"type\":\"scattergl\"},{\"customdata\":[[\"Qatar\",1986],[\"Qatar\",1997],[\"Qatar\",2004],[\"Qatar\",2007],[\"Qatar\",2008],[\"Qatar\",2009],[\"Qatar\",2010],[\"Qatar\",2011],[\"Qatar\",2012],[\"Qatar\",2013],[\"Qatar\",2014]],\"hovertemplate\":\"Country Name=%{customdata[0]}\\u003cbr\\u003eLiteracy Rate (%)=%{x}\\u003cbr\\u003eLife Expectancy (Years)=%{y}\\u003cbr\\u003eYear=%{customdata[1]}\\u003cextra\\u003e\\u003c\\u002fextra\\u003e\",\"legendgroup\":\"Qatar\",\"marker\":{\"color\":\"#FF6692\",\"symbol\":\"circle\"},\"mode\":\"markers\",\"name\":\"Qatar\",\"showlegend\":true,\"x\":[72.0,81.0,89.0,90.0,93.0,93.0,95.0,96.0,96.0,97.0,98.0],\"xaxis\":\"x\",\"y\":[73.991,76.305,77.736,79.734,79.94,80.232,80.492,80.538,80.679,81.243,81.415],\"yaxis\":\"y\",\"type\":\"scattergl\"},{\"customdata\":[[\"Algeria\",1987],[\"Algeria\",2002],[\"Algeria\",2006],[\"Algeria\",2008],[\"Algeria\",2018],[\"Algeria\",2019]],\"hovertemplate\":\"Country Name=%{customdata[0]}\\u003cbr\\u003eLiteracy Rate (%)=%{x}\\u003cbr\\u003eLife Expectancy (Years)=%{y}\\u003cbr\\u003eYear=%{customdata[1]}\\u003cextra\\u003e\\u003c\\u002fextra\\u003e\",\"legendgroup\":\"Algeria\",\"marker\":{\"color\":\"#B6E880\",\"symbol\":\"circle\"},\"mode\":\"markers\",\"name\":\"Algeria\",\"showlegend\":true,\"x\":[36.0,60.0,64.0,68.0,75.3229675292969,74.2101974487305],\"xaxis\":\"x\",\"y\":[67.239,72.559,73.379,74.071,77.205,77.76],\"yaxis\":\"y\",\"type\":\"scattergl\"},{\"customdata\":[[\"Malawi\",1987],[\"Malawi\",1998],[\"Malawi\",2010],[\"Malawi\",2014],[\"Malawi\",2015],[\"Malawi\",2020],[\"Malawi\",2022]],\"hovertemplate\":\"Country Name=%{customdata[0]}\\u003cbr\\u003eLiteracy Rate (%)=%{x}\\u003cbr\\u003eLife Expectancy (Years)=%{y}\\u003cbr\\u003eYear=%{customdata[1]}\\u003cextra\\u003e\\u003c\\u002fextra\\u003e\",\"legendgroup\":\"Malawi\",\"marker\":{\"color\":\"#FF97FF\",\"symbol\":\"circle\"},\"mode\":\"markers\",\"name\":\"Malawi\",\"showlegend\":true,\"x\":[34.0,54.0,51.2519683837891,55.130989074707,55.2041091918945,62.6842613220215,65.0899963378906],\"xaxis\":\"x\",\"y\":[45.838,44.925,58.41,64.34,64.659,67.597,66.326],\"yaxis\":\"y\",\"type\":\"scattergl\"},{\"customdata\":[[\"Seychelles\",1987],[\"Seychelles\",1994],[\"Seychelles\",2002],[\"Seychelles\",2010],[\"Seychelles\",2020]],\"hovertemplate\":\"Country Name=%{customdata[0]}\\u003cbr\\u003eLiteracy Rate (%)=%{x}\\u003cbr\\u003eLife Expectancy (Years)=%{y}\\u003cbr\\u003eYear=%{customdata[1]}\\u003cextra\\u003e\\u003c\\u002fextra\\u003e\",\"legendgroup\":\"Seychelles\",\"marker\":{\"color\":\"#FECB52\",\"symbol\":\"circle\"},\"mode\":\"markers\",\"name\":\"Seychelles\",\"showlegend\":true,\"x\":[85.0,89.0,92.0,94.0,96.6999969482422],\"xaxis\":\"x\",\"y\":[73.0,75.8,75.8,77.5,82.0],\"yaxis\":\"y\",\"type\":\"scattergl\"},{\"customdata\":[[\"Cote d'Ivoire\",1988],[\"Cote d'Ivoire\",1998],[\"Cote d'Ivoire\",2000],[\"Cote d'Ivoire\",2012],[\"Cote d'Ivoire\",2014],[\"Cote d'Ivoire\",2016],[\"Cote d'Ivoire\",2019],[\"Cote d'Ivoire\",2021]],\"hovertemplate\":\"Country Name=%{customdata[0]}\\u003cbr\\u003eLiteracy Rate (%)=%{x}\\u003cbr\\u003eLife Expectancy (Years)=%{y}\\u003cbr\\u003eYear=%{customdata[1]}\\u003cextra\\u003e\\u003c\\u002fextra\\u003e\",\"legendgroup\":\"Cote d'Ivoire\",\"marker\":{\"color\":\"#636efa\",\"symbol\":\"circle\"},\"mode\":\"markers\",\"name\":\"Cote d'Ivoire\",\"showlegend\":true,\"x\":[23.0,28.0,39.0,30.4617195129395,37.0,40.7476615905762,87.0,40.2550888061523],\"xaxis\":\"x\",\"y\":[55.272,52.973,52.346,57.339,58.263,59.069,60.59,59.941],\"yaxis\":\"y\",\"type\":\"scattergl\"},{\"customdata\":[[\"Senegal\",1988],[\"Senegal\",2002],[\"Senegal\",2006],[\"Senegal\",2009],[\"Senegal\",2011],[\"Senegal\",2013],[\"Senegal\",2015],[\"Senegal\",2016],[\"Senegal\",2017],[\"Senegal\",2018],[\"Senegal\",2019],[\"Senegal\",2022]],\"hovertemplate\":\"Country Name=%{customdata[0]}\\u003cbr\\u003eLiteracy Rate (%)=%{x}\\u003cbr\\u003eLife Expectancy (Years)=%{y}\\u003cbr\\u003eYear=%{customdata[1]}\\u003cextra\\u003e\\u003c\\u002fextra\\u003e\",\"legendgroup\":\"Senegal\",\"marker\":{\"color\":\"#EF553B\",\"symbol\":\"circle\"},\"mode\":\"markers\",\"name\":\"Senegal\",\"showlegend\":true,\"x\":[18.0,29.0,33.0,37.0,40.0,34.0,35.1685104370117,37.6722793579102,40.0,40.578800201416,38.5151901245117,47.0800018310547],\"xaxis\":\"x\",\"y\":[57.937,59.251,62.979,65.524,67.174,68.236,69.085,69.787,70.066,70.258,70.954,70.2],\"yaxis\":\"y\",\"type\":\"scattergl\"},{\"customdata\":[[\"Tanzania\",1988],[\"Tanzania\",2002],[\"Tanzania\",2010],[\"Tanzania\",2012],[\"Tanzania\",2015],[\"Tanzania\",2022]],\"hovertemplate\":\"Country Name=%{customdata[0]}\\u003cbr\\u003eLiteracy Rate (%)=%{x}\\u003cbr\\u003eLife Expectancy (Years)=%{y}\\u003cbr\\u003eYear=%{customdata[1]}\\u003cextra\\u003e\\u003c\\u002fextra\\u003e\",\"legendgroup\":\"Tanzania\",\"marker\":{\"color\":\"#00cc96\",\"symbol\":\"circle\"},\"mode\":\"markers\",\"name\":\"Tanzania\",\"showlegend\":true,\"x\":[48.0,62.0,60.7526206970215,73.0,73.0,78.6999969482422],\"xaxis\":\"x\",\"y\":[54.051,55.086,61.914,64.218,67.029,68.93],\"yaxis\":\"y\",\"type\":\"scattergl\"},{\"customdata\":[[\"Armenia\",1989],[\"Armenia\",2001],[\"Armenia\",2011],[\"Armenia\",2016],[\"Armenia\",2017],[\"Armenia\",2020]],\"hovertemplate\":\"Country Name=%{customdata[0]}\\u003cbr\\u003eLiteracy Rate (%)=%{x}\\u003cbr\\u003eLife Expectancy (Years)=%{y}\\u003cbr\\u003eYear=%{customdata[1]}\\u003cextra\\u003e\\u003c\\u002fextra\\u003e\",\"legendgroup\":\"Armenia\",\"marker\":{\"color\":\"#ab63fa\",\"symbol\":\"circle\"},\"mode\":\"markers\",\"name\":\"Armenia\",\"showlegend\":true,\"x\":[98.0,99.0,100.0,100.0,100.0,100.0],\"xaxis\":\"x\",\"y\":[71.877,74.587,77.713,79.203,79.381,76.996],\"yaxis\":\"y\",\"type\":\"scattergl\"},{\"customdata\":[[\"Belarus\",1989],[\"Belarus\",1999],[\"Belarus\",2009],[\"Belarus\",2019]],\"hovertemplate\":\"Country Name=%{customdata[0]}\\u003cbr\\u003eLiteracy Rate (%)=%{x}\\u003cbr\\u003eLife Expectancy (Years)=%{y}\\u003cbr\\u003eYear=%{customdata[1]}\\u003cextra\\u003e\\u003c\\u002fextra\\u003e\",\"legendgroup\":\"Belarus\",\"marker\":{\"color\":\"#FFA15A\",\"symbol\":\"circle\"},\"mode\":\"markers\",\"name\":\"Belarus\",\"showlegend\":true,\"x\":[97.0,99.0,99.0,100.0],\"xaxis\":\"x\",\"y\":[76.4,73.9,76.4,79.4],\"yaxis\":\"y\",\"type\":\"scattergl\"},{\"customdata\":[[\"Estonia\",1989],[\"Estonia\",2000],[\"Estonia\",2011],[\"Estonia\",2021]],\"hovertemplate\":\"Country Name=%{customdata[0]}\\u003cbr\\u003eLiteracy Rate (%)=%{x}\\u003cbr\\u003eLife Expectancy (Years)=%{y}\\u003cbr\\u003eYear=%{customdata[1]}\\u003cextra\\u003e\\u003c\\u002fextra\\u003e\",\"legendgroup\":\"Estonia\",\"marker\":{\"color\":\"#19d3f3\",\"symbol\":\"circle\"},\"mode\":\"markers\",\"name\":\"Estonia\",\"showlegend\":true,\"x\":[100.0,100.0,100.0,99.879997253418],\"xaxis\":\"x\",\"y\":[74.7,76.0,81.3,81.4],\"yaxis\":\"y\",\"type\":\"scattergl\"},{\"customdata\":[[\"Kazakhstan\",1989],[\"Kazakhstan\",1999],[\"Kazakhstan\",2009],[\"Kazakhstan\",2010],[\"Kazakhstan\",2020]],\"hovertemplate\":\"Country Name=%{customdata[0]}\\u003cbr\\u003eLiteracy Rate (%)=%{x}\\u003cbr\\u003eLife Expectancy (Years)=%{y}\\u003cbr\\u003eYear=%{customdata[1]}\\u003cextra\\u003e\\u003c\\u002fextra\\u003e\",\"legendgroup\":\"Kazakhstan\",\"marker\":{\"color\":\"#FF6692\",\"symbol\":\"circle\"},\"mode\":\"markers\",\"name\":\"Kazakhstan\",\"showlegend\":true,\"x\":[96.0,99.0,100.0,99.7389907836914,99.8000030517578],\"xaxis\":\"x\",\"y\":[72.9,70.9,73.25,73.41,75.53],\"yaxis\":\"y\",\"type\":\"scattergl\"},{\"customdata\":[[\"Latvia\",1989],[\"Latvia\",2000],[\"Latvia\",2011],[\"Latvia\",2021]],\"hovertemplate\":\"Country Name=%{customdata[0]}\\u003cbr\\u003eLiteracy Rate (%)=%{x}\\u003cbr\\u003eLife Expectancy (Years)=%{y}\\u003cbr\\u003eYear=%{customdata[1]}\\u003cextra\\u003e\\u003c\\u002fextra\\u003e\",\"legendgroup\":\"Latvia\",\"marker\":{\"color\":\"#B6E880\",\"symbol\":\"circle\"},\"mode\":\"markers\",\"name\":\"Latvia\",\"showlegend\":true,\"x\":[99.0,100.0,100.0,99.9100036621094],\"xaxis\":\"x\",\"y\":[75.18,76.0,78.8,78.0],\"yaxis\":\"y\",\"type\":\"scattergl\"},{\"customdata\":[[\"Lithuania\",1989],[\"Lithuania\",2001],[\"Lithuania\",2011],[\"Lithuania\",2021]],\"hovertemplate\":\"Country Name=%{customdata[0]}\\u003cbr\\u003eLiteracy Rate (%)=%{x}\\u003cbr\\u003eLife Expectancy (Years)=%{y}\\u003cbr\\u003eYear=%{customdata[1]}\\u003cextra\\u003e\\u003c\\u002fextra\\u003e\",\"legendgroup\":\"Lithuania\",\"marker\":{\"color\":\"#FF97FF\",\"symbol\":\"circle\"},\"mode\":\"markers\",\"name\":\"Lithuania\",\"showlegend\":true,\"x\":[98.0,100.0,100.0,99.8499984741211],\"xaxis\":\"x\",\"y\":[76.24,77.6,79.3,78.8],\"yaxis\":\"y\",\"type\":\"scattergl\"},{\"customdata\":[[\"Moldova\",1989],[\"Moldova\",2000],[\"Moldova\",2014],[\"Moldova\",2021]],\"hovertemplate\":\"Country Name=%{customdata[0]}\\u003cbr\\u003eLiteracy Rate (%)=%{x}\\u003cbr\\u003eLife Expectancy (Years)=%{y}\\u003cbr\\u003eYear=%{customdata[1]}\\u003cextra\\u003e\\u003c\\u002fextra\\u003e\",\"legendgroup\":\"Moldova\",\"marker\":{\"color\":\"#FECB52\",\"symbol\":\"circle\"},\"mode\":\"markers\",\"name\":\"Moldova\",\"showlegend\":true,\"x\":[94.0,95.0,99.0,99.5],\"xaxis\":\"x\",\"y\":[72.121,70.035,73.524,73.547],\"yaxis\":\"y\",\"type\":\"scattergl\"},{\"customdata\":[[\"Russian Federation\",1989],[\"Russian Federation\",2002],[\"Russian Federation\",2010],[\"Russian Federation\",2021]],\"hovertemplate\":\"Country Name=%{customdata[0]}\\u003cbr\\u003eLiteracy Rate (%)=%{x}\\u003cbr\\u003eLife Expectancy (Years)=%{y}\\u003cbr\\u003eYear=%{customdata[1]}\\u003cextra\\u003e\\u003c\\u002fextra\\u003e\",\"legendgroup\":\"Russian Federation\",\"marker\":{\"color\":\"#636efa\",\"symbol\":\"circle\"},\"mode\":\"markers\",\"name\":\"Russian Federation\",\"showlegend\":true,\"x\":[97.0,99.0,100.0,100.0],\"xaxis\":\"x\",\"y\":[74.35,71.9,74.88,74.51],\"yaxis\":\"y\",\"type\":\"scattergl\"},{\"customdata\":[[\"Tajikistan\",1989],[\"Tajikistan\",2000],[\"Tajikistan\",2010],[\"Tajikistan\",2017]],\"hovertemplate\":\"Country Name=%{customdata[0]}\\u003cbr\\u003eLiteracy Rate (%)=%{x}\\u003cbr\\u003eLife Expectancy (Years)=%{y}\\u003cbr\\u003eYear=%{customdata[1]}\\u003cextra\\u003e\\u003c\\u002fextra\\u003e\",\"legendgroup\":\"Tajikistan\",\"marker\":{\"color\":\"#EF553B\",\"symbol\":\"circle\"},\"mode\":\"markers\",\"name\":\"Tajikistan\",\"showlegend\":true,\"x\":[97.0,99.0,99.5999984741211,94.6219482421875],\"xaxis\":\"x\",\"y\":[64.533,65.956,70.353,72.34],\"yaxis\":\"y\",\"type\":\"scattergl\"},{\"customdata\":[[\"Cabo Verde\",1990],[\"Cabo Verde\",2000],[\"Cabo Verde\",2012],[\"Cabo Verde\",2015],[\"Cabo Verde\",2022]],\"hovertemplate\":\"Country Name=%{customdata[0]}\\u003cbr\\u003eLiteracy Rate (%)=%{x}\\u003cbr\\u003eLife Expectancy (Years)=%{y}\\u003cbr\\u003eYear=%{customdata[1]}\\u003cextra\\u003e\\u003c\\u002fextra\\u003e\",\"legendgroup\":\"Cabo Verde\",\"marker\":{\"color\":\"#00cc96\",\"symbol\":\"circle\"},\"mode\":\"markers\",\"name\":\"Cabo Verde\",\"showlegend\":true,\"x\":[53.0,69.4445571899414,80.0,82.0,87.6100006103516],\"xaxis\":\"x\",\"y\":[66.578,71.74,78.162,79.037,79.011],\"yaxis\":\"y\",\"type\":\"scattergl\"},{\"customdata\":[[\"Mauritius\",1990],[\"Mauritius\",2000],[\"Mauritius\",2011],[\"Mauritius\",2012],[\"Mauritius\",2013],[\"Mauritius\",2014],[\"Mauritius\",2015],[\"Mauritius\",2016],[\"Mauritius\",2021]],\"hovertemplate\":\"Country Name=%{customdata[0]}\\u003cbr\\u003eLiteracy Rate (%)=%{x}\\u003cbr\\u003eLife Expectancy (Years)=%{y}\\u003cbr\\u003eYear=%{customdata[1]}\\u003cextra\\u003e\\u003c\\u002fextra\\u003e\",\"legendgroup\":\"Mauritius\",\"marker\":{\"color\":\"#ab63fa\",\"symbol\":\"circle\"},\"mode\":\"markers\",\"name\":\"Mauritius\",\"showlegend\":true,\"x\":[75.0,81.0,87.0,89.0,89.0,90.0,91.0,91.0,90.4599990844727],\"xaxis\":\"x\",\"y\":[73.4,75.3,76.97,77.5,77.5,77.58,77.79,77.76,77.24],\"yaxis\":\"y\",\"type\":\"scattergl\"},{\"customdata\":[[\"Zambia\",1990],[\"Zambia\",1999],[\"Zambia\",2002],[\"Zambia\",2007],[\"Zambia\",2010],[\"Zambia\",2018],[\"Zambia\",2020]],\"hovertemplate\":\"Country Name=%{customdata[0]}\\u003cbr\\u003eLiteracy Rate (%)=%{x}\\u003cbr\\u003eLife Expectancy (Years)=%{y}\\u003cbr\\u003eYear=%{customdata[1]}\\u003cextra\\u003e\\u003c\\u002fextra\\u003e\",\"legendgroup\":\"Zambia\",\"marker\":{\"color\":\"#FFA15A\",\"symbol\":\"circle\"},\"mode\":\"markers\",\"name\":\"Zambia\",\"showlegend\":true,\"x\":[57.0,60.0,62.0,51.7869682312012,78.0,62.1824989318848,84.3000030517578],\"xaxis\":\"x\",\"y\":[49.293,45.777,48.05,53.869,58.533,64.916,65.043],\"yaxis\":\"y\",\"type\":\"scattergl\"},{\"customdata\":[[\"Belize\",1991],[\"Belize\",2001],[\"Belize\",2015]],\"hovertemplate\":\"Country Name=%{customdata[0]}\\u003cbr\\u003eLiteracy Rate (%)=%{x}\\u003cbr\\u003eLife Expectancy (Years)=%{y}\\u003cbr\\u003eYear=%{customdata[1]}\\u003cextra\\u003e\\u003c\\u002fextra\\u003e\",\"legendgroup\":\"Belize\",\"marker\":{\"color\":\"#19d3f3\",\"symbol\":\"circle\"},\"mode\":\"markers\",\"name\":\"Belize\",\"showlegend\":true,\"x\":[70.0,81.3000030517578,91.6316070556641],\"xaxis\":\"x\",\"y\":[71.906,70.95,76.486],\"yaxis\":\"y\",\"type\":\"scattergl\"},{\"customdata\":[[\"Bosnia and Herzegovina\",1991],[\"Bosnia and Herzegovina\",2000],[\"Bosnia and Herzegovina\",2011],[\"Bosnia and Herzegovina\",2013],[\"Bosnia and Herzegovina\",2022]],\"hovertemplate\":\"Country Name=%{customdata[0]}\\u003cbr\\u003eLiteracy Rate (%)=%{x}\\u003cbr\\u003eLife Expectancy (Years)=%{y}\\u003cbr\\u003eYear=%{customdata[1]}\\u003cextra\\u003e\\u003c\\u002fextra\\u003e\",\"legendgroup\":\"Bosnia and Herzegovina\",\"marker\":{\"color\":\"#FF6692\",\"symbol\":\"circle\"},\"mode\":\"markers\",\"name\":\"Bosnia and Herzegovina\",\"showlegend\":true,\"x\":[82.0,94.0,96.8037109375,95.0,97.0999984741211],\"xaxis\":\"x\",\"y\":[75.314,77.311,79.382,78.624,77.498],\"yaxis\":\"y\",\"type\":\"scattergl\"},{\"customdata\":[[\"Botswana\",1991],[\"Botswana\",2003],[\"Botswana\",2013]],\"hovertemplate\":\"Country Name=%{customdata[0]}\\u003cbr\\u003eLiteracy Rate (%)=%{x}\\u003cbr\\u003eLife Expectancy (Years)=%{y}\\u003cbr\\u003eYear=%{customdata[1]}\\u003cextra\\u003e\\u003c\\u002fextra\\u003e\",\"legendgroup\":\"Botswana\",\"marker\":{\"color\":\"#B6E880\",\"symbol\":\"circle\"},\"mode\":\"markers\",\"name\":\"Botswana\",\"showlegend\":true,\"x\":[71.0,82.0,87.4512100219727],\"xaxis\":\"x\",\"y\":[63.018,52.648,64.637],\"yaxis\":\"y\",\"type\":\"scattergl\"},{\"customdata\":[[\"Croatia\",1991],[\"Croatia\",2001],[\"Croatia\",2021]],\"hovertemplate\":\"Country Name=%{customdata[0]}\\u003cbr\\u003eLiteracy Rate (%)=%{x}\\u003cbr\\u003eLife Expectancy (Years)=%{y}\\u003cbr\\u003eYear=%{customdata[1]}\\u003cextra\\u003e\\u003c\\u002fextra\\u003e\",\"legendgroup\":\"Croatia\",\"marker\":{\"color\":\"#FF97FF\",\"symbol\":\"circle\"},\"mode\":\"markers\",\"name\":\"Croatia\",\"showlegend\":true,\"x\":[95.0,97.0,99.2399978637695],\"xaxis\":\"x\",\"y\":[75.95,78.17,79.6],\"yaxis\":\"y\",\"type\":\"scattergl\"},{\"customdata\":[[\"Namibia\",1991],[\"Namibia\",2001],[\"Namibia\",2007],[\"Namibia\",2011],[\"Namibia\",2021]],\"hovertemplate\":\"Country Name=%{customdata[0]}\\u003cbr\\u003eLiteracy Rate (%)=%{x}\\u003cbr\\u003eLife Expectancy (Years)=%{y}\\u003cbr\\u003eYear=%{customdata[1]}\\u003cextra\\u003e\\u003c\\u002fextra\\u003e\",\"legendgroup\":\"Namibia\",\"marker\":{\"color\":\"#FECB52\",\"symbol\":\"circle\"},\"mode\":\"markers\",\"name\":\"Namibia\",\"showlegend\":true,\"x\":[74.0,84.0,78.3509826660156,88.0,92.3300018310547],\"xaxis\":\"x\",\"y\":[64.933,53.042,56.201,59.502,62.985],\"yaxis\":\"y\",\"type\":\"scattergl\"},{\"customdata\":[[\"Nigeria\",1991],[\"Nigeria\",2003],[\"Nigeria\",2006],[\"Nigeria\",2008],[\"Nigeria\",2016],[\"Nigeria\",2018],[\"Nigeria\",2021]],\"hovertemplate\":\"Country Name=%{customdata[0]}\\u003cbr\\u003eLiteracy Rate (%)=%{x}\\u003cbr\\u003eLife Expectancy (Years)=%{y}\\u003cbr\\u003eYear=%{customdata[1]}\\u003cextra\\u003e\\u003c\\u002fextra\\u003e\",\"legendgroup\":\"Nigeria\",\"marker\":{\"color\":\"#636efa\",\"symbol\":\"circle\"},\"mode\":\"markers\",\"name\":\"Nigeria\",\"showlegend\":true,\"x\":[44.0,43.0,64.0,41.3867607116699,49.0559501647949,52.6564788818359,53.25244140625],\"xaxis\":\"x\",\"y\":[47.27,49.54,50.575,50.773,52.229,52.77,53.07],\"yaxis\":\"y\",\"type\":\"scattergl\"},{\"customdata\":[[\"Samoa\",1991],[\"Samoa\",2011],[\"Samoa\",2019],[\"Samoa\",2021]],\"hovertemplate\":\"Country Name=%{customdata[0]}\\u003cbr\\u003eLiteracy Rate (%)=%{x}\\u003cbr\\u003eLife Expectancy (Years)=%{y}\\u003cbr\\u003eYear=%{customdata[1]}\\u003cextra\\u003e\\u003c\\u002fextra\\u003e\",\"legendgroup\":\"Samoa\",\"marker\":{\"color\":\"#EF553B\",\"symbol\":\"circle\"},\"mode\":\"markers\",\"name\":\"Samoa\",\"showlegend\":true,\"x\":[97.0,99.0,97.6584167480469,99.3000030517578],\"xaxis\":\"x\",\"y\":[71.2,74.983,74.805,75.503],\"yaxis\":\"y\",\"type\":\"scattergl\"},{\"customdata\":[[\"Slovenia\",1991],[\"Slovenia\",2001]],\"hovertemplate\":\"Country Name=%{customdata[0]}\\u003cbr\\u003eLiteracy Rate (%)=%{x}\\u003cbr\\u003eLife Expectancy (Years)=%{y}\\u003cbr\\u003eYear=%{customdata[1]}\\u003cextra\\u003e\\u003c\\u002fextra\\u003e\",\"legendgroup\":\"Slovenia\",\"marker\":{\"color\":\"#00cc96\",\"symbol\":\"circle\"},\"mode\":\"markers\",\"name\":\"Slovenia\",\"showlegend\":true,\"x\":[99.0,99.5999984741211],\"xaxis\":\"x\",\"y\":[77.4,79.6],\"yaxis\":\"y\",\"type\":\"scattergl\"},{\"customdata\":[[\"Uganda\",1991],[\"Uganda\",2002],[\"Uganda\",2006],[\"Uganda\",2010],[\"Uganda\",2012],[\"Uganda\",2016],[\"Uganda\",2022]],\"hovertemplate\":\"Country Name=%{customdata[0]}\\u003cbr\\u003eLiteracy Rate (%)=%{x}\\u003cbr\\u003eLife Expectancy (Years)=%{y}\\u003cbr\\u003eYear=%{customdata[1]}\\u003cextra\\u003e\\u003c\\u002fextra\\u003e\",\"legendgroup\":\"Uganda\",\"marker\":{\"color\":\"#ab63fa\",\"symbol\":\"circle\"},\"mode\":\"markers\",\"name\":\"Uganda\",\"showlegend\":true,\"x\":[45.0,59.0,62.0,65.0,62.0,60.9974403381348,76.5299987792969],\"xaxis\":\"x\",\"y\":[48.789,51.578,55.885,58.768,60.76,63.809,65.703],\"yaxis\":\"y\",\"type\":\"scattergl\"},{\"customdata\":[[\"Cyprus\",1992],[\"Cyprus\",2001],[\"Cyprus\",2011],[\"Cyprus\",2021]],\"hovertemplate\":\"Country Name=%{customdata[0]}\\u003cbr\\u003eLiteracy Rate (%)=%{x}\\u003cbr\\u003eLife Expectancy (Years)=%{y}\\u003cbr\\u003eYear=%{customdata[1]}\\u003cextra\\u003e\\u003c\\u002fextra\\u003e\",\"legendgroup\":\"Cyprus\",\"marker\":{\"color\":\"#FFA15A\",\"symbol\":\"circle\"},\"mode\":\"markers\",\"name\":\"Cyprus\",\"showlegend\":true,\"x\":[91.0,95.0,98.0,99.1500015258789],\"xaxis\":\"x\",\"y\":[76.139,79.02,82.336,83.204],\"yaxis\":\"y\",\"type\":\"scattergl\"},{\"customdata\":[[\"El Salvador\",1992],[\"El Salvador\",2006],[\"El Salvador\",2007],[\"El Salvador\",2008],[\"El Salvador\",2009],[\"El Salvador\",2010],[\"El Salvador\",2011],[\"El Salvador\",2013],[\"El Salvador\",2015],[\"El Salvador\",2016],[\"El Salvador\",2017],[\"El Salvador\",2018],[\"El Salvador\",2019],[\"El Salvador\",2020]],\"hovertemplate\":\"Country Name=%{customdata[0]}\\u003cbr\\u003eLiteracy Rate (%)=%{x}\\u003cbr\\u003eLife Expectancy (Years)=%{y}\\u003cbr\\u003eYear=%{customdata[1]}\\u003cextra\\u003e\\u003c\\u002fextra\\u003e\",\"legendgroup\":\"El Salvador\",\"marker\":{\"color\":\"#19d3f3\",\"symbol\":\"circle\"},\"mode\":\"markers\",\"name\":\"El Salvador\",\"showlegend\":true,\"x\":[71.0,81.0,80.0,81.0,82.0,82.0,83.0,85.0,86.0,86.0,87.0,87.0,87.0,89.0],\"xaxis\":\"x\",\"y\":[69.713,75.401,75.677,75.92,75.961,76.213,76.189,76.158,76.572,77.075,77.494,77.488,76.776,75.413],\"yaxis\":\"y\",\"type\":\"scattergl\"},{\"customdata\":[[\"Romania\",1992],[\"Romania\",2002],[\"Romania\",2011],[\"Romania\",2021]],\"hovertemplate\":\"Country Name=%{customdata[0]}\\u003cbr\\u003eLiteracy Rate (%)=%{x}\\u003cbr\\u003eLife Expectancy (Years)=%{y}\\u003cbr\\u003eYear=%{customdata[1]}\\u003cextra\\u003e\\u003c\\u002fextra\\u003e\",\"legendgroup\":\"Romania\",\"marker\":{\"color\":\"#FF6692\",\"symbol\":\"circle\"},\"mode\":\"markers\",\"name\":\"Romania\",\"showlegend\":true,\"x\":[95.0,96.0,98.0,99.0],\"xaxis\":\"x\",\"y\":[73.17,74.8,78.2,76.6],\"yaxis\":\"y\",\"type\":\"scattergl\"},{\"customdata\":[[\"Saudi Arabia\",1992],[\"Saudi Arabia\",2000],[\"Saudi Arabia\",2004],[\"Saudi Arabia\",2013],[\"Saudi Arabia\",2017],[\"Saudi Arabia\",2020]],\"hovertemplate\":\"Country Name=%{customdata[0]}\\u003cbr\\u003eLiteracy Rate (%)=%{x}\\u003cbr\\u003eLife Expectancy (Years)=%{y}\\u003cbr\\u003eYear=%{customdata[1]}\\u003cextra\\u003e\\u003c\\u002fextra\\u003e\",\"legendgroup\":\"Saudi Arabia\",\"marker\":{\"color\":\"#B6E880\",\"symbol\":\"circle\"},\"mode\":\"markers\",\"name\":\"Saudi Arabia\",\"showlegend\":true,\"x\":[57.0,69.0,76.0,91.0,93.0,96.0],\"xaxis\":\"x\",\"y\":[71.876,74.394,75.953,78.254,78.796,77.992],\"yaxis\":\"y\",\"type\":\"scattergl\"},{\"customdata\":[[\"Chad\",1993],[\"Chad\",2000],[\"Chad\",2004],[\"Chad\",2015],[\"Chad\",2016],[\"Chad\",2019],[\"Chad\",2022]],\"hovertemplate\":\"Country Name=%{customdata[0]}\\u003cbr\\u003eLiteracy Rate (%)=%{x}\\u003cbr\\u003eLife Expectancy (Years)=%{y}\\u003cbr\\u003eYear=%{customdata[1]}\\u003cextra\\u003e\\u003c\\u002fextra\\u003e\",\"legendgroup\":\"Chad\",\"marker\":{\"color\":\"#FF97FF\",\"symbol\":\"circle\"},\"mode\":\"markers\",\"name\":\"Chad\",\"showlegend\":true,\"x\":[5.0,13.0,18.0,13.9334096908569,14.0,18.6425495147705,18.8700008392334],\"xaxis\":\"x\",\"y\":[47.438,48.557,49.313,53.132,53.317,54.908,54.769],\"yaxis\":\"y\",\"type\":\"scattergl\"},{\"customdata\":[[\"Colombia\",1993],[\"Colombia\",1996],[\"Colombia\",2004],[\"Colombia\",2005],[\"Colombia\",2006],[\"Colombia\",2007],[\"Colombia\",2008],[\"Colombia\",2009],[\"Colombia\",2010],[\"Colombia\",2011],[\"Colombia\",2014],[\"Colombia\",2015],[\"Colombia\",2016],[\"Colombia\",2018],[\"Colombia\",2019],[\"Colombia\",2020]],\"hovertemplate\":\"Country Name=%{customdata[0]}\\u003cbr\\u003eLiteracy Rate (%)=%{x}\\u003cbr\\u003eLife Expectancy (Years)=%{y}\\u003cbr\\u003eYear=%{customdata[1]}\\u003cextra\\u003e\\u003c\\u002fextra\\u003e\",\"legendgroup\":\"Colombia\",\"marker\":{\"color\":\"#FECB52\",\"symbol\":\"circle\"},\"mode\":\"markers\",\"name\":\"Colombia\",\"showlegend\":true,\"x\":[91.0,91.0,93.0,93.0,92.0,93.0,93.0,93.0,93.0,94.0,94.0,94.0,95.0,95.0,95.0,96.0],\"xaxis\":\"x\",\"y\":[73.757,74.5,76.495,76.766,77.075,77.391,77.731,78.054,78.301,78.548,79.139,79.292,79.44,79.66,79.721,78.136],\"yaxis\":\"y\",\"type\":\"scattergl\"},{\"customdata\":[[\"Gabon\",1993],[\"Gabon\",2012],[\"Gabon\",2021],[\"Gabon\",2022]],\"hovertemplate\":\"Country Name=%{customdata[0]}\\u003cbr\\u003eLiteracy Rate (%)=%{x}\\u003cbr\\u003eLife Expectancy (Years)=%{y}\\u003cbr\\u003eYear=%{customdata[1]}\\u003cextra\\u003e\\u003c\\u002fextra\\u003e\",\"legendgroup\":\"Gabon\",\"marker\":{\"color\":\"#636efa\",\"symbol\":\"circle\"},\"mode\":\"markers\",\"name\":\"Gabon\",\"showlegend\":true,\"x\":[65.0,79.8789672851562,87.0662002563477,85.0400009155273],\"xaxis\":\"x\",\"y\":[61.88,66.759,68.494,68.359],\"yaxis\":\"y\",\"type\":\"scattergl\"},{\"customdata\":[[\"Ethiopia\",1994],[\"Ethiopia\",2004],[\"Ethiopia\",2005],[\"Ethiopia\",2007],[\"Ethiopia\",2016],[\"Ethiopia\",2017],[\"Ethiopia\",2019]],\"hovertemplate\":\"Country Name=%{customdata[0]}\\u003cbr\\u003eLiteracy Rate (%)=%{x}\\u003cbr\\u003eLife Expectancy (Years)=%{y}\\u003cbr\\u003eYear=%{customdata[1]}\\u003cextra\\u003e\\u003c\\u002fextra\\u003e\",\"legendgroup\":\"Ethiopia\",\"marker\":{\"color\":\"#EF553B\",\"symbol\":\"circle\"},\"mode\":\"markers\",\"name\":\"Ethiopia\",\"showlegend\":true,\"x\":[19.0,22.7999992370605,17.9771995544434,29.0,34.4190406799316,44.4233818054199,40.3826713562012],\"xaxis\":\"x\",\"y\":[49.1,54.249,55.338,58.062,67.341,67.533,68.795],\"yaxis\":\"y\",\"type\":\"scattergl\"},{\"customdata\":[[\"Guatemala\",1994],[\"Guatemala\",2002],[\"Guatemala\",2012],[\"Guatemala\",2013],[\"Guatemala\",2014],[\"Guatemala\",2015],[\"Guatemala\",2018],[\"Guatemala\",2022]],\"hovertemplate\":\"Country Name=%{customdata[0]}\\u003cbr\\u003eLiteracy Rate (%)=%{x}\\u003cbr\\u003eLife Expectancy (Years)=%{y}\\u003cbr\\u003eYear=%{customdata[1]}\\u003cextra\\u003e\\u003c\\u002fextra\\u003e\",\"legendgroup\":\"Guatemala\",\"marker\":{\"color\":\"#00cc96\",\"symbol\":\"circle\"},\"mode\":\"markers\",\"name\":\"Guatemala\",\"showlegend\":true,\"x\":[57.0,63.0,72.0,72.0,76.0,75.1361923217773,77.0,78.6087493896484],\"xaxis\":\"x\",\"y\":[67.24,72.042,74.731,74.927,75.1,75.178,75.571,71.754],\"yaxis\":\"y\",\"type\":\"scattergl\"},{\"customdata\":[[\"North Macedonia\",1994],[\"North Macedonia\",2002],[\"North Macedonia\",2012],[\"North Macedonia\",2018]],\"hovertemplate\":\"Country Name=%{customdata[0]}\\u003cbr\\u003eLiteracy Rate (%)=%{x}\\u003cbr\\u003eLife Expectancy (Years)=%{y}\\u003cbr\\u003eYear=%{customdata[1]}\\u003cextra\\u003e\\u003c\\u002fextra\\u003e\",\"legendgroup\":\"North Macedonia\",\"marker\":{\"color\":\"#ab63fa\",\"symbol\":\"circle\"},\"mode\":\"markers\",\"name\":\"North Macedonia\",\"showlegend\":true,\"x\":[91.0,94.0,96.4000015258789,97.7797393798828],\"xaxis\":\"x\",\"y\":[74.1,75.6,76.9,78.8],\"yaxis\":\"y\",\"type\":\"scattergl\"},{\"customdata\":[[\"Yemen, Rep.\",1994],[\"Yemen, Rep.\",2004]],\"hovertemplate\":\"Country Name=%{customdata[0]}\\u003cbr\\u003eLiteracy Rate (%)=%{x}\\u003cbr\\u003eLife Expectancy (Years)=%{y}\\u003cbr\\u003eYear=%{customdata[1]}\\u003cextra\\u003e\\u003c\\u002fextra\\u003e\",\"legendgroup\":\"Yemen, Rep.\",\"marker\":{\"color\":\"#FFA15A\",\"symbol\":\"circle\"},\"mode\":\"markers\",\"name\":\"Yemen, Rep.\",\"showlegend\":true,\"x\":[17.0,35.0],\"xaxis\":\"x\",\"y\":[61.876,66.849],\"yaxis\":\"y\",\"type\":\"scattergl\"},{\"customdata\":[[\"Lao PDR\",1995],[\"Lao PDR\",2000],[\"Lao PDR\",2001],[\"Lao PDR\",2005],[\"Lao PDR\",2011],[\"Lao PDR\",2015],[\"Lao PDR\",2022]],\"hovertemplate\":\"Country Name=%{customdata[0]}\\u003cbr\\u003eLiteracy Rate (%)=%{x}\\u003cbr\\u003eLife Expectancy (Years)=%{y}\\u003cbr\\u003eYear=%{customdata[1]}\\u003cextra\\u003e\\u003c\\u002fextra\\u003e\",\"legendgroup\":\"Lao PDR\",\"marker\":{\"color\":\"#19d3f3\",\"symbol\":\"circle\"},\"mode\":\"markers\",\"name\":\"Lao PDR\",\"showlegend\":true,\"x\":[48.0,58.0,61.0,63.0,49.7230796813965,79.0,83.370002746582],\"xaxis\":\"x\",\"y\":[57.857,59.941,60.755,63.149,66.591,68.724,71.164],\"yaxis\":\"y\",\"type\":\"scattergl\"},{\"customdata\":[[\"Turkmenistan\",1995],[\"Turkmenistan\",2005],[\"Turkmenistan\",2019]],\"hovertemplate\":\"Country Name=%{customdata[0]}\\u003cbr\\u003eLiteracy Rate (%)=%{x}\\u003cbr\\u003eLife Expectancy (Years)=%{y}\\u003cbr\\u003eYear=%{customdata[1]}\\u003cextra\\u003e\\u003c\\u002fextra\\u003e\",\"legendgroup\":\"Turkmenistan\",\"marker\":{\"color\":\"#FF6692\",\"symbol\":\"circle\"},\"mode\":\"markers\",\"name\":\"Turkmenistan\",\"showlegend\":true,\"x\":[98.0,99.1999969482422,99.6492919921875],\"xaxis\":\"x\",\"y\":[67.39,69.636,72.464],\"yaxis\":\"y\",\"type\":\"scattergl\"},{\"customdata\":[[\"Guinea\",1996],[\"Guinea\",2003],[\"Guinea\",2010],[\"Guinea\",2014],[\"Guinea\",2016],[\"Guinea\",2018],[\"Guinea\",2021]],\"hovertemplate\":\"Country Name=%{customdata[0]}\\u003cbr\\u003eLiteracy Rate (%)=%{x}\\u003cbr\\u003eLife Expectancy (Years)=%{y}\\u003cbr\\u003eYear=%{customdata[1]}\\u003cextra\\u003e\\u003c\\u002fextra\\u003e\",\"legendgroup\":\"Guinea\",\"marker\":{\"color\":\"#B6E880\",\"symbol\":\"circle\"},\"mode\":\"markers\",\"name\":\"Guinea\",\"showlegend\":true,\"x\":[10.0,18.0,12.0,22.0,23.9352493286133,28.0,31.2700004577637],\"xaxis\":\"x\",\"y\":[51.173,54.085,57.842,59.248,59.69,60.298,60.099],\"yaxis\":\"y\",\"type\":\"scattergl\"},{\"customdata\":[[\"West Bank and Gaza\",1997],[\"West Bank and Gaza\",2004],[\"West Bank and Gaza\",2006],[\"West Bank and Gaza\",2007],[\"West Bank and Gaza\",2008],[\"West Bank and Gaza\",2009],[\"West Bank and Gaza\",2010],[\"West Bank and Gaza\",2011],[\"West Bank and Gaza\",2012],[\"West Bank and Gaza\",2013],[\"West Bank and Gaza\",2014],[\"West Bank and Gaza\",2015],[\"West Bank and Gaza\",2016],[\"West Bank and Gaza\",2017],[\"West Bank and Gaza\",2018],[\"West Bank and Gaza\",2019],[\"West Bank and Gaza\",2020],[\"West Bank and Gaza\",2022]],\"hovertemplate\":\"Country Name=%{customdata[0]}\\u003cbr\\u003eLiteracy Rate (%)=%{x}\\u003cbr\\u003eLife Expectancy (Years)=%{y}\\u003cbr\\u003eYear=%{customdata[1]}\\u003cextra\\u003e\\u003c\\u002fextra\\u003e\",\"legendgroup\":\"West Bank and Gaza\",\"marker\":{\"color\":\"#FF97FF\",\"symbol\":\"circle\"},\"mode\":\"markers\",\"name\":\"West Bank and Gaza\",\"showlegend\":true,\"x\":[80.0,89.0,90.0,90.0,91.0,91.0,92.0,92.0,93.0,94.0,94.0,95.0,95.0,95.0,96.0,96.0,96.0,97.0],\"xaxis\":\"x\",\"y\":[71.838,73.595,74.143,74.388,74.522,74.735,75.091,75.384,75.664,75.955,75.519,76.443,76.685,76.935,77.137,77.338,76.683,75.948],\"yaxis\":\"y\",\"type\":\"scattergl\"},{\"customdata\":[[\"Cambodia\",1998],[\"Cambodia\",2004],[\"Cambodia\",2008],[\"Cambodia\",2009],[\"Cambodia\",2014],[\"Cambodia\",2015],[\"Cambodia\",2021],[\"Cambodia\",2022]],\"hovertemplate\":\"Country Name=%{customdata[0]}\\u003cbr\\u003eLiteracy Rate (%)=%{x}\\u003cbr\\u003eLife Expectancy (Years)=%{y}\\u003cbr\\u003eYear=%{customdata[1]}\\u003cextra\\u003e\\u003c\\u002fextra\\u003e\",\"legendgroup\":\"Cambodia\",\"marker\":{\"color\":\"#FECB52\",\"symbol\":\"circle\"},\"mode\":\"markers\",\"name\":\"Cambodia\",\"showlegend\":true,\"x\":[57.0,64.0,70.0,69.0,72.0,75.0,63.6409111022949,79.6500015258789],\"xaxis\":\"x\",\"y\":[58.909,65.46,68.479,69.575,71.881,72.02,72.291,72.622],\"yaxis\":\"y\",\"type\":\"scattergl\"},{\"customdata\":[[\"Azerbaijan\",1999],[\"Azerbaijan\",2007],[\"Azerbaijan\",2009],[\"Azerbaijan\",2010],[\"Azerbaijan\",2011],[\"Azerbaijan\",2012],[\"Azerbaijan\",2013],[\"Azerbaijan\",2014],[\"Azerbaijan\",2015],[\"Azerbaijan\",2016],[\"Azerbaijan\",2017],[\"Azerbaijan\",2019]],\"hovertemplate\":\"Country Name=%{customdata[0]}\\u003cbr\\u003eLiteracy Rate (%)=%{x}\\u003cbr\\u003eLife Expectancy (Years)=%{y}\\u003cbr\\u003eYear=%{customdata[1]}\\u003cextra\\u003e\\u003c\\u002fextra\\u003e\",\"legendgroup\":\"Azerbaijan\",\"marker\":{\"color\":\"#636efa\",\"symbol\":\"circle\"},\"mode\":\"markers\",\"name\":\"Azerbaijan\",\"showlegend\":true,\"x\":[98.0,99.0,100.0,100.0,100.0,100.0,100.0,100.0,100.0,100.0,100.0,100.0],\"xaxis\":\"x\",\"y\":[68.172,72.025,72.777,72.821,73.344,73.833,74.277,74.384,74.788,75.587,75.467,75.832],\"yaxis\":\"y\",\"type\":\"scattergl\"},{\"customdata\":[[\"Jamaica\",1999],[\"Jamaica\",2022]],\"hovertemplate\":\"Country Name=%{customdata[0]}\\u003cbr\\u003eLiteracy Rate (%)=%{x}\\u003cbr\\u003eLife Expectancy (Years)=%{y}\\u003cbr\\u003eYear=%{customdata[1]}\\u003cextra\\u003e\\u003c\\u002fextra\\u003e\",\"legendgroup\":\"Jamaica\",\"marker\":{\"color\":\"#EF553B\",\"symbol\":\"circle\"},\"mode\":\"markers\",\"name\":\"Jamaica\",\"showlegend\":true,\"x\":[86.0,90.8148727416992],\"xaxis\":\"x\",\"y\":[72.807,72.737],\"yaxis\":\"y\",\"type\":\"scattergl\"},{\"customdata\":[[\"Kyrgyz Republic\",1999],[\"Kyrgyz Republic\",2009],[\"Kyrgyz Republic\",2019]],\"hovertemplate\":\"Country Name=%{customdata[0]}\\u003cbr\\u003eLiteracy Rate (%)=%{x}\\u003cbr\\u003eLife Expectancy (Years)=%{y}\\u003cbr\\u003eYear=%{customdata[1]}\\u003cextra\\u003e\\u003c\\u002fextra\\u003e\",\"legendgroup\":\"Kyrgyz Republic\",\"marker\":{\"color\":\"#00cc96\",\"symbol\":\"circle\"},\"mode\":\"markers\",\"name\":\"Kyrgyz Republic\",\"showlegend\":true,\"x\":[98.0,99.0,99.5],\"xaxis\":\"x\",\"y\":[72.6,73.2,75.8],\"yaxis\":\"y\",\"type\":\"scattergl\"},{\"customdata\":[[\"Solomon Islands\",1999]],\"hovertemplate\":\"Country Name=%{customdata[0]}\\u003cbr\\u003eLiteracy Rate (%)=%{x}\\u003cbr\\u003eLife Expectancy (Years)=%{y}\\u003cbr\\u003eYear=%{customdata[1]}\\u003cextra\\u003e\\u003c\\u002fextra\\u003e\",\"legendgroup\":\"Solomon Islands\",\"marker\":{\"color\":\"#ab63fa\",\"symbol\":\"circle\"},\"mode\":\"markers\",\"name\":\"Solomon Islands\",\"showlegend\":true,\"x\":[69.0],\"xaxis\":\"x\",\"y\":[69.685],\"yaxis\":\"y\",\"type\":\"scattergl\"},{\"customdata\":[[\"Aruba\",2000],[\"Aruba\",2010],[\"Aruba\",2020]],\"hovertemplate\":\"Country Name=%{customdata[0]}\\u003cbr\\u003eLiteracy Rate (%)=%{x}\\u003cbr\\u003eLife Expectancy (Years)=%{y}\\u003cbr\\u003eYear=%{customdata[1]}\\u003cextra\\u003e\\u003c\\u002fextra\\u003e\",\"legendgroup\":\"Aruba\",\"marker\":{\"color\":\"#FFA15A\",\"symbol\":\"circle\"},\"mode\":\"markers\",\"name\":\"Aruba\",\"showlegend\":true,\"x\":[97.0,97.0,98.0],\"xaxis\":\"x\",\"y\":[76.477,78.612,78.445],\"yaxis\":\"y\",\"type\":\"scattergl\"},{\"customdata\":[[\"Equatorial Guinea\",2000],[\"Equatorial Guinea\",2010]],\"hovertemplate\":\"Country Name=%{customdata[0]}\\u003cbr\\u003eLiteracy Rate (%)=%{x}\\u003cbr\\u003eLife Expectancy (Years)=%{y}\\u003cbr\\u003eYear=%{customdata[1]}\\u003cextra\\u003e\\u003c\\u002fextra\\u003e\",\"legendgroup\":\"Equatorial Guinea\",\"marker\":{\"color\":\"#19d3f3\",\"symbol\":\"circle\"},\"mode\":\"markers\",\"name\":\"Equatorial Guinea\",\"showlegend\":true,\"x\":[82.0,90.6760787963867],\"xaxis\":\"x\",\"y\":[54.936,59.583],\"yaxis\":\"y\",\"type\":\"scattergl\"},{\"customdata\":[[\"Gambia, The\",2000],[\"Gambia, The\",2013],[\"Gambia, The\",2015],[\"Gambia, The\",2018],[\"Gambia, The\",2021],[\"Gambia, The\",2022]],\"hovertemplate\":\"Country Name=%{customdata[0]}\\u003cbr\\u003eLiteracy Rate (%)=%{x}\\u003cbr\\u003eLife Expectancy (Years)=%{y}\\u003cbr\\u003eYear=%{customdata[1]}\\u003cextra\\u003e\\u003c\\u002fextra\\u003e\",\"legendgroup\":\"Gambia, The\",\"marker\":{\"color\":\"#FF6692\",\"symbol\":\"circle\"},\"mode\":\"markers\",\"name\":\"Gambia, The\",\"showlegend\":true,\"x\":[25.0,33.5753517150879,42.0,43.3483581542969,40.4522895812988,52.25],\"xaxis\":\"x\",\"y\":[59.017,63.082,63.583,64.251,63.529,64.344],\"yaxis\":\"y\",\"type\":\"scattergl\"},{\"customdata\":[[\"Ghana\",2000],[\"Ghana\",2010],[\"Ghana\",2017],[\"Ghana\",2020]],\"hovertemplate\":\"Country Name=%{customdata[0]}\\u003cbr\\u003eLiteracy Rate (%)=%{x}\\u003cbr\\u003eLife Expectancy (Years)=%{y}\\u003cbr\\u003eYear=%{customdata[1]}\\u003cextra\\u003e\\u003c\\u002fextra\\u003e\",\"legendgroup\":\"Ghana\",\"marker\":{\"color\":\"#B6E880\",\"symbol\":\"circle\"},\"mode\":\"markers\",\"name\":\"Ghana\",\"showlegend\":true,\"x\":[50.0,65.0,56.0202102661133,76.1900024414062],\"xaxis\":\"x\",\"y\":[59.289,62.485,65.922,66.385],\"yaxis\":\"y\",\"type\":\"scattergl\"},{\"customdata\":[[\"Iraq\",2000],[\"Iraq\",2012],[\"Iraq\",2014],[\"Iraq\",2016],[\"Iraq\",2017],[\"Iraq\",2018]],\"hovertemplate\":\"Country Name=%{customdata[0]}\\u003cbr\\u003eLiteracy Rate (%)=%{x}\\u003cbr\\u003eLife Expectancy (Years)=%{y}\\u003cbr\\u003eYear=%{customdata[1]}\\u003cextra\\u003e\\u003c\\u002fextra\\u003e\",\"legendgroup\":\"Iraq\",\"marker\":{\"color\":\"#FF97FF\",\"symbol\":\"circle\"},\"mode\":\"markers\",\"name\":\"Iraq\",\"showlegend\":true,\"x\":[64.0,69.0,75.0,77.0,80.0,76.2786636352539],\"xaxis\":\"x\",\"y\":[69.849,70.518,71.175,72.38,73.235,73.293],\"yaxis\":\"y\",\"type\":\"scattergl\"},{\"customdata\":[[\"Kenya\",2000],[\"Kenya\",2007],[\"Kenya\",2014],[\"Kenya\",2022]],\"hovertemplate\":\"Country Name=%{customdata[0]}\\u003cbr\\u003eLiteracy Rate (%)=%{x}\\u003cbr\\u003eLife Expectancy (Years)=%{y}\\u003cbr\\u003eYear=%{customdata[1]}\\u003cextra\\u003e\\u003c\\u002fextra\\u003e\",\"legendgroup\":\"Kenya\",\"marker\":{\"color\":\"#FECB52\",\"symbol\":\"circle\"},\"mode\":\"markers\",\"name\":\"Kenya\",\"showlegend\":true,\"x\":[78.0,66.8631210327148,74.0063171386719,80.2699966430664],\"xaxis\":\"x\",\"y\":[55.597,60.211,63.979,64.686],\"yaxis\":\"y\",\"type\":\"scattergl\"},{\"customdata\":[[\"Lesotho\",2000],[\"Lesotho\",2009],[\"Lesotho\",2014],[\"Lesotho\",2018],[\"Lesotho\",2022]],\"hovertemplate\":\"Country Name=%{customdata[0]}\\u003cbr\\u003eLiteracy Rate (%)=%{x}\\u003cbr\\u003eLife Expectancy (Years)=%{y}\\u003cbr\\u003eYear=%{customdata[1]}\\u003cextra\\u003e\\u003c\\u002fextra\\u003e\",\"legendgroup\":\"Lesotho\",\"marker\":{\"color\":\"#636efa\",\"symbol\":\"circle\"},\"mode\":\"markers\",\"name\":\"Lesotho\",\"showlegend\":true,\"x\":[92.0,84.9639587402344,84.9348907470703,91.7942276000977,89.7600021362305],\"xaxis\":\"x\",\"y\":[50.916,46.107,52.807,56.591,55.923],\"yaxis\":\"y\",\"type\":\"scattergl\"},{\"customdata\":[[\"Madagascar\",2000],[\"Madagascar\",2005],[\"Madagascar\",2009],[\"Madagascar\",2012],[\"Madagascar\",2018],[\"Madagascar\",2021],[\"Madagascar\",2022]],\"hovertemplate\":\"Country Name=%{customdata[0]}\\u003cbr\\u003eLiteracy Rate (%)=%{x}\\u003cbr\\u003eLife Expectancy (Years)=%{y}\\u003cbr\\u003eYear=%{customdata[1]}\\u003cextra\\u003e\\u003c\\u002fextra\\u003e\",\"legendgroup\":\"Madagascar\",\"marker\":{\"color\":\"#EF553B\",\"symbol\":\"circle\"},\"mode\":\"markers\",\"name\":\"Madagascar\",\"showlegend\":true,\"x\":[65.0,55.0,61.6414108276367,68.0,75.0,71.7537612915039,76.0299987792969],\"xaxis\":\"x\",\"y\":[58.919,61.884,64.416,65.476,67.432,66.87,67.617],\"yaxis\":\"y\",\"type\":\"scattergl\"},{\"customdata\":[[\"Mauritania\",2000],[\"Mauritania\",2007],[\"Mauritania\",2013],[\"Mauritania\",2015],[\"Mauritania\",2020],[\"Mauritania\",2021]],\"hovertemplate\":\"Country Name=%{customdata[0]}\\u003cbr\\u003eLiteracy Rate (%)=%{x}\\u003cbr\\u003eLife Expectancy (Years)=%{y}\\u003cbr\\u003eYear=%{customdata[1]}\\u003cextra\\u003e\\u003c\\u002fextra\\u003e\",\"legendgroup\":\"Mauritania\",\"marker\":{\"color\":\"#00cc96\",\"symbol\":\"circle\"},\"mode\":\"markers\",\"name\":\"Mauritania\",\"showlegend\":true,\"x\":[43.0,35.3484306335449,57.0,57.4347305297852,51.8120994567871,62.1699981689453],\"xaxis\":\"x\",\"y\":[62.608,63.942,65.682,66.276,66.335,66.098],\"yaxis\":\"y\",\"type\":\"scattergl\"},{\"customdata\":[[\"Mongolia\",2000],[\"Mongolia\",2010],[\"Mongolia\",2018],[\"Mongolia\",2020]],\"hovertemplate\":\"Country Name=%{customdata[0]}\\u003cbr\\u003eLiteracy Rate (%)=%{x}\\u003cbr\\u003eLife Expectancy (Years)=%{y}\\u003cbr\\u003eYear=%{customdata[1]}\\u003cextra\\u003e\\u003c\\u002fextra\\u003e\",\"legendgroup\":\"Mongolia\",\"marker\":{\"color\":\"#ab63fa\",\"symbol\":\"circle\"},\"mode\":\"markers\",\"name\":\"Mongolia\",\"showlegend\":true,\"x\":[98.0,98.0,97.9979705810547,99.0],\"xaxis\":\"x\",\"y\":[65.86,71.843,75.829,77.02],\"yaxis\":\"y\",\"type\":\"scattergl\"},{\"customdata\":[[\"Papua New Guinea\",2000],[\"Papua New Guinea\",2010],[\"Papua New Guinea\",2017]],\"hovertemplate\":\"Country Name=%{customdata[0]}\\u003cbr\\u003eLiteracy Rate (%)=%{x}\\u003cbr\\u003eLife Expectancy (Years)=%{y}\\u003cbr\\u003eYear=%{customdata[1]}\\u003cextra\\u003e\\u003c\\u002fextra\\u003e\",\"legendgroup\":\"Papua New Guinea\",\"marker\":{\"color\":\"#FFA15A\",\"symbol\":\"circle\"},\"mode\":\"markers\",\"name\":\"Papua New Guinea\",\"showlegend\":true,\"x\":[51.0,57.9000015258789,61.5507888793945],\"xaxis\":\"x\",\"y\":[63.785,65.268,68.078],\"yaxis\":\"y\",\"type\":\"scattergl\"},{\"customdata\":[[\"Sudan\",2000],[\"Sudan\",2008],[\"Sudan\",2018]],\"hovertemplate\":\"Country Name=%{customdata[0]}\\u003cbr\\u003eLiteracy Rate (%)=%{x}\\u003cbr\\u003eLife Expectancy (Years)=%{y}\\u003cbr\\u003eYear=%{customdata[1]}\\u003cextra\\u003e\\u003c\\u002fextra\\u003e\",\"legendgroup\":\"Sudan\",\"marker\":{\"color\":\"#19d3f3\",\"symbol\":\"circle\"},\"mode\":\"markers\",\"name\":\"Sudan\",\"showlegend\":true,\"x\":[52.0,47.0,56.0632286071777],\"xaxis\":\"x\",\"y\":[61.271,63.96,68.233],\"yaxis\":\"y\",\"type\":\"scattergl\"},{\"customdata\":[[\"Togo\",2000],[\"Togo\",2006],[\"Togo\",2009],[\"Togo\",2011],[\"Togo\",2015],[\"Togo\",2019]],\"hovertemplate\":\"Country Name=%{customdata[0]}\\u003cbr\\u003eLiteracy Rate (%)=%{x}\\u003cbr\\u003eLife Expectancy (Years)=%{y}\\u003cbr\\u003eYear=%{customdata[1]}\\u003cextra\\u003e\\u003c\\u002fextra\\u003e\",\"legendgroup\":\"Togo\",\"marker\":{\"color\":\"#FF6692\",\"symbol\":\"circle\"},\"mode\":\"markers\",\"name\":\"Togo\",\"showlegend\":true,\"x\":[38.0,44.0,44.0,48.0,51.0,55.0],\"xaxis\":\"x\",\"y\":[55.811,56.568,57.304,57.986,59.6,61.443],\"yaxis\":\"y\",\"type\":\"scattergl\"},{\"customdata\":[[\"Uzbekistan\",2000],[\"Uzbekistan\",2013],[\"Uzbekistan\",2014],[\"Uzbekistan\",2015],[\"Uzbekistan\",2016],[\"Uzbekistan\",2018],[\"Uzbekistan\",2019],[\"Uzbekistan\",2021],[\"Uzbekistan\",2022]],\"hovertemplate\":\"Country Name=%{customdata[0]}\\u003cbr\\u003eLiteracy Rate (%)=%{x}\\u003cbr\\u003eLife Expectancy (Years)=%{y}\\u003cbr\\u003eYear=%{customdata[1]}\\u003cextra\\u003e\\u003c\\u002fextra\\u003e\",\"legendgroup\":\"Uzbekistan\",\"marker\":{\"color\":\"#B6E880\",\"symbol\":\"circle\"},\"mode\":\"markers\",\"name\":\"Uzbekistan\",\"showlegend\":true,\"x\":[98.0,100.0,100.0,100.0,100.0,100.0,100.0,100.0,100.0],\"xaxis\":\"x\",\"y\":[68.76,72.841,73.13,73.324,73.505,73.815,73.883,73.39,74.293],\"yaxis\":\"y\",\"type\":\"scattergl\"},{\"customdata\":[[\"Albania\",2001],[\"Albania\",2008],[\"Albania\",2011],[\"Albania\",2012],[\"Albania\",2017],[\"Albania\",2022]],\"hovertemplate\":\"Country Name=%{customdata[0]}\\u003cbr\\u003eLiteracy Rate (%)=%{x}\\u003cbr\\u003eLife Expectancy (Years)=%{y}\\u003cbr\\u003eYear=%{customdata[1]}\\u003cextra\\u003e\\u003c\\u002fextra\\u003e\",\"legendgroup\":\"Albania\",\"marker\":{\"color\":\"#FF97FF\",\"symbol\":\"circle\"},\"mode\":\"markers\",\"name\":\"Albania\",\"showlegend\":true,\"x\":[98.0,95.0,96.0,96.0,99.0490417480469,98.3000030517578],\"xaxis\":\"x\",\"y\":[78.618,80.429,80.798,80.703,81.504,79.472],\"yaxis\":\"y\",\"type\":\"scattergl\"},{\"customdata\":[[\"Angola\",2001],[\"Angola\",2014],[\"Angola\",2015],[\"Angola\",2022]],\"hovertemplate\":\"Country Name=%{customdata[0]}\\u003cbr\\u003eLiteracy Rate (%)=%{x}\\u003cbr\\u003eLife Expectancy (Years)=%{y}\\u003cbr\\u003eYear=%{customdata[1]}\\u003cextra\\u003e\\u003c\\u002fextra\\u003e\",\"legendgroup\":\"Angola\",\"marker\":{\"color\":\"#FECB52\",\"symbol\":\"circle\"},\"mode\":\"markers\",\"name\":\"Angola\",\"showlegend\":true,\"x\":[54.0,53.0,51.9259796142578,62.5],\"xaxis\":\"x\",\"y\":[49.606,62.472,63.094,64.541],\"yaxis\":\"y\",\"type\":\"scattergl\"},{\"customdata\":[[\"Antigua and Barbuda\",2001]],\"hovertemplate\":\"Country Name=%{customdata[0]}\\u003cbr\\u003eLiteracy Rate (%)=%{x}\\u003cbr\\u003eLife Expectancy (Years)=%{y}\\u003cbr\\u003eYear=%{customdata[1]}\\u003cextra\\u003e\\u003c\\u002fextra\\u003e\",\"legendgroup\":\"Antigua and Barbuda\",\"marker\":{\"color\":\"#636efa\",\"symbol\":\"circle\"},\"mode\":\"markers\",\"name\":\"Antigua and Barbuda\",\"showlegend\":true,\"x\":[99.0],\"xaxis\":\"x\",\"y\":[78.136],\"yaxis\":\"y\",\"type\":\"scattergl\"},{\"customdata\":[[\"Bulgaria\",2001],[\"Bulgaria\",2011],[\"Bulgaria\",2021]],\"hovertemplate\":\"Country Name=%{customdata[0]}\\u003cbr\\u003eLiteracy Rate (%)=%{x}\\u003cbr\\u003eLife Expectancy (Years)=%{y}\\u003cbr\\u003eYear=%{customdata[1]}\\u003cextra\\u003e\\u003c\\u002fextra\\u003e\",\"legendgroup\":\"Bulgaria\",\"marker\":{\"color\":\"#EF553B\",\"symbol\":\"circle\"},\"mode\":\"markers\",\"name\":\"Bulgaria\",\"showlegend\":true,\"x\":[98.0,98.0,98.1699981689453],\"xaxis\":\"x\",\"y\":[75.2,77.8,75.1],\"yaxis\":\"y\",\"type\":\"scattergl\"},{\"customdata\":[[\"Congo, Dem. Rep.\",2001],[\"Congo, Dem. Rep.\",2007],[\"Congo, Dem. Rep.\",2012],[\"Congo, Dem. Rep.\",2016],[\"Congo, Dem. Rep.\",2018],[\"Congo, Dem. Rep.\",2022]],\"hovertemplate\":\"Country Name=%{customdata[0]}\\u003cbr\\u003eLiteracy Rate (%)=%{x}\\u003cbr\\u003eLife Expectancy (Years)=%{y}\\u003cbr\\u003eYear=%{customdata[1]}\\u003cextra\\u003e\\u003c\\u002fextra\\u003e\",\"legendgroup\":\"Congo, Dem. Rep.\",\"marker\":{\"color\":\"#00cc96\",\"symbol\":\"circle\"},\"mode\":\"markers\",\"name\":\"Congo, Dem. Rep.\",\"showlegend\":true,\"x\":[54.0,46.1042518615723,63.0,66.0,61.600341796875,71.7300033569336],\"xaxis\":\"x\",\"y\":[54.055,56.352,58.81,60.904,61.767,62.05],\"yaxis\":\"y\",\"type\":\"scattergl\"},{\"customdata\":[[\"Honduras\",2001],[\"Honduras\",2007],[\"Honduras\",2010],[\"Honduras\",2011],[\"Honduras\",2012],[\"Honduras\",2013],[\"Honduras\",2014],[\"Honduras\",2015],[\"Honduras\",2016],[\"Honduras\",2018],[\"Honduras\",2019]],\"hovertemplate\":\"Country Name=%{customdata[0]}\\u003cbr\\u003eLiteracy Rate (%)=%{x}\\u003cbr\\u003eLife Expectancy (Years)=%{y}\\u003cbr\\u003eYear=%{customdata[1]}\\u003cextra\\u003e\\u003c\\u002fextra\\u003e\",\"legendgroup\":\"Honduras\",\"marker\":{\"color\":\"#ab63fa\",\"symbol\":\"circle\"},\"mode\":\"markers\",\"name\":\"Honduras\",\"showlegend\":true,\"x\":[80.0,83.0,85.0,85.0,85.0,85.0,87.0,88.0,89.0,87.0,89.0],\"xaxis\":\"x\",\"y\":[71.284,72.368,73.278,73.776,74.169,74.497,74.632,74.991,75.078,75.318,75.37],\"yaxis\":\"y\",\"type\":\"scattergl\"},{\"customdata\":[[\"Nicaragua\",2001],[\"Nicaragua\",2005],[\"Nicaragua\",2015]],\"hovertemplate\":\"Country Name=%{customdata[0]}\\u003cbr\\u003eLiteracy Rate (%)=%{x}\\u003cbr\\u003eLife Expectancy (Years)=%{y}\\u003cbr\\u003eYear=%{customdata[1]}\\u003cextra\\u003e\\u003c\\u002fextra\\u003e\",\"legendgroup\":\"Nicaragua\",\"marker\":{\"color\":\"#FFA15A\",\"symbol\":\"circle\"},\"mode\":\"markers\",\"name\":\"Nicaragua\",\"showlegend\":true,\"x\":[77.0,78.0,82.7793502807617],\"xaxis\":\"x\",\"y\":[70.163,70.937,75.925],\"yaxis\":\"y\",\"type\":\"scattergl\"},{\"customdata\":[[\"Niger\",2001],[\"Niger\",2005],[\"Niger\",2012],[\"Niger\",2022]],\"hovertemplate\":\"Country Name=%{customdata[0]}\\u003cbr\\u003eLiteracy Rate (%)=%{x}\\u003cbr\\u003eLife Expectancy (Years)=%{y}\\u003cbr\\u003eYear=%{customdata[1]}\\u003cextra\\u003e\\u003c\\u002fextra\\u003e\",\"legendgroup\":\"Niger\",\"marker\":{\"color\":\"#19d3f3\",\"symbol\":\"circle\"},\"mode\":\"markers\",\"name\":\"Niger\",\"showlegend\":true,\"x\":[9.0,15.0,23.0,29.7000007629395],\"xaxis\":\"x\",\"y\":[50.197,54.042,60.252,63.401],\"yaxis\":\"y\",\"type\":\"scattergl\"},{\"customdata\":[[\"Timor-Leste\",2001],[\"Timor-Leste\",2007],[\"Timor-Leste\",2010],[\"Timor-Leste\",2016],[\"Timor-Leste\",2020]],\"hovertemplate\":\"Country Name=%{customdata[0]}\\u003cbr\\u003eLiteracy Rate (%)=%{x}\\u003cbr\\u003eLife Expectancy (Years)=%{y}\\u003cbr\\u003eYear=%{customdata[1]}\\u003cextra\\u003e\\u003c\\u002fextra\\u003e\",\"legendgroup\":\"Timor-Leste\",\"marker\":{\"color\":\"#FF6692\",\"symbol\":\"circle\"},\"mode\":\"markers\",\"name\":\"Timor-Leste\",\"showlegend\":true,\"x\":[30.0,43.0,53.0,59.6047592163086,66.5],\"xaxis\":\"x\",\"y\":[60.978,65.402,66.989,69.167,70.279],\"yaxis\":\"y\",\"type\":\"scattergl\"},{\"customdata\":[[\"Ukraine\",2001],[\"Ukraine\",2012],[\"Ukraine\",2021]],\"hovertemplate\":\"Country Name=%{customdata[0]}\\u003cbr\\u003eLiteracy Rate (%)=%{x}\\u003cbr\\u003eLife Expectancy (Years)=%{y}\\u003cbr\\u003eYear=%{customdata[1]}\\u003cextra\\u003e\\u003c\\u002fextra\\u003e\",\"legendgroup\":\"Ukraine\",\"marker\":{\"color\":\"#B6E880\",\"symbol\":\"circle\"},\"mode\":\"markers\",\"name\":\"Ukraine\",\"showlegend\":true,\"x\":[99.0,99.9581985473633,100.0],\"xaxis\":\"x\",\"y\":[73.63,76.02,74.36],\"yaxis\":\"y\",\"type\":\"scattergl\"},{\"customdata\":[[\"Cuba\",2002],[\"Cuba\",2012],[\"Cuba\",2019],[\"Cuba\",2021]],\"hovertemplate\":\"Country Name=%{customdata[0]}\\u003cbr\\u003eLiteracy Rate (%)=%{x}\\u003cbr\\u003eLife Expectancy (Years)=%{y}\\u003cbr\\u003eYear=%{customdata[1]}\\u003cextra\\u003e\\u003c\\u002fextra\\u003e\",\"legendgroup\":\"Cuba\",\"marker\":{\"color\":\"#FF97FF\",\"symbol\":\"circle\"},\"mode\":\"markers\",\"name\":\"Cuba\",\"showlegend\":true,\"x\":[100.0,100.0,96.3534317016602,99.7171478271484],\"xaxis\":\"x\",\"y\":[79.022,80.122,80.075,76.359],\"yaxis\":\"y\",\"type\":\"scattergl\"},{\"customdata\":[[\"Eritrea\",2002],[\"Eritrea\",2008],[\"Eritrea\",2018]],\"hovertemplate\":\"Country Name=%{customdata[0]}\\u003cbr\\u003eLiteracy Rate (%)=%{x}\\u003cbr\\u003eLife Expectancy (Years)=%{y}\\u003cbr\\u003eYear=%{customdata[1]}\\u003cextra\\u003e\\u003c\\u002fextra\\u003e\",\"legendgroup\":\"Eritrea\",\"marker\":{\"color\":\"#FECB52\",\"symbol\":\"circle\"},\"mode\":\"markers\",\"name\":\"Eritrea\",\"showlegend\":true,\"x\":[40.0,55.0,68.9461898803711],\"xaxis\":\"x\",\"y\":[60.449,64.188,69.115],\"yaxis\":\"y\",\"type\":\"scattergl\"},{\"customdata\":[[\"Georgia\",2002],[\"Georgia\",2014],[\"Georgia\",2017],[\"Georgia\",2018],[\"Georgia\",2022]],\"hovertemplate\":\"Country Name=%{customdata[0]}\\u003cbr\\u003eLiteracy Rate (%)=%{x}\\u003cbr\\u003eLife Expectancy (Years)=%{y}\\u003cbr\\u003eYear=%{customdata[1]}\\u003cextra\\u003e\\u003c\\u002fextra\\u003e\",\"legendgroup\":\"Georgia\",\"marker\":{\"color\":\"#636efa\",\"symbol\":\"circle\"},\"mode\":\"markers\",\"name\":\"Georgia\",\"showlegend\":true,\"x\":[100.0,100.0,99.0,99.6481781005859,100.0],\"xaxis\":\"x\",\"y\":[74.339,77.934,78.224,78.153,76.461],\"yaxis\":\"y\",\"type\":\"scattergl\"},{\"customdata\":[[\"Oman\",2003],[\"Oman\",2008],[\"Oman\",2010],[\"Oman\",2015],[\"Oman\",2017],[\"Oman\",2018],[\"Oman\",2022]],\"hovertemplate\":\"Country Name=%{customdata[0]}\\u003cbr\\u003eLiteracy Rate (%)=%{x}\\u003cbr\\u003eLife Expectancy (Years)=%{y}\\u003cbr\\u003eYear=%{customdata[1]}\\u003cextra\\u003e\\u003c\\u002fextra\\u003e\",\"legendgroup\":\"Oman\",\"marker\":{\"color\":\"#EF553B\",\"symbol\":\"circle\"},\"mode\":\"markers\",\"name\":\"Oman\",\"showlegend\":true,\"x\":[74.0,81.0,82.0,86.0,92.0,93.0,95.0],\"xaxis\":\"x\",\"y\":[77.238,77.736,78.498,79.543,79.839,79.898,76.046],\"yaxis\":\"y\",\"type\":\"scattergl\"},{\"customdata\":[[\"Serbia\",2003],[\"Serbia\",2011],[\"Serbia\",2016],[\"Serbia\",2019]],\"hovertemplate\":\"Country Name=%{customdata[0]}\\u003cbr\\u003eLiteracy Rate (%)=%{x}\\u003cbr\\u003eLife Expectancy (Years)=%{y}\\u003cbr\\u003eYear=%{customdata[1]}\\u003cextra\\u003e\\u003c\\u002fextra\\u003e\",\"legendgroup\":\"Serbia\",\"marker\":{\"color\":\"#00cc96\",\"symbol\":\"circle\"},\"mode\":\"markers\",\"name\":\"Serbia\",\"showlegend\":true,\"x\":[94.0,97.0,98.0,99.0],\"xaxis\":\"x\",\"y\":[75.1,77.2,78.3,78.6],\"yaxis\":\"y\",\"type\":\"scattergl\"},{\"customdata\":[[\"Sierra Leone\",2004],[\"Sierra Leone\",2013],[\"Sierra Leone\",2017],[\"Sierra Leone\",2019],[\"Sierra Leone\",2022]],\"hovertemplate\":\"Country Name=%{customdata[0]}\\u003cbr\\u003eLiteracy Rate (%)=%{x}\\u003cbr\\u003eLife Expectancy (Years)=%{y}\\u003cbr\\u003eYear=%{customdata[1]}\\u003cextra\\u003e\\u003c\\u002fextra\\u003e\",\"legendgroup\":\"Sierra Leone\",\"marker\":{\"color\":\"#ab63fa\",\"symbol\":\"circle\"},\"mode\":\"markers\",\"name\":\"Sierra Leone\",\"showlegend\":true,\"x\":[24.0,24.8566799163818,36.2379913330078,33.942211151123,41.310001373291],\"xaxis\":\"x\",\"y\":[48.235,57.26,59.794,61.554,61.693],\"yaxis\":\"y\",\"type\":\"scattergl\"},{\"customdata\":[[\"Suriname\",2004],[\"Suriname\",2008],[\"Suriname\",2010],[\"Suriname\",2012],[\"Suriname\",2021]],\"hovertemplate\":\"Country Name=%{customdata[0]}\\u003cbr\\u003eLiteracy Rate (%)=%{x}\\u003cbr\\u003eLife Expectancy (Years)=%{y}\\u003cbr\\u003eYear=%{customdata[1]}\\u003cextra\\u003e\\u003c\\u002fextra\\u003e\",\"legendgroup\":\"Suriname\",\"marker\":{\"color\":\"#FFA15A\",\"symbol\":\"circle\"},\"mode\":\"markers\",\"name\":\"Suriname\",\"showlegend\":true,\"x\":[87.0,94.0,94.0,91.0,93.4000015258789],\"xaxis\":\"x\",\"y\":[69.832,72.271,73.587,73.346,73.551],\"yaxis\":\"y\",\"type\":\"scattergl\"},{\"customdata\":[[\"Bhutan\",2005],[\"Bhutan\",2012],[\"Bhutan\",2017],[\"Bhutan\",2022]],\"hovertemplate\":\"Country Name=%{customdata[0]}\\u003cbr\\u003eLiteracy Rate (%)=%{x}\\u003cbr\\u003eLife Expectancy (Years)=%{y}\\u003cbr\\u003eYear=%{customdata[1]}\\u003cextra\\u003e\\u003c\\u002fextra\\u003e\",\"legendgroup\":\"Bhutan\",\"marker\":{\"color\":\"#19d3f3\",\"symbol\":\"circle\"},\"mode\":\"markers\",\"name\":\"Bhutan\",\"showlegend\":true,\"x\":[39.0,45.0,57.0,63.9000015258789],\"xaxis\":\"x\",\"y\":[67.463,71.091,72.576,74.152],\"yaxis\":\"y\",\"type\":\"scattergl\"},{\"customdata\":[[\"Lebanon\",2007],[\"Lebanon\",2009],[\"Lebanon\",2018]],\"hovertemplate\":\"Country Name=%{customdata[0]}\\u003cbr\\u003eLiteracy Rate (%)=%{x}\\u003cbr\\u003eLife Expectancy (Years)=%{y}\\u003cbr\\u003eYear=%{customdata[1]}\\u003cextra\\u003e\\u003c\\u002fextra\\u003e\",\"legendgroup\":\"Lebanon\",\"marker\":{\"color\":\"#FF6692\",\"symbol\":\"circle\"},\"mode\":\"markers\",\"name\":\"Lebanon\",\"showlegend\":true,\"x\":[86.0,88.0,90.0],\"xaxis\":\"x\",\"y\":[79.242,79.701,81.455],\"yaxis\":\"y\",\"type\":\"scattergl\"},{\"customdata\":[[\"Korea, Dem. People's Rep.\",2008],[\"Korea, Dem. People's Rep.\",2018]],\"hovertemplate\":\"Country Name=%{customdata[0]}\\u003cbr\\u003eLiteracy Rate (%)=%{x}\\u003cbr\\u003eLife Expectancy (Years)=%{y}\\u003cbr\\u003eYear=%{customdata[1]}\\u003cextra\\u003e\\u003c\\u002fextra\\u003e\",\"legendgroup\":\"Korea, Dem. People's Rep.\",\"marker\":{\"color\":\"#B6E880\",\"symbol\":\"circle\"},\"mode\":\"markers\",\"name\":\"Korea, Dem. People's Rep.\",\"showlegend\":true,\"x\":[100.0,99.9976119995117],\"xaxis\":\"x\",\"y\":[72.252,75.632],\"yaxis\":\"y\",\"type\":\"scattergl\"},{\"customdata\":[[\"Korea, Rep.\",2008],[\"Korea, Rep.\",2018]],\"hovertemplate\":\"Country Name=%{customdata[0]}\\u003cbr\\u003eLiteracy Rate (%)=%{x}\\u003cbr\\u003eLife Expectancy (Years)=%{y}\\u003cbr\\u003eYear=%{customdata[1]}\\u003cextra\\u003e\\u003c\\u002fextra\\u003e\",\"legendgroup\":\"Korea, Rep.\",\"marker\":{\"color\":\"#FF97FF\",\"symbol\":\"circle\"},\"mode\":\"markers\",\"name\":\"Korea, Rep.\",\"showlegend\":true,\"x\":[98.0,98.4000015258789],\"xaxis\":\"x\",\"y\":[83.0,85.7],\"yaxis\":\"y\",\"type\":\"scattergl\"},{\"customdata\":[[\"South Sudan\",2008],[\"South Sudan\",2018]],\"hovertemplate\":\"Country Name=%{customdata[0]}\\u003cbr\\u003eLiteracy Rate (%)=%{x}\\u003cbr\\u003eLife Expectancy (Years)=%{y}\\u003cbr\\u003eYear=%{customdata[1]}\\u003cextra\\u003e\\u003c\\u002fextra\\u003e\",\"legendgroup\":\"South Sudan\",\"marker\":{\"color\":\"#FECB52\",\"symbol\":\"circle\"},\"mode\":\"markers\",\"name\":\"South Sudan\",\"showlegend\":true,\"x\":[19.0,28.8642597198486],\"xaxis\":\"x\",\"y\":[54.523,57.35],\"yaxis\":\"y\",\"type\":\"scattergl\"},{\"customdata\":[[\"Guyana\",2009],[\"Guyana\",2014],[\"Guyana\",2020],[\"Guyana\",2022]],\"hovertemplate\":\"Country Name=%{customdata[0]}\\u003cbr\\u003eLiteracy Rate (%)=%{x}\\u003cbr\\u003eLife Expectancy (Years)=%{y}\\u003cbr\\u003eYear=%{customdata[1]}\\u003cextra\\u003e\\u003c\\u002fextra\\u003e\",\"legendgroup\":\"Guyana\",\"marker\":{\"color\":\"#636efa\",\"symbol\":\"circle\"},\"mode\":\"markers\",\"name\":\"Guyana\",\"showlegend\":true,\"x\":[87.2519836425781,85.0346069335938,86.8998336791992,89.6600036621094],\"xaxis\":\"x\",\"y\":[70.022,71.316,72.118,69.399],\"yaxis\":\"y\",\"type\":\"scattergl\"},{\"customdata\":[[\"Marshall Islands\",2011]],\"hovertemplate\":\"Country Name=%{customdata[0]}\\u003cbr\\u003eLiteracy Rate (%)=%{x}\\u003cbr\\u003eLife Expectancy (Years)=%{y}\\u003cbr\\u003eYear=%{customdata[1]}\\u003cextra\\u003e\\u003c\\u002fextra\\u003e\",\"legendgroup\":\"Marshall Islands\",\"marker\":{\"color\":\"#EF553B\",\"symbol\":\"circle\"},\"mode\":\"markers\",\"name\":\"Marshall Islands\",\"showlegend\":true,\"x\":[98.0],\"xaxis\":\"x\",\"y\":[65.178],\"yaxis\":\"y\",\"type\":\"scattergl\"},{\"customdata\":[[\"Kiribati\",2018]],\"hovertemplate\":\"Country Name=%{customdata[0]}\\u003cbr\\u003eLiteracy Rate (%)=%{x}\\u003cbr\\u003eLife Expectancy (Years)=%{y}\\u003cbr\\u003eYear=%{customdata[1]}\\u003cextra\\u003e\\u003c\\u002fextra\\u003e\",\"legendgroup\":\"Kiribati\",\"marker\":{\"color\":\"#00cc96\",\"symbol\":\"circle\"},\"mode\":\"markers\",\"name\":\"Kiribati\",\"showlegend\":true,\"x\":[98.6115112304688],\"xaxis\":\"x\",\"y\":[68.521],\"yaxis\":\"y\",\"type\":\"scattergl\"},{\"customdata\":[[\"Fiji\",2021]],\"hovertemplate\":\"Country Name=%{customdata[0]}\\u003cbr\\u003eLiteracy Rate (%)=%{x}\\u003cbr\\u003eLife Expectancy (Years)=%{y}\\u003cbr\\u003eYear=%{customdata[1]}\\u003cextra\\u003e\\u003c\\u002fextra\\u003e\",\"legendgroup\":\"Fiji\",\"marker\":{\"color\":\"#ab63fa\",\"symbol\":\"circle\"},\"mode\":\"markers\",\"name\":\"Fiji\",\"showlegend\":true,\"x\":[92.4281463623047],\"xaxis\":\"x\",\"y\":[68.877],\"yaxis\":\"y\",\"type\":\"scattergl\"},{\"customdata\":[[\"Somalia\",2022]],\"hovertemplate\":\"Country Name=%{customdata[0]}\\u003cbr\\u003eLiteracy Rate (%)=%{x}\\u003cbr\\u003eLife Expectancy (Years)=%{y}\\u003cbr\\u003eYear=%{customdata[1]}\\u003cextra\\u003e\\u003c\\u002fextra\\u003e\",\"legendgroup\":\"Somalia\",\"marker\":{\"color\":\"#FFA15A\",\"symbol\":\"circle\"},\"mode\":\"markers\",\"name\":\"Somalia\",\"showlegend\":true,\"x\":[44.0],\"xaxis\":\"x\",\"y\":[58.233],\"yaxis\":\"y\",\"type\":\"scattergl\"}],                        {\"template\":{\"data\":{\"histogram2dcontour\":[{\"type\":\"histogram2dcontour\",\"colorbar\":{\"outlinewidth\":0,\"ticks\":\"\"},\"colorscale\":[[0.0,\"#0d0887\"],[0.1111111111111111,\"#46039f\"],[0.2222222222222222,\"#7201a8\"],[0.3333333333333333,\"#9c179e\"],[0.4444444444444444,\"#bd3786\"],[0.5555555555555556,\"#d8576b\"],[0.6666666666666666,\"#ed7953\"],[0.7777777777777778,\"#fb9f3a\"],[0.8888888888888888,\"#fdca26\"],[1.0,\"#f0f921\"]]}],\"choropleth\":[{\"type\":\"choropleth\",\"colorbar\":{\"outlinewidth\":0,\"ticks\":\"\"}}],\"histogram2d\":[{\"type\":\"histogram2d\",\"colorbar\":{\"outlinewidth\":0,\"ticks\":\"\"},\"colorscale\":[[0.0,\"#0d0887\"],[0.1111111111111111,\"#46039f\"],[0.2222222222222222,\"#7201a8\"],[0.3333333333333333,\"#9c179e\"],[0.4444444444444444,\"#bd3786\"],[0.5555555555555556,\"#d8576b\"],[0.6666666666666666,\"#ed7953\"],[0.7777777777777778,\"#fb9f3a\"],[0.8888888888888888,\"#fdca26\"],[1.0,\"#f0f921\"]]}],\"heatmap\":[{\"type\":\"heatmap\",\"colorbar\":{\"outlinewidth\":0,\"ticks\":\"\"},\"colorscale\":[[0.0,\"#0d0887\"],[0.1111111111111111,\"#46039f\"],[0.2222222222222222,\"#7201a8\"],[0.3333333333333333,\"#9c179e\"],[0.4444444444444444,\"#bd3786\"],[0.5555555555555556,\"#d8576b\"],[0.6666666666666666,\"#ed7953\"],[0.7777777777777778,\"#fb9f3a\"],[0.8888888888888888,\"#fdca26\"],[1.0,\"#f0f921\"]]}],\"heatmapgl\":[{\"type\":\"heatmapgl\",\"colorbar\":{\"outlinewidth\":0,\"ticks\":\"\"},\"colorscale\":[[0.0,\"#0d0887\"],[0.1111111111111111,\"#46039f\"],[0.2222222222222222,\"#7201a8\"],[0.3333333333333333,\"#9c179e\"],[0.4444444444444444,\"#bd3786\"],[0.5555555555555556,\"#d8576b\"],[0.6666666666666666,\"#ed7953\"],[0.7777777777777778,\"#fb9f3a\"],[0.8888888888888888,\"#fdca26\"],[1.0,\"#f0f921\"]]}],\"contourcarpet\":[{\"type\":\"contourcarpet\",\"colorbar\":{\"outlinewidth\":0,\"ticks\":\"\"}}],\"contour\":[{\"type\":\"contour\",\"colorbar\":{\"outlinewidth\":0,\"ticks\":\"\"},\"colorscale\":[[0.0,\"#0d0887\"],[0.1111111111111111,\"#46039f\"],[0.2222222222222222,\"#7201a8\"],[0.3333333333333333,\"#9c179e\"],[0.4444444444444444,\"#bd3786\"],[0.5555555555555556,\"#d8576b\"],[0.6666666666666666,\"#ed7953\"],[0.7777777777777778,\"#fb9f3a\"],[0.8888888888888888,\"#fdca26\"],[1.0,\"#f0f921\"]]}],\"surface\":[{\"type\":\"surface\",\"colorbar\":{\"outlinewidth\":0,\"ticks\":\"\"},\"colorscale\":[[0.0,\"#0d0887\"],[0.1111111111111111,\"#46039f\"],[0.2222222222222222,\"#7201a8\"],[0.3333333333333333,\"#9c179e\"],[0.4444444444444444,\"#bd3786\"],[0.5555555555555556,\"#d8576b\"],[0.6666666666666666,\"#ed7953\"],[0.7777777777777778,\"#fb9f3a\"],[0.8888888888888888,\"#fdca26\"],[1.0,\"#f0f921\"]]}],\"mesh3d\":[{\"type\":\"mesh3d\",\"colorbar\":{\"outlinewidth\":0,\"ticks\":\"\"}}],\"scatter\":[{\"fillpattern\":{\"fillmode\":\"overlay\",\"size\":10,\"solidity\":0.2},\"type\":\"scatter\"}],\"parcoords\":[{\"type\":\"parcoords\",\"line\":{\"colorbar\":{\"outlinewidth\":0,\"ticks\":\"\"}}}],\"scatterpolargl\":[{\"type\":\"scatterpolargl\",\"marker\":{\"colorbar\":{\"outlinewidth\":0,\"ticks\":\"\"}}}],\"bar\":[{\"error_x\":{\"color\":\"#2a3f5f\"},\"error_y\":{\"color\":\"#2a3f5f\"},\"marker\":{\"line\":{\"color\":\"#E5ECF6\",\"width\":0.5},\"pattern\":{\"fillmode\":\"overlay\",\"size\":10,\"solidity\":0.2}},\"type\":\"bar\"}],\"scattergeo\":[{\"type\":\"scattergeo\",\"marker\":{\"colorbar\":{\"outlinewidth\":0,\"ticks\":\"\"}}}],\"scatterpolar\":[{\"type\":\"scatterpolar\",\"marker\":{\"colorbar\":{\"outlinewidth\":0,\"ticks\":\"\"}}}],\"histogram\":[{\"marker\":{\"pattern\":{\"fillmode\":\"overlay\",\"size\":10,\"solidity\":0.2}},\"type\":\"histogram\"}],\"scattergl\":[{\"type\":\"scattergl\",\"marker\":{\"colorbar\":{\"outlinewidth\":0,\"ticks\":\"\"}}}],\"scatter3d\":[{\"type\":\"scatter3d\",\"line\":{\"colorbar\":{\"outlinewidth\":0,\"ticks\":\"\"}},\"marker\":{\"colorbar\":{\"outlinewidth\":0,\"ticks\":\"\"}}}],\"scattermapbox\":[{\"type\":\"scattermapbox\",\"marker\":{\"colorbar\":{\"outlinewidth\":0,\"ticks\":\"\"}}}],\"scatterternary\":[{\"type\":\"scatterternary\",\"marker\":{\"colorbar\":{\"outlinewidth\":0,\"ticks\":\"\"}}}],\"scattercarpet\":[{\"type\":\"scattercarpet\",\"marker\":{\"colorbar\":{\"outlinewidth\":0,\"ticks\":\"\"}}}],\"carpet\":[{\"aaxis\":{\"endlinecolor\":\"#2a3f5f\",\"gridcolor\":\"white\",\"linecolor\":\"white\",\"minorgridcolor\":\"white\",\"startlinecolor\":\"#2a3f5f\"},\"baxis\":{\"endlinecolor\":\"#2a3f5f\",\"gridcolor\":\"white\",\"linecolor\":\"white\",\"minorgridcolor\":\"white\",\"startlinecolor\":\"#2a3f5f\"},\"type\":\"carpet\"}],\"table\":[{\"cells\":{\"fill\":{\"color\":\"#EBF0F8\"},\"line\":{\"color\":\"white\"}},\"header\":{\"fill\":{\"color\":\"#C8D4E3\"},\"line\":{\"color\":\"white\"}},\"type\":\"table\"}],\"barpolar\":[{\"marker\":{\"line\":{\"color\":\"#E5ECF6\",\"width\":0.5},\"pattern\":{\"fillmode\":\"overlay\",\"size\":10,\"solidity\":0.2}},\"type\":\"barpolar\"}],\"pie\":[{\"automargin\":true,\"type\":\"pie\"}]},\"layout\":{\"autotypenumbers\":\"strict\",\"colorway\":[\"#636efa\",\"#EF553B\",\"#00cc96\",\"#ab63fa\",\"#FFA15A\",\"#19d3f3\",\"#FF6692\",\"#B6E880\",\"#FF97FF\",\"#FECB52\"],\"font\":{\"color\":\"#2a3f5f\"},\"hovermode\":\"closest\",\"hoverlabel\":{\"align\":\"left\"},\"paper_bgcolor\":\"white\",\"plot_bgcolor\":\"#E5ECF6\",\"polar\":{\"bgcolor\":\"#E5ECF6\",\"angularaxis\":{\"gridcolor\":\"white\",\"linecolor\":\"white\",\"ticks\":\"\"},\"radialaxis\":{\"gridcolor\":\"white\",\"linecolor\":\"white\",\"ticks\":\"\"}},\"ternary\":{\"bgcolor\":\"#E5ECF6\",\"aaxis\":{\"gridcolor\":\"white\",\"linecolor\":\"white\",\"ticks\":\"\"},\"baxis\":{\"gridcolor\":\"white\",\"linecolor\":\"white\",\"ticks\":\"\"},\"caxis\":{\"gridcolor\":\"white\",\"linecolor\":\"white\",\"ticks\":\"\"}},\"coloraxis\":{\"colorbar\":{\"outlinewidth\":0,\"ticks\":\"\"}},\"colorscale\":{\"sequential\":[[0.0,\"#0d0887\"],[0.1111111111111111,\"#46039f\"],[0.2222222222222222,\"#7201a8\"],[0.3333333333333333,\"#9c179e\"],[0.4444444444444444,\"#bd3786\"],[0.5555555555555556,\"#d8576b\"],[0.6666666666666666,\"#ed7953\"],[0.7777777777777778,\"#fb9f3a\"],[0.8888888888888888,\"#fdca26\"],[1.0,\"#f0f921\"]],\"sequentialminus\":[[0.0,\"#0d0887\"],[0.1111111111111111,\"#46039f\"],[0.2222222222222222,\"#7201a8\"],[0.3333333333333333,\"#9c179e\"],[0.4444444444444444,\"#bd3786\"],[0.5555555555555556,\"#d8576b\"],[0.6666666666666666,\"#ed7953\"],[0.7777777777777778,\"#fb9f3a\"],[0.8888888888888888,\"#fdca26\"],[1.0,\"#f0f921\"]],\"diverging\":[[0,\"#8e0152\"],[0.1,\"#c51b7d\"],[0.2,\"#de77ae\"],[0.3,\"#f1b6da\"],[0.4,\"#fde0ef\"],[0.5,\"#f7f7f7\"],[0.6,\"#e6f5d0\"],[0.7,\"#b8e186\"],[0.8,\"#7fbc41\"],[0.9,\"#4d9221\"],[1,\"#276419\"]]},\"xaxis\":{\"gridcolor\":\"white\",\"linecolor\":\"white\",\"ticks\":\"\",\"title\":{\"standoff\":15},\"zerolinecolor\":\"white\",\"automargin\":true,\"zerolinewidth\":2},\"yaxis\":{\"gridcolor\":\"white\",\"linecolor\":\"white\",\"ticks\":\"\",\"title\":{\"standoff\":15},\"zerolinecolor\":\"white\",\"automargin\":true,\"zerolinewidth\":2},\"scene\":{\"xaxis\":{\"backgroundcolor\":\"#E5ECF6\",\"gridcolor\":\"white\",\"linecolor\":\"white\",\"showbackground\":true,\"ticks\":\"\",\"zerolinecolor\":\"white\",\"gridwidth\":2},\"yaxis\":{\"backgroundcolor\":\"#E5ECF6\",\"gridcolor\":\"white\",\"linecolor\":\"white\",\"showbackground\":true,\"ticks\":\"\",\"zerolinecolor\":\"white\",\"gridwidth\":2},\"zaxis\":{\"backgroundcolor\":\"#E5ECF6\",\"gridcolor\":\"white\",\"linecolor\":\"white\",\"showbackground\":true,\"ticks\":\"\",\"zerolinecolor\":\"white\",\"gridwidth\":2}},\"shapedefaults\":{\"line\":{\"color\":\"#2a3f5f\"}},\"annotationdefaults\":{\"arrowcolor\":\"#2a3f5f\",\"arrowhead\":0,\"arrowwidth\":1},\"geo\":{\"bgcolor\":\"white\",\"landcolor\":\"#E5ECF6\",\"subunitcolor\":\"white\",\"showland\":true,\"showlakes\":true,\"lakecolor\":\"white\"},\"title\":{\"x\":0.05},\"mapbox\":{\"style\":\"light\"}}},\"xaxis\":{\"anchor\":\"y\",\"domain\":[0.0,1.0],\"title\":{\"text\":\"Literacy Rate (%)\"},\"tickformat\":\".1f\"},\"yaxis\":{\"anchor\":\"x\",\"domain\":[0.0,1.0],\"title\":{\"text\":\"Life Expectancy (Years)\"},\"tickformat\":\".1f\"},\"legend\":{\"title\":{\"text\":\"Country Name\"},\"tracegroupgap\":0},\"title\":{\"text\":\"Literacy Rate vs Life Expectancy (Total)\"}},                        {\"responsive\": true}                    ).then(function(){\n",
       "                            \n",
       "var gd = document.getElementById('b7581f37-d768-4231-93c1-a9de0278486b');\n",
       "var x = new MutationObserver(function (mutations, observer) {{\n",
       "        var display = window.getComputedStyle(gd).display;\n",
       "        if (!display || display === 'none') {{\n",
       "            console.log([gd, 'removed!']);\n",
       "            Plotly.purge(gd);\n",
       "            observer.disconnect();\n",
       "        }}\n",
       "}});\n",
       "\n",
       "// Listen for the removal of the full notebook cells\n",
       "var notebookContainer = gd.closest('#notebook-container');\n",
       "if (notebookContainer) {{\n",
       "    x.observe(notebookContainer, {childList: true});\n",
       "}}\n",
       "\n",
       "// Listen for the clearing of the current output cell\n",
       "var outputEl = gd.closest('.output');\n",
       "if (outputEl) {{\n",
       "    x.observe(outputEl, {childList: true});\n",
       "}}\n",
       "\n",
       "                        })                };                });            </script>        </div>"
      ]
     },
     "metadata": {},
     "output_type": "display_data"
    }
   ],
   "source": [
    "import plotly.express as px\n",
    "\n",
    "fig = px.scatter(\n",
    "    merged_total,\n",
    "    x='Literacy Rate - Total',\n",
    "    y='Life Expectancy - Total',\n",
    "    color='Country Name',\n",
    "    title='Literacy Rate vs Life Expectancy (Total)',\n",
    "    labels={\n",
    "        'Literacy Rate - Total': 'Literacy Rate (%)',\n",
    "        'Life Expectancy - Total': 'Life Expectancy (Years)'\n",
    "    },\n",
    "    hover_data=['Country Name', 'Year']\n",
    ")\n",
    "\n",
    "\n",
    "fig.update_xaxes(title='Literacy Rate (%)', tickformat=\".1f\")\n",
    "fig.update_yaxes(title='Life Expectancy (Years)', tickformat=\".1f\")\n",
    "\n",
    "\n",
    "fig.show()"
   ]
  },
  {
   "cell_type": "markdown",
   "id": "20355984-b023-4579-b79f-e7e33720bce8",
   "metadata": {},
   "source": [
    "### Step 6: Insights from the Scatter Plot\n",
    "\n",
    "From the scatter plot aboveIwe can observe a clear positive correlation between literacy rate and life expectancy. Key insights include:\n",
    "\n",
    "1. **General Trend**:  \n",
    "   - Countries with higher literacy rates tend to have longer life expectancy. This supports the hypothesis that education, as measured by literacy rates, contributes to better health outcomes.\n",
    "\n",
    "2. **Clusters**:  \n",
    "   - Countries with literacy rates below 50% generally have life expectancies between 40 and 60 years.  \n",
    "   - Conversely, countries with literacy rates above 80% often show life expectancies exceeding 70 years, forming a distinct cluster in the top-right of the graph.\n",
    "\n",
    "3. **Outliers**:  \n",
    "   - Some countries deviate from the overall trend. For instance, a few countries with relatively high literacy rates (e.g., above 80%) exhibit unexpectedly low life expectancies. These could be influenced by other factors such as economic disparities, healthcare accessibility, or regional conflicts.\n",
    "\n",
    "4. **Saturation Point**:  \n",
    "   - In the range of literacy rates approaching 100%, the life expectancy increase becomes less steep, suggesting a potential diminishing return effect where additional literacy gains have less impact on life expectancy.\n",
    "\n",
    "This visualization helps highlight the significant role that education plays in shaping health outcomes globally, while also emphasizing the importance of investigating outliers to better understand the exceptions to the trend."
   ]
  },
  {
   "cell_type": "markdown",
   "id": "d614825a-8223-4245-a9fe-f17032328959",
   "metadata": {},
   "source": [
    "## 3. Analysisi-2: Does higher literacy reduce the gender gap in life expectancy?"
   ]
  },
  {
   "cell_type": "markdown",
   "id": "590897d0-7c84-4e41-8d28-11fa33543622",
   "metadata": {},
   "source": [
    "### Step 1: Extracting the Top 10 and Bottom 10 Countries by Literacy Rate\n",
    "To analyze the relationship between literacy rate and gender gap in life expectancy, I start by identifying the top 10 and bottom 10 countries based on their average literacy rates. This categorization helps me compare countries with extreme literacy levels. \n",
    " \n",
    "Top 10 countries:"
   ]
  },
  {
   "cell_type": "code",
   "execution_count": 58,
   "id": "3ca8aef0-c6bb-46c6-b54b-ff90d3aadbb9",
   "metadata": {},
   "outputs": [
    {
     "data": {
      "text/plain": [
       "Index(['Korea, Dem. People's Rep.', 'Estonia', 'Uzbekistan', 'Azerbaijan',\n",
       "       'Georgia', 'Latvia', 'Ukraine', 'Armenia', 'Barbados', 'Lithuania'],\n",
       "      dtype='object', name='Country Name')"
      ]
     },
     "execution_count": 58,
     "metadata": {},
     "output_type": "execute_result"
    }
   ],
   "source": [
    "high_literacy_countries = merged_total.groupby('Country Name')['Literacy Rate - Total'].mean().nlargest(10).index\n",
    "high_literacy_countries"
   ]
  },
  {
   "cell_type": "markdown",
   "id": "df04657c-5ae8-4227-a0d9-7aca3522b9cf",
   "metadata": {},
   "source": [
    "Bottom 10 countries:"
   ]
  },
  {
   "cell_type": "code",
   "execution_count": 59,
   "id": "954d2a77-e091-4bb8-a3d0-e4aab9a5869e",
   "metadata": {},
   "outputs": [
    {
     "data": {
      "text/plain": [
       "Index(['Chad', 'Afghanistan', 'Mali', 'Niger', 'Burkina Faso', 'Guinea',\n",
       "       'Benin', 'Central African Republic', 'South Sudan', 'Yemen, Rep.'],\n",
       "      dtype='object', name='Country Name')"
      ]
     },
     "execution_count": 59,
     "metadata": {},
     "output_type": "execute_result"
    }
   ],
   "source": [
    "low_literacy_countries = merged_total.groupby('Country Name')['Literacy Rate - Total'].mean().nsmallest(10).index\n",
    "\n",
    "low_literacy_countries"
   ]
  },
  {
   "cell_type": "markdown",
   "id": "64fb2e60-62e2-4af8-9236-24ca0b00d817",
   "metadata": {},
   "source": [
    "### Step 2: Preparing the Female Life Expectancy Data\n",
    "\n",
    "To focus on **female life expectancy**, I first inspect the column names in the `life_expectancy_df` dataset to identify those relevant to females."
   ]
  },
  {
   "cell_type": "code",
   "execution_count": 60,
   "id": "d18e988f-1fe2-4f8f-a819-bd73c3364a0c",
   "metadata": {},
   "outputs": [
    {
     "data": {
      "text/plain": [
       "Index(['Country Name', 'Country Code',\n",
       "       '1974 [YR1974] - Life expectancy at birth, female (years) [SP.DYN.LE00.FE.IN]',\n",
       "       '1974 [YR1974] - Life expectancy at birth, total (years) [SP.DYN.LE00.IN]',\n",
       "       '1974 [YR1974] - Life expectancy at birth, male (years) [SP.DYN.LE00.MA.IN]',\n",
       "       '1975 [YR1975] - Life expectancy at birth, female (years) [SP.DYN.LE00.FE.IN]',\n",
       "       '1975 [YR1975] - Life expectancy at birth, total (years) [SP.DYN.LE00.IN]',\n",
       "       '1975 [YR1975] - Life expectancy at birth, male (years) [SP.DYN.LE00.MA.IN]',\n",
       "       '1976 [YR1976] - Life expectancy at birth, female (years) [SP.DYN.LE00.FE.IN]',\n",
       "       '1976 [YR1976] - Life expectancy at birth, total (years) [SP.DYN.LE00.IN]',\n",
       "       ...\n",
       "       '2020 [YR2020] - Life expectancy at birth, male (years) [SP.DYN.LE00.MA.IN]',\n",
       "       '2021 [YR2021] - Life expectancy at birth, female (years) [SP.DYN.LE00.FE.IN]',\n",
       "       '2021 [YR2021] - Life expectancy at birth, total (years) [SP.DYN.LE00.IN]',\n",
       "       '2021 [YR2021] - Life expectancy at birth, male (years) [SP.DYN.LE00.MA.IN]',\n",
       "       '2022 [YR2022] - Life expectancy at birth, female (years) [SP.DYN.LE00.FE.IN]',\n",
       "       '2022 [YR2022] - Life expectancy at birth, total (years) [SP.DYN.LE00.IN]',\n",
       "       '2022 [YR2022] - Life expectancy at birth, male (years) [SP.DYN.LE00.MA.IN]',\n",
       "       '2023 [YR2023] - Life expectancy at birth, female (years) [SP.DYN.LE00.FE.IN]',\n",
       "       '2023 [YR2023] - Life expectancy at birth, total (years) [SP.DYN.LE00.IN]',\n",
       "       '2023 [YR2023] - Life expectancy at birth, male (years) [SP.DYN.LE00.MA.IN]'],\n",
       "      dtype='object', length=152)"
      ]
     },
     "execution_count": 60,
     "metadata": {},
     "output_type": "execute_result"
    }
   ],
   "source": [
    "life_expectancy_df.columns"
   ]
  },
  {
   "cell_type": "markdown",
   "id": "66793e76-db31-4639-b608-524e893d7d9f",
   "metadata": {},
   "source": [
    "By running `life_expectancy_df.columns`, I observe that the female-specific columns include the string **\"life expectancy at birth, female (years)\"**. \n",
    "Using this information, I filter only the columns related to female life expectancy with the following code:"
   ]
  },
  {
   "cell_type": "code",
   "execution_count": 61,
   "id": "49ccc9da-711a-4800-a7a3-088010f16dca",
   "metadata": {},
   "outputs": [],
   "source": [
    "female_columns = [col for col in life_expectancy_df.columns if 'life expectancy at birth, female (years)' in col.lower()]"
   ]
  },
  {
   "cell_type": "markdown",
   "id": "798f13da-2d4e-4298-8156-a19fec92a5d2",
   "metadata": {},
   "source": [
    "Next, I reshape the dataset into a **long format**, where each row represents a specific year. This is achieved using `pandas.melt()`:"
   ]
  },
  {
   "cell_type": "code",
   "execution_count": 62,
   "id": "01ae3bb9-abeb-4027-8da2-19e2b9f03e93",
   "metadata": {},
   "outputs": [],
   "source": [
    "female_life_expectancy_long = life_expectancy_df.melt(\n",
    "    id_vars=['Country Name', 'Country Code'],\n",
    "    value_vars=female_columns,\n",
    "    var_name='Year',\n",
    "    value_name='Life Expectancy - Female'\n",
    ")"
   ]
  },
  {
   "cell_type": "markdown",
   "id": "8f7586b2-07bf-4617-ac1c-5e7d8d82ba93",
   "metadata": {},
   "source": [
    "Finally, the *Year* column, which contains extra text (e.g., `[YR1974]`), is cleaned to extract only the numeric year:"
   ]
  },
  {
   "cell_type": "code",
   "execution_count": 63,
   "id": "82210612-5ced-4bad-8edb-6b1e54cd4244",
   "metadata": {},
   "outputs": [],
   "source": [
    "female_life_expectancy_long['Year'] = female_life_expectancy_long['Year'].str.extract(r'\\[YR(\\d+)\\]').astype(int)"
   ]
  },
  {
   "cell_type": "markdown",
   "id": "f8f62666-6420-4935-82f0-87734802d499",
   "metadata": {},
   "source": [
    "At the end of this process, I have a clean, reshaped dataset for **female life expectancy** in a format suitable for analysis."
   ]
  },
  {
   "cell_type": "code",
   "execution_count": 64,
   "id": "7ae645a4-6b19-4578-a345-1080eaa19166",
   "metadata": {},
   "outputs": [
    {
     "data": {
      "text/html": [
       "<div>\n",
       "<style scoped>\n",
       "    .dataframe tbody tr th:only-of-type {\n",
       "        vertical-align: middle;\n",
       "    }\n",
       "\n",
       "    .dataframe tbody tr th {\n",
       "        vertical-align: top;\n",
       "    }\n",
       "\n",
       "    .dataframe thead th {\n",
       "        text-align: right;\n",
       "    }\n",
       "</style>\n",
       "<table border=\"1\" class=\"dataframe\">\n",
       "  <thead>\n",
       "    <tr style=\"text-align: right;\">\n",
       "      <th></th>\n",
       "      <th>Country Name</th>\n",
       "      <th>Country Code</th>\n",
       "      <th>Year</th>\n",
       "      <th>Life Expectancy - Female</th>\n",
       "    </tr>\n",
       "  </thead>\n",
       "  <tbody>\n",
       "    <tr>\n",
       "      <th>0</th>\n",
       "      <td>Afghanistan</td>\n",
       "      <td>AFG</td>\n",
       "      <td>1974</td>\n",
       "      <td>40.397</td>\n",
       "    </tr>\n",
       "    <tr>\n",
       "      <th>1</th>\n",
       "      <td>Albania</td>\n",
       "      <td>ALB</td>\n",
       "      <td>1974</td>\n",
       "      <td>70.074</td>\n",
       "    </tr>\n",
       "    <tr>\n",
       "      <th>2</th>\n",
       "      <td>Algeria</td>\n",
       "      <td>DZA</td>\n",
       "      <td>1974</td>\n",
       "      <td>46.74</td>\n",
       "    </tr>\n",
       "    <tr>\n",
       "      <th>3</th>\n",
       "      <td>American Samoa</td>\n",
       "      <td>ASM</td>\n",
       "      <td>1974</td>\n",
       "      <td>..</td>\n",
       "    </tr>\n",
       "    <tr>\n",
       "      <th>4</th>\n",
       "      <td>Andorra</td>\n",
       "      <td>AND</td>\n",
       "      <td>1974</td>\n",
       "      <td>..</td>\n",
       "    </tr>\n",
       "  </tbody>\n",
       "</table>\n",
       "</div>"
      ],
      "text/plain": [
       "     Country Name Country Code  Year Life Expectancy - Female\n",
       "0     Afghanistan          AFG  1974                   40.397\n",
       "1         Albania          ALB  1974                   70.074\n",
       "2         Algeria          DZA  1974                    46.74\n",
       "3  American Samoa          ASM  1974                       ..\n",
       "4         Andorra          AND  1974                       .."
      ]
     },
     "execution_count": 64,
     "metadata": {},
     "output_type": "execute_result"
    }
   ],
   "source": [
    "female_life_expectancy_long.head()"
   ]
  },
  {
   "cell_type": "markdown",
   "id": "5081867a-3549-44e8-8b26-abad9581691a",
   "metadata": {},
   "source": [
    "### Step 3: Preparing the Male Life Expectancy Data\n",
    "Similarly, male life expectancy data is reshaped."
   ]
  },
  {
   "cell_type": "code",
   "execution_count": 65,
   "id": "5ed53a23-e842-44ae-b2ad-d24c5e42188d",
   "metadata": {},
   "outputs": [
    {
     "data": {
      "text/html": [
       "<div>\n",
       "<style scoped>\n",
       "    .dataframe tbody tr th:only-of-type {\n",
       "        vertical-align: middle;\n",
       "    }\n",
       "\n",
       "    .dataframe tbody tr th {\n",
       "        vertical-align: top;\n",
       "    }\n",
       "\n",
       "    .dataframe thead th {\n",
       "        text-align: right;\n",
       "    }\n",
       "</style>\n",
       "<table border=\"1\" class=\"dataframe\">\n",
       "  <thead>\n",
       "    <tr style=\"text-align: right;\">\n",
       "      <th></th>\n",
       "      <th>Country Name</th>\n",
       "      <th>Country Code</th>\n",
       "      <th>Year</th>\n",
       "      <th>Life Expectancy - Male</th>\n",
       "    </tr>\n",
       "  </thead>\n",
       "  <tbody>\n",
       "    <tr>\n",
       "      <th>0</th>\n",
       "      <td>Afghanistan</td>\n",
       "      <td>AFG</td>\n",
       "      <td>1974</td>\n",
       "      <td>38.792</td>\n",
       "    </tr>\n",
       "    <tr>\n",
       "      <th>1</th>\n",
       "      <td>Albania</td>\n",
       "      <td>ALB</td>\n",
       "      <td>1974</td>\n",
       "      <td>65.55</td>\n",
       "    </tr>\n",
       "    <tr>\n",
       "      <th>2</th>\n",
       "      <td>Algeria</td>\n",
       "      <td>DZA</td>\n",
       "      <td>1974</td>\n",
       "      <td>45.372</td>\n",
       "    </tr>\n",
       "    <tr>\n",
       "      <th>3</th>\n",
       "      <td>American Samoa</td>\n",
       "      <td>ASM</td>\n",
       "      <td>1974</td>\n",
       "      <td>..</td>\n",
       "    </tr>\n",
       "    <tr>\n",
       "      <th>4</th>\n",
       "      <td>Andorra</td>\n",
       "      <td>AND</td>\n",
       "      <td>1974</td>\n",
       "      <td>..</td>\n",
       "    </tr>\n",
       "  </tbody>\n",
       "</table>\n",
       "</div>"
      ],
      "text/plain": [
       "     Country Name Country Code  Year Life Expectancy - Male\n",
       "0     Afghanistan          AFG  1974                 38.792\n",
       "1         Albania          ALB  1974                  65.55\n",
       "2         Algeria          DZA  1974                 45.372\n",
       "3  American Samoa          ASM  1974                     ..\n",
       "4         Andorra          AND  1974                     .."
      ]
     },
     "execution_count": 65,
     "metadata": {},
     "output_type": "execute_result"
    }
   ],
   "source": [
    "male_columns = [col for col in life_expectancy_df.columns if 'life expectancy at birth, male (years)' in col.lower()]\n",
    "\n",
    "male_life_expectancy_long = life_expectancy_df.melt(\n",
    "    id_vars=['Country Name', 'Country Code'],\n",
    "    value_vars=male_columns,\n",
    "    var_name='Year',\n",
    "    value_name='Life Expectancy - Male'\n",
    ")\n",
    "\n",
    "male_life_expectancy_long['Year'] = male_life_expectancy_long['Year'].str.extract(r'\\[YR(\\d+)\\]').astype(int)\n",
    "\n",
    "male_life_expectancy_long.head()"
   ]
  },
  {
   "cell_type": "markdown",
   "id": "1b1fab05-d2f6-4e02-82f2-37c51d731207",
   "metadata": {},
   "source": [
    "### Step 4: Combining Male and Female Life Expectancy Data\n",
    "The female and male life expectancy datasets are merged to allow for direct comparison. This combined dataset includes columns for female life expectancy, male life expectancy, and the gender gap (calculated later)."
   ]
  },
  {
   "cell_type": "code",
   "execution_count": 66,
   "id": "d307e099-36e6-4f22-9163-faefb66f0250",
   "metadata": {},
   "outputs": [
    {
     "data": {
      "text/html": [
       "<div>\n",
       "<style scoped>\n",
       "    .dataframe tbody tr th:only-of-type {\n",
       "        vertical-align: middle;\n",
       "    }\n",
       "\n",
       "    .dataframe tbody tr th {\n",
       "        vertical-align: top;\n",
       "    }\n",
       "\n",
       "    .dataframe thead th {\n",
       "        text-align: right;\n",
       "    }\n",
       "</style>\n",
       "<table border=\"1\" class=\"dataframe\">\n",
       "  <thead>\n",
       "    <tr style=\"text-align: right;\">\n",
       "      <th></th>\n",
       "      <th>Country Name</th>\n",
       "      <th>Country Code</th>\n",
       "      <th>Year</th>\n",
       "      <th>Life Expectancy - Female</th>\n",
       "      <th>Life Expectancy - Male</th>\n",
       "    </tr>\n",
       "  </thead>\n",
       "  <tbody>\n",
       "    <tr>\n",
       "      <th>0</th>\n",
       "      <td>Afghanistan</td>\n",
       "      <td>AFG</td>\n",
       "      <td>1974</td>\n",
       "      <td>40.397</td>\n",
       "      <td>38.792</td>\n",
       "    </tr>\n",
       "    <tr>\n",
       "      <th>1</th>\n",
       "      <td>Albania</td>\n",
       "      <td>ALB</td>\n",
       "      <td>1974</td>\n",
       "      <td>70.074</td>\n",
       "      <td>65.55</td>\n",
       "    </tr>\n",
       "    <tr>\n",
       "      <th>2</th>\n",
       "      <td>Algeria</td>\n",
       "      <td>DZA</td>\n",
       "      <td>1974</td>\n",
       "      <td>46.74</td>\n",
       "      <td>45.372</td>\n",
       "    </tr>\n",
       "    <tr>\n",
       "      <th>3</th>\n",
       "      <td>American Samoa</td>\n",
       "      <td>ASM</td>\n",
       "      <td>1974</td>\n",
       "      <td>..</td>\n",
       "      <td>..</td>\n",
       "    </tr>\n",
       "    <tr>\n",
       "      <th>4</th>\n",
       "      <td>Andorra</td>\n",
       "      <td>AND</td>\n",
       "      <td>1974</td>\n",
       "      <td>..</td>\n",
       "      <td>..</td>\n",
       "    </tr>\n",
       "  </tbody>\n",
       "</table>\n",
       "</div>"
      ],
      "text/plain": [
       "     Country Name Country Code  Year Life Expectancy - Female  \\\n",
       "0     Afghanistan          AFG  1974                   40.397   \n",
       "1         Albania          ALB  1974                   70.074   \n",
       "2         Algeria          DZA  1974                    46.74   \n",
       "3  American Samoa          ASM  1974                       ..   \n",
       "4         Andorra          AND  1974                       ..   \n",
       "\n",
       "  Life Expectancy - Male  \n",
       "0                 38.792  \n",
       "1                  65.55  \n",
       "2                 45.372  \n",
       "3                     ..  \n",
       "4                     ..  "
      ]
     },
     "execution_count": 66,
     "metadata": {},
     "output_type": "execute_result"
    }
   ],
   "source": [
    "life_expectancy_female_male = pd.merge(\n",
    "    female_life_expectancy_long,\n",
    "    male_life_expectancy_long,\n",
    "    on=['Country Name', 'Country Code', 'Year'],\n",
    "    how='inner'\n",
    ")\n",
    "\n",
    "life_expectancy_female_male.head()"
   ]
  },
  {
   "cell_type": "markdown",
   "id": "f64437f6-0dec-4d2c-b755-64987c9b4214",
   "metadata": {},
   "source": [
    "### Step 5: Calculating the Gender Gap\n",
    "The gender gap in life expectancy is calculated by subtracting male life expectancy from female life expectancy. Missing values are removed to ensure clean data.\n",
    "\n",
    "Before performing mathematical operations, it is crucial to confirm that the columns `Life Expectancy - Female` and `Life Expectancy - Male` are of numeric type. This is achieved using `pd.to_numeric()`. Any non-numeric or invalid values (e.g., missing data) are coerced to `NaN`:"
   ]
  },
  {
   "cell_type": "code",
   "execution_count": 67,
   "id": "f05ccc0e-cce6-4d90-a1bc-1d37dcce6dca",
   "metadata": {},
   "outputs": [],
   "source": [
    "life_expectancy_female_male['Life Expectancy - Female'] = pd.to_numeric(\n",
    "    life_expectancy_female_male['Life Expectancy - Female'], errors='coerce'\n",
    ")\n",
    "life_expectancy_female_male['Life Expectancy - Male'] = pd.to_numeric(\n",
    "    life_expectancy_female_male['Life Expectancy - Male'], errors='coerce'\n",
    ")"
   ]
  },
  {
   "cell_type": "markdown",
   "id": "e2eaf8dc-179b-4c26-b57a-6ce8d66e7560",
   "metadata": {},
   "source": [
    "Then, rows with missing values in either `Life Expectancy - Female` or `Life Expectancy - Male` are dropped using `dropna()` to ensure the calculations are performed only on complete data:"
   ]
  },
  {
   "cell_type": "code",
   "execution_count": 68,
   "id": "8ab82920-3b0c-403d-9c39-cf9c087f4f50",
   "metadata": {},
   "outputs": [],
   "source": [
    "life_expectancy_female_male = life_expectancy_female_male.dropna(subset=['Life Expectancy - Female', 'Life Expectancy - Male'])"
   ]
  },
  {
   "cell_type": "markdown",
   "id": "88cd3bd5-dfbe-4acd-bad4-db2f7fd2ff9c",
   "metadata": {},
   "source": [
    "Finally, the gender gap is calculated by subtracting the male life expectancy from the female life expectancy for each row in the dataset. The result is stored in a new column, `Gender Gap`:"
   ]
  },
  {
   "cell_type": "code",
   "execution_count": 69,
   "id": "38162d25-8761-4571-a4bb-f05007641f7f",
   "metadata": {},
   "outputs": [
    {
     "data": {
      "text/html": [
       "<div>\n",
       "<style scoped>\n",
       "    .dataframe tbody tr th:only-of-type {\n",
       "        vertical-align: middle;\n",
       "    }\n",
       "\n",
       "    .dataframe tbody tr th {\n",
       "        vertical-align: top;\n",
       "    }\n",
       "\n",
       "    .dataframe thead th {\n",
       "        text-align: right;\n",
       "    }\n",
       "</style>\n",
       "<table border=\"1\" class=\"dataframe\">\n",
       "  <thead>\n",
       "    <tr style=\"text-align: right;\">\n",
       "      <th></th>\n",
       "      <th>Country Name</th>\n",
       "      <th>Year</th>\n",
       "      <th>Gender Gap</th>\n",
       "    </tr>\n",
       "  </thead>\n",
       "  <tbody>\n",
       "    <tr>\n",
       "      <th>0</th>\n",
       "      <td>Afghanistan</td>\n",
       "      <td>1974</td>\n",
       "      <td>1.605</td>\n",
       "    </tr>\n",
       "    <tr>\n",
       "      <th>1</th>\n",
       "      <td>Albania</td>\n",
       "      <td>1974</td>\n",
       "      <td>4.524</td>\n",
       "    </tr>\n",
       "    <tr>\n",
       "      <th>2</th>\n",
       "      <td>Algeria</td>\n",
       "      <td>1974</td>\n",
       "      <td>1.368</td>\n",
       "    </tr>\n",
       "    <tr>\n",
       "      <th>5</th>\n",
       "      <td>Angola</td>\n",
       "      <td>1974</td>\n",
       "      <td>5.570</td>\n",
       "    </tr>\n",
       "    <tr>\n",
       "      <th>6</th>\n",
       "      <td>Antigua and Barbuda</td>\n",
       "      <td>1974</td>\n",
       "      <td>5.498</td>\n",
       "    </tr>\n",
       "  </tbody>\n",
       "</table>\n",
       "</div>"
      ],
      "text/plain": [
       "          Country Name  Year  Gender Gap\n",
       "0          Afghanistan  1974       1.605\n",
       "1              Albania  1974       4.524\n",
       "2              Algeria  1974       1.368\n",
       "5               Angola  1974       5.570\n",
       "6  Antigua and Barbuda  1974       5.498"
      ]
     },
     "execution_count": 69,
     "metadata": {},
     "output_type": "execute_result"
    }
   ],
   "source": [
    "life_expectancy_female_male['Gender Gap'] = life_expectancy_female_male['Life Expectancy - Female'] - life_expectancy_female_male['Life Expectancy - Male']\n",
    "\n",
    "life_expectancy_female_male[['Country Name', 'Year', 'Gender Gap']].head()"
   ]
  },
  {
   "cell_type": "markdown",
   "id": "82d3f4b4-96f7-4780-b2b7-1729d08a10d6",
   "metadata": {},
   "source": [
    "### Step 6: Filtering Data for Selected Countries\n",
    "The analysis is narrowed to the top 10 and bottom 10 countries by literacy rate. These countries are categorized into two groups: \"High Literacy\" and \"Low Literacy.\""
   ]
  },
  {
   "cell_type": "code",
   "execution_count": 70,
   "id": "50a59aff-ce90-4013-99c7-77b464cc59f5",
   "metadata": {},
   "outputs": [],
   "source": [
    "selected_scatter_data = life_expectancy_female_male[\n",
    "    life_expectancy_female_male['Country Name'].isin(low_literacy_countries.union(high_literacy_countries))\n",
    "].copy()\n",
    "\n",
    "selected_scatter_data['Group'] = selected_scatter_data['Country Name'].apply(\n",
    "    lambda country: 'High Literacy' if country in high_literacy_countries else 'Low Literacy'\n",
    ")"
   ]
  },
  {
   "cell_type": "markdown",
   "id": "1189213d-d64c-4ad7-9bfa-53425d1ae03d",
   "metadata": {},
   "source": [
    "### Step 7: Calculating Group Averages\n",
    "The average gender gap in life expectancy is calculated for each group (high literacy and low literacy)."
   ]
  },
  {
   "cell_type": "code",
   "execution_count": 71,
   "id": "1389db32-5622-4dd3-9b02-157154a6db78",
   "metadata": {},
   "outputs": [
    {
     "data": {
      "text/html": [
       "<div>\n",
       "<style scoped>\n",
       "    .dataframe tbody tr th:only-of-type {\n",
       "        vertical-align: middle;\n",
       "    }\n",
       "\n",
       "    .dataframe tbody tr th {\n",
       "        vertical-align: top;\n",
       "    }\n",
       "\n",
       "    .dataframe thead th {\n",
       "        text-align: right;\n",
       "    }\n",
       "</style>\n",
       "<table border=\"1\" class=\"dataframe\">\n",
       "  <thead>\n",
       "    <tr style=\"text-align: right;\">\n",
       "      <th></th>\n",
       "      <th>Group</th>\n",
       "      <th>Gender Gap</th>\n",
       "    </tr>\n",
       "  </thead>\n",
       "  <tbody>\n",
       "    <tr>\n",
       "      <th>0</th>\n",
       "      <td>High Literacy</td>\n",
       "      <td>8.2</td>\n",
       "    </tr>\n",
       "    <tr>\n",
       "      <th>1</th>\n",
       "      <td>Low Literacy</td>\n",
       "      <td>2.9</td>\n",
       "    </tr>\n",
       "  </tbody>\n",
       "</table>\n",
       "</div>"
      ],
      "text/plain": [
       "           Group  Gender Gap\n",
       "0  High Literacy         8.2\n",
       "1   Low Literacy         2.9"
      ]
     },
     "execution_count": 71,
     "metadata": {},
     "output_type": "execute_result"
    }
   ],
   "source": [
    "grouped_avg = selected_scatter_data.groupby('Group')['Gender Gap'].mean().reset_index()\n",
    "\n",
    "grouped_avg['Gender Gap'] = grouped_avg['Gender Gap'].round(1)\n",
    "\n",
    "grouped_avg"
   ]
  },
  {
   "cell_type": "markdown",
   "id": "b3c983a6-a621-4390-809f-b113f62afd8a",
   "metadata": {},
   "source": [
    "### Step 8: Creating the Visualization\n",
    "A bar chart is created to visualize the average gender gap in life expectancy for the two groups."
   ]
  },
  {
   "cell_type": "code",
   "execution_count": 72,
   "id": "4d85d796-9a0b-434c-b2a5-7875cb91fcc7",
   "metadata": {},
   "outputs": [
    {
     "data": {
      "application/vnd.plotly.v1+json": {
       "config": {
        "plotlyServerURL": "https://plot.ly"
       },
       "data": [
        {
         "alignmentgroup": "True",
         "hovertemplate": "Literacy Rate Group=%{x}<br>Average Gender Gap (Years)=%{text}<extra></extra>",
         "legendgroup": "",
         "marker": {
          "color": "#636efa",
          "pattern": {
           "shape": ""
          }
         },
         "name": "",
         "offsetgroup": "",
         "orientation": "v",
         "showlegend": false,
         "text": [
          8.2,
          2.9
         ],
         "textposition": "auto",
         "type": "bar",
         "x": [
          "High Literacy",
          "Low Literacy"
         ],
         "xaxis": "x",
         "y": [
          8.2,
          2.9
         ],
         "yaxis": "y"
        }
       ],
       "layout": {
        "barmode": "relative",
        "legend": {
         "tracegroupgap": 0
        },
        "template": {
         "data": {
          "bar": [
           {
            "error_x": {
             "color": "#2a3f5f"
            },
            "error_y": {
             "color": "#2a3f5f"
            },
            "marker": {
             "line": {
              "color": "#E5ECF6",
              "width": 0.5
             },
             "pattern": {
              "fillmode": "overlay",
              "size": 10,
              "solidity": 0.2
             }
            },
            "type": "bar"
           }
          ],
          "barpolar": [
           {
            "marker": {
             "line": {
              "color": "#E5ECF6",
              "width": 0.5
             },
             "pattern": {
              "fillmode": "overlay",
              "size": 10,
              "solidity": 0.2
             }
            },
            "type": "barpolar"
           }
          ],
          "carpet": [
           {
            "aaxis": {
             "endlinecolor": "#2a3f5f",
             "gridcolor": "white",
             "linecolor": "white",
             "minorgridcolor": "white",
             "startlinecolor": "#2a3f5f"
            },
            "baxis": {
             "endlinecolor": "#2a3f5f",
             "gridcolor": "white",
             "linecolor": "white",
             "minorgridcolor": "white",
             "startlinecolor": "#2a3f5f"
            },
            "type": "carpet"
           }
          ],
          "choropleth": [
           {
            "colorbar": {
             "outlinewidth": 0,
             "ticks": ""
            },
            "type": "choropleth"
           }
          ],
          "contour": [
           {
            "colorbar": {
             "outlinewidth": 0,
             "ticks": ""
            },
            "colorscale": [
             [
              0,
              "#0d0887"
             ],
             [
              0.1111111111111111,
              "#46039f"
             ],
             [
              0.2222222222222222,
              "#7201a8"
             ],
             [
              0.3333333333333333,
              "#9c179e"
             ],
             [
              0.4444444444444444,
              "#bd3786"
             ],
             [
              0.5555555555555556,
              "#d8576b"
             ],
             [
              0.6666666666666666,
              "#ed7953"
             ],
             [
              0.7777777777777778,
              "#fb9f3a"
             ],
             [
              0.8888888888888888,
              "#fdca26"
             ],
             [
              1,
              "#f0f921"
             ]
            ],
            "type": "contour"
           }
          ],
          "contourcarpet": [
           {
            "colorbar": {
             "outlinewidth": 0,
             "ticks": ""
            },
            "type": "contourcarpet"
           }
          ],
          "heatmap": [
           {
            "colorbar": {
             "outlinewidth": 0,
             "ticks": ""
            },
            "colorscale": [
             [
              0,
              "#0d0887"
             ],
             [
              0.1111111111111111,
              "#46039f"
             ],
             [
              0.2222222222222222,
              "#7201a8"
             ],
             [
              0.3333333333333333,
              "#9c179e"
             ],
             [
              0.4444444444444444,
              "#bd3786"
             ],
             [
              0.5555555555555556,
              "#d8576b"
             ],
             [
              0.6666666666666666,
              "#ed7953"
             ],
             [
              0.7777777777777778,
              "#fb9f3a"
             ],
             [
              0.8888888888888888,
              "#fdca26"
             ],
             [
              1,
              "#f0f921"
             ]
            ],
            "type": "heatmap"
           }
          ],
          "heatmapgl": [
           {
            "colorbar": {
             "outlinewidth": 0,
             "ticks": ""
            },
            "colorscale": [
             [
              0,
              "#0d0887"
             ],
             [
              0.1111111111111111,
              "#46039f"
             ],
             [
              0.2222222222222222,
              "#7201a8"
             ],
             [
              0.3333333333333333,
              "#9c179e"
             ],
             [
              0.4444444444444444,
              "#bd3786"
             ],
             [
              0.5555555555555556,
              "#d8576b"
             ],
             [
              0.6666666666666666,
              "#ed7953"
             ],
             [
              0.7777777777777778,
              "#fb9f3a"
             ],
             [
              0.8888888888888888,
              "#fdca26"
             ],
             [
              1,
              "#f0f921"
             ]
            ],
            "type": "heatmapgl"
           }
          ],
          "histogram": [
           {
            "marker": {
             "pattern": {
              "fillmode": "overlay",
              "size": 10,
              "solidity": 0.2
             }
            },
            "type": "histogram"
           }
          ],
          "histogram2d": [
           {
            "colorbar": {
             "outlinewidth": 0,
             "ticks": ""
            },
            "colorscale": [
             [
              0,
              "#0d0887"
             ],
             [
              0.1111111111111111,
              "#46039f"
             ],
             [
              0.2222222222222222,
              "#7201a8"
             ],
             [
              0.3333333333333333,
              "#9c179e"
             ],
             [
              0.4444444444444444,
              "#bd3786"
             ],
             [
              0.5555555555555556,
              "#d8576b"
             ],
             [
              0.6666666666666666,
              "#ed7953"
             ],
             [
              0.7777777777777778,
              "#fb9f3a"
             ],
             [
              0.8888888888888888,
              "#fdca26"
             ],
             [
              1,
              "#f0f921"
             ]
            ],
            "type": "histogram2d"
           }
          ],
          "histogram2dcontour": [
           {
            "colorbar": {
             "outlinewidth": 0,
             "ticks": ""
            },
            "colorscale": [
             [
              0,
              "#0d0887"
             ],
             [
              0.1111111111111111,
              "#46039f"
             ],
             [
              0.2222222222222222,
              "#7201a8"
             ],
             [
              0.3333333333333333,
              "#9c179e"
             ],
             [
              0.4444444444444444,
              "#bd3786"
             ],
             [
              0.5555555555555556,
              "#d8576b"
             ],
             [
              0.6666666666666666,
              "#ed7953"
             ],
             [
              0.7777777777777778,
              "#fb9f3a"
             ],
             [
              0.8888888888888888,
              "#fdca26"
             ],
             [
              1,
              "#f0f921"
             ]
            ],
            "type": "histogram2dcontour"
           }
          ],
          "mesh3d": [
           {
            "colorbar": {
             "outlinewidth": 0,
             "ticks": ""
            },
            "type": "mesh3d"
           }
          ],
          "parcoords": [
           {
            "line": {
             "colorbar": {
              "outlinewidth": 0,
              "ticks": ""
             }
            },
            "type": "parcoords"
           }
          ],
          "pie": [
           {
            "automargin": true,
            "type": "pie"
           }
          ],
          "scatter": [
           {
            "fillpattern": {
             "fillmode": "overlay",
             "size": 10,
             "solidity": 0.2
            },
            "type": "scatter"
           }
          ],
          "scatter3d": [
           {
            "line": {
             "colorbar": {
              "outlinewidth": 0,
              "ticks": ""
             }
            },
            "marker": {
             "colorbar": {
              "outlinewidth": 0,
              "ticks": ""
             }
            },
            "type": "scatter3d"
           }
          ],
          "scattercarpet": [
           {
            "marker": {
             "colorbar": {
              "outlinewidth": 0,
              "ticks": ""
             }
            },
            "type": "scattercarpet"
           }
          ],
          "scattergeo": [
           {
            "marker": {
             "colorbar": {
              "outlinewidth": 0,
              "ticks": ""
             }
            },
            "type": "scattergeo"
           }
          ],
          "scattergl": [
           {
            "marker": {
             "colorbar": {
              "outlinewidth": 0,
              "ticks": ""
             }
            },
            "type": "scattergl"
           }
          ],
          "scattermapbox": [
           {
            "marker": {
             "colorbar": {
              "outlinewidth": 0,
              "ticks": ""
             }
            },
            "type": "scattermapbox"
           }
          ],
          "scatterpolar": [
           {
            "marker": {
             "colorbar": {
              "outlinewidth": 0,
              "ticks": ""
             }
            },
            "type": "scatterpolar"
           }
          ],
          "scatterpolargl": [
           {
            "marker": {
             "colorbar": {
              "outlinewidth": 0,
              "ticks": ""
             }
            },
            "type": "scatterpolargl"
           }
          ],
          "scatterternary": [
           {
            "marker": {
             "colorbar": {
              "outlinewidth": 0,
              "ticks": ""
             }
            },
            "type": "scatterternary"
           }
          ],
          "surface": [
           {
            "colorbar": {
             "outlinewidth": 0,
             "ticks": ""
            },
            "colorscale": [
             [
              0,
              "#0d0887"
             ],
             [
              0.1111111111111111,
              "#46039f"
             ],
             [
              0.2222222222222222,
              "#7201a8"
             ],
             [
              0.3333333333333333,
              "#9c179e"
             ],
             [
              0.4444444444444444,
              "#bd3786"
             ],
             [
              0.5555555555555556,
              "#d8576b"
             ],
             [
              0.6666666666666666,
              "#ed7953"
             ],
             [
              0.7777777777777778,
              "#fb9f3a"
             ],
             [
              0.8888888888888888,
              "#fdca26"
             ],
             [
              1,
              "#f0f921"
             ]
            ],
            "type": "surface"
           }
          ],
          "table": [
           {
            "cells": {
             "fill": {
              "color": "#EBF0F8"
             },
             "line": {
              "color": "white"
             }
            },
            "header": {
             "fill": {
              "color": "#C8D4E3"
             },
             "line": {
              "color": "white"
             }
            },
            "type": "table"
           }
          ]
         },
         "layout": {
          "annotationdefaults": {
           "arrowcolor": "#2a3f5f",
           "arrowhead": 0,
           "arrowwidth": 1
          },
          "autotypenumbers": "strict",
          "coloraxis": {
           "colorbar": {
            "outlinewidth": 0,
            "ticks": ""
           }
          },
          "colorscale": {
           "diverging": [
            [
             0,
             "#8e0152"
            ],
            [
             0.1,
             "#c51b7d"
            ],
            [
             0.2,
             "#de77ae"
            ],
            [
             0.3,
             "#f1b6da"
            ],
            [
             0.4,
             "#fde0ef"
            ],
            [
             0.5,
             "#f7f7f7"
            ],
            [
             0.6,
             "#e6f5d0"
            ],
            [
             0.7,
             "#b8e186"
            ],
            [
             0.8,
             "#7fbc41"
            ],
            [
             0.9,
             "#4d9221"
            ],
            [
             1,
             "#276419"
            ]
           ],
           "sequential": [
            [
             0,
             "#0d0887"
            ],
            [
             0.1111111111111111,
             "#46039f"
            ],
            [
             0.2222222222222222,
             "#7201a8"
            ],
            [
             0.3333333333333333,
             "#9c179e"
            ],
            [
             0.4444444444444444,
             "#bd3786"
            ],
            [
             0.5555555555555556,
             "#d8576b"
            ],
            [
             0.6666666666666666,
             "#ed7953"
            ],
            [
             0.7777777777777778,
             "#fb9f3a"
            ],
            [
             0.8888888888888888,
             "#fdca26"
            ],
            [
             1,
             "#f0f921"
            ]
           ],
           "sequentialminus": [
            [
             0,
             "#0d0887"
            ],
            [
             0.1111111111111111,
             "#46039f"
            ],
            [
             0.2222222222222222,
             "#7201a8"
            ],
            [
             0.3333333333333333,
             "#9c179e"
            ],
            [
             0.4444444444444444,
             "#bd3786"
            ],
            [
             0.5555555555555556,
             "#d8576b"
            ],
            [
             0.6666666666666666,
             "#ed7953"
            ],
            [
             0.7777777777777778,
             "#fb9f3a"
            ],
            [
             0.8888888888888888,
             "#fdca26"
            ],
            [
             1,
             "#f0f921"
            ]
           ]
          },
          "colorway": [
           "#636efa",
           "#EF553B",
           "#00cc96",
           "#ab63fa",
           "#FFA15A",
           "#19d3f3",
           "#FF6692",
           "#B6E880",
           "#FF97FF",
           "#FECB52"
          ],
          "font": {
           "color": "#2a3f5f"
          },
          "geo": {
           "bgcolor": "white",
           "lakecolor": "white",
           "landcolor": "#E5ECF6",
           "showlakes": true,
           "showland": true,
           "subunitcolor": "white"
          },
          "hoverlabel": {
           "align": "left"
          },
          "hovermode": "closest",
          "mapbox": {
           "style": "light"
          },
          "paper_bgcolor": "white",
          "plot_bgcolor": "#E5ECF6",
          "polar": {
           "angularaxis": {
            "gridcolor": "white",
            "linecolor": "white",
            "ticks": ""
           },
           "bgcolor": "#E5ECF6",
           "radialaxis": {
            "gridcolor": "white",
            "linecolor": "white",
            "ticks": ""
           }
          },
          "scene": {
           "xaxis": {
            "backgroundcolor": "#E5ECF6",
            "gridcolor": "white",
            "gridwidth": 2,
            "linecolor": "white",
            "showbackground": true,
            "ticks": "",
            "zerolinecolor": "white"
           },
           "yaxis": {
            "backgroundcolor": "#E5ECF6",
            "gridcolor": "white",
            "gridwidth": 2,
            "linecolor": "white",
            "showbackground": true,
            "ticks": "",
            "zerolinecolor": "white"
           },
           "zaxis": {
            "backgroundcolor": "#E5ECF6",
            "gridcolor": "white",
            "gridwidth": 2,
            "linecolor": "white",
            "showbackground": true,
            "ticks": "",
            "zerolinecolor": "white"
           }
          },
          "shapedefaults": {
           "line": {
            "color": "#2a3f5f"
           }
          },
          "ternary": {
           "aaxis": {
            "gridcolor": "white",
            "linecolor": "white",
            "ticks": ""
           },
           "baxis": {
            "gridcolor": "white",
            "linecolor": "white",
            "ticks": ""
           },
           "bgcolor": "#E5ECF6",
           "caxis": {
            "gridcolor": "white",
            "linecolor": "white",
            "ticks": ""
           }
          },
          "title": {
           "x": 0.05
          },
          "xaxis": {
           "automargin": true,
           "gridcolor": "white",
           "linecolor": "white",
           "ticks": "",
           "title": {
            "standoff": 15
           },
           "zerolinecolor": "white",
           "zerolinewidth": 2
          },
          "yaxis": {
           "automargin": true,
           "gridcolor": "white",
           "linecolor": "white",
           "ticks": "",
           "title": {
            "standoff": 15
           },
           "zerolinecolor": "white",
           "zerolinewidth": 2
          }
         }
        },
        "title": {
         "text": "Average Gender Gap in Life Expectancy by Literacy Rate Groups"
        },
        "xaxis": {
         "anchor": "y",
         "domain": [
          0,
          1
         ],
         "title": {
          "text": "Literacy Rate Group"
         }
        },
        "yaxis": {
         "anchor": "x",
         "domain": [
          0,
          1
         ],
         "title": {
          "text": "Average Gender Gap (Years)"
         }
        }
       }
      },
      "text/html": [
       "<div>                            <div id=\"a14f55e7-ac72-48cc-8124-1221c8124a2d\" class=\"plotly-graph-div\" style=\"height:525px; width:100%;\"></div>            <script type=\"text/javascript\">                require([\"plotly\"], function(Plotly) {                    window.PLOTLYENV=window.PLOTLYENV || {};                                    if (document.getElementById(\"a14f55e7-ac72-48cc-8124-1221c8124a2d\")) {                    Plotly.newPlot(                        \"a14f55e7-ac72-48cc-8124-1221c8124a2d\",                        [{\"alignmentgroup\":\"True\",\"hovertemplate\":\"Literacy Rate Group=%{x}\\u003cbr\\u003eAverage Gender Gap (Years)=%{text}\\u003cextra\\u003e\\u003c\\u002fextra\\u003e\",\"legendgroup\":\"\",\"marker\":{\"color\":\"#636efa\",\"pattern\":{\"shape\":\"\"}},\"name\":\"\",\"offsetgroup\":\"\",\"orientation\":\"v\",\"showlegend\":false,\"text\":[8.2,2.9],\"textposition\":\"auto\",\"x\":[\"High Literacy\",\"Low Literacy\"],\"xaxis\":\"x\",\"y\":[8.2,2.9],\"yaxis\":\"y\",\"type\":\"bar\"}],                        {\"template\":{\"data\":{\"histogram2dcontour\":[{\"type\":\"histogram2dcontour\",\"colorbar\":{\"outlinewidth\":0,\"ticks\":\"\"},\"colorscale\":[[0.0,\"#0d0887\"],[0.1111111111111111,\"#46039f\"],[0.2222222222222222,\"#7201a8\"],[0.3333333333333333,\"#9c179e\"],[0.4444444444444444,\"#bd3786\"],[0.5555555555555556,\"#d8576b\"],[0.6666666666666666,\"#ed7953\"],[0.7777777777777778,\"#fb9f3a\"],[0.8888888888888888,\"#fdca26\"],[1.0,\"#f0f921\"]]}],\"choropleth\":[{\"type\":\"choropleth\",\"colorbar\":{\"outlinewidth\":0,\"ticks\":\"\"}}],\"histogram2d\":[{\"type\":\"histogram2d\",\"colorbar\":{\"outlinewidth\":0,\"ticks\":\"\"},\"colorscale\":[[0.0,\"#0d0887\"],[0.1111111111111111,\"#46039f\"],[0.2222222222222222,\"#7201a8\"],[0.3333333333333333,\"#9c179e\"],[0.4444444444444444,\"#bd3786\"],[0.5555555555555556,\"#d8576b\"],[0.6666666666666666,\"#ed7953\"],[0.7777777777777778,\"#fb9f3a\"],[0.8888888888888888,\"#fdca26\"],[1.0,\"#f0f921\"]]}],\"heatmap\":[{\"type\":\"heatmap\",\"colorbar\":{\"outlinewidth\":0,\"ticks\":\"\"},\"colorscale\":[[0.0,\"#0d0887\"],[0.1111111111111111,\"#46039f\"],[0.2222222222222222,\"#7201a8\"],[0.3333333333333333,\"#9c179e\"],[0.4444444444444444,\"#bd3786\"],[0.5555555555555556,\"#d8576b\"],[0.6666666666666666,\"#ed7953\"],[0.7777777777777778,\"#fb9f3a\"],[0.8888888888888888,\"#fdca26\"],[1.0,\"#f0f921\"]]}],\"heatmapgl\":[{\"type\":\"heatmapgl\",\"colorbar\":{\"outlinewidth\":0,\"ticks\":\"\"},\"colorscale\":[[0.0,\"#0d0887\"],[0.1111111111111111,\"#46039f\"],[0.2222222222222222,\"#7201a8\"],[0.3333333333333333,\"#9c179e\"],[0.4444444444444444,\"#bd3786\"],[0.5555555555555556,\"#d8576b\"],[0.6666666666666666,\"#ed7953\"],[0.7777777777777778,\"#fb9f3a\"],[0.8888888888888888,\"#fdca26\"],[1.0,\"#f0f921\"]]}],\"contourcarpet\":[{\"type\":\"contourcarpet\",\"colorbar\":{\"outlinewidth\":0,\"ticks\":\"\"}}],\"contour\":[{\"type\":\"contour\",\"colorbar\":{\"outlinewidth\":0,\"ticks\":\"\"},\"colorscale\":[[0.0,\"#0d0887\"],[0.1111111111111111,\"#46039f\"],[0.2222222222222222,\"#7201a8\"],[0.3333333333333333,\"#9c179e\"],[0.4444444444444444,\"#bd3786\"],[0.5555555555555556,\"#d8576b\"],[0.6666666666666666,\"#ed7953\"],[0.7777777777777778,\"#fb9f3a\"],[0.8888888888888888,\"#fdca26\"],[1.0,\"#f0f921\"]]}],\"surface\":[{\"type\":\"surface\",\"colorbar\":{\"outlinewidth\":0,\"ticks\":\"\"},\"colorscale\":[[0.0,\"#0d0887\"],[0.1111111111111111,\"#46039f\"],[0.2222222222222222,\"#7201a8\"],[0.3333333333333333,\"#9c179e\"],[0.4444444444444444,\"#bd3786\"],[0.5555555555555556,\"#d8576b\"],[0.6666666666666666,\"#ed7953\"],[0.7777777777777778,\"#fb9f3a\"],[0.8888888888888888,\"#fdca26\"],[1.0,\"#f0f921\"]]}],\"mesh3d\":[{\"type\":\"mesh3d\",\"colorbar\":{\"outlinewidth\":0,\"ticks\":\"\"}}],\"scatter\":[{\"fillpattern\":{\"fillmode\":\"overlay\",\"size\":10,\"solidity\":0.2},\"type\":\"scatter\"}],\"parcoords\":[{\"type\":\"parcoords\",\"line\":{\"colorbar\":{\"outlinewidth\":0,\"ticks\":\"\"}}}],\"scatterpolargl\":[{\"type\":\"scatterpolargl\",\"marker\":{\"colorbar\":{\"outlinewidth\":0,\"ticks\":\"\"}}}],\"bar\":[{\"error_x\":{\"color\":\"#2a3f5f\"},\"error_y\":{\"color\":\"#2a3f5f\"},\"marker\":{\"line\":{\"color\":\"#E5ECF6\",\"width\":0.5},\"pattern\":{\"fillmode\":\"overlay\",\"size\":10,\"solidity\":0.2}},\"type\":\"bar\"}],\"scattergeo\":[{\"type\":\"scattergeo\",\"marker\":{\"colorbar\":{\"outlinewidth\":0,\"ticks\":\"\"}}}],\"scatterpolar\":[{\"type\":\"scatterpolar\",\"marker\":{\"colorbar\":{\"outlinewidth\":0,\"ticks\":\"\"}}}],\"histogram\":[{\"marker\":{\"pattern\":{\"fillmode\":\"overlay\",\"size\":10,\"solidity\":0.2}},\"type\":\"histogram\"}],\"scattergl\":[{\"type\":\"scattergl\",\"marker\":{\"colorbar\":{\"outlinewidth\":0,\"ticks\":\"\"}}}],\"scatter3d\":[{\"type\":\"scatter3d\",\"line\":{\"colorbar\":{\"outlinewidth\":0,\"ticks\":\"\"}},\"marker\":{\"colorbar\":{\"outlinewidth\":0,\"ticks\":\"\"}}}],\"scattermapbox\":[{\"type\":\"scattermapbox\",\"marker\":{\"colorbar\":{\"outlinewidth\":0,\"ticks\":\"\"}}}],\"scatterternary\":[{\"type\":\"scatterternary\",\"marker\":{\"colorbar\":{\"outlinewidth\":0,\"ticks\":\"\"}}}],\"scattercarpet\":[{\"type\":\"scattercarpet\",\"marker\":{\"colorbar\":{\"outlinewidth\":0,\"ticks\":\"\"}}}],\"carpet\":[{\"aaxis\":{\"endlinecolor\":\"#2a3f5f\",\"gridcolor\":\"white\",\"linecolor\":\"white\",\"minorgridcolor\":\"white\",\"startlinecolor\":\"#2a3f5f\"},\"baxis\":{\"endlinecolor\":\"#2a3f5f\",\"gridcolor\":\"white\",\"linecolor\":\"white\",\"minorgridcolor\":\"white\",\"startlinecolor\":\"#2a3f5f\"},\"type\":\"carpet\"}],\"table\":[{\"cells\":{\"fill\":{\"color\":\"#EBF0F8\"},\"line\":{\"color\":\"white\"}},\"header\":{\"fill\":{\"color\":\"#C8D4E3\"},\"line\":{\"color\":\"white\"}},\"type\":\"table\"}],\"barpolar\":[{\"marker\":{\"line\":{\"color\":\"#E5ECF6\",\"width\":0.5},\"pattern\":{\"fillmode\":\"overlay\",\"size\":10,\"solidity\":0.2}},\"type\":\"barpolar\"}],\"pie\":[{\"automargin\":true,\"type\":\"pie\"}]},\"layout\":{\"autotypenumbers\":\"strict\",\"colorway\":[\"#636efa\",\"#EF553B\",\"#00cc96\",\"#ab63fa\",\"#FFA15A\",\"#19d3f3\",\"#FF6692\",\"#B6E880\",\"#FF97FF\",\"#FECB52\"],\"font\":{\"color\":\"#2a3f5f\"},\"hovermode\":\"closest\",\"hoverlabel\":{\"align\":\"left\"},\"paper_bgcolor\":\"white\",\"plot_bgcolor\":\"#E5ECF6\",\"polar\":{\"bgcolor\":\"#E5ECF6\",\"angularaxis\":{\"gridcolor\":\"white\",\"linecolor\":\"white\",\"ticks\":\"\"},\"radialaxis\":{\"gridcolor\":\"white\",\"linecolor\":\"white\",\"ticks\":\"\"}},\"ternary\":{\"bgcolor\":\"#E5ECF6\",\"aaxis\":{\"gridcolor\":\"white\",\"linecolor\":\"white\",\"ticks\":\"\"},\"baxis\":{\"gridcolor\":\"white\",\"linecolor\":\"white\",\"ticks\":\"\"},\"caxis\":{\"gridcolor\":\"white\",\"linecolor\":\"white\",\"ticks\":\"\"}},\"coloraxis\":{\"colorbar\":{\"outlinewidth\":0,\"ticks\":\"\"}},\"colorscale\":{\"sequential\":[[0.0,\"#0d0887\"],[0.1111111111111111,\"#46039f\"],[0.2222222222222222,\"#7201a8\"],[0.3333333333333333,\"#9c179e\"],[0.4444444444444444,\"#bd3786\"],[0.5555555555555556,\"#d8576b\"],[0.6666666666666666,\"#ed7953\"],[0.7777777777777778,\"#fb9f3a\"],[0.8888888888888888,\"#fdca26\"],[1.0,\"#f0f921\"]],\"sequentialminus\":[[0.0,\"#0d0887\"],[0.1111111111111111,\"#46039f\"],[0.2222222222222222,\"#7201a8\"],[0.3333333333333333,\"#9c179e\"],[0.4444444444444444,\"#bd3786\"],[0.5555555555555556,\"#d8576b\"],[0.6666666666666666,\"#ed7953\"],[0.7777777777777778,\"#fb9f3a\"],[0.8888888888888888,\"#fdca26\"],[1.0,\"#f0f921\"]],\"diverging\":[[0,\"#8e0152\"],[0.1,\"#c51b7d\"],[0.2,\"#de77ae\"],[0.3,\"#f1b6da\"],[0.4,\"#fde0ef\"],[0.5,\"#f7f7f7\"],[0.6,\"#e6f5d0\"],[0.7,\"#b8e186\"],[0.8,\"#7fbc41\"],[0.9,\"#4d9221\"],[1,\"#276419\"]]},\"xaxis\":{\"gridcolor\":\"white\",\"linecolor\":\"white\",\"ticks\":\"\",\"title\":{\"standoff\":15},\"zerolinecolor\":\"white\",\"automargin\":true,\"zerolinewidth\":2},\"yaxis\":{\"gridcolor\":\"white\",\"linecolor\":\"white\",\"ticks\":\"\",\"title\":{\"standoff\":15},\"zerolinecolor\":\"white\",\"automargin\":true,\"zerolinewidth\":2},\"scene\":{\"xaxis\":{\"backgroundcolor\":\"#E5ECF6\",\"gridcolor\":\"white\",\"linecolor\":\"white\",\"showbackground\":true,\"ticks\":\"\",\"zerolinecolor\":\"white\",\"gridwidth\":2},\"yaxis\":{\"backgroundcolor\":\"#E5ECF6\",\"gridcolor\":\"white\",\"linecolor\":\"white\",\"showbackground\":true,\"ticks\":\"\",\"zerolinecolor\":\"white\",\"gridwidth\":2},\"zaxis\":{\"backgroundcolor\":\"#E5ECF6\",\"gridcolor\":\"white\",\"linecolor\":\"white\",\"showbackground\":true,\"ticks\":\"\",\"zerolinecolor\":\"white\",\"gridwidth\":2}},\"shapedefaults\":{\"line\":{\"color\":\"#2a3f5f\"}},\"annotationdefaults\":{\"arrowcolor\":\"#2a3f5f\",\"arrowhead\":0,\"arrowwidth\":1},\"geo\":{\"bgcolor\":\"white\",\"landcolor\":\"#E5ECF6\",\"subunitcolor\":\"white\",\"showland\":true,\"showlakes\":true,\"lakecolor\":\"white\"},\"title\":{\"x\":0.05},\"mapbox\":{\"style\":\"light\"}}},\"xaxis\":{\"anchor\":\"y\",\"domain\":[0.0,1.0],\"title\":{\"text\":\"Literacy Rate Group\"}},\"yaxis\":{\"anchor\":\"x\",\"domain\":[0.0,1.0],\"title\":{\"text\":\"Average Gender Gap (Years)\"}},\"legend\":{\"tracegroupgap\":0},\"title\":{\"text\":\"Average Gender Gap in Life Expectancy by Literacy Rate Groups\"},\"barmode\":\"relative\"},                        {\"responsive\": true}                    ).then(function(){\n",
       "                            \n",
       "var gd = document.getElementById('a14f55e7-ac72-48cc-8124-1221c8124a2d');\n",
       "var x = new MutationObserver(function (mutations, observer) {{\n",
       "        var display = window.getComputedStyle(gd).display;\n",
       "        if (!display || display === 'none') {{\n",
       "            console.log([gd, 'removed!']);\n",
       "            Plotly.purge(gd);\n",
       "            observer.disconnect();\n",
       "        }}\n",
       "}});\n",
       "\n",
       "// Listen for the removal of the full notebook cells\n",
       "var notebookContainer = gd.closest('#notebook-container');\n",
       "if (notebookContainer) {{\n",
       "    x.observe(notebookContainer, {childList: true});\n",
       "}}\n",
       "\n",
       "// Listen for the clearing of the current output cell\n",
       "var outputEl = gd.closest('.output');\n",
       "if (outputEl) {{\n",
       "    x.observe(outputEl, {childList: true});\n",
       "}}\n",
       "\n",
       "                        })                };                });            </script>        </div>"
      ]
     },
     "metadata": {},
     "output_type": "display_data"
    }
   ],
   "source": [
    "fig = px.bar(\n",
    "    grouped_avg,\n",
    "    x='Group',\n",
    "    y='Gender Gap',\n",
    "    title='Average Gender Gap in Life Expectancy by Literacy Rate Groups',\n",
    "    labels={'Group': 'Literacy Rate Group', 'Gender Gap': 'Average Gender Gap (Years)'},\n",
    "    text='Gender Gap'\n",
    ")\n",
    "\n",
    "fig.show()"
   ]
  },
  {
   "cell_type": "markdown",
   "id": "509f9148-8639-4451-b9fc-e79bd90624d2",
   "metadata": {},
   "source": [
    "### Step 9: Insights from the Bar Chart\n",
    "\n",
    "The bar chart illustrates the average gender gap in life expectancy for countries with the highest and lowest literacy rates. Key insights include:\n",
    "\n",
    "1. **General Observation**:  \n",
    "   - Contrary to expectations, countries with higher literacy rates exhibit a larger average gender gap in life expectancy (8.2 years), compared to countries with lower literacy rates (2.9 years).\n",
    "\n",
    "2. **Possible Explanations**:  \n",
    " - **Reasons for a Larger Gender Gap in High Literacy Countries**\n",
    "\n",
    "   - **Improved Social Status of Women**  \n",
    "   High literacy rates provide women with better access to education, which helps them gain knowledge about health management and lifestyle habits. As a result, women tend to live longer, leading to a more pronounced gender gap in life expectancy.\n",
    "\n",
    "   - **Improved Healthcare Services**  \n",
    "   In countries with high literacy rates, healthcare quality and access are generally better. Particularly, specialized healthcare services for women, such as obstetrics, gynecology, and preventive care, are more developed, leading to better long-term health for women and a higher life expectancy compared to men.\n",
    "\n",
    " - **Reasons for a Smaller Gender Gap in Low Literacy Countries**\n",
    "\n",
    "   - **Lower Overall Healthcare and Living Standards**  \n",
    "   In countries with low literacy rates, overall living conditions and healthcare services are often inadequate. Women, in particular, are more likely to die young due to insufficient medical care, increased risks during childbirth, or infections. As a result, both men and women tend to have shorter life expectancies, reducing the gender gap.\n",
    "\n",
    "   - **Harsh Working Conditions**  \n",
    "   In low literacy countries, living conditions are often harsh, and both men and women are subjected to strenuous labor. These challenging conditions contribute to shorter life expectancy for both genders, leading to a smaller gap between male and female life expectancy."
   ]
  },
  {
   "cell_type": "markdown",
   "id": "fa6e4254-0566-4607-aaca-031c2782c901",
   "metadata": {},
   "source": [
    "## 4. Conclusion\n",
    "In this analysis, I explored the relationship between literacy rates and life expectancy, as well as the impact of literacy rates on the gender gap in life expectancy.\n",
    "\n",
    "1. **The Relationship Between Literacy and Life Expectancy**:  \n",
    "   The data shows a clear trend that countries with higher literacy rates tend to have longer life expectancies. This supports the hypothesis that higher literacy leads to better health management and improved access to healthcare, ultimately contributing to longer lifespans.\n",
    "\n",
    "2. **The Gender Gap in Life Expectancy**:  \n",
    "   However, in countries with higher literacy rates, I observed a larger gender gap in life expectancy, which contradicts the initial hypothesis that higher literacy would reduce the gender gap. This could be due to women, with better access to education, adopting healthier lifestyles and having better healthcare, leading to longer life expectancy compared to men.\n",
    "\n",
    "   On the other hand, in countries with lower literacy rates, both men and women tend to have shorter life expectancies, resulting in a smaller gender gap. This may be due to lower overall living standards and healthcare, affecting both genders similarly.\n",
    "\n",
    "**Limitations and Future Outlook**:  \n",
    "While this analysis used literacy rates as a proxy for education levels, the data was limited, and many countries had missing values. As a result, it is unclear whether the dataset accurately captures the full scope of education levels across countries. If more comprehensive data were available, the conclusions might differ.\n",
    "\n",
    "This study highlights the connection between education and health, but it also suggests that other factors, such as economic conditions, healthcare systems, and social inequalities, may play significant roles in shaping life expectancy outcomes. Further research, with more complete data, is needed to deepen our understanding of these complex relationships."
   ]
  }
 ],
 "metadata": {
  "kernelspec": {
   "display_name": "base",
   "language": "python",
   "name": "python3"
  },
  "language_info": {
   "codemirror_mode": {
    "name": "ipython",
    "version": 3
   },
   "file_extension": ".py",
   "mimetype": "text/x-python",
   "name": "python",
   "nbconvert_exporter": "python",
   "pygments_lexer": "ipython3",
   "version": "3.12.3"
  }
 },
 "nbformat": 4,
 "nbformat_minor": 5
}
